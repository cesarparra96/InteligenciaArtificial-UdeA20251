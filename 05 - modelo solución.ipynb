{
 "cells": [
  {
   "cell_type": "markdown",
   "id": "91923032",
   "metadata": {},
   "source": [
    "# MODELO SOLUCIÓN - XGBOOST OPTIMIZADO\n",
    "\n",
    "Este notebook implementa un modelo XGBoost avanzado optimizado para aprovechar al máximo el hardware disponible:\n",
    "- **Intel i7 12va generación**\n",
    "- **NVIDIA RTX 4070**\n",
    "\n",
    "## Características principales:\n",
    "1. **XGBoost** - Gradient Boosting con optimización GPU\n",
    "2. **Búsqueda exhaustiva** de hiperparámetros\n",
    "3. **Análisis detallado** de rendimiento\n",
    "4. **Importancia de características** automática\n",
    "5. **Generación de submission** optimizada\n",
    "\n",
    "## Ventajas de XGBoost:\n",
    "- ✅ Mejor accuracy en datos tabulares\n",
    "- ✅ Aceleración GPU nativa\n",
    "- ✅ Resistente al overfitting\n",
    "- ✅ Paralelización eficiente\n",
    "- ✅ Importancia de características automática"
   ]
  },
  {
   "cell_type": "code",
   "execution_count": 2,
   "id": "c38f136a",
   "metadata": {},
   "outputs": [
    {
     "name": "stdout",
     "output_type": "stream",
     "text": [
      "INSTALANDO LIBRERÍAS PARA MODELOS AVANZADOS\n",
      "==================================================\n",
      "Instalando xgboost...\n",
      "Collecting xgboost\n",
      "  Downloading xgboost-3.0.2-py3-none-manylinux_2_28_x86_64.whl.metadata (2.1 kB)\n",
      "Requirement already satisfied: numpy in ./.venv/lib/python3.12/site-packages (from xgboost) (2.2.6)\n",
      "Collecting nvidia-nccl-cu12 (from xgboost)\n",
      "  Downloading nvidia_nccl_cu12-2.27.3-py3-none-manylinux2014_x86_64.manylinux_2_17_x86_64.whl.metadata (2.0 kB)\n",
      "Requirement already satisfied: scipy in ./.venv/lib/python3.12/site-packages (from xgboost) (1.15.3)\n",
      "Downloading xgboost-3.0.2-py3-none-manylinux_2_28_x86_64.whl (253.9 MB)\n",
      "\u001b[2K   \u001b[90m━━━━━━━━━━━━━━━━━━━━━━━━━━━━━━━━━━━━━━━━\u001b[0m \u001b[32m253.9/253.9 MB\u001b[0m \u001b[31m6.2 MB/s\u001b[0m eta \u001b[36m0:00:00\u001b[0m00:01\u001b[0m00:01\u001b[0mm\n",
      "\u001b[?25hDownloading nvidia_nccl_cu12-2.27.3-py3-none-manylinux2014_x86_64.manylinux_2_17_x86_64.whl (322.4 MB)\n",
      "\u001b[2K   \u001b[90m━━━━━━━━━━━━━━━━━━━━━━━━━━━━━━━━━━━━━━━━\u001b[0m \u001b[32m322.4/322.4 MB\u001b[0m \u001b[31m7.7 MB/s\u001b[0m eta \u001b[36m0:00:00\u001b[0m00:01\u001b[0mm00:01\u001b[0m\n",
      "\u001b[?25hInstalling collected packages: nvidia-nccl-cu12, xgboost\n",
      "Successfully installed nvidia-nccl-cu12-2.27.3 xgboost-3.0.2\n",
      "✅ xgboost instalado correctamente\n",
      "Instalando lightgbm...\n",
      "Collecting lightgbm\n",
      "  Downloading lightgbm-4.6.0-py3-none-manylinux_2_28_x86_64.whl.metadata (17 kB)\n",
      "Requirement already satisfied: numpy>=1.17.0 in ./.venv/lib/python3.12/site-packages (from lightgbm) (2.2.6)\n",
      "Requirement already satisfied: scipy in ./.venv/lib/python3.12/site-packages (from lightgbm) (1.15.3)\n",
      "Downloading lightgbm-4.6.0-py3-none-manylinux_2_28_x86_64.whl (3.6 MB)\n",
      "\u001b[2K   \u001b[90m━━━━━━━━━━━━━━━━━━━━━━━━━━━━━━━━━━━━━━━━\u001b[0m \u001b[32m3.6/3.6 MB\u001b[0m \u001b[31m64.5 MB/s\u001b[0m eta \u001b[36m0:00:00\u001b[0ma \u001b[36m0:00:01\u001b[0m\n",
      "\u001b[?25hInstalling collected packages: lightgbm\n",
      "Successfully installed lightgbm-4.6.0\n",
      "✅ lightgbm instalado correctamente\n",
      "Instalando optuna...\n",
      "Collecting optuna\n",
      "  Downloading optuna-4.3.0-py3-none-any.whl.metadata (17 kB)\n",
      "Collecting alembic>=1.5.0 (from optuna)\n",
      "  Downloading alembic-1.16.1-py3-none-any.whl.metadata (7.3 kB)\n",
      "Collecting colorlog (from optuna)\n",
      "  Downloading colorlog-6.9.0-py3-none-any.whl.metadata (10 kB)\n",
      "Requirement already satisfied: numpy in ./.venv/lib/python3.12/site-packages (from optuna) (2.2.6)\n",
      "Requirement already satisfied: packaging>=20.0 in ./.venv/lib/python3.12/site-packages (from optuna) (25.0)\n",
      "Collecting sqlalchemy>=1.4.2 (from optuna)\n",
      "  Downloading sqlalchemy-2.0.41-cp312-cp312-manylinux_2_17_x86_64.manylinux2014_x86_64.whl.metadata (9.6 kB)\n",
      "Requirement already satisfied: tqdm in ./.venv/lib/python3.12/site-packages (from optuna) (4.67.1)\n",
      "Requirement already satisfied: PyYAML in ./.venv/lib/python3.12/site-packages (from optuna) (6.0.2)\n",
      "Collecting Mako (from alembic>=1.5.0->optuna)\n",
      "  Downloading mako-1.3.10-py3-none-any.whl.metadata (2.9 kB)\n",
      "Requirement already satisfied: typing-extensions>=4.12 in ./.venv/lib/python3.12/site-packages (from alembic>=1.5.0->optuna) (4.14.0)\n",
      "Collecting greenlet>=1 (from sqlalchemy>=1.4.2->optuna)\n",
      "  Downloading greenlet-3.2.3-cp312-cp312-manylinux_2_24_x86_64.manylinux_2_28_x86_64.whl.metadata (4.1 kB)\n",
      "Requirement already satisfied: MarkupSafe>=0.9.2 in ./.venv/lib/python3.12/site-packages (from Mako->alembic>=1.5.0->optuna) (3.0.2)\n",
      "Downloading optuna-4.3.0-py3-none-any.whl (386 kB)\n",
      "\u001b[2K   \u001b[90m━━━━━━━━━━━━━━━━━━━━━━━━━━━━━━━━━━━━━━━━\u001b[0m \u001b[32m386.6/386.6 kB\u001b[0m \u001b[31m18.2 MB/s\u001b[0m eta \u001b[36m0:00:00\u001b[0m\n",
      "\u001b[?25hDownloading alembic-1.16.1-py3-none-any.whl (242 kB)\n",
      "\u001b[2K   \u001b[90m━━━━━━━━━━━━━━━━━━━━━━━━━━━━━━━━━━━━━━━━\u001b[0m \u001b[32m242.5/242.5 kB\u001b[0m \u001b[31m42.7 MB/s\u001b[0m eta \u001b[36m0:00:00\u001b[0m\n",
      "\u001b[?25hDownloading sqlalchemy-2.0.41-cp312-cp312-manylinux_2_17_x86_64.manylinux2014_x86_64.whl (3.3 MB)\n",
      "\u001b[2K   \u001b[90m━━━━━━━━━━━━━━━━━━━━━━━━━━━━━━━━━━━━━━━━\u001b[0m \u001b[32m3.3/3.3 MB\u001b[0m \u001b[31m93.4 MB/s\u001b[0m eta \u001b[36m0:00:00\u001b[0m:00:01\u001b[0m\n",
      "\u001b[?25hDownloading colorlog-6.9.0-py3-none-any.whl (11 kB)\n",
      "Downloading greenlet-3.2.3-cp312-cp312-manylinux_2_24_x86_64.manylinux_2_28_x86_64.whl (605 kB)\n",
      "\u001b[2K   \u001b[90m━━━━━━━━━━━━━━━━━━━━━━━━━━━━━━━━━━━━━━━━\u001b[0m \u001b[32m605.5/605.5 kB\u001b[0m \u001b[31m79.1 MB/s\u001b[0m eta \u001b[36m0:00:00\u001b[0m\n",
      "\u001b[?25hDownloading mako-1.3.10-py3-none-any.whl (78 kB)\n",
      "\u001b[2K   \u001b[90m━━━━━━━━━━━━━━━━━━━━━━━━━━━━━━━━━━━━━━━━\u001b[0m \u001b[32m78.5/78.5 kB\u001b[0m \u001b[31m23.8 MB/s\u001b[0m eta \u001b[36m0:00:00\u001b[0m\n",
      "\u001b[?25hInstalling collected packages: Mako, greenlet, colorlog, sqlalchemy, alembic, optuna\n",
      "Successfully installed Mako-1.3.10 alembic-1.16.1 colorlog-6.9.0 greenlet-3.2.3 optuna-4.3.0 sqlalchemy-2.0.41\n",
      "✅ optuna instalado correctamente\n",
      "\n",
      "==================================================\n",
      "RESUMEN DE INSTALACIÓN\n",
      "==================================================\n",
      "✅ Instalados exitosamente: 3\n",
      "   - xgboost\n",
      "   - lightgbm\n",
      "   - optuna\n",
      "\n",
      "🎉 ¡Todas las librerías instaladas correctamente!\n",
      "✅ Listo para entrenar modelos avanzados\n",
      "==================================================\n"
     ]
    }
   ],
   "source": [
    "# 0. INSTALACIÓN DE LIBRERÍAS NECESARIAS\n",
    "import subprocess\n",
    "import sys\n",
    "\n",
    "def install_package(package):\n",
    "    \"\"\"Instala un paquete usando pip\"\"\"\n",
    "    try:\n",
    "        subprocess.check_call([sys.executable, \"-m\", \"pip\", \"install\", package])\n",
    "        print(f\"✅ {package} instalado correctamente\")\n",
    "        return True\n",
    "    except subprocess.CalledProcessError as e:\n",
    "        print(f\"❌ Error instalando {package}: {e}\")\n",
    "        return False\n",
    "\n",
    "print(\"INSTALANDO LIBRERÍAS PARA MODELOS AVANZADOS\")\n",
    "print(\"=\"*50)\n",
    "\n",
    "# Lista de paquetes requeridos\n",
    "required_packages = [\n",
    "    \"xgboost\",          # XGBoost para gradient boosting\n",
    "    \"lightgbm\",         # LightGBM para gradient boosting\n",
    "    \"optuna\",           # Para optimización de hiperparámetros (opcional)\n",
    "]\n",
    "\n",
    "installed_packages = []\n",
    "failed_packages = []\n",
    "\n",
    "for package in required_packages:\n",
    "    print(f\"Instalando {package}...\")\n",
    "    if install_package(package):\n",
    "        installed_packages.append(package)\n",
    "    else:\n",
    "        failed_packages.append(package)\n",
    "\n",
    "print(f\"\\n\" + \"=\"*50)\n",
    "print(\"RESUMEN DE INSTALACIÓN\")\n",
    "print(\"=\"*50)\n",
    "print(f\"✅ Instalados exitosamente: {len(installed_packages)}\")\n",
    "for pkg in installed_packages:\n",
    "    print(f\"   - {pkg}\")\n",
    "\n",
    "if failed_packages:\n",
    "    print(f\"❌ Falló la instalación: {len(failed_packages)}\")\n",
    "    for pkg in failed_packages:\n",
    "        print(f\"   - {pkg}\")\n",
    "    print(\"\\nPuedes instalar manualmente con:\")\n",
    "    for pkg in failed_packages:\n",
    "        print(f\"   pip install {pkg}\")\n",
    "else:\n",
    "    print(\"\\n🎉 ¡Todas las librerías instaladas correctamente!\")\n",
    "    print(\"✅ Listo para entrenar modelos avanzados\")\n",
    "\n",
    "print(\"=\"*50)"
   ]
  },
  {
   "cell_type": "code",
   "execution_count": 3,
   "id": "782e9404",
   "metadata": {},
   "outputs": [
    {
     "name": "stdout",
     "output_type": "stream",
     "text": [
      "MODELOS AVANZADOS - XGBOOST Y LIGHTGBM\n",
      "============================================================\n",
      "Aprovechando Intel i7 12va + RTX 4070\n",
      "============================================================\n"
     ]
    }
   ],
   "source": [
    "# 1. IMPORTAR LIBRERÍAS\n",
    "import pandas as pd\n",
    "import numpy as np\n",
    "import matplotlib.pyplot as plt\n",
    "import seaborn as sns\n",
    "from sklearn.model_selection import StratifiedKFold, RandomizedSearchCV, cross_val_score\n",
    "from sklearn.preprocessing import StandardScaler, LabelEncoder\n",
    "from sklearn.metrics import accuracy_score, classification_report, confusion_matrix\n",
    "import xgboost as xgb\n",
    "import lightgbm as lgb\n",
    "import time\n",
    "import warnings\n",
    "import joblib\n",
    "import os\n",
    "import multiprocessing\n",
    "from datetime import datetime\n",
    "warnings.filterwarnings('ignore')\n",
    "\n",
    "print(\"MODELOS AVANZADOS - XGBOOST Y LIGHTGBM\")\n",
    "print(\"=\"*60)\n",
    "print(\"Aprovechando Intel i7 12va + RTX 4070\")\n",
    "print(\"=\"*60)"
   ]
  },
  {
   "cell_type": "code",
   "execution_count": 4,
   "id": "397b84d5",
   "metadata": {},
   "outputs": [
    {
     "name": "stdout",
     "output_type": "stream",
     "text": [
      "\n",
      "Cargando datos...\n",
      "Train: 578,824 muestras, 21 características\n",
      "Test: 296,786 muestras, 20 características\n",
      "\n",
      "Características para entrenamiento: 19\n",
      "Distribución del target:\n",
      "RENDIMIENTO_GLOBAL\n",
      "alto          132509\n",
      "bajo          149170\n",
      "medio-alto    146099\n",
      "medio-bajo    151046\n",
      "Name: count, dtype: int64\n",
      "Clases codificadas: {0: 'alto', 1: 'bajo', 2: 'medio-alto', 3: 'medio-bajo'}\n"
     ]
    }
   ],
   "source": [
    "# 2. CARGAR Y PREPARAR DATOS\n",
    "print(\"\\nCargando datos...\")\n",
    "train = pd.read_csv('/home/jp/Repositorios/UDEA/InteligenciaArtificial-UdeA20251/Data/train_preprocessed.csv')\n",
    "test = pd.read_csv('/home/jp/Repositorios/UDEA/InteligenciaArtificial-UdeA20251/Data/test_preprocessed.csv')\n",
    "\n",
    "print(f\"Train: {train.shape[0]:,} muestras, {train.shape[1]} características\")\n",
    "print(f\"Test: {test.shape[0]:,} muestras, {test.shape[1]} características\")\n",
    "\n",
    "# Configurar variables\n",
    "target_col = 'RENDIMIENTO_GLOBAL'\n",
    "id_col = 'ID'\n",
    "\n",
    "# Separar características y target\n",
    "X = train.drop([id_col, target_col], axis=1)\n",
    "y = train[target_col]\n",
    "X_test = test.drop([id_col], axis=1, errors='ignore')\n",
    "\n",
    "print(f\"\\nCaracterísticas para entrenamiento: {X.shape[1]}\")\n",
    "print(f\"Distribución del target:\")\n",
    "print(y.value_counts().sort_index())\n",
    "\n",
    "# Codificar target para modelos\n",
    "le_target = LabelEncoder()\n",
    "y_encoded = le_target.fit_transform(y)\n",
    "target_classes = le_target.classes_\n",
    "n_classes = len(target_classes)\n",
    "\n",
    "print(f\"Clases codificadas: {dict(zip(range(n_classes), target_classes))}\")"
   ]
  },
  {
   "cell_type": "code",
   "execution_count": 6,
   "id": "fcd44096",
   "metadata": {},
   "outputs": [
    {
     "name": "stdout",
     "output_type": "stream",
     "text": [
      "Codificando 6 variables categóricas...\n",
      "\n",
      "==================================================\n",
      "CONFIGURACIÓN DEL SISTEMA\n",
      "==================================================\n",
      "CPU cores disponibles: 16\n",
      "Utilizando: 15 cores para entrenamiento\n",
      "Validación cruzada: 5 folds\n",
      "==================================================\n"
     ]
    }
   ],
   "source": [
    "# 3. PREPARAR VARIABLES CATEGÓRICAS Y CONFIGURACIÓN\n",
    "# Codificar variables categóricas si las hay\n",
    "categorical_columns = X.select_dtypes(include=['object', 'bool']).columns\n",
    "if len(categorical_columns) > 0:\n",
    "    print(f\"Codificando {len(categorical_columns)} variables categóricas...\")\n",
    "    le_dict = {}\n",
    "    for col in categorical_columns:\n",
    "        # Manejar valores faltantes\n",
    "        X[col] = X[col].fillna('Missing')\n",
    "        X_test[col] = X_test[col].fillna('Missing')\n",
    "        \n",
    "        le = LabelEncoder()\n",
    "        X[col] = le.fit_transform(X[col].astype(str))\n",
    "        \n",
    "        # Para test, manejar valores no vistos durante entrenamiento\n",
    "        test_values = X_test[col].astype(str)\n",
    "        test_encoded = []\n",
    "        for val in test_values:\n",
    "            if val in le.classes_:\n",
    "                test_encoded.append(le.transform([val])[0])\n",
    "            else:\n",
    "                # Asignar a la clase 'Missing' si existe, sino a la primera clase\n",
    "                if 'Missing' in le.classes_:\n",
    "                    test_encoded.append(le.transform(['Missing'])[0])\n",
    "                else:\n",
    "                    test_encoded.append(0)  # Primera clase\n",
    "        \n",
    "        X_test[col] = test_encoded\n",
    "        le_dict[col] = le\n",
    "\n",
    "# Detectar recursos del sistema\n",
    "n_cores = multiprocessing.cpu_count()\n",
    "print(f\"\\n\" + \"=\"*50)\n",
    "print(\"CONFIGURACIÓN DEL SISTEMA\")\n",
    "print(\"=\"*50)\n",
    "print(f\"CPU cores disponibles: {n_cores}\")\n",
    "print(f\"Utilizando: {n_cores-1} cores para entrenamiento\")\n",
    "\n",
    "# Configuración de validación cruzada\n",
    "cv_folds = 5\n",
    "cv = StratifiedKFold(n_splits=cv_folds, shuffle=True, random_state=42)\n",
    "print(f\"Validación cruzada: {cv_folds} folds\")\n",
    "print(\"=\"*50)"
   ]
  },
  {
   "cell_type": "code",
   "execution_count": 7,
   "id": "79c0165d",
   "metadata": {},
   "outputs": [
    {
     "name": "stdout",
     "output_type": "stream",
     "text": [
      "\n",
      "==================================================\n",
      "MODELO 1: XGBOOST AVANZADO\n",
      "==================================================\n",
      "Espacio de búsqueda XGBoost: ~172,800 combinaciones\n",
      "Realizando 50 iteraciones con 5 folds = 250 entrenamientos\n",
      "Iniciando entrenamiento XGBoost...\n",
      "Fitting 5 folds for each of 50 candidates, totalling 250 fits\n"
     ]
    },
    {
     "name": "stderr",
     "output_type": "stream",
     "text": [
      "/home/jp/Repositorios/UDEA/InteligenciaArtificial-UdeA20251/.venv/lib/python3.12/site-packages/xgboost/training.py:183: UserWarning: [14:22:05] WARNING: /workspace/src/common/error_msg.cc:45: `gpu_id` is deprecated since2.0.0, use `device` instead. E.g. device=cpu/cuda/cuda:0\n",
      "  bst.update(dtrain, iteration=i, fobj=obj)\n",
      "/home/jp/Repositorios/UDEA/InteligenciaArtificial-UdeA20251/.venv/lib/python3.12/site-packages/xgboost/training.py:183: UserWarning: [14:22:05] WARNING: /workspace/src/common/error_msg.cc:27: The tree method `gpu_hist` is deprecated since 2.0.0. To use GPU training, set the `device` parameter to CUDA instead.\n",
      "\n",
      "    E.g. tree_method = \"hist\", device = \"cuda\"\n",
      "\n",
      "  bst.update(dtrain, iteration=i, fobj=obj)\n",
      "/home/jp/Repositorios/UDEA/InteligenciaArtificial-UdeA20251/.venv/lib/python3.12/site-packages/xgboost/training.py:183: UserWarning: [14:22:05] WARNING: /workspace/src/common/error_msg.cc:45: `gpu_id` is deprecated since2.0.0, use `device` instead. E.g. device=cpu/cuda/cuda:0\n",
      "  bst.update(dtrain, iteration=i, fobj=obj)\n",
      "/home/jp/Repositorios/UDEA/InteligenciaArtificial-UdeA20251/.venv/lib/python3.12/site-packages/xgboost/training.py:183: UserWarning: [14:22:05] WARNING: /workspace/src/common/error_msg.cc:27: The tree method `gpu_hist` is deprecated since 2.0.0. To use GPU training, set the `device` parameter to CUDA instead.\n",
      "\n",
      "    E.g. tree_method = \"hist\", device = \"cuda\"\n",
      "\n",
      "  bst.update(dtrain, iteration=i, fobj=obj)\n",
      "/home/jp/Repositorios/UDEA/InteligenciaArtificial-UdeA20251/.venv/lib/python3.12/site-packages/xgboost/core.py:2676: UserWarning: [14:22:34] WARNING: /workspace/src/common/error_msg.cc:27: The tree method `gpu_hist` is deprecated since 2.0.0. To use GPU training, set the `device` parameter to CUDA instead.\n",
      "\n",
      "    E.g. tree_method = \"hist\", device = \"cuda\"\n",
      "\n",
      "  if len(data.shape) != 1 and self.num_features() != data.shape[1]:\n",
      "/home/jp/Repositorios/UDEA/InteligenciaArtificial-UdeA20251/.venv/lib/python3.12/site-packages/xgboost/core.py:729: UserWarning: [14:22:34] WARNING: /workspace/src/common/error_msg.cc:58: Falling back to prediction using DMatrix due to mismatched devices. This might lead to higher memory usage and slower performance. XGBoost is running on: cuda:0, while the input data is on: cpu.\n",
      "Potential solutions:\n",
      "- Use a data structure that matches the device ordinal in the booster.\n",
      "- Set the device for booster before call to inplace_predict.\n",
      "\n",
      "This warning will only be shown once.\n",
      "\n",
      "  return func(**kwargs)\n",
      "/home/jp/Repositorios/UDEA/InteligenciaArtificial-UdeA20251/.venv/lib/python3.12/site-packages/xgboost/core.py:2676: UserWarning: [14:22:34] WARNING: /workspace/src/common/error_msg.cc:27: The tree method `gpu_hist` is deprecated since 2.0.0. To use GPU training, set the `device` parameter to CUDA instead.\n",
      "\n",
      "    E.g. tree_method = \"hist\", device = \"cuda\"\n",
      "\n",
      "  if len(data.shape) != 1 and self.num_features() != data.shape[1]:\n",
      "/home/jp/Repositorios/UDEA/InteligenciaArtificial-UdeA20251/.venv/lib/python3.12/site-packages/xgboost/core.py:729: UserWarning: [14:22:34] WARNING: /workspace/src/common/error_msg.cc:58: Falling back to prediction using DMatrix due to mismatched devices. This might lead to higher memory usage and slower performance. XGBoost is running on: cuda:0, while the input data is on: cpu.\n",
      "Potential solutions:\n",
      "- Use a data structure that matches the device ordinal in the booster.\n",
      "- Set the device for booster before call to inplace_predict.\n",
      "\n",
      "This warning will only be shown once.\n",
      "\n",
      "  return func(**kwargs)\n"
     ]
    },
    {
     "name": "stdout",
     "output_type": "stream",
     "text": [
      "[CV] END colsample_bytree=0.95, gamma=0.3, learning_rate=0.05, max_depth=5, min_child_weight=1, n_estimators=800, reg_alpha=0.1, reg_lambda=1, subsample=0.95; total time=  29.5s\n",
      "[CV] END colsample_bytree=0.95, gamma=0.3, learning_rate=0.05, max_depth=5, min_child_weight=1, n_estimators=800, reg_alpha=0.1, reg_lambda=1, subsample=0.95; total time=  29.5s\n"
     ]
    },
    {
     "name": "stderr",
     "output_type": "stream",
     "text": [
      "/home/jp/Repositorios/UDEA/InteligenciaArtificial-UdeA20251/.venv/lib/python3.12/site-packages/xgboost/training.py:183: UserWarning: [14:22:34] WARNING: /workspace/src/common/error_msg.cc:27: The tree method `gpu_hist` is deprecated since 2.0.0. To use GPU training, set the `device` parameter to CUDA instead.\n",
      "\n",
      "    E.g. tree_method = \"hist\", device = \"cuda\"\n",
      "\n",
      "  bst.update(dtrain, iteration=i, fobj=obj)\n",
      "/home/jp/Repositorios/UDEA/InteligenciaArtificial-UdeA20251/.venv/lib/python3.12/site-packages/xgboost/training.py:183: UserWarning: [14:22:34] WARNING: /workspace/src/common/error_msg.cc:27: The tree method `gpu_hist` is deprecated since 2.0.0. To use GPU training, set the `device` parameter to CUDA instead.\n",
      "\n",
      "    E.g. tree_method = \"hist\", device = \"cuda\"\n",
      "\n",
      "  bst.update(dtrain, iteration=i, fobj=obj)\n",
      "/home/jp/Repositorios/UDEA/InteligenciaArtificial-UdeA20251/.venv/lib/python3.12/site-packages/xgboost/core.py:2676: UserWarning: [14:23:03] WARNING: /workspace/src/common/error_msg.cc:27: The tree method `gpu_hist` is deprecated since 2.0.0. To use GPU training, set the `device` parameter to CUDA instead.\n",
      "\n",
      "    E.g. tree_method = \"hist\", device = \"cuda\"\n",
      "\n",
      "  if len(data.shape) != 1 and self.num_features() != data.shape[1]:\n"
     ]
    },
    {
     "name": "stdout",
     "output_type": "stream",
     "text": [
      "[CV] END colsample_bytree=0.95, gamma=0.3, learning_rate=0.05, max_depth=5, min_child_weight=1, n_estimators=800, reg_alpha=0.1, reg_lambda=1, subsample=0.95; total time=  29.2s\n"
     ]
    },
    {
     "name": "stderr",
     "output_type": "stream",
     "text": [
      "/home/jp/Repositorios/UDEA/InteligenciaArtificial-UdeA20251/.venv/lib/python3.12/site-packages/xgboost/core.py:2676: UserWarning: [14:23:03] WARNING: /workspace/src/common/error_msg.cc:27: The tree method `gpu_hist` is deprecated since 2.0.0. To use GPU training, set the `device` parameter to CUDA instead.\n",
      "\n",
      "    E.g. tree_method = \"hist\", device = \"cuda\"\n",
      "\n",
      "  if len(data.shape) != 1 and self.num_features() != data.shape[1]:\n",
      "/home/jp/Repositorios/UDEA/InteligenciaArtificial-UdeA20251/.venv/lib/python3.12/site-packages/xgboost/training.py:183: UserWarning: [14:23:03] WARNING: /workspace/src/common/error_msg.cc:27: The tree method `gpu_hist` is deprecated since 2.0.0. To use GPU training, set the `device` parameter to CUDA instead.\n",
      "\n",
      "    E.g. tree_method = \"hist\", device = \"cuda\"\n",
      "\n",
      "  bst.update(dtrain, iteration=i, fobj=obj)\n"
     ]
    },
    {
     "name": "stdout",
     "output_type": "stream",
     "text": [
      "[CV] END colsample_bytree=0.95, gamma=0.3, learning_rate=0.05, max_depth=5, min_child_weight=1, n_estimators=800, reg_alpha=0.1, reg_lambda=1, subsample=0.95; total time=  29.4s\n"
     ]
    },
    {
     "name": "stderr",
     "output_type": "stream",
     "text": [
      "/home/jp/Repositorios/UDEA/InteligenciaArtificial-UdeA20251/.venv/lib/python3.12/site-packages/xgboost/training.py:183: UserWarning: [14:23:03] WARNING: /workspace/src/common/error_msg.cc:27: The tree method `gpu_hist` is deprecated since 2.0.0. To use GPU training, set the `device` parameter to CUDA instead.\n",
      "\n",
      "    E.g. tree_method = \"hist\", device = \"cuda\"\n",
      "\n",
      "  bst.update(dtrain, iteration=i, fobj=obj)\n",
      "/home/jp/Repositorios/UDEA/InteligenciaArtificial-UdeA20251/.venv/lib/python3.12/site-packages/xgboost/core.py:2676: UserWarning: [14:23:29] WARNING: /workspace/src/common/error_msg.cc:27: The tree method `gpu_hist` is deprecated since 2.0.0. To use GPU training, set the `device` parameter to CUDA instead.\n",
      "\n",
      "    E.g. tree_method = \"hist\", device = \"cuda\"\n",
      "\n",
      "  if len(data.shape) != 1 and self.num_features() != data.shape[1]:\n"
     ]
    },
    {
     "name": "stdout",
     "output_type": "stream",
     "text": [
      "[CV] END colsample_bytree=1.0, gamma=0.1, learning_rate=0.1, max_depth=7, min_child_weight=5, n_estimators=800, reg_alpha=0.01, reg_lambda=2, subsample=1.0; total time=  25.8s\n"
     ]
    },
    {
     "name": "stderr",
     "output_type": "stream",
     "text": [
      "/home/jp/Repositorios/UDEA/InteligenciaArtificial-UdeA20251/.venv/lib/python3.12/site-packages/xgboost/training.py:183: UserWarning: [14:23:29] WARNING: /workspace/src/common/error_msg.cc:27: The tree method `gpu_hist` is deprecated since 2.0.0. To use GPU training, set the `device` parameter to CUDA instead.\n",
      "\n",
      "    E.g. tree_method = \"hist\", device = \"cuda\"\n",
      "\n",
      "  bst.update(dtrain, iteration=i, fobj=obj)\n",
      "/home/jp/Repositorios/UDEA/InteligenciaArtificial-UdeA20251/.venv/lib/python3.12/site-packages/xgboost/core.py:2676: UserWarning: [14:23:33] WARNING: /workspace/src/common/error_msg.cc:27: The tree method `gpu_hist` is deprecated since 2.0.0. To use GPU training, set the `device` parameter to CUDA instead.\n",
      "\n",
      "    E.g. tree_method = \"hist\", device = \"cuda\"\n",
      "\n",
      "  if len(data.shape) != 1 and self.num_features() != data.shape[1]:\n"
     ]
    },
    {
     "name": "stdout",
     "output_type": "stream",
     "text": [
      "[CV] END colsample_bytree=0.95, gamma=0.3, learning_rate=0.05, max_depth=5, min_child_weight=1, n_estimators=800, reg_alpha=0.1, reg_lambda=1, subsample=0.95; total time=  30.5s\n"
     ]
    },
    {
     "name": "stderr",
     "output_type": "stream",
     "text": [
      "/home/jp/Repositorios/UDEA/InteligenciaArtificial-UdeA20251/.venv/lib/python3.12/site-packages/xgboost/training.py:183: UserWarning: [14:23:34] WARNING: /workspace/src/common/error_msg.cc:27: The tree method `gpu_hist` is deprecated since 2.0.0. To use GPU training, set the `device` parameter to CUDA instead.\n",
      "\n",
      "    E.g. tree_method = \"hist\", device = \"cuda\"\n",
      "\n",
      "  bst.update(dtrain, iteration=i, fobj=obj)\n",
      "/home/jp/Repositorios/UDEA/InteligenciaArtificial-UdeA20251/.venv/lib/python3.12/site-packages/xgboost/core.py:2676: UserWarning: [14:23:56] WARNING: /workspace/src/common/error_msg.cc:27: The tree method `gpu_hist` is deprecated since 2.0.0. To use GPU training, set the `device` parameter to CUDA instead.\n",
      "\n",
      "    E.g. tree_method = \"hist\", device = \"cuda\"\n",
      "\n",
      "  if len(data.shape) != 1 and self.num_features() != data.shape[1]:\n"
     ]
    },
    {
     "name": "stdout",
     "output_type": "stream",
     "text": [
      "[CV] END colsample_bytree=1.0, gamma=0.1, learning_rate=0.1, max_depth=7, min_child_weight=5, n_estimators=800, reg_alpha=0.01, reg_lambda=2, subsample=1.0; total time=  27.0s\n"
     ]
    },
    {
     "name": "stderr",
     "output_type": "stream",
     "text": [
      "/home/jp/Repositorios/UDEA/InteligenciaArtificial-UdeA20251/.venv/lib/python3.12/site-packages/xgboost/training.py:183: UserWarning: [14:23:56] WARNING: /workspace/src/common/error_msg.cc:27: The tree method `gpu_hist` is deprecated since 2.0.0. To use GPU training, set the `device` parameter to CUDA instead.\n",
      "\n",
      "    E.g. tree_method = \"hist\", device = \"cuda\"\n",
      "\n",
      "  bst.update(dtrain, iteration=i, fobj=obj)\n",
      "/home/jp/Repositorios/UDEA/InteligenciaArtificial-UdeA20251/.venv/lib/python3.12/site-packages/xgboost/core.py:2676: UserWarning: [14:23:59] WARNING: /workspace/src/common/error_msg.cc:27: The tree method `gpu_hist` is deprecated since 2.0.0. To use GPU training, set the `device` parameter to CUDA instead.\n",
      "\n",
      "    E.g. tree_method = \"hist\", device = \"cuda\"\n",
      "\n",
      "  if len(data.shape) != 1 and self.num_features() != data.shape[1]:\n"
     ]
    },
    {
     "name": "stdout",
     "output_type": "stream",
     "text": [
      "[CV] END colsample_bytree=1.0, gamma=0.1, learning_rate=0.1, max_depth=7, min_child_weight=5, n_estimators=800, reg_alpha=0.01, reg_lambda=2, subsample=1.0; total time=  26.0s\n"
     ]
    },
    {
     "name": "stderr",
     "output_type": "stream",
     "text": [
      "/home/jp/Repositorios/UDEA/InteligenciaArtificial-UdeA20251/.venv/lib/python3.12/site-packages/xgboost/training.py:183: UserWarning: [14:24:00] WARNING: /workspace/src/common/error_msg.cc:27: The tree method `gpu_hist` is deprecated since 2.0.0. To use GPU training, set the `device` parameter to CUDA instead.\n",
      "\n",
      "    E.g. tree_method = \"hist\", device = \"cuda\"\n",
      "\n",
      "  bst.update(dtrain, iteration=i, fobj=obj)\n",
      "/home/jp/Repositorios/UDEA/InteligenciaArtificial-UdeA20251/.venv/lib/python3.12/site-packages/xgboost/core.py:2676: UserWarning: [14:24:22] WARNING: /workspace/src/common/error_msg.cc:27: The tree method `gpu_hist` is deprecated since 2.0.0. To use GPU training, set the `device` parameter to CUDA instead.\n",
      "\n",
      "    E.g. tree_method = \"hist\", device = \"cuda\"\n",
      "\n",
      "  if len(data.shape) != 1 and self.num_features() != data.shape[1]:\n"
     ]
    },
    {
     "name": "stdout",
     "output_type": "stream",
     "text": [
      "[CV] END colsample_bytree=1.0, gamma=0.1, learning_rate=0.1, max_depth=7, min_child_weight=5, n_estimators=800, reg_alpha=0.01, reg_lambda=2, subsample=1.0; total time=  25.9s\n"
     ]
    },
    {
     "name": "stderr",
     "output_type": "stream",
     "text": [
      "/home/jp/Repositorios/UDEA/InteligenciaArtificial-UdeA20251/.venv/lib/python3.12/site-packages/xgboost/training.py:183: UserWarning: [14:24:22] WARNING: /workspace/src/common/error_msg.cc:27: The tree method `gpu_hist` is deprecated since 2.0.0. To use GPU training, set the `device` parameter to CUDA instead.\n",
      "\n",
      "    E.g. tree_method = \"hist\", device = \"cuda\"\n",
      "\n",
      "  bst.update(dtrain, iteration=i, fobj=obj)\n",
      "/home/jp/Repositorios/UDEA/InteligenciaArtificial-UdeA20251/.venv/lib/python3.12/site-packages/xgboost/core.py:2676: UserWarning: [14:24:25] WARNING: /workspace/src/common/error_msg.cc:27: The tree method `gpu_hist` is deprecated since 2.0.0. To use GPU training, set the `device` parameter to CUDA instead.\n",
      "\n",
      "    E.g. tree_method = \"hist\", device = \"cuda\"\n",
      "\n",
      "  if len(data.shape) != 1 and self.num_features() != data.shape[1]:\n"
     ]
    },
    {
     "name": "stdout",
     "output_type": "stream",
     "text": [
      "[CV] END colsample_bytree=1.0, gamma=0.1, learning_rate=0.1, max_depth=7, min_child_weight=5, n_estimators=800, reg_alpha=0.01, reg_lambda=2, subsample=1.0; total time=  25.2s\n"
     ]
    },
    {
     "name": "stderr",
     "output_type": "stream",
     "text": [
      "/home/jp/Repositorios/UDEA/InteligenciaArtificial-UdeA20251/.venv/lib/python3.12/site-packages/xgboost/training.py:183: UserWarning: [14:24:25] WARNING: /workspace/src/common/error_msg.cc:27: The tree method `gpu_hist` is deprecated since 2.0.0. To use GPU training, set the `device` parameter to CUDA instead.\n",
      "\n",
      "    E.g. tree_method = \"hist\", device = \"cuda\"\n",
      "\n",
      "  bst.update(dtrain, iteration=i, fobj=obj)\n",
      "/home/jp/Repositorios/UDEA/InteligenciaArtificial-UdeA20251/.venv/lib/python3.12/site-packages/xgboost/core.py:2676: UserWarning: [14:24:27] WARNING: /workspace/src/common/error_msg.cc:27: The tree method `gpu_hist` is deprecated since 2.0.0. To use GPU training, set the `device` parameter to CUDA instead.\n",
      "\n",
      "    E.g. tree_method = \"hist\", device = \"cuda\"\n",
      "\n",
      "  if len(data.shape) != 1 and self.num_features() != data.shape[1]:\n"
     ]
    },
    {
     "name": "stdout",
     "output_type": "stream",
     "text": [
      "[CV] END colsample_bytree=1.0, gamma=0, learning_rate=0.05, max_depth=3, min_child_weight=3, n_estimators=200, reg_alpha=0.1, reg_lambda=1.5, subsample=0.8; total time=   4.6s\n"
     ]
    },
    {
     "name": "stderr",
     "output_type": "stream",
     "text": [
      "/home/jp/Repositorios/UDEA/InteligenciaArtificial-UdeA20251/.venv/lib/python3.12/site-packages/xgboost/training.py:183: UserWarning: [14:24:27] WARNING: /workspace/src/common/error_msg.cc:27: The tree method `gpu_hist` is deprecated since 2.0.0. To use GPU training, set the `device` parameter to CUDA instead.\n",
      "\n",
      "    E.g. tree_method = \"hist\", device = \"cuda\"\n",
      "\n",
      "  bst.update(dtrain, iteration=i, fobj=obj)\n",
      "/home/jp/Repositorios/UDEA/InteligenciaArtificial-UdeA20251/.venv/lib/python3.12/site-packages/xgboost/core.py:2676: UserWarning: [14:24:29] WARNING: /workspace/src/common/error_msg.cc:27: The tree method `gpu_hist` is deprecated since 2.0.0. To use GPU training, set the `device` parameter to CUDA instead.\n",
      "\n",
      "    E.g. tree_method = \"hist\", device = \"cuda\"\n",
      "\n",
      "  if len(data.shape) != 1 and self.num_features() != data.shape[1]:\n"
     ]
    },
    {
     "name": "stdout",
     "output_type": "stream",
     "text": [
      "[CV] END colsample_bytree=1.0, gamma=0, learning_rate=0.05, max_depth=3, min_child_weight=3, n_estimators=200, reg_alpha=0.1, reg_lambda=1.5, subsample=0.8; total time=   4.6s\n"
     ]
    },
    {
     "name": "stderr",
     "output_type": "stream",
     "text": [
      "/home/jp/Repositorios/UDEA/InteligenciaArtificial-UdeA20251/.venv/lib/python3.12/site-packages/xgboost/training.py:183: UserWarning: [14:24:30] WARNING: /workspace/src/common/error_msg.cc:27: The tree method `gpu_hist` is deprecated since 2.0.0. To use GPU training, set the `device` parameter to CUDA instead.\n",
      "\n",
      "    E.g. tree_method = \"hist\", device = \"cuda\"\n",
      "\n",
      "  bst.update(dtrain, iteration=i, fobj=obj)\n",
      "/home/jp/Repositorios/UDEA/InteligenciaArtificial-UdeA20251/.venv/lib/python3.12/site-packages/xgboost/core.py:2676: UserWarning: [14:24:31] WARNING: /workspace/src/common/error_msg.cc:27: The tree method `gpu_hist` is deprecated since 2.0.0. To use GPU training, set the `device` parameter to CUDA instead.\n",
      "\n",
      "    E.g. tree_method = \"hist\", device = \"cuda\"\n",
      "\n",
      "  if len(data.shape) != 1 and self.num_features() != data.shape[1]:\n"
     ]
    },
    {
     "name": "stdout",
     "output_type": "stream",
     "text": [
      "[CV] END colsample_bytree=1.0, gamma=0, learning_rate=0.05, max_depth=3, min_child_weight=3, n_estimators=200, reg_alpha=0.1, reg_lambda=1.5, subsample=0.8; total time=   4.8s\n"
     ]
    },
    {
     "name": "stderr",
     "output_type": "stream",
     "text": [
      "/home/jp/Repositorios/UDEA/InteligenciaArtificial-UdeA20251/.venv/lib/python3.12/site-packages/xgboost/training.py:183: UserWarning: [14:24:32] WARNING: /workspace/src/common/error_msg.cc:27: The tree method `gpu_hist` is deprecated since 2.0.0. To use GPU training, set the `device` parameter to CUDA instead.\n",
      "\n",
      "    E.g. tree_method = \"hist\", device = \"cuda\"\n",
      "\n",
      "  bst.update(dtrain, iteration=i, fobj=obj)\n",
      "/home/jp/Repositorios/UDEA/InteligenciaArtificial-UdeA20251/.venv/lib/python3.12/site-packages/xgboost/core.py:2676: UserWarning: [14:24:34] WARNING: /workspace/src/common/error_msg.cc:27: The tree method `gpu_hist` is deprecated since 2.0.0. To use GPU training, set the `device` parameter to CUDA instead.\n",
      "\n",
      "    E.g. tree_method = \"hist\", device = \"cuda\"\n",
      "\n",
      "  if len(data.shape) != 1 and self.num_features() != data.shape[1]:\n",
      "/home/jp/Repositorios/UDEA/InteligenciaArtificial-UdeA20251/.venv/lib/python3.12/site-packages/xgboost/training.py:183: UserWarning: [14:24:34] WARNING: /workspace/src/common/error_msg.cc:27: The tree method `gpu_hist` is deprecated since 2.0.0. To use GPU training, set the `device` parameter to CUDA instead.\n",
      "\n",
      "    E.g. tree_method = \"hist\", device = \"cuda\"\n",
      "\n",
      "  bst.update(dtrain, iteration=i, fobj=obj)\n"
     ]
    },
    {
     "name": "stdout",
     "output_type": "stream",
     "text": [
      "[CV] END colsample_bytree=1.0, gamma=0, learning_rate=0.05, max_depth=3, min_child_weight=3, n_estimators=200, reg_alpha=0.1, reg_lambda=1.5, subsample=0.8; total time=   4.8s\n"
     ]
    },
    {
     "name": "stderr",
     "output_type": "stream",
     "text": [
      "/home/jp/Repositorios/UDEA/InteligenciaArtificial-UdeA20251/.venv/lib/python3.12/site-packages/xgboost/core.py:2676: UserWarning: [14:24:36] WARNING: /workspace/src/common/error_msg.cc:27: The tree method `gpu_hist` is deprecated since 2.0.0. To use GPU training, set the `device` parameter to CUDA instead.\n",
      "\n",
      "    E.g. tree_method = \"hist\", device = \"cuda\"\n",
      "\n",
      "  if len(data.shape) != 1 and self.num_features() != data.shape[1]:\n",
      "/home/jp/Repositorios/UDEA/InteligenciaArtificial-UdeA20251/.venv/lib/python3.12/site-packages/xgboost/training.py:183: UserWarning: [14:24:36] WARNING: /workspace/src/common/error_msg.cc:27: The tree method `gpu_hist` is deprecated since 2.0.0. To use GPU training, set the `device` parameter to CUDA instead.\n",
      "\n",
      "    E.g. tree_method = \"hist\", device = \"cuda\"\n",
      "\n",
      "  bst.update(dtrain, iteration=i, fobj=obj)\n"
     ]
    },
    {
     "name": "stdout",
     "output_type": "stream",
     "text": [
      "[CV] END colsample_bytree=1.0, gamma=0, learning_rate=0.05, max_depth=3, min_child_weight=3, n_estimators=200, reg_alpha=0.1, reg_lambda=1.5, subsample=0.8; total time=   4.7s\n"
     ]
    },
    {
     "name": "stderr",
     "output_type": "stream",
     "text": [
      "/home/jp/Repositorios/UDEA/InteligenciaArtificial-UdeA20251/.venv/lib/python3.12/site-packages/xgboost/core.py:2676: UserWarning: [14:24:39] WARNING: /workspace/src/common/error_msg.cc:27: The tree method `gpu_hist` is deprecated since 2.0.0. To use GPU training, set the `device` parameter to CUDA instead.\n",
      "\n",
      "    E.g. tree_method = \"hist\", device = \"cuda\"\n",
      "\n",
      "  if len(data.shape) != 1 and self.num_features() != data.shape[1]:\n"
     ]
    },
    {
     "name": "stdout",
     "output_type": "stream",
     "text": [
      "[CV] END colsample_bytree=0.95, gamma=0.1, learning_rate=0.15, max_depth=3, min_child_weight=1, n_estimators=200, reg_alpha=0.01, reg_lambda=1, subsample=0.95; total time=   5.0s\n"
     ]
    },
    {
     "name": "stderr",
     "output_type": "stream",
     "text": [
      "/home/jp/Repositorios/UDEA/InteligenciaArtificial-UdeA20251/.venv/lib/python3.12/site-packages/xgboost/training.py:183: UserWarning: [14:24:39] WARNING: /workspace/src/common/error_msg.cc:27: The tree method `gpu_hist` is deprecated since 2.0.0. To use GPU training, set the `device` parameter to CUDA instead.\n",
      "\n",
      "    E.g. tree_method = \"hist\", device = \"cuda\"\n",
      "\n",
      "  bst.update(dtrain, iteration=i, fobj=obj)\n",
      "/home/jp/Repositorios/UDEA/InteligenciaArtificial-UdeA20251/.venv/lib/python3.12/site-packages/xgboost/core.py:2676: UserWarning: [14:24:41] WARNING: /workspace/src/common/error_msg.cc:27: The tree method `gpu_hist` is deprecated since 2.0.0. To use GPU training, set the `device` parameter to CUDA instead.\n",
      "\n",
      "    E.g. tree_method = \"hist\", device = \"cuda\"\n",
      "\n",
      "  if len(data.shape) != 1 and self.num_features() != data.shape[1]:\n",
      "/home/jp/Repositorios/UDEA/InteligenciaArtificial-UdeA20251/.venv/lib/python3.12/site-packages/xgboost/training.py:183: UserWarning: [14:24:41] WARNING: /workspace/src/common/error_msg.cc:27: The tree method `gpu_hist` is deprecated since 2.0.0. To use GPU training, set the `device` parameter to CUDA instead.\n",
      "\n",
      "    E.g. tree_method = \"hist\", device = \"cuda\"\n",
      "\n",
      "  bst.update(dtrain, iteration=i, fobj=obj)\n"
     ]
    },
    {
     "name": "stdout",
     "output_type": "stream",
     "text": [
      "[CV] END colsample_bytree=0.95, gamma=0.1, learning_rate=0.15, max_depth=3, min_child_weight=1, n_estimators=200, reg_alpha=0.01, reg_lambda=1, subsample=0.95; total time=   5.0s\n"
     ]
    },
    {
     "name": "stderr",
     "output_type": "stream",
     "text": [
      "/home/jp/Repositorios/UDEA/InteligenciaArtificial-UdeA20251/.venv/lib/python3.12/site-packages/xgboost/core.py:2676: UserWarning: [14:24:44] WARNING: /workspace/src/common/error_msg.cc:27: The tree method `gpu_hist` is deprecated since 2.0.0. To use GPU training, set the `device` parameter to CUDA instead.\n",
      "\n",
      "    E.g. tree_method = \"hist\", device = \"cuda\"\n",
      "\n",
      "  if len(data.shape) != 1 and self.num_features() != data.shape[1]:\n"
     ]
    },
    {
     "name": "stdout",
     "output_type": "stream",
     "text": [
      "[CV] END colsample_bytree=0.95, gamma=0.1, learning_rate=0.15, max_depth=3, min_child_weight=1, n_estimators=200, reg_alpha=0.01, reg_lambda=1, subsample=0.95; total time=   4.9s\n"
     ]
    },
    {
     "name": "stderr",
     "output_type": "stream",
     "text": [
      "/home/jp/Repositorios/UDEA/InteligenciaArtificial-UdeA20251/.venv/lib/python3.12/site-packages/xgboost/training.py:183: UserWarning: [14:24:44] WARNING: /workspace/src/common/error_msg.cc:27: The tree method `gpu_hist` is deprecated since 2.0.0. To use GPU training, set the `device` parameter to CUDA instead.\n",
      "\n",
      "    E.g. tree_method = \"hist\", device = \"cuda\"\n",
      "\n",
      "  bst.update(dtrain, iteration=i, fobj=obj)\n",
      "/home/jp/Repositorios/UDEA/InteligenciaArtificial-UdeA20251/.venv/lib/python3.12/site-packages/xgboost/core.py:2676: UserWarning: [14:24:46] WARNING: /workspace/src/common/error_msg.cc:27: The tree method `gpu_hist` is deprecated since 2.0.0. To use GPU training, set the `device` parameter to CUDA instead.\n",
      "\n",
      "    E.g. tree_method = \"hist\", device = \"cuda\"\n",
      "\n",
      "  if len(data.shape) != 1 and self.num_features() != data.shape[1]:\n"
     ]
    },
    {
     "name": "stdout",
     "output_type": "stream",
     "text": [
      "[CV] END colsample_bytree=0.95, gamma=0.1, learning_rate=0.15, max_depth=3, min_child_weight=1, n_estimators=200, reg_alpha=0.01, reg_lambda=1, subsample=0.95; total time=   5.1s\n"
     ]
    },
    {
     "name": "stderr",
     "output_type": "stream",
     "text": [
      "/home/jp/Repositorios/UDEA/InteligenciaArtificial-UdeA20251/.venv/lib/python3.12/site-packages/xgboost/training.py:183: UserWarning: [14:24:46] WARNING: /workspace/src/common/error_msg.cc:27: The tree method `gpu_hist` is deprecated since 2.0.0. To use GPU training, set the `device` parameter to CUDA instead.\n",
      "\n",
      "    E.g. tree_method = \"hist\", device = \"cuda\"\n",
      "\n",
      "  bst.update(dtrain, iteration=i, fobj=obj)\n",
      "/home/jp/Repositorios/UDEA/InteligenciaArtificial-UdeA20251/.venv/lib/python3.12/site-packages/xgboost/core.py:2676: UserWarning: [14:24:50] WARNING: /workspace/src/common/error_msg.cc:27: The tree method `gpu_hist` is deprecated since 2.0.0. To use GPU training, set the `device` parameter to CUDA instead.\n",
      "\n",
      "    E.g. tree_method = \"hist\", device = \"cuda\"\n",
      "\n",
      "  if len(data.shape) != 1 and self.num_features() != data.shape[1]:\n"
     ]
    },
    {
     "name": "stdout",
     "output_type": "stream",
     "text": [
      "[CV] END colsample_bytree=0.95, gamma=0.1, learning_rate=0.15, max_depth=3, min_child_weight=1, n_estimators=200, reg_alpha=0.01, reg_lambda=1, subsample=0.95; total time=   5.5s\n"
     ]
    },
    {
     "name": "stderr",
     "output_type": "stream",
     "text": [
      "/home/jp/Repositorios/UDEA/InteligenciaArtificial-UdeA20251/.venv/lib/python3.12/site-packages/xgboost/training.py:183: UserWarning: [14:24:50] WARNING: /workspace/src/common/error_msg.cc:27: The tree method `gpu_hist` is deprecated since 2.0.0. To use GPU training, set the `device` parameter to CUDA instead.\n",
      "\n",
      "    E.g. tree_method = \"hist\", device = \"cuda\"\n",
      "\n",
      "  bst.update(dtrain, iteration=i, fobj=obj)\n",
      "/home/jp/Repositorios/UDEA/InteligenciaArtificial-UdeA20251/.venv/lib/python3.12/site-packages/xgboost/core.py:2676: UserWarning: [14:24:58] WARNING: /workspace/src/common/error_msg.cc:27: The tree method `gpu_hist` is deprecated since 2.0.0. To use GPU training, set the `device` parameter to CUDA instead.\n",
      "\n",
      "    E.g. tree_method = \"hist\", device = \"cuda\"\n",
      "\n",
      "  if len(data.shape) != 1 and self.num_features() != data.shape[1]:\n"
     ]
    },
    {
     "name": "stdout",
     "output_type": "stream",
     "text": [
      "[CV] END colsample_bytree=0.95, gamma=0.3, learning_rate=0.01, max_depth=5, min_child_weight=3, n_estimators=300, reg_alpha=0.1, reg_lambda=2, subsample=1.0; total time=  11.5s\n"
     ]
    },
    {
     "name": "stderr",
     "output_type": "stream",
     "text": [
      "/home/jp/Repositorios/UDEA/InteligenciaArtificial-UdeA20251/.venv/lib/python3.12/site-packages/xgboost/training.py:183: UserWarning: [14:24:58] WARNING: /workspace/src/common/error_msg.cc:27: The tree method `gpu_hist` is deprecated since 2.0.0. To use GPU training, set the `device` parameter to CUDA instead.\n",
      "\n",
      "    E.g. tree_method = \"hist\", device = \"cuda\"\n",
      "\n",
      "  bst.update(dtrain, iteration=i, fobj=obj)\n",
      "/home/jp/Repositorios/UDEA/InteligenciaArtificial-UdeA20251/.venv/lib/python3.12/site-packages/xgboost/core.py:2676: UserWarning: [14:25:01] WARNING: /workspace/src/common/error_msg.cc:27: The tree method `gpu_hist` is deprecated since 2.0.0. To use GPU training, set the `device` parameter to CUDA instead.\n",
      "\n",
      "    E.g. tree_method = \"hist\", device = \"cuda\"\n",
      "\n",
      "  if len(data.shape) != 1 and self.num_features() != data.shape[1]:\n"
     ]
    },
    {
     "name": "stdout",
     "output_type": "stream",
     "text": [
      "[CV] END colsample_bytree=0.95, gamma=0.3, learning_rate=0.01, max_depth=5, min_child_weight=3, n_estimators=300, reg_alpha=0.1, reg_lambda=2, subsample=1.0; total time=  11.5s\n"
     ]
    },
    {
     "name": "stderr",
     "output_type": "stream",
     "text": [
      "/home/jp/Repositorios/UDEA/InteligenciaArtificial-UdeA20251/.venv/lib/python3.12/site-packages/xgboost/training.py:183: UserWarning: [14:25:01] WARNING: /workspace/src/common/error_msg.cc:27: The tree method `gpu_hist` is deprecated since 2.0.0. To use GPU training, set the `device` parameter to CUDA instead.\n",
      "\n",
      "    E.g. tree_method = \"hist\", device = \"cuda\"\n",
      "\n",
      "  bst.update(dtrain, iteration=i, fobj=obj)\n",
      "/home/jp/Repositorios/UDEA/InteligenciaArtificial-UdeA20251/.venv/lib/python3.12/site-packages/xgboost/core.py:2676: UserWarning: [14:25:09] WARNING: /workspace/src/common/error_msg.cc:27: The tree method `gpu_hist` is deprecated since 2.0.0. To use GPU training, set the `device` parameter to CUDA instead.\n",
      "\n",
      "    E.g. tree_method = \"hist\", device = \"cuda\"\n",
      "\n",
      "  if len(data.shape) != 1 and self.num_features() != data.shape[1]:\n"
     ]
    },
    {
     "name": "stdout",
     "output_type": "stream",
     "text": [
      "[CV] END colsample_bytree=0.95, gamma=0.3, learning_rate=0.01, max_depth=5, min_child_weight=3, n_estimators=300, reg_alpha=0.1, reg_lambda=2, subsample=1.0; total time=  11.5s\n"
     ]
    },
    {
     "name": "stderr",
     "output_type": "stream",
     "text": [
      "/home/jp/Repositorios/UDEA/InteligenciaArtificial-UdeA20251/.venv/lib/python3.12/site-packages/xgboost/training.py:183: UserWarning: [14:25:09] WARNING: /workspace/src/common/error_msg.cc:27: The tree method `gpu_hist` is deprecated since 2.0.0. To use GPU training, set the `device` parameter to CUDA instead.\n",
      "\n",
      "    E.g. tree_method = \"hist\", device = \"cuda\"\n",
      "\n",
      "  bst.update(dtrain, iteration=i, fobj=obj)\n",
      "/home/jp/Repositorios/UDEA/InteligenciaArtificial-UdeA20251/.venv/lib/python3.12/site-packages/xgboost/core.py:2676: UserWarning: [14:25:13] WARNING: /workspace/src/common/error_msg.cc:27: The tree method `gpu_hist` is deprecated since 2.0.0. To use GPU training, set the `device` parameter to CUDA instead.\n",
      "\n",
      "    E.g. tree_method = \"hist\", device = \"cuda\"\n",
      "\n",
      "  if len(data.shape) != 1 and self.num_features() != data.shape[1]:\n"
     ]
    },
    {
     "name": "stdout",
     "output_type": "stream",
     "text": [
      "[CV] END colsample_bytree=0.95, gamma=0.3, learning_rate=0.01, max_depth=5, min_child_weight=3, n_estimators=300, reg_alpha=0.1, reg_lambda=2, subsample=1.0; total time=  11.4s\n"
     ]
    },
    {
     "name": "stderr",
     "output_type": "stream",
     "text": [
      "/home/jp/Repositorios/UDEA/InteligenciaArtificial-UdeA20251/.venv/lib/python3.12/site-packages/xgboost/training.py:183: UserWarning: [14:25:13] WARNING: /workspace/src/common/error_msg.cc:27: The tree method `gpu_hist` is deprecated since 2.0.0. To use GPU training, set the `device` parameter to CUDA instead.\n",
      "\n",
      "    E.g. tree_method = \"hist\", device = \"cuda\"\n",
      "\n",
      "  bst.update(dtrain, iteration=i, fobj=obj)\n",
      "/home/jp/Repositorios/UDEA/InteligenciaArtificial-UdeA20251/.venv/lib/python3.12/site-packages/xgboost/core.py:2676: UserWarning: [14:25:20] WARNING: /workspace/src/common/error_msg.cc:27: The tree method `gpu_hist` is deprecated since 2.0.0. To use GPU training, set the `device` parameter to CUDA instead.\n",
      "\n",
      "    E.g. tree_method = \"hist\", device = \"cuda\"\n",
      "\n",
      "  if len(data.shape) != 1 and self.num_features() != data.shape[1]:\n"
     ]
    },
    {
     "name": "stdout",
     "output_type": "stream",
     "text": [
      "[CV] END colsample_bytree=0.95, gamma=0.3, learning_rate=0.01, max_depth=5, min_child_weight=3, n_estimators=300, reg_alpha=0.1, reg_lambda=2, subsample=1.0; total time=  11.2s\n"
     ]
    },
    {
     "name": "stderr",
     "output_type": "stream",
     "text": [
      "/home/jp/Repositorios/UDEA/InteligenciaArtificial-UdeA20251/.venv/lib/python3.12/site-packages/xgboost/training.py:183: UserWarning: [14:25:21] WARNING: /workspace/src/common/error_msg.cc:27: The tree method `gpu_hist` is deprecated since 2.0.0. To use GPU training, set the `device` parameter to CUDA instead.\n",
      "\n",
      "    E.g. tree_method = \"hist\", device = \"cuda\"\n",
      "\n",
      "  bst.update(dtrain, iteration=i, fobj=obj)\n",
      "/home/jp/Repositorios/UDEA/InteligenciaArtificial-UdeA20251/.venv/lib/python3.12/site-packages/xgboost/core.py:2676: UserWarning: [14:25:34] WARNING: /workspace/src/common/error_msg.cc:27: The tree method `gpu_hist` is deprecated since 2.0.0. To use GPU training, set the `device` parameter to CUDA instead.\n",
      "\n",
      "    E.g. tree_method = \"hist\", device = \"cuda\"\n",
      "\n",
      "  if len(data.shape) != 1 and self.num_features() != data.shape[1]:\n"
     ]
    },
    {
     "name": "stdout",
     "output_type": "stream",
     "text": [
      "[CV] END colsample_bytree=0.95, gamma=0.2, learning_rate=0.05, max_depth=3, min_child_weight=1, n_estimators=800, reg_alpha=0, reg_lambda=1, subsample=0.8; total time=  21.5s\n"
     ]
    },
    {
     "name": "stderr",
     "output_type": "stream",
     "text": [
      "/home/jp/Repositorios/UDEA/InteligenciaArtificial-UdeA20251/.venv/lib/python3.12/site-packages/xgboost/training.py:183: UserWarning: [14:25:34] WARNING: /workspace/src/common/error_msg.cc:27: The tree method `gpu_hist` is deprecated since 2.0.0. To use GPU training, set the `device` parameter to CUDA instead.\n",
      "\n",
      "    E.g. tree_method = \"hist\", device = \"cuda\"\n",
      "\n",
      "  bst.update(dtrain, iteration=i, fobj=obj)\n",
      "/home/jp/Repositorios/UDEA/InteligenciaArtificial-UdeA20251/.venv/lib/python3.12/site-packages/xgboost/core.py:2676: UserWarning: [14:25:41] WARNING: /workspace/src/common/error_msg.cc:27: The tree method `gpu_hist` is deprecated since 2.0.0. To use GPU training, set the `device` parameter to CUDA instead.\n",
      "\n",
      "    E.g. tree_method = \"hist\", device = \"cuda\"\n",
      "\n",
      "  if len(data.shape) != 1 and self.num_features() != data.shape[1]:\n"
     ]
    },
    {
     "name": "stdout",
     "output_type": "stream",
     "text": [
      "[CV] END colsample_bytree=0.95, gamma=0.2, learning_rate=0.05, max_depth=3, min_child_weight=1, n_estimators=800, reg_alpha=0, reg_lambda=1, subsample=0.8; total time=  20.8s\n"
     ]
    },
    {
     "name": "stderr",
     "output_type": "stream",
     "text": [
      "/home/jp/Repositorios/UDEA/InteligenciaArtificial-UdeA20251/.venv/lib/python3.12/site-packages/xgboost/training.py:183: UserWarning: [14:25:41] WARNING: /workspace/src/common/error_msg.cc:27: The tree method `gpu_hist` is deprecated since 2.0.0. To use GPU training, set the `device` parameter to CUDA instead.\n",
      "\n",
      "    E.g. tree_method = \"hist\", device = \"cuda\"\n",
      "\n",
      "  bst.update(dtrain, iteration=i, fobj=obj)\n",
      "/home/jp/Repositorios/UDEA/InteligenciaArtificial-UdeA20251/.venv/lib/python3.12/site-packages/xgboost/core.py:2676: UserWarning: [14:25:55] WARNING: /workspace/src/common/error_msg.cc:27: The tree method `gpu_hist` is deprecated since 2.0.0. To use GPU training, set the `device` parameter to CUDA instead.\n",
      "\n",
      "    E.g. tree_method = \"hist\", device = \"cuda\"\n",
      "\n",
      "  if len(data.shape) != 1 and self.num_features() != data.shape[1]:\n"
     ]
    },
    {
     "name": "stdout",
     "output_type": "stream",
     "text": [
      "[CV] END colsample_bytree=0.95, gamma=0.2, learning_rate=0.05, max_depth=3, min_child_weight=1, n_estimators=800, reg_alpha=0, reg_lambda=1, subsample=0.8; total time=  20.9s\n"
     ]
    },
    {
     "name": "stderr",
     "output_type": "stream",
     "text": [
      "/home/jp/Repositorios/UDEA/InteligenciaArtificial-UdeA20251/.venv/lib/python3.12/site-packages/xgboost/training.py:183: UserWarning: [14:25:55] WARNING: /workspace/src/common/error_msg.cc:27: The tree method `gpu_hist` is deprecated since 2.0.0. To use GPU training, set the `device` parameter to CUDA instead.\n",
      "\n",
      "    E.g. tree_method = \"hist\", device = \"cuda\"\n",
      "\n",
      "  bst.update(dtrain, iteration=i, fobj=obj)\n",
      "/home/jp/Repositorios/UDEA/InteligenciaArtificial-UdeA20251/.venv/lib/python3.12/site-packages/xgboost/core.py:2676: UserWarning: [14:26:03] WARNING: /workspace/src/common/error_msg.cc:27: The tree method `gpu_hist` is deprecated since 2.0.0. To use GPU training, set the `device` parameter to CUDA instead.\n",
      "\n",
      "    E.g. tree_method = \"hist\", device = \"cuda\"\n",
      "\n",
      "  if len(data.shape) != 1 and self.num_features() != data.shape[1]:\n"
     ]
    },
    {
     "name": "stdout",
     "output_type": "stream",
     "text": [
      "[CV] END colsample_bytree=0.95, gamma=0.2, learning_rate=0.05, max_depth=3, min_child_weight=1, n_estimators=800, reg_alpha=0, reg_lambda=1, subsample=0.8; total time=  21.6s\n"
     ]
    },
    {
     "name": "stderr",
     "output_type": "stream",
     "text": [
      "/home/jp/Repositorios/UDEA/InteligenciaArtificial-UdeA20251/.venv/lib/python3.12/site-packages/xgboost/training.py:183: UserWarning: [14:26:03] WARNING: /workspace/src/common/error_msg.cc:27: The tree method `gpu_hist` is deprecated since 2.0.0. To use GPU training, set the `device` parameter to CUDA instead.\n",
      "\n",
      "    E.g. tree_method = \"hist\", device = \"cuda\"\n",
      "\n",
      "  bst.update(dtrain, iteration=i, fobj=obj)\n",
      "/home/jp/Repositorios/UDEA/InteligenciaArtificial-UdeA20251/.venv/lib/python3.12/site-packages/xgboost/core.py:2676: UserWarning: [14:26:11] WARNING: /workspace/src/common/error_msg.cc:27: The tree method `gpu_hist` is deprecated since 2.0.0. To use GPU training, set the `device` parameter to CUDA instead.\n",
      "\n",
      "    E.g. tree_method = \"hist\", device = \"cuda\"\n",
      "\n",
      "  if len(data.shape) != 1 and self.num_features() != data.shape[1]:\n"
     ]
    },
    {
     "name": "stdout",
     "output_type": "stream",
     "text": [
      "[CV] END colsample_bytree=0.9, gamma=0.1, learning_rate=0.01, max_depth=5, min_child_weight=1, n_estimators=200, reg_alpha=0.01, reg_lambda=2, subsample=0.95; total time=   7.8s\n"
     ]
    },
    {
     "name": "stderr",
     "output_type": "stream",
     "text": [
      "/home/jp/Repositorios/UDEA/InteligenciaArtificial-UdeA20251/.venv/lib/python3.12/site-packages/xgboost/training.py:183: UserWarning: [14:26:11] WARNING: /workspace/src/common/error_msg.cc:27: The tree method `gpu_hist` is deprecated since 2.0.0. To use GPU training, set the `device` parameter to CUDA instead.\n",
      "\n",
      "    E.g. tree_method = \"hist\", device = \"cuda\"\n",
      "\n",
      "  bst.update(dtrain, iteration=i, fobj=obj)\n",
      "/home/jp/Repositorios/UDEA/InteligenciaArtificial-UdeA20251/.venv/lib/python3.12/site-packages/xgboost/core.py:2676: UserWarning: [14:26:17] WARNING: /workspace/src/common/error_msg.cc:27: The tree method `gpu_hist` is deprecated since 2.0.0. To use GPU training, set the `device` parameter to CUDA instead.\n",
      "\n",
      "    E.g. tree_method = \"hist\", device = \"cuda\"\n",
      "\n",
      "  if len(data.shape) != 1 and self.num_features() != data.shape[1]:\n"
     ]
    },
    {
     "name": "stdout",
     "output_type": "stream",
     "text": [
      "[CV] END colsample_bytree=0.95, gamma=0.2, learning_rate=0.05, max_depth=3, min_child_weight=1, n_estimators=800, reg_alpha=0, reg_lambda=1, subsample=0.8; total time=  22.2s\n"
     ]
    },
    {
     "name": "stderr",
     "output_type": "stream",
     "text": [
      "/home/jp/Repositorios/UDEA/InteligenciaArtificial-UdeA20251/.venv/lib/python3.12/site-packages/xgboost/training.py:183: UserWarning: [14:26:17] WARNING: /workspace/src/common/error_msg.cc:27: The tree method `gpu_hist` is deprecated since 2.0.0. To use GPU training, set the `device` parameter to CUDA instead.\n",
      "\n",
      "    E.g. tree_method = \"hist\", device = \"cuda\"\n",
      "\n",
      "  bst.update(dtrain, iteration=i, fobj=obj)\n",
      "/home/jp/Repositorios/UDEA/InteligenciaArtificial-UdeA20251/.venv/lib/python3.12/site-packages/xgboost/core.py:2676: UserWarning: [14:26:18] WARNING: /workspace/src/common/error_msg.cc:27: The tree method `gpu_hist` is deprecated since 2.0.0. To use GPU training, set the `device` parameter to CUDA instead.\n",
      "\n",
      "    E.g. tree_method = \"hist\", device = \"cuda\"\n",
      "\n",
      "  if len(data.shape) != 1 and self.num_features() != data.shape[1]:\n"
     ]
    },
    {
     "name": "stdout",
     "output_type": "stream",
     "text": [
      "[CV] END colsample_bytree=0.9, gamma=0.1, learning_rate=0.01, max_depth=5, min_child_weight=1, n_estimators=200, reg_alpha=0.01, reg_lambda=2, subsample=0.95; total time=   7.4s\n"
     ]
    },
    {
     "name": "stderr",
     "output_type": "stream",
     "text": [
      "/home/jp/Repositorios/UDEA/InteligenciaArtificial-UdeA20251/.venv/lib/python3.12/site-packages/xgboost/training.py:183: UserWarning: [14:26:18] WARNING: /workspace/src/common/error_msg.cc:27: The tree method `gpu_hist` is deprecated since 2.0.0. To use GPU training, set the `device` parameter to CUDA instead.\n",
      "\n",
      "    E.g. tree_method = \"hist\", device = \"cuda\"\n",
      "\n",
      "  bst.update(dtrain, iteration=i, fobj=obj)\n",
      "/home/jp/Repositorios/UDEA/InteligenciaArtificial-UdeA20251/.venv/lib/python3.12/site-packages/xgboost/core.py:2676: UserWarning: [14:26:25] WARNING: /workspace/src/common/error_msg.cc:27: The tree method `gpu_hist` is deprecated since 2.0.0. To use GPU training, set the `device` parameter to CUDA instead.\n",
      "\n",
      "    E.g. tree_method = \"hist\", device = \"cuda\"\n",
      "\n",
      "  if len(data.shape) != 1 and self.num_features() != data.shape[1]:\n"
     ]
    },
    {
     "name": "stdout",
     "output_type": "stream",
     "text": [
      "[CV] END colsample_bytree=0.9, gamma=0.1, learning_rate=0.01, max_depth=5, min_child_weight=1, n_estimators=200, reg_alpha=0.01, reg_lambda=2, subsample=0.95; total time=   7.7s\n"
     ]
    },
    {
     "name": "stderr",
     "output_type": "stream",
     "text": [
      "/home/jp/Repositorios/UDEA/InteligenciaArtificial-UdeA20251/.venv/lib/python3.12/site-packages/xgboost/training.py:183: UserWarning: [14:26:25] WARNING: /workspace/src/common/error_msg.cc:27: The tree method `gpu_hist` is deprecated since 2.0.0. To use GPU training, set the `device` parameter to CUDA instead.\n",
      "\n",
      "    E.g. tree_method = \"hist\", device = \"cuda\"\n",
      "\n",
      "  bst.update(dtrain, iteration=i, fobj=obj)\n",
      "/home/jp/Repositorios/UDEA/InteligenciaArtificial-UdeA20251/.venv/lib/python3.12/site-packages/xgboost/core.py:2676: UserWarning: [14:26:26] WARNING: /workspace/src/common/error_msg.cc:27: The tree method `gpu_hist` is deprecated since 2.0.0. To use GPU training, set the `device` parameter to CUDA instead.\n",
      "\n",
      "    E.g. tree_method = \"hist\", device = \"cuda\"\n",
      "\n",
      "  if len(data.shape) != 1 and self.num_features() != data.shape[1]:\n"
     ]
    },
    {
     "name": "stdout",
     "output_type": "stream",
     "text": [
      "[CV] END colsample_bytree=0.9, gamma=0.1, learning_rate=0.01, max_depth=5, min_child_weight=1, n_estimators=200, reg_alpha=0.01, reg_lambda=2, subsample=0.95; total time=   7.7s\n"
     ]
    },
    {
     "name": "stderr",
     "output_type": "stream",
     "text": [
      "/home/jp/Repositorios/UDEA/InteligenciaArtificial-UdeA20251/.venv/lib/python3.12/site-packages/xgboost/training.py:183: UserWarning: [14:26:26] WARNING: /workspace/src/common/error_msg.cc:27: The tree method `gpu_hist` is deprecated since 2.0.0. To use GPU training, set the `device` parameter to CUDA instead.\n",
      "\n",
      "    E.g. tree_method = \"hist\", device = \"cuda\"\n",
      "\n",
      "  bst.update(dtrain, iteration=i, fobj=obj)\n",
      "/home/jp/Repositorios/UDEA/InteligenciaArtificial-UdeA20251/.venv/lib/python3.12/site-packages/xgboost/core.py:2676: UserWarning: [14:26:32] WARNING: /workspace/src/common/error_msg.cc:27: The tree method `gpu_hist` is deprecated since 2.0.0. To use GPU training, set the `device` parameter to CUDA instead.\n",
      "\n",
      "    E.g. tree_method = \"hist\", device = \"cuda\"\n",
      "\n",
      "  if len(data.shape) != 1 and self.num_features() != data.shape[1]:\n"
     ]
    },
    {
     "name": "stdout",
     "output_type": "stream",
     "text": [
      "[CV] END colsample_bytree=0.9, gamma=0.1, learning_rate=0.01, max_depth=5, min_child_weight=1, n_estimators=200, reg_alpha=0.01, reg_lambda=2, subsample=0.95; total time=   7.4s\n"
     ]
    },
    {
     "name": "stderr",
     "output_type": "stream",
     "text": [
      "/home/jp/Repositorios/UDEA/InteligenciaArtificial-UdeA20251/.venv/lib/python3.12/site-packages/xgboost/training.py:183: UserWarning: [14:26:33] WARNING: /workspace/src/common/error_msg.cc:27: The tree method `gpu_hist` is deprecated since 2.0.0. To use GPU training, set the `device` parameter to CUDA instead.\n",
      "\n",
      "    E.g. tree_method = \"hist\", device = \"cuda\"\n",
      "\n",
      "  bst.update(dtrain, iteration=i, fobj=obj)\n",
      "/home/jp/Repositorios/UDEA/InteligenciaArtificial-UdeA20251/.venv/lib/python3.12/site-packages/xgboost/core.py:2676: UserWarning: [14:26:42] WARNING: /workspace/src/common/error_msg.cc:27: The tree method `gpu_hist` is deprecated since 2.0.0. To use GPU training, set the `device` parameter to CUDA instead.\n",
      "\n",
      "    E.g. tree_method = \"hist\", device = \"cuda\"\n",
      "\n",
      "  if len(data.shape) != 1 and self.num_features() != data.shape[1]:\n"
     ]
    },
    {
     "name": "stdout",
     "output_type": "stream",
     "text": [
      "[CV] END colsample_bytree=1.0, gamma=0, learning_rate=0.15, max_depth=5, min_child_weight=5, n_estimators=500, reg_alpha=0.1, reg_lambda=2, subsample=0.9; total time=  16.4s\n"
     ]
    },
    {
     "name": "stderr",
     "output_type": "stream",
     "text": [
      "/home/jp/Repositorios/UDEA/InteligenciaArtificial-UdeA20251/.venv/lib/python3.12/site-packages/xgboost/training.py:183: UserWarning: [14:26:42] WARNING: /workspace/src/common/error_msg.cc:27: The tree method `gpu_hist` is deprecated since 2.0.0. To use GPU training, set the `device` parameter to CUDA instead.\n",
      "\n",
      "    E.g. tree_method = \"hist\", device = \"cuda\"\n",
      "\n",
      "  bst.update(dtrain, iteration=i, fobj=obj)\n",
      "/home/jp/Repositorios/UDEA/InteligenciaArtificial-UdeA20251/.venv/lib/python3.12/site-packages/xgboost/core.py:2676: UserWarning: [14:26:48] WARNING: /workspace/src/common/error_msg.cc:27: The tree method `gpu_hist` is deprecated since 2.0.0. To use GPU training, set the `device` parameter to CUDA instead.\n",
      "\n",
      "    E.g. tree_method = \"hist\", device = \"cuda\"\n",
      "\n",
      "  if len(data.shape) != 1 and self.num_features() != data.shape[1]:\n"
     ]
    },
    {
     "name": "stdout",
     "output_type": "stream",
     "text": [
      "[CV] END colsample_bytree=1.0, gamma=0, learning_rate=0.15, max_depth=5, min_child_weight=5, n_estimators=500, reg_alpha=0.1, reg_lambda=2, subsample=0.9; total time=  16.1s\n"
     ]
    },
    {
     "name": "stderr",
     "output_type": "stream",
     "text": [
      "/home/jp/Repositorios/UDEA/InteligenciaArtificial-UdeA20251/.venv/lib/python3.12/site-packages/xgboost/training.py:183: UserWarning: [14:26:49] WARNING: /workspace/src/common/error_msg.cc:27: The tree method `gpu_hist` is deprecated since 2.0.0. To use GPU training, set the `device` parameter to CUDA instead.\n",
      "\n",
      "    E.g. tree_method = \"hist\", device = \"cuda\"\n",
      "\n",
      "  bst.update(dtrain, iteration=i, fobj=obj)\n",
      "/home/jp/Repositorios/UDEA/InteligenciaArtificial-UdeA20251/.venv/lib/python3.12/site-packages/xgboost/core.py:2676: UserWarning: [14:26:59] WARNING: /workspace/src/common/error_msg.cc:27: The tree method `gpu_hist` is deprecated since 2.0.0. To use GPU training, set the `device` parameter to CUDA instead.\n",
      "\n",
      "    E.g. tree_method = \"hist\", device = \"cuda\"\n",
      "\n",
      "  if len(data.shape) != 1 and self.num_features() != data.shape[1]:\n"
     ]
    },
    {
     "name": "stdout",
     "output_type": "stream",
     "text": [
      "[CV] END colsample_bytree=1.0, gamma=0, learning_rate=0.15, max_depth=5, min_child_weight=5, n_estimators=500, reg_alpha=0.1, reg_lambda=2, subsample=0.9; total time=  16.6s\n"
     ]
    },
    {
     "name": "stderr",
     "output_type": "stream",
     "text": [
      "/home/jp/Repositorios/UDEA/InteligenciaArtificial-UdeA20251/.venv/lib/python3.12/site-packages/xgboost/training.py:183: UserWarning: [14:26:59] WARNING: /workspace/src/common/error_msg.cc:27: The tree method `gpu_hist` is deprecated since 2.0.0. To use GPU training, set the `device` parameter to CUDA instead.\n",
      "\n",
      "    E.g. tree_method = \"hist\", device = \"cuda\"\n",
      "\n",
      "  bst.update(dtrain, iteration=i, fobj=obj)\n",
      "/home/jp/Repositorios/UDEA/InteligenciaArtificial-UdeA20251/.venv/lib/python3.12/site-packages/xgboost/core.py:2676: UserWarning: [14:27:06] WARNING: /workspace/src/common/error_msg.cc:27: The tree method `gpu_hist` is deprecated since 2.0.0. To use GPU training, set the `device` parameter to CUDA instead.\n",
      "\n",
      "    E.g. tree_method = \"hist\", device = \"cuda\"\n",
      "\n",
      "  if len(data.shape) != 1 and self.num_features() != data.shape[1]:\n"
     ]
    },
    {
     "name": "stdout",
     "output_type": "stream",
     "text": [
      "[CV] END colsample_bytree=1.0, gamma=0, learning_rate=0.15, max_depth=5, min_child_weight=5, n_estimators=500, reg_alpha=0.1, reg_lambda=2, subsample=0.9; total time=  17.2s\n"
     ]
    },
    {
     "name": "stderr",
     "output_type": "stream",
     "text": [
      "/home/jp/Repositorios/UDEA/InteligenciaArtificial-UdeA20251/.venv/lib/python3.12/site-packages/xgboost/training.py:183: UserWarning: [14:27:06] WARNING: /workspace/src/common/error_msg.cc:27: The tree method `gpu_hist` is deprecated since 2.0.0. To use GPU training, set the `device` parameter to CUDA instead.\n",
      "\n",
      "    E.g. tree_method = \"hist\", device = \"cuda\"\n",
      "\n",
      "  bst.update(dtrain, iteration=i, fobj=obj)\n",
      "/home/jp/Repositorios/UDEA/InteligenciaArtificial-UdeA20251/.venv/lib/python3.12/site-packages/xgboost/core.py:2676: UserWarning: [14:27:17] WARNING: /workspace/src/common/error_msg.cc:27: The tree method `gpu_hist` is deprecated since 2.0.0. To use GPU training, set the `device` parameter to CUDA instead.\n",
      "\n",
      "    E.g. tree_method = \"hist\", device = \"cuda\"\n",
      "\n",
      "  if len(data.shape) != 1 and self.num_features() != data.shape[1]:\n"
     ]
    },
    {
     "name": "stdout",
     "output_type": "stream",
     "text": [
      "[CV] END colsample_bytree=1.0, gamma=0, learning_rate=0.15, max_depth=5, min_child_weight=5, n_estimators=500, reg_alpha=0.1, reg_lambda=2, subsample=0.9; total time=  18.5s\n"
     ]
    },
    {
     "name": "stderr",
     "output_type": "stream",
     "text": [
      "/home/jp/Repositorios/UDEA/InteligenciaArtificial-UdeA20251/.venv/lib/python3.12/site-packages/xgboost/training.py:183: UserWarning: [14:27:18] WARNING: /workspace/src/common/error_msg.cc:27: The tree method `gpu_hist` is deprecated since 2.0.0. To use GPU training, set the `device` parameter to CUDA instead.\n",
      "\n",
      "    E.g. tree_method = \"hist\", device = \"cuda\"\n",
      "\n",
      "  bst.update(dtrain, iteration=i, fobj=obj)\n",
      "/home/jp/Repositorios/UDEA/InteligenciaArtificial-UdeA20251/.venv/lib/python3.12/site-packages/xgboost/core.py:2676: UserWarning: [14:27:28] WARNING: /workspace/src/common/error_msg.cc:27: The tree method `gpu_hist` is deprecated since 2.0.0. To use GPU training, set the `device` parameter to CUDA instead.\n",
      "\n",
      "    E.g. tree_method = \"hist\", device = \"cuda\"\n",
      "\n",
      "  if len(data.shape) != 1 and self.num_features() != data.shape[1]:\n"
     ]
    },
    {
     "name": "stdout",
     "output_type": "stream",
     "text": [
      "[CV] END colsample_bytree=1.0, gamma=0.3, learning_rate=0.1, max_depth=7, min_child_weight=3, n_estimators=500, reg_alpha=0, reg_lambda=1, subsample=0.95; total time=  22.6s\n"
     ]
    },
    {
     "name": "stderr",
     "output_type": "stream",
     "text": [
      "/home/jp/Repositorios/UDEA/InteligenciaArtificial-UdeA20251/.venv/lib/python3.12/site-packages/xgboost/training.py:183: UserWarning: [14:27:29] WARNING: /workspace/src/common/error_msg.cc:27: The tree method `gpu_hist` is deprecated since 2.0.0. To use GPU training, set the `device` parameter to CUDA instead.\n",
      "\n",
      "    E.g. tree_method = \"hist\", device = \"cuda\"\n",
      "\n",
      "  bst.update(dtrain, iteration=i, fobj=obj)\n",
      "/home/jp/Repositorios/UDEA/InteligenciaArtificial-UdeA20251/.venv/lib/python3.12/site-packages/xgboost/core.py:2676: UserWarning: [14:27:41] WARNING: /workspace/src/common/error_msg.cc:27: The tree method `gpu_hist` is deprecated since 2.0.0. To use GPU training, set the `device` parameter to CUDA instead.\n",
      "\n",
      "    E.g. tree_method = \"hist\", device = \"cuda\"\n",
      "\n",
      "  if len(data.shape) != 1 and self.num_features() != data.shape[1]:\n"
     ]
    },
    {
     "name": "stdout",
     "output_type": "stream",
     "text": [
      "[CV] END colsample_bytree=1.0, gamma=0.3, learning_rate=0.1, max_depth=7, min_child_weight=3, n_estimators=500, reg_alpha=0, reg_lambda=1, subsample=0.95; total time=  23.4s\n"
     ]
    },
    {
     "name": "stderr",
     "output_type": "stream",
     "text": [
      "/home/jp/Repositorios/UDEA/InteligenciaArtificial-UdeA20251/.venv/lib/python3.12/site-packages/xgboost/training.py:183: UserWarning: [14:27:41] WARNING: /workspace/src/common/error_msg.cc:27: The tree method `gpu_hist` is deprecated since 2.0.0. To use GPU training, set the `device` parameter to CUDA instead.\n",
      "\n",
      "    E.g. tree_method = \"hist\", device = \"cuda\"\n",
      "\n",
      "  bst.update(dtrain, iteration=i, fobj=obj)\n",
      "/home/jp/Repositorios/UDEA/InteligenciaArtificial-UdeA20251/.venv/lib/python3.12/site-packages/xgboost/core.py:2676: UserWarning: [14:27:52] WARNING: /workspace/src/common/error_msg.cc:27: The tree method `gpu_hist` is deprecated since 2.0.0. To use GPU training, set the `device` parameter to CUDA instead.\n",
      "\n",
      "    E.g. tree_method = \"hist\", device = \"cuda\"\n",
      "\n",
      "  if len(data.shape) != 1 and self.num_features() != data.shape[1]:\n"
     ]
    },
    {
     "name": "stdout",
     "output_type": "stream",
     "text": [
      "[CV] END colsample_bytree=1.0, gamma=0.3, learning_rate=0.1, max_depth=7, min_child_weight=3, n_estimators=500, reg_alpha=0, reg_lambda=1, subsample=0.95; total time=  23.5s\n"
     ]
    },
    {
     "name": "stderr",
     "output_type": "stream",
     "text": [
      "/home/jp/Repositorios/UDEA/InteligenciaArtificial-UdeA20251/.venv/lib/python3.12/site-packages/xgboost/training.py:183: UserWarning: [14:27:52] WARNING: /workspace/src/common/error_msg.cc:27: The tree method `gpu_hist` is deprecated since 2.0.0. To use GPU training, set the `device` parameter to CUDA instead.\n",
      "\n",
      "    E.g. tree_method = \"hist\", device = \"cuda\"\n",
      "\n",
      "  bst.update(dtrain, iteration=i, fobj=obj)\n",
      "/home/jp/Repositorios/UDEA/InteligenciaArtificial-UdeA20251/.venv/lib/python3.12/site-packages/xgboost/core.py:2676: UserWarning: [14:28:05] WARNING: /workspace/src/common/error_msg.cc:27: The tree method `gpu_hist` is deprecated since 2.0.0. To use GPU training, set the `device` parameter to CUDA instead.\n",
      "\n",
      "    E.g. tree_method = \"hist\", device = \"cuda\"\n",
      "\n",
      "  if len(data.shape) != 1 and self.num_features() != data.shape[1]:\n"
     ]
    },
    {
     "name": "stdout",
     "output_type": "stream",
     "text": [
      "[CV] END colsample_bytree=1.0, gamma=0.3, learning_rate=0.1, max_depth=7, min_child_weight=3, n_estimators=500, reg_alpha=0, reg_lambda=1, subsample=0.95; total time=  23.8s\n"
     ]
    },
    {
     "name": "stderr",
     "output_type": "stream",
     "text": [
      "/home/jp/Repositorios/UDEA/InteligenciaArtificial-UdeA20251/.venv/lib/python3.12/site-packages/xgboost/training.py:183: UserWarning: [14:28:05] WARNING: /workspace/src/common/error_msg.cc:27: The tree method `gpu_hist` is deprecated since 2.0.0. To use GPU training, set the `device` parameter to CUDA instead.\n",
      "\n",
      "    E.g. tree_method = \"hist\", device = \"cuda\"\n",
      "\n",
      "  bst.update(dtrain, iteration=i, fobj=obj)\n",
      "/home/jp/Repositorios/UDEA/InteligenciaArtificial-UdeA20251/.venv/lib/python3.12/site-packages/xgboost/core.py:2676: UserWarning: [14:28:14] WARNING: /workspace/src/common/error_msg.cc:27: The tree method `gpu_hist` is deprecated since 2.0.0. To use GPU training, set the `device` parameter to CUDA instead.\n",
      "\n",
      "    E.g. tree_method = \"hist\", device = \"cuda\"\n",
      "\n",
      "  if len(data.shape) != 1 and self.num_features() != data.shape[1]:\n"
     ]
    },
    {
     "name": "stdout",
     "output_type": "stream",
     "text": [
      "[CV] END colsample_bytree=1.0, gamma=0.3, learning_rate=0.1, max_depth=7, min_child_weight=3, n_estimators=500, reg_alpha=0, reg_lambda=1, subsample=0.95; total time=  22.4s\n"
     ]
    },
    {
     "name": "stderr",
     "output_type": "stream",
     "text": [
      "/home/jp/Repositorios/UDEA/InteligenciaArtificial-UdeA20251/.venv/lib/python3.12/site-packages/xgboost/training.py:183: UserWarning: [14:28:14] WARNING: /workspace/src/common/error_msg.cc:27: The tree method `gpu_hist` is deprecated since 2.0.0. To use GPU training, set the `device` parameter to CUDA instead.\n",
      "\n",
      "    E.g. tree_method = \"hist\", device = \"cuda\"\n",
      "\n",
      "  bst.update(dtrain, iteration=i, fobj=obj)\n",
      "/home/jp/Repositorios/UDEA/InteligenciaArtificial-UdeA20251/.venv/lib/python3.12/site-packages/xgboost/core.py:2676: UserWarning: [14:28:24] WARNING: /workspace/src/common/error_msg.cc:27: The tree method `gpu_hist` is deprecated since 2.0.0. To use GPU training, set the `device` parameter to CUDA instead.\n",
      "\n",
      "    E.g. tree_method = \"hist\", device = \"cuda\"\n",
      "\n",
      "  if len(data.shape) != 1 and self.num_features() != data.shape[1]:\n"
     ]
    },
    {
     "name": "stdout",
     "output_type": "stream",
     "text": [
      "[CV] END colsample_bytree=0.95, gamma=0, learning_rate=0.01, max_depth=5, min_child_weight=3, n_estimators=500, reg_alpha=0.01, reg_lambda=1.5, subsample=0.95; total time=  19.9s\n"
     ]
    },
    {
     "name": "stderr",
     "output_type": "stream",
     "text": [
      "/home/jp/Repositorios/UDEA/InteligenciaArtificial-UdeA20251/.venv/lib/python3.12/site-packages/xgboost/training.py:183: UserWarning: [14:28:25] WARNING: /workspace/src/common/error_msg.cc:27: The tree method `gpu_hist` is deprecated since 2.0.0. To use GPU training, set the `device` parameter to CUDA instead.\n",
      "\n",
      "    E.g. tree_method = \"hist\", device = \"cuda\"\n",
      "\n",
      "  bst.update(dtrain, iteration=i, fobj=obj)\n",
      "/home/jp/Repositorios/UDEA/InteligenciaArtificial-UdeA20251/.venv/lib/python3.12/site-packages/xgboost/core.py:2676: UserWarning: [14:28:34] WARNING: /workspace/src/common/error_msg.cc:27: The tree method `gpu_hist` is deprecated since 2.0.0. To use GPU training, set the `device` parameter to CUDA instead.\n",
      "\n",
      "    E.g. tree_method = \"hist\", device = \"cuda\"\n",
      "\n",
      "  if len(data.shape) != 1 and self.num_features() != data.shape[1]:\n"
     ]
    },
    {
     "name": "stdout",
     "output_type": "stream",
     "text": [
      "[CV] END colsample_bytree=0.95, gamma=0, learning_rate=0.01, max_depth=5, min_child_weight=3, n_estimators=500, reg_alpha=0.01, reg_lambda=1.5, subsample=0.95; total time=  19.7s\n"
     ]
    },
    {
     "name": "stderr",
     "output_type": "stream",
     "text": [
      "/home/jp/Repositorios/UDEA/InteligenciaArtificial-UdeA20251/.venv/lib/python3.12/site-packages/xgboost/training.py:183: UserWarning: [14:28:34] WARNING: /workspace/src/common/error_msg.cc:27: The tree method `gpu_hist` is deprecated since 2.0.0. To use GPU training, set the `device` parameter to CUDA instead.\n",
      "\n",
      "    E.g. tree_method = \"hist\", device = \"cuda\"\n",
      "\n",
      "  bst.update(dtrain, iteration=i, fobj=obj)\n",
      "/home/jp/Repositorios/UDEA/InteligenciaArtificial-UdeA20251/.venv/lib/python3.12/site-packages/xgboost/core.py:2676: UserWarning: [14:28:44] WARNING: /workspace/src/common/error_msg.cc:27: The tree method `gpu_hist` is deprecated since 2.0.0. To use GPU training, set the `device` parameter to CUDA instead.\n",
      "\n",
      "    E.g. tree_method = \"hist\", device = \"cuda\"\n",
      "\n",
      "  if len(data.shape) != 1 and self.num_features() != data.shape[1]:\n"
     ]
    },
    {
     "name": "stdout",
     "output_type": "stream",
     "text": [
      "[CV] END colsample_bytree=0.95, gamma=0, learning_rate=0.01, max_depth=5, min_child_weight=3, n_estimators=500, reg_alpha=0.01, reg_lambda=1.5, subsample=0.95; total time=  19.9s\n"
     ]
    },
    {
     "name": "stderr",
     "output_type": "stream",
     "text": [
      "/home/jp/Repositorios/UDEA/InteligenciaArtificial-UdeA20251/.venv/lib/python3.12/site-packages/xgboost/training.py:183: UserWarning: [14:28:45] WARNING: /workspace/src/common/error_msg.cc:27: The tree method `gpu_hist` is deprecated since 2.0.0. To use GPU training, set the `device` parameter to CUDA instead.\n",
      "\n",
      "    E.g. tree_method = \"hist\", device = \"cuda\"\n",
      "\n",
      "  bst.update(dtrain, iteration=i, fobj=obj)\n",
      "/home/jp/Repositorios/UDEA/InteligenciaArtificial-UdeA20251/.venv/lib/python3.12/site-packages/xgboost/core.py:2676: UserWarning: [14:28:54] WARNING: /workspace/src/common/error_msg.cc:27: The tree method `gpu_hist` is deprecated since 2.0.0. To use GPU training, set the `device` parameter to CUDA instead.\n",
      "\n",
      "    E.g. tree_method = \"hist\", device = \"cuda\"\n",
      "\n",
      "  if len(data.shape) != 1 and self.num_features() != data.shape[1]:\n"
     ]
    },
    {
     "name": "stdout",
     "output_type": "stream",
     "text": [
      "[CV] END colsample_bytree=0.95, gamma=0, learning_rate=0.01, max_depth=5, min_child_weight=3, n_estimators=500, reg_alpha=0.01, reg_lambda=1.5, subsample=0.95; total time=  19.8s\n"
     ]
    },
    {
     "name": "stderr",
     "output_type": "stream",
     "text": [
      "/home/jp/Repositorios/UDEA/InteligenciaArtificial-UdeA20251/.venv/lib/python3.12/site-packages/xgboost/training.py:183: UserWarning: [14:28:54] WARNING: /workspace/src/common/error_msg.cc:27: The tree method `gpu_hist` is deprecated since 2.0.0. To use GPU training, set the `device` parameter to CUDA instead.\n",
      "\n",
      "    E.g. tree_method = \"hist\", device = \"cuda\"\n",
      "\n",
      "  bst.update(dtrain, iteration=i, fobj=obj)\n",
      "/home/jp/Repositorios/UDEA/InteligenciaArtificial-UdeA20251/.venv/lib/python3.12/site-packages/xgboost/core.py:2676: UserWarning: [14:29:04] WARNING: /workspace/src/common/error_msg.cc:27: The tree method `gpu_hist` is deprecated since 2.0.0. To use GPU training, set the `device` parameter to CUDA instead.\n",
      "\n",
      "    E.g. tree_method = \"hist\", device = \"cuda\"\n",
      "\n",
      "  if len(data.shape) != 1 and self.num_features() != data.shape[1]:\n"
     ]
    },
    {
     "name": "stdout",
     "output_type": "stream",
     "text": [
      "[CV] END colsample_bytree=0.95, gamma=0, learning_rate=0.01, max_depth=5, min_child_weight=3, n_estimators=500, reg_alpha=0.01, reg_lambda=1.5, subsample=0.95; total time=  19.3s\n"
     ]
    },
    {
     "name": "stderr",
     "output_type": "stream",
     "text": [
      "/home/jp/Repositorios/UDEA/InteligenciaArtificial-UdeA20251/.venv/lib/python3.12/site-packages/xgboost/training.py:183: UserWarning: [14:29:04] WARNING: /workspace/src/common/error_msg.cc:27: The tree method `gpu_hist` is deprecated since 2.0.0. To use GPU training, set the `device` parameter to CUDA instead.\n",
      "\n",
      "    E.g. tree_method = \"hist\", device = \"cuda\"\n",
      "\n",
      "  bst.update(dtrain, iteration=i, fobj=obj)\n",
      "/home/jp/Repositorios/UDEA/InteligenciaArtificial-UdeA20251/.venv/lib/python3.12/site-packages/xgboost/core.py:2676: UserWarning: [14:29:15] WARNING: /workspace/src/common/error_msg.cc:27: The tree method `gpu_hist` is deprecated since 2.0.0. To use GPU training, set the `device` parameter to CUDA instead.\n",
      "\n",
      "    E.g. tree_method = \"hist\", device = \"cuda\"\n",
      "\n",
      "  if len(data.shape) != 1 and self.num_features() != data.shape[1]:\n"
     ]
    },
    {
     "name": "stdout",
     "output_type": "stream",
     "text": [
      "[CV] END colsample_bytree=0.95, gamma=0.2, learning_rate=0.1, max_depth=3, min_child_weight=5, n_estimators=800, reg_alpha=0, reg_lambda=2, subsample=1.0; total time=  21.5s\n"
     ]
    },
    {
     "name": "stderr",
     "output_type": "stream",
     "text": [
      "/home/jp/Repositorios/UDEA/InteligenciaArtificial-UdeA20251/.venv/lib/python3.12/site-packages/xgboost/training.py:183: UserWarning: [14:29:15] WARNING: /workspace/src/common/error_msg.cc:27: The tree method `gpu_hist` is deprecated since 2.0.0. To use GPU training, set the `device` parameter to CUDA instead.\n",
      "\n",
      "    E.g. tree_method = \"hist\", device = \"cuda\"\n",
      "\n",
      "  bst.update(dtrain, iteration=i, fobj=obj)\n",
      "/home/jp/Repositorios/UDEA/InteligenciaArtificial-UdeA20251/.venv/lib/python3.12/site-packages/xgboost/core.py:2676: UserWarning: [14:29:24] WARNING: /workspace/src/common/error_msg.cc:27: The tree method `gpu_hist` is deprecated since 2.0.0. To use GPU training, set the `device` parameter to CUDA instead.\n",
      "\n",
      "    E.g. tree_method = \"hist\", device = \"cuda\"\n",
      "\n",
      "  if len(data.shape) != 1 and self.num_features() != data.shape[1]:\n"
     ]
    },
    {
     "name": "stdout",
     "output_type": "stream",
     "text": [
      "[CV] END colsample_bytree=0.95, gamma=0.2, learning_rate=0.1, max_depth=3, min_child_weight=5, n_estimators=800, reg_alpha=0, reg_lambda=2, subsample=1.0; total time=  20.8s\n"
     ]
    },
    {
     "name": "stderr",
     "output_type": "stream",
     "text": [
      "/home/jp/Repositorios/UDEA/InteligenciaArtificial-UdeA20251/.venv/lib/python3.12/site-packages/xgboost/training.py:183: UserWarning: [14:29:25] WARNING: /workspace/src/common/error_msg.cc:27: The tree method `gpu_hist` is deprecated since 2.0.0. To use GPU training, set the `device` parameter to CUDA instead.\n",
      "\n",
      "    E.g. tree_method = \"hist\", device = \"cuda\"\n",
      "\n",
      "  bst.update(dtrain, iteration=i, fobj=obj)\n",
      "/home/jp/Repositorios/UDEA/InteligenciaArtificial-UdeA20251/.venv/lib/python3.12/site-packages/xgboost/core.py:2676: UserWarning: [14:29:35] WARNING: /workspace/src/common/error_msg.cc:27: The tree method `gpu_hist` is deprecated since 2.0.0. To use GPU training, set the `device` parameter to CUDA instead.\n",
      "\n",
      "    E.g. tree_method = \"hist\", device = \"cuda\"\n",
      "\n",
      "  if len(data.shape) != 1 and self.num_features() != data.shape[1]:\n"
     ]
    },
    {
     "name": "stdout",
     "output_type": "stream",
     "text": [
      "[CV] END colsample_bytree=0.95, gamma=0.2, learning_rate=0.1, max_depth=3, min_child_weight=5, n_estimators=800, reg_alpha=0, reg_lambda=2, subsample=1.0; total time=  20.1s\n"
     ]
    },
    {
     "name": "stderr",
     "output_type": "stream",
     "text": [
      "/home/jp/Repositorios/UDEA/InteligenciaArtificial-UdeA20251/.venv/lib/python3.12/site-packages/xgboost/training.py:183: UserWarning: [14:29:36] WARNING: /workspace/src/common/error_msg.cc:27: The tree method `gpu_hist` is deprecated since 2.0.0. To use GPU training, set the `device` parameter to CUDA instead.\n",
      "\n",
      "    E.g. tree_method = \"hist\", device = \"cuda\"\n",
      "\n",
      "  bst.update(dtrain, iteration=i, fobj=obj)\n",
      "/home/jp/Repositorios/UDEA/InteligenciaArtificial-UdeA20251/.venv/lib/python3.12/site-packages/xgboost/core.py:2676: UserWarning: [14:29:43] WARNING: /workspace/src/common/error_msg.cc:27: The tree method `gpu_hist` is deprecated since 2.0.0. To use GPU training, set the `device` parameter to CUDA instead.\n",
      "\n",
      "    E.g. tree_method = \"hist\", device = \"cuda\"\n",
      "\n",
      "  if len(data.shape) != 1 and self.num_features() != data.shape[1]:\n"
     ]
    },
    {
     "name": "stdout",
     "output_type": "stream",
     "text": [
      "[CV] END colsample_bytree=0.95, gamma=0.2, learning_rate=0.1, max_depth=3, min_child_weight=5, n_estimators=800, reg_alpha=0, reg_lambda=2, subsample=1.0; total time=  19.2s\n"
     ]
    },
    {
     "name": "stderr",
     "output_type": "stream",
     "text": [
      "/home/jp/Repositorios/UDEA/InteligenciaArtificial-UdeA20251/.venv/lib/python3.12/site-packages/xgboost/training.py:183: UserWarning: [14:29:44] WARNING: /workspace/src/common/error_msg.cc:27: The tree method `gpu_hist` is deprecated since 2.0.0. To use GPU training, set the `device` parameter to CUDA instead.\n",
      "\n",
      "    E.g. tree_method = \"hist\", device = \"cuda\"\n",
      "\n",
      "  bst.update(dtrain, iteration=i, fobj=obj)\n",
      "/home/jp/Repositorios/UDEA/InteligenciaArtificial-UdeA20251/.venv/lib/python3.12/site-packages/xgboost/core.py:2676: UserWarning: [14:29:53] WARNING: /workspace/src/common/error_msg.cc:27: The tree method `gpu_hist` is deprecated since 2.0.0. To use GPU training, set the `device` parameter to CUDA instead.\n",
      "\n",
      "    E.g. tree_method = \"hist\", device = \"cuda\"\n",
      "\n",
      "  if len(data.shape) != 1 and self.num_features() != data.shape[1]:\n"
     ]
    },
    {
     "name": "stdout",
     "output_type": "stream",
     "text": [
      "[CV] END colsample_bytree=0.95, gamma=0.3, learning_rate=0.15, max_depth=5, min_child_weight=3, n_estimators=300, reg_alpha=0, reg_lambda=1, subsample=0.8; total time=   9.9s\n"
     ]
    },
    {
     "name": "stderr",
     "output_type": "stream",
     "text": [
      "/home/jp/Repositorios/UDEA/InteligenciaArtificial-UdeA20251/.venv/lib/python3.12/site-packages/xgboost/training.py:183: UserWarning: [14:29:54] WARNING: /workspace/src/common/error_msg.cc:27: The tree method `gpu_hist` is deprecated since 2.0.0. To use GPU training, set the `device` parameter to CUDA instead.\n",
      "\n",
      "    E.g. tree_method = \"hist\", device = \"cuda\"\n",
      "\n",
      "  bst.update(dtrain, iteration=i, fobj=obj)\n",
      "/home/jp/Repositorios/UDEA/InteligenciaArtificial-UdeA20251/.venv/lib/python3.12/site-packages/xgboost/core.py:2676: UserWarning: [14:29:54] WARNING: /workspace/src/common/error_msg.cc:27: The tree method `gpu_hist` is deprecated since 2.0.0. To use GPU training, set the `device` parameter to CUDA instead.\n",
      "\n",
      "    E.g. tree_method = \"hist\", device = \"cuda\"\n",
      "\n",
      "  if len(data.shape) != 1 and self.num_features() != data.shape[1]:\n"
     ]
    },
    {
     "name": "stdout",
     "output_type": "stream",
     "text": [
      "[CV] END colsample_bytree=0.95, gamma=0.2, learning_rate=0.1, max_depth=3, min_child_weight=5, n_estimators=800, reg_alpha=0, reg_lambda=2, subsample=1.0; total time=  18.9s\n"
     ]
    },
    {
     "name": "stderr",
     "output_type": "stream",
     "text": [
      "/home/jp/Repositorios/UDEA/InteligenciaArtificial-UdeA20251/.venv/lib/python3.12/site-packages/xgboost/training.py:183: UserWarning: [14:29:54] WARNING: /workspace/src/common/error_msg.cc:27: The tree method `gpu_hist` is deprecated since 2.0.0. To use GPU training, set the `device` parameter to CUDA instead.\n",
      "\n",
      "    E.g. tree_method = \"hist\", device = \"cuda\"\n",
      "\n",
      "  bst.update(dtrain, iteration=i, fobj=obj)\n",
      "/home/jp/Repositorios/UDEA/InteligenciaArtificial-UdeA20251/.venv/lib/python3.12/site-packages/xgboost/core.py:2676: UserWarning: [14:30:04] WARNING: /workspace/src/common/error_msg.cc:27: The tree method `gpu_hist` is deprecated since 2.0.0. To use GPU training, set the `device` parameter to CUDA instead.\n",
      "\n",
      "    E.g. tree_method = \"hist\", device = \"cuda\"\n",
      "\n",
      "  if len(data.shape) != 1 and self.num_features() != data.shape[1]:\n"
     ]
    },
    {
     "name": "stdout",
     "output_type": "stream",
     "text": [
      "[CV] END colsample_bytree=0.95, gamma=0.3, learning_rate=0.15, max_depth=5, min_child_weight=3, n_estimators=300, reg_alpha=0, reg_lambda=1, subsample=0.8; total time=  11.0s\n"
     ]
    },
    {
     "name": "stderr",
     "output_type": "stream",
     "text": [
      "/home/jp/Repositorios/UDEA/InteligenciaArtificial-UdeA20251/.venv/lib/python3.12/site-packages/xgboost/training.py:183: UserWarning: [14:30:05] WARNING: /workspace/src/common/error_msg.cc:27: The tree method `gpu_hist` is deprecated since 2.0.0. To use GPU training, set the `device` parameter to CUDA instead.\n",
      "\n",
      "    E.g. tree_method = \"hist\", device = \"cuda\"\n",
      "\n",
      "  bst.update(dtrain, iteration=i, fobj=obj)\n",
      "/home/jp/Repositorios/UDEA/InteligenciaArtificial-UdeA20251/.venv/lib/python3.12/site-packages/xgboost/core.py:2676: UserWarning: [14:30:05] WARNING: /workspace/src/common/error_msg.cc:27: The tree method `gpu_hist` is deprecated since 2.0.0. To use GPU training, set the `device` parameter to CUDA instead.\n",
      "\n",
      "    E.g. tree_method = \"hist\", device = \"cuda\"\n",
      "\n",
      "  if len(data.shape) != 1 and self.num_features() != data.shape[1]:\n"
     ]
    },
    {
     "name": "stdout",
     "output_type": "stream",
     "text": [
      "[CV] END colsample_bytree=0.95, gamma=0.3, learning_rate=0.15, max_depth=5, min_child_weight=3, n_estimators=300, reg_alpha=0, reg_lambda=1, subsample=0.8; total time=  11.0s\n"
     ]
    },
    {
     "name": "stderr",
     "output_type": "stream",
     "text": [
      "/home/jp/Repositorios/UDEA/InteligenciaArtificial-UdeA20251/.venv/lib/python3.12/site-packages/xgboost/training.py:183: UserWarning: [14:30:05] WARNING: /workspace/src/common/error_msg.cc:27: The tree method `gpu_hist` is deprecated since 2.0.0. To use GPU training, set the `device` parameter to CUDA instead.\n",
      "\n",
      "    E.g. tree_method = \"hist\", device = \"cuda\"\n",
      "\n",
      "  bst.update(dtrain, iteration=i, fobj=obj)\n",
      "/home/jp/Repositorios/UDEA/InteligenciaArtificial-UdeA20251/.venv/lib/python3.12/site-packages/xgboost/core.py:2676: UserWarning: [14:30:15] WARNING: /workspace/src/common/error_msg.cc:27: The tree method `gpu_hist` is deprecated since 2.0.0. To use GPU training, set the `device` parameter to CUDA instead.\n",
      "\n",
      "    E.g. tree_method = \"hist\", device = \"cuda\"\n",
      "\n",
      "  if len(data.shape) != 1 and self.num_features() != data.shape[1]:\n"
     ]
    },
    {
     "name": "stdout",
     "output_type": "stream",
     "text": [
      "[CV] END colsample_bytree=0.95, gamma=0.3, learning_rate=0.15, max_depth=5, min_child_weight=3, n_estimators=300, reg_alpha=0, reg_lambda=1, subsample=0.8; total time=  10.4s\n"
     ]
    },
    {
     "name": "stderr",
     "output_type": "stream",
     "text": [
      "/home/jp/Repositorios/UDEA/InteligenciaArtificial-UdeA20251/.venv/lib/python3.12/site-packages/xgboost/training.py:183: UserWarning: [14:30:15] WARNING: /workspace/src/common/error_msg.cc:27: The tree method `gpu_hist` is deprecated since 2.0.0. To use GPU training, set the `device` parameter to CUDA instead.\n",
      "\n",
      "    E.g. tree_method = \"hist\", device = \"cuda\"\n",
      "\n",
      "  bst.update(dtrain, iteration=i, fobj=obj)\n",
      "/home/jp/Repositorios/UDEA/InteligenciaArtificial-UdeA20251/.venv/lib/python3.12/site-packages/xgboost/core.py:2676: UserWarning: [14:30:15] WARNING: /workspace/src/common/error_msg.cc:27: The tree method `gpu_hist` is deprecated since 2.0.0. To use GPU training, set the `device` parameter to CUDA instead.\n",
      "\n",
      "    E.g. tree_method = \"hist\", device = \"cuda\"\n",
      "\n",
      "  if len(data.shape) != 1 and self.num_features() != data.shape[1]:\n"
     ]
    },
    {
     "name": "stdout",
     "output_type": "stream",
     "text": [
      "[CV] END colsample_bytree=0.95, gamma=0.3, learning_rate=0.15, max_depth=5, min_child_weight=3, n_estimators=300, reg_alpha=0, reg_lambda=1, subsample=0.8; total time=  10.2s\n"
     ]
    },
    {
     "name": "stderr",
     "output_type": "stream",
     "text": [
      "/home/jp/Repositorios/UDEA/InteligenciaArtificial-UdeA20251/.venv/lib/python3.12/site-packages/xgboost/training.py:183: UserWarning: [14:30:16] WARNING: /workspace/src/common/error_msg.cc:27: The tree method `gpu_hist` is deprecated since 2.0.0. To use GPU training, set the `device` parameter to CUDA instead.\n",
      "\n",
      "    E.g. tree_method = \"hist\", device = \"cuda\"\n",
      "\n",
      "  bst.update(dtrain, iteration=i, fobj=obj)\n",
      "/home/jp/Repositorios/UDEA/InteligenciaArtificial-UdeA20251/.venv/lib/python3.12/site-packages/xgboost/core.py:2676: UserWarning: [14:30:25] WARNING: /workspace/src/common/error_msg.cc:27: The tree method `gpu_hist` is deprecated since 2.0.0. To use GPU training, set the `device` parameter to CUDA instead.\n",
      "\n",
      "    E.g. tree_method = \"hist\", device = \"cuda\"\n",
      "\n",
      "  if len(data.shape) != 1 and self.num_features() != data.shape[1]:\n"
     ]
    },
    {
     "name": "stdout",
     "output_type": "stream",
     "text": [
      "[CV] END colsample_bytree=0.8, gamma=0.1, learning_rate=0.1, max_depth=5, min_child_weight=1, n_estimators=300, reg_alpha=0, reg_lambda=1, subsample=1.0; total time=   9.8s\n"
     ]
    },
    {
     "name": "stderr",
     "output_type": "stream",
     "text": [
      "/home/jp/Repositorios/UDEA/InteligenciaArtificial-UdeA20251/.venv/lib/python3.12/site-packages/xgboost/training.py:183: UserWarning: [14:30:25] WARNING: /workspace/src/common/error_msg.cc:27: The tree method `gpu_hist` is deprecated since 2.0.0. To use GPU training, set the `device` parameter to CUDA instead.\n",
      "\n",
      "    E.g. tree_method = \"hist\", device = \"cuda\"\n",
      "\n",
      "  bst.update(dtrain, iteration=i, fobj=obj)\n",
      "/home/jp/Repositorios/UDEA/InteligenciaArtificial-UdeA20251/.venv/lib/python3.12/site-packages/xgboost/core.py:2676: UserWarning: [14:30:25] WARNING: /workspace/src/common/error_msg.cc:27: The tree method `gpu_hist` is deprecated since 2.0.0. To use GPU training, set the `device` parameter to CUDA instead.\n",
      "\n",
      "    E.g. tree_method = \"hist\", device = \"cuda\"\n",
      "\n",
      "  if len(data.shape) != 1 and self.num_features() != data.shape[1]:\n"
     ]
    },
    {
     "name": "stdout",
     "output_type": "stream",
     "text": [
      "[CV] END colsample_bytree=0.8, gamma=0.1, learning_rate=0.1, max_depth=5, min_child_weight=1, n_estimators=300, reg_alpha=0, reg_lambda=1, subsample=1.0; total time=   9.8s\n"
     ]
    },
    {
     "name": "stderr",
     "output_type": "stream",
     "text": [
      "/home/jp/Repositorios/UDEA/InteligenciaArtificial-UdeA20251/.venv/lib/python3.12/site-packages/xgboost/training.py:183: UserWarning: [14:30:25] WARNING: /workspace/src/common/error_msg.cc:27: The tree method `gpu_hist` is deprecated since 2.0.0. To use GPU training, set the `device` parameter to CUDA instead.\n",
      "\n",
      "    E.g. tree_method = \"hist\", device = \"cuda\"\n",
      "\n",
      "  bst.update(dtrain, iteration=i, fobj=obj)\n",
      "/home/jp/Repositorios/UDEA/InteligenciaArtificial-UdeA20251/.venv/lib/python3.12/site-packages/xgboost/core.py:2676: UserWarning: [14:30:35] WARNING: /workspace/src/common/error_msg.cc:27: The tree method `gpu_hist` is deprecated since 2.0.0. To use GPU training, set the `device` parameter to CUDA instead.\n",
      "\n",
      "    E.g. tree_method = \"hist\", device = \"cuda\"\n",
      "\n",
      "  if len(data.shape) != 1 and self.num_features() != data.shape[1]:\n"
     ]
    },
    {
     "name": "stdout",
     "output_type": "stream",
     "text": [
      "[CV] END colsample_bytree=0.8, gamma=0.1, learning_rate=0.1, max_depth=5, min_child_weight=1, n_estimators=300, reg_alpha=0, reg_lambda=1, subsample=1.0; total time=  10.1s\n"
     ]
    },
    {
     "name": "stderr",
     "output_type": "stream",
     "text": [
      "/home/jp/Repositorios/UDEA/InteligenciaArtificial-UdeA20251/.venv/lib/python3.12/site-packages/xgboost/training.py:183: UserWarning: [14:30:35] WARNING: /workspace/src/common/error_msg.cc:27: The tree method `gpu_hist` is deprecated since 2.0.0. To use GPU training, set the `device` parameter to CUDA instead.\n",
      "\n",
      "    E.g. tree_method = \"hist\", device = \"cuda\"\n",
      "\n",
      "  bst.update(dtrain, iteration=i, fobj=obj)\n",
      "/home/jp/Repositorios/UDEA/InteligenciaArtificial-UdeA20251/.venv/lib/python3.12/site-packages/xgboost/core.py:2676: UserWarning: [14:30:35] WARNING: /workspace/src/common/error_msg.cc:27: The tree method `gpu_hist` is deprecated since 2.0.0. To use GPU training, set the `device` parameter to CUDA instead.\n",
      "\n",
      "    E.g. tree_method = \"hist\", device = \"cuda\"\n",
      "\n",
      "  if len(data.shape) != 1 and self.num_features() != data.shape[1]:\n"
     ]
    },
    {
     "name": "stdout",
     "output_type": "stream",
     "text": [
      "[CV] END colsample_bytree=0.8, gamma=0.1, learning_rate=0.1, max_depth=5, min_child_weight=1, n_estimators=300, reg_alpha=0, reg_lambda=1, subsample=1.0; total time=  10.1s\n"
     ]
    },
    {
     "name": "stderr",
     "output_type": "stream",
     "text": [
      "/home/jp/Repositorios/UDEA/InteligenciaArtificial-UdeA20251/.venv/lib/python3.12/site-packages/xgboost/training.py:183: UserWarning: [14:30:36] WARNING: /workspace/src/common/error_msg.cc:27: The tree method `gpu_hist` is deprecated since 2.0.0. To use GPU training, set the `device` parameter to CUDA instead.\n",
      "\n",
      "    E.g. tree_method = \"hist\", device = \"cuda\"\n",
      "\n",
      "  bst.update(dtrain, iteration=i, fobj=obj)\n",
      "/home/jp/Repositorios/UDEA/InteligenciaArtificial-UdeA20251/.venv/lib/python3.12/site-packages/xgboost/core.py:2676: UserWarning: [14:30:44] WARNING: /workspace/src/common/error_msg.cc:27: The tree method `gpu_hist` is deprecated since 2.0.0. To use GPU training, set the `device` parameter to CUDA instead.\n",
      "\n",
      "    E.g. tree_method = \"hist\", device = \"cuda\"\n",
      "\n",
      "  if len(data.shape) != 1 and self.num_features() != data.shape[1]:\n"
     ]
    },
    {
     "name": "stdout",
     "output_type": "stream",
     "text": [
      "[CV] END colsample_bytree=0.8, gamma=0.3, learning_rate=0.2, max_depth=3, min_child_weight=1, n_estimators=300, reg_alpha=0.01, reg_lambda=1, subsample=0.95; total time=   8.4s\n"
     ]
    },
    {
     "name": "stderr",
     "output_type": "stream",
     "text": [
      "/home/jp/Repositorios/UDEA/InteligenciaArtificial-UdeA20251/.venv/lib/python3.12/site-packages/xgboost/training.py:183: UserWarning: [14:30:44] WARNING: /workspace/src/common/error_msg.cc:27: The tree method `gpu_hist` is deprecated since 2.0.0. To use GPU training, set the `device` parameter to CUDA instead.\n",
      "\n",
      "    E.g. tree_method = \"hist\", device = \"cuda\"\n",
      "\n",
      "  bst.update(dtrain, iteration=i, fobj=obj)\n",
      "/home/jp/Repositorios/UDEA/InteligenciaArtificial-UdeA20251/.venv/lib/python3.12/site-packages/xgboost/core.py:2676: UserWarning: [14:30:45] WARNING: /workspace/src/common/error_msg.cc:27: The tree method `gpu_hist` is deprecated since 2.0.0. To use GPU training, set the `device` parameter to CUDA instead.\n",
      "\n",
      "    E.g. tree_method = \"hist\", device = \"cuda\"\n",
      "\n",
      "  if len(data.shape) != 1 and self.num_features() != data.shape[1]:\n"
     ]
    },
    {
     "name": "stdout",
     "output_type": "stream",
     "text": [
      "[CV] END colsample_bytree=0.8, gamma=0.1, learning_rate=0.1, max_depth=5, min_child_weight=1, n_estimators=300, reg_alpha=0, reg_lambda=1, subsample=1.0; total time=  10.0s\n"
     ]
    },
    {
     "name": "stderr",
     "output_type": "stream",
     "text": [
      "/home/jp/Repositorios/UDEA/InteligenciaArtificial-UdeA20251/.venv/lib/python3.12/site-packages/xgboost/training.py:183: UserWarning: [14:30:45] WARNING: /workspace/src/common/error_msg.cc:27: The tree method `gpu_hist` is deprecated since 2.0.0. To use GPU training, set the `device` parameter to CUDA instead.\n",
      "\n",
      "    E.g. tree_method = \"hist\", device = \"cuda\"\n",
      "\n",
      "  bst.update(dtrain, iteration=i, fobj=obj)\n",
      "/home/jp/Repositorios/UDEA/InteligenciaArtificial-UdeA20251/.venv/lib/python3.12/site-packages/xgboost/core.py:2676: UserWarning: [14:30:52] WARNING: /workspace/src/common/error_msg.cc:27: The tree method `gpu_hist` is deprecated since 2.0.0. To use GPU training, set the `device` parameter to CUDA instead.\n",
      "\n",
      "    E.g. tree_method = \"hist\", device = \"cuda\"\n",
      "\n",
      "  if len(data.shape) != 1 and self.num_features() != data.shape[1]:\n"
     ]
    },
    {
     "name": "stdout",
     "output_type": "stream",
     "text": [
      "[CV] END colsample_bytree=0.8, gamma=0.3, learning_rate=0.2, max_depth=3, min_child_weight=1, n_estimators=300, reg_alpha=0.01, reg_lambda=1, subsample=0.95; total time=   8.0s\n"
     ]
    },
    {
     "name": "stderr",
     "output_type": "stream",
     "text": [
      "/home/jp/Repositorios/UDEA/InteligenciaArtificial-UdeA20251/.venv/lib/python3.12/site-packages/xgboost/training.py:183: UserWarning: [14:30:52] WARNING: /workspace/src/common/error_msg.cc:27: The tree method `gpu_hist` is deprecated since 2.0.0. To use GPU training, set the `device` parameter to CUDA instead.\n",
      "\n",
      "    E.g. tree_method = \"hist\", device = \"cuda\"\n",
      "\n",
      "  bst.update(dtrain, iteration=i, fobj=obj)\n",
      "/home/jp/Repositorios/UDEA/InteligenciaArtificial-UdeA20251/.venv/lib/python3.12/site-packages/xgboost/core.py:2676: UserWarning: [14:30:53] WARNING: /workspace/src/common/error_msg.cc:27: The tree method `gpu_hist` is deprecated since 2.0.0. To use GPU training, set the `device` parameter to CUDA instead.\n",
      "\n",
      "    E.g. tree_method = \"hist\", device = \"cuda\"\n",
      "\n",
      "  if len(data.shape) != 1 and self.num_features() != data.shape[1]:\n"
     ]
    },
    {
     "name": "stdout",
     "output_type": "stream",
     "text": [
      "[CV] END colsample_bytree=0.8, gamma=0.3, learning_rate=0.2, max_depth=3, min_child_weight=1, n_estimators=300, reg_alpha=0.01, reg_lambda=1, subsample=0.95; total time=   8.2s\n"
     ]
    },
    {
     "name": "stderr",
     "output_type": "stream",
     "text": [
      "/home/jp/Repositorios/UDEA/InteligenciaArtificial-UdeA20251/.venv/lib/python3.12/site-packages/xgboost/training.py:183: UserWarning: [14:30:53] WARNING: /workspace/src/common/error_msg.cc:27: The tree method `gpu_hist` is deprecated since 2.0.0. To use GPU training, set the `device` parameter to CUDA instead.\n",
      "\n",
      "    E.g. tree_method = \"hist\", device = \"cuda\"\n",
      "\n",
      "  bst.update(dtrain, iteration=i, fobj=obj)\n",
      "/home/jp/Repositorios/UDEA/InteligenciaArtificial-UdeA20251/.venv/lib/python3.12/site-packages/xgboost/core.py:2676: UserWarning: [14:31:00] WARNING: /workspace/src/common/error_msg.cc:27: The tree method `gpu_hist` is deprecated since 2.0.0. To use GPU training, set the `device` parameter to CUDA instead.\n",
      "\n",
      "    E.g. tree_method = \"hist\", device = \"cuda\"\n",
      "\n",
      "  if len(data.shape) != 1 and self.num_features() != data.shape[1]:\n"
     ]
    },
    {
     "name": "stdout",
     "output_type": "stream",
     "text": [
      "[CV] END colsample_bytree=0.8, gamma=0.3, learning_rate=0.2, max_depth=3, min_child_weight=1, n_estimators=300, reg_alpha=0.01, reg_lambda=1, subsample=0.95; total time=   8.1s\n"
     ]
    },
    {
     "name": "stderr",
     "output_type": "stream",
     "text": [
      "/home/jp/Repositorios/UDEA/InteligenciaArtificial-UdeA20251/.venv/lib/python3.12/site-packages/xgboost/training.py:183: UserWarning: [14:31:00] WARNING: /workspace/src/common/error_msg.cc:27: The tree method `gpu_hist` is deprecated since 2.0.0. To use GPU training, set the `device` parameter to CUDA instead.\n",
      "\n",
      "    E.g. tree_method = \"hist\", device = \"cuda\"\n",
      "\n",
      "  bst.update(dtrain, iteration=i, fobj=obj)\n",
      "/home/jp/Repositorios/UDEA/InteligenciaArtificial-UdeA20251/.venv/lib/python3.12/site-packages/xgboost/core.py:2676: UserWarning: [14:31:01] WARNING: /workspace/src/common/error_msg.cc:27: The tree method `gpu_hist` is deprecated since 2.0.0. To use GPU training, set the `device` parameter to CUDA instead.\n",
      "\n",
      "    E.g. tree_method = \"hist\", device = \"cuda\"\n",
      "\n",
      "  if len(data.shape) != 1 and self.num_features() != data.shape[1]:\n"
     ]
    },
    {
     "name": "stdout",
     "output_type": "stream",
     "text": [
      "[CV] END colsample_bytree=0.8, gamma=0.3, learning_rate=0.2, max_depth=3, min_child_weight=1, n_estimators=300, reg_alpha=0.01, reg_lambda=1, subsample=0.95; total time=   8.2s\n"
     ]
    },
    {
     "name": "stderr",
     "output_type": "stream",
     "text": [
      "/home/jp/Repositorios/UDEA/InteligenciaArtificial-UdeA20251/.venv/lib/python3.12/site-packages/xgboost/training.py:183: UserWarning: [14:31:02] WARNING: /workspace/src/common/error_msg.cc:27: The tree method `gpu_hist` is deprecated since 2.0.0. To use GPU training, set the `device` parameter to CUDA instead.\n",
      "\n",
      "    E.g. tree_method = \"hist\", device = \"cuda\"\n",
      "\n",
      "  bst.update(dtrain, iteration=i, fobj=obj)\n",
      "/home/jp/Repositorios/UDEA/InteligenciaArtificial-UdeA20251/.venv/lib/python3.12/site-packages/xgboost/core.py:2676: UserWarning: [14:31:22] WARNING: /workspace/src/common/error_msg.cc:27: The tree method `gpu_hist` is deprecated since 2.0.0. To use GPU training, set the `device` parameter to CUDA instead.\n",
      "\n",
      "    E.g. tree_method = \"hist\", device = \"cuda\"\n",
      "\n",
      "  if len(data.shape) != 1 and self.num_features() != data.shape[1]:\n"
     ]
    },
    {
     "name": "stdout",
     "output_type": "stream",
     "text": [
      "[CV] END colsample_bytree=0.9, gamma=0.2, learning_rate=0.05, max_depth=3, min_child_weight=3, n_estimators=800, reg_alpha=0, reg_lambda=2, subsample=0.9; total time=  21.8s\n"
     ]
    },
    {
     "name": "stderr",
     "output_type": "stream",
     "text": [
      "/home/jp/Repositorios/UDEA/InteligenciaArtificial-UdeA20251/.venv/lib/python3.12/site-packages/xgboost/training.py:183: UserWarning: [14:31:22] WARNING: /workspace/src/common/error_msg.cc:27: The tree method `gpu_hist` is deprecated since 2.0.0. To use GPU training, set the `device` parameter to CUDA instead.\n",
      "\n",
      "    E.g. tree_method = \"hist\", device = \"cuda\"\n",
      "\n",
      "  bst.update(dtrain, iteration=i, fobj=obj)\n",
      "/home/jp/Repositorios/UDEA/InteligenciaArtificial-UdeA20251/.venv/lib/python3.12/site-packages/xgboost/core.py:2676: UserWarning: [14:31:23] WARNING: /workspace/src/common/error_msg.cc:27: The tree method `gpu_hist` is deprecated since 2.0.0. To use GPU training, set the `device` parameter to CUDA instead.\n",
      "\n",
      "    E.g. tree_method = \"hist\", device = \"cuda\"\n",
      "\n",
      "  if len(data.shape) != 1 and self.num_features() != data.shape[1]:\n"
     ]
    },
    {
     "name": "stdout",
     "output_type": "stream",
     "text": [
      "[CV] END colsample_bytree=0.9, gamma=0.2, learning_rate=0.05, max_depth=3, min_child_weight=3, n_estimators=800, reg_alpha=0, reg_lambda=2, subsample=0.9; total time=  22.0s\n"
     ]
    },
    {
     "name": "stderr",
     "output_type": "stream",
     "text": [
      "/home/jp/Repositorios/UDEA/InteligenciaArtificial-UdeA20251/.venv/lib/python3.12/site-packages/xgboost/training.py:183: UserWarning: [14:31:24] WARNING: /workspace/src/common/error_msg.cc:27: The tree method `gpu_hist` is deprecated since 2.0.0. To use GPU training, set the `device` parameter to CUDA instead.\n",
      "\n",
      "    E.g. tree_method = \"hist\", device = \"cuda\"\n",
      "\n",
      "  bst.update(dtrain, iteration=i, fobj=obj)\n",
      "/home/jp/Repositorios/UDEA/InteligenciaArtificial-UdeA20251/.venv/lib/python3.12/site-packages/xgboost/core.py:2676: UserWarning: [14:31:43] WARNING: /workspace/src/common/error_msg.cc:27: The tree method `gpu_hist` is deprecated since 2.0.0. To use GPU training, set the `device` parameter to CUDA instead.\n",
      "\n",
      "    E.g. tree_method = \"hist\", device = \"cuda\"\n",
      "\n",
      "  if len(data.shape) != 1 and self.num_features() != data.shape[1]:\n"
     ]
    },
    {
     "name": "stdout",
     "output_type": "stream",
     "text": [
      "[CV] END colsample_bytree=0.9, gamma=0.2, learning_rate=0.05, max_depth=3, min_child_weight=3, n_estimators=800, reg_alpha=0, reg_lambda=2, subsample=0.9; total time=  21.7s\n"
     ]
    },
    {
     "name": "stderr",
     "output_type": "stream",
     "text": [
      "/home/jp/Repositorios/UDEA/InteligenciaArtificial-UdeA20251/.venv/lib/python3.12/site-packages/xgboost/training.py:183: UserWarning: [14:31:44] WARNING: /workspace/src/common/error_msg.cc:27: The tree method `gpu_hist` is deprecated since 2.0.0. To use GPU training, set the `device` parameter to CUDA instead.\n",
      "\n",
      "    E.g. tree_method = \"hist\", device = \"cuda\"\n",
      "\n",
      "  bst.update(dtrain, iteration=i, fobj=obj)\n",
      "/home/jp/Repositorios/UDEA/InteligenciaArtificial-UdeA20251/.venv/lib/python3.12/site-packages/xgboost/core.py:2676: UserWarning: [14:31:45] WARNING: /workspace/src/common/error_msg.cc:27: The tree method `gpu_hist` is deprecated since 2.0.0. To use GPU training, set the `device` parameter to CUDA instead.\n",
      "\n",
      "    E.g. tree_method = \"hist\", device = \"cuda\"\n",
      "\n",
      "  if len(data.shape) != 1 and self.num_features() != data.shape[1]:\n"
     ]
    },
    {
     "name": "stdout",
     "output_type": "stream",
     "text": [
      "[CV] END colsample_bytree=0.9, gamma=0.2, learning_rate=0.05, max_depth=3, min_child_weight=3, n_estimators=800, reg_alpha=0, reg_lambda=2, subsample=0.9; total time=  22.0s\n"
     ]
    },
    {
     "name": "stderr",
     "output_type": "stream",
     "text": [
      "/home/jp/Repositorios/UDEA/InteligenciaArtificial-UdeA20251/.venv/lib/python3.12/site-packages/xgboost/training.py:183: UserWarning: [14:31:45] WARNING: /workspace/src/common/error_msg.cc:27: The tree method `gpu_hist` is deprecated since 2.0.0. To use GPU training, set the `device` parameter to CUDA instead.\n",
      "\n",
      "    E.g. tree_method = \"hist\", device = \"cuda\"\n",
      "\n",
      "  bst.update(dtrain, iteration=i, fobj=obj)\n",
      "/home/jp/Repositorios/UDEA/InteligenciaArtificial-UdeA20251/.venv/lib/python3.12/site-packages/xgboost/core.py:2676: UserWarning: [14:31:51] WARNING: /workspace/src/common/error_msg.cc:27: The tree method `gpu_hist` is deprecated since 2.0.0. To use GPU training, set the `device` parameter to CUDA instead.\n",
      "\n",
      "    E.g. tree_method = \"hist\", device = \"cuda\"\n",
      "\n",
      "  if len(data.shape) != 1 and self.num_features() != data.shape[1]:\n"
     ]
    },
    {
     "name": "stdout",
     "output_type": "stream",
     "text": [
      "[CV] END colsample_bytree=0.9, gamma=0.2, learning_rate=0.01, max_depth=3, min_child_weight=1, n_estimators=200, reg_alpha=0.01, reg_lambda=2, subsample=0.8; total time=   6.0s\n"
     ]
    },
    {
     "name": "stderr",
     "output_type": "stream",
     "text": [
      "/home/jp/Repositorios/UDEA/InteligenciaArtificial-UdeA20251/.venv/lib/python3.12/site-packages/xgboost/training.py:183: UserWarning: [14:31:51] WARNING: /workspace/src/common/error_msg.cc:27: The tree method `gpu_hist` is deprecated since 2.0.0. To use GPU training, set the `device` parameter to CUDA instead.\n",
      "\n",
      "    E.g. tree_method = \"hist\", device = \"cuda\"\n",
      "\n",
      "  bst.update(dtrain, iteration=i, fobj=obj)\n",
      "/home/jp/Repositorios/UDEA/InteligenciaArtificial-UdeA20251/.venv/lib/python3.12/site-packages/xgboost/core.py:2676: UserWarning: [14:31:57] WARNING: /workspace/src/common/error_msg.cc:27: The tree method `gpu_hist` is deprecated since 2.0.0. To use GPU training, set the `device` parameter to CUDA instead.\n",
      "\n",
      "    E.g. tree_method = \"hist\", device = \"cuda\"\n",
      "\n",
      "  if len(data.shape) != 1 and self.num_features() != data.shape[1]:\n"
     ]
    },
    {
     "name": "stdout",
     "output_type": "stream",
     "text": [
      "[CV] END colsample_bytree=0.9, gamma=0.2, learning_rate=0.01, max_depth=3, min_child_weight=1, n_estimators=200, reg_alpha=0.01, reg_lambda=2, subsample=0.8; total time=   5.9s\n"
     ]
    },
    {
     "name": "stderr",
     "output_type": "stream",
     "text": [
      "/home/jp/Repositorios/UDEA/InteligenciaArtificial-UdeA20251/.venv/lib/python3.12/site-packages/xgboost/training.py:183: UserWarning: [14:31:57] WARNING: /workspace/src/common/error_msg.cc:27: The tree method `gpu_hist` is deprecated since 2.0.0. To use GPU training, set the `device` parameter to CUDA instead.\n",
      "\n",
      "    E.g. tree_method = \"hist\", device = \"cuda\"\n",
      "\n",
      "  bst.update(dtrain, iteration=i, fobj=obj)\n",
      "/home/jp/Repositorios/UDEA/InteligenciaArtificial-UdeA20251/.venv/lib/python3.12/site-packages/xgboost/core.py:2676: UserWarning: [14:32:03] WARNING: /workspace/src/common/error_msg.cc:27: The tree method `gpu_hist` is deprecated since 2.0.0. To use GPU training, set the `device` parameter to CUDA instead.\n",
      "\n",
      "    E.g. tree_method = \"hist\", device = \"cuda\"\n",
      "\n",
      "  if len(data.shape) != 1 and self.num_features() != data.shape[1]:\n"
     ]
    },
    {
     "name": "stdout",
     "output_type": "stream",
     "text": [
      "[CV] END colsample_bytree=0.9, gamma=0.2, learning_rate=0.01, max_depth=3, min_child_weight=1, n_estimators=200, reg_alpha=0.01, reg_lambda=2, subsample=0.8; total time=   6.0s\n"
     ]
    },
    {
     "name": "stderr",
     "output_type": "stream",
     "text": [
      "/home/jp/Repositorios/UDEA/InteligenciaArtificial-UdeA20251/.venv/lib/python3.12/site-packages/xgboost/training.py:183: UserWarning: [14:32:03] WARNING: /workspace/src/common/error_msg.cc:27: The tree method `gpu_hist` is deprecated since 2.0.0. To use GPU training, set the `device` parameter to CUDA instead.\n",
      "\n",
      "    E.g. tree_method = \"hist\", device = \"cuda\"\n",
      "\n",
      "  bst.update(dtrain, iteration=i, fobj=obj)\n",
      "/home/jp/Repositorios/UDEA/InteligenciaArtificial-UdeA20251/.venv/lib/python3.12/site-packages/xgboost/core.py:2676: UserWarning: [14:32:05] WARNING: /workspace/src/common/error_msg.cc:27: The tree method `gpu_hist` is deprecated since 2.0.0. To use GPU training, set the `device` parameter to CUDA instead.\n",
      "\n",
      "    E.g. tree_method = \"hist\", device = \"cuda\"\n",
      "\n",
      "  if len(data.shape) != 1 and self.num_features() != data.shape[1]:\n"
     ]
    },
    {
     "name": "stdout",
     "output_type": "stream",
     "text": [
      "[CV] END colsample_bytree=0.9, gamma=0.2, learning_rate=0.05, max_depth=3, min_child_weight=3, n_estimators=800, reg_alpha=0, reg_lambda=2, subsample=0.9; total time=  21.5s\n"
     ]
    },
    {
     "name": "stderr",
     "output_type": "stream",
     "text": [
      "/home/jp/Repositorios/UDEA/InteligenciaArtificial-UdeA20251/.venv/lib/python3.12/site-packages/xgboost/training.py:183: UserWarning: [14:32:05] WARNING: /workspace/src/common/error_msg.cc:27: The tree method `gpu_hist` is deprecated since 2.0.0. To use GPU training, set the `device` parameter to CUDA instead.\n",
      "\n",
      "    E.g. tree_method = \"hist\", device = \"cuda\"\n",
      "\n",
      "  bst.update(dtrain, iteration=i, fobj=obj)\n",
      "/home/jp/Repositorios/UDEA/InteligenciaArtificial-UdeA20251/.venv/lib/python3.12/site-packages/xgboost/core.py:2676: UserWarning: [14:32:09] WARNING: /workspace/src/common/error_msg.cc:27: The tree method `gpu_hist` is deprecated since 2.0.0. To use GPU training, set the `device` parameter to CUDA instead.\n",
      "\n",
      "    E.g. tree_method = \"hist\", device = \"cuda\"\n",
      "\n",
      "  if len(data.shape) != 1 and self.num_features() != data.shape[1]:\n"
     ]
    },
    {
     "name": "stdout",
     "output_type": "stream",
     "text": [
      "[CV] END colsample_bytree=0.9, gamma=0.2, learning_rate=0.01, max_depth=3, min_child_weight=1, n_estimators=200, reg_alpha=0.01, reg_lambda=2, subsample=0.8; total time=   5.6s\n"
     ]
    },
    {
     "name": "stderr",
     "output_type": "stream",
     "text": [
      "/home/jp/Repositorios/UDEA/InteligenciaArtificial-UdeA20251/.venv/lib/python3.12/site-packages/xgboost/training.py:183: UserWarning: [14:32:09] WARNING: /workspace/src/common/error_msg.cc:27: The tree method `gpu_hist` is deprecated since 2.0.0. To use GPU training, set the `device` parameter to CUDA instead.\n",
      "\n",
      "    E.g. tree_method = \"hist\", device = \"cuda\"\n",
      "\n",
      "  bst.update(dtrain, iteration=i, fobj=obj)\n",
      "/home/jp/Repositorios/UDEA/InteligenciaArtificial-UdeA20251/.venv/lib/python3.12/site-packages/xgboost/core.py:2676: UserWarning: [14:32:11] WARNING: /workspace/src/common/error_msg.cc:27: The tree method `gpu_hist` is deprecated since 2.0.0. To use GPU training, set the `device` parameter to CUDA instead.\n",
      "\n",
      "    E.g. tree_method = \"hist\", device = \"cuda\"\n",
      "\n",
      "  if len(data.shape) != 1 and self.num_features() != data.shape[1]:\n"
     ]
    },
    {
     "name": "stdout",
     "output_type": "stream",
     "text": [
      "[CV] END colsample_bytree=0.9, gamma=0.2, learning_rate=0.01, max_depth=3, min_child_weight=1, n_estimators=200, reg_alpha=0.01, reg_lambda=2, subsample=0.8; total time=   5.7s\n"
     ]
    },
    {
     "name": "stderr",
     "output_type": "stream",
     "text": [
      "/home/jp/Repositorios/UDEA/InteligenciaArtificial-UdeA20251/.venv/lib/python3.12/site-packages/xgboost/training.py:183: UserWarning: [14:32:11] WARNING: /workspace/src/common/error_msg.cc:27: The tree method `gpu_hist` is deprecated since 2.0.0. To use GPU training, set the `device` parameter to CUDA instead.\n",
      "\n",
      "    E.g. tree_method = \"hist\", device = \"cuda\"\n",
      "\n",
      "  bst.update(dtrain, iteration=i, fobj=obj)\n",
      "/home/jp/Repositorios/UDEA/InteligenciaArtificial-UdeA20251/.venv/lib/python3.12/site-packages/xgboost/core.py:2676: UserWarning: [14:32:19] WARNING: /workspace/src/common/error_msg.cc:27: The tree method `gpu_hist` is deprecated since 2.0.0. To use GPU training, set the `device` parameter to CUDA instead.\n",
      "\n",
      "    E.g. tree_method = \"hist\", device = \"cuda\"\n",
      "\n",
      "  if len(data.shape) != 1 and self.num_features() != data.shape[1]:\n"
     ]
    },
    {
     "name": "stdout",
     "output_type": "stream",
     "text": [
      "[CV] END colsample_bytree=0.8, gamma=0, learning_rate=0.01, max_depth=4, min_child_weight=5, n_estimators=300, reg_alpha=0.01, reg_lambda=1, subsample=0.9; total time=  10.2s\n"
     ]
    },
    {
     "name": "stderr",
     "output_type": "stream",
     "text": [
      "/home/jp/Repositorios/UDEA/InteligenciaArtificial-UdeA20251/.venv/lib/python3.12/site-packages/xgboost/training.py:183: UserWarning: [14:32:19] WARNING: /workspace/src/common/error_msg.cc:27: The tree method `gpu_hist` is deprecated since 2.0.0. To use GPU training, set the `device` parameter to CUDA instead.\n",
      "\n",
      "    E.g. tree_method = \"hist\", device = \"cuda\"\n",
      "\n",
      "  bst.update(dtrain, iteration=i, fobj=obj)\n",
      "/home/jp/Repositorios/UDEA/InteligenciaArtificial-UdeA20251/.venv/lib/python3.12/site-packages/xgboost/core.py:2676: UserWarning: [14:32:21] WARNING: /workspace/src/common/error_msg.cc:27: The tree method `gpu_hist` is deprecated since 2.0.0. To use GPU training, set the `device` parameter to CUDA instead.\n",
      "\n",
      "    E.g. tree_method = \"hist\", device = \"cuda\"\n",
      "\n",
      "  if len(data.shape) != 1 and self.num_features() != data.shape[1]:\n"
     ]
    },
    {
     "name": "stdout",
     "output_type": "stream",
     "text": [
      "[CV] END colsample_bytree=0.8, gamma=0, learning_rate=0.01, max_depth=4, min_child_weight=5, n_estimators=300, reg_alpha=0.01, reg_lambda=1, subsample=0.9; total time=  10.1s\n"
     ]
    },
    {
     "name": "stderr",
     "output_type": "stream",
     "text": [
      "/home/jp/Repositorios/UDEA/InteligenciaArtificial-UdeA20251/.venv/lib/python3.12/site-packages/xgboost/training.py:183: UserWarning: [14:32:21] WARNING: /workspace/src/common/error_msg.cc:27: The tree method `gpu_hist` is deprecated since 2.0.0. To use GPU training, set the `device` parameter to CUDA instead.\n",
      "\n",
      "    E.g. tree_method = \"hist\", device = \"cuda\"\n",
      "\n",
      "  bst.update(dtrain, iteration=i, fobj=obj)\n",
      "/home/jp/Repositorios/UDEA/InteligenciaArtificial-UdeA20251/.venv/lib/python3.12/site-packages/xgboost/core.py:2676: UserWarning: [14:32:29] WARNING: /workspace/src/common/error_msg.cc:27: The tree method `gpu_hist` is deprecated since 2.0.0. To use GPU training, set the `device` parameter to CUDA instead.\n",
      "\n",
      "    E.g. tree_method = \"hist\", device = \"cuda\"\n",
      "\n",
      "  if len(data.shape) != 1 and self.num_features() != data.shape[1]:\n"
     ]
    },
    {
     "name": "stdout",
     "output_type": "stream",
     "text": [
      "[CV] END colsample_bytree=0.8, gamma=0, learning_rate=0.01, max_depth=4, min_child_weight=5, n_estimators=300, reg_alpha=0.01, reg_lambda=1, subsample=0.9; total time=  10.1s\n"
     ]
    },
    {
     "name": "stderr",
     "output_type": "stream",
     "text": [
      "/home/jp/Repositorios/UDEA/InteligenciaArtificial-UdeA20251/.venv/lib/python3.12/site-packages/xgboost/training.py:183: UserWarning: [14:32:29] WARNING: /workspace/src/common/error_msg.cc:27: The tree method `gpu_hist` is deprecated since 2.0.0. To use GPU training, set the `device` parameter to CUDA instead.\n",
      "\n",
      "    E.g. tree_method = \"hist\", device = \"cuda\"\n",
      "\n",
      "  bst.update(dtrain, iteration=i, fobj=obj)\n",
      "/home/jp/Repositorios/UDEA/InteligenciaArtificial-UdeA20251/.venv/lib/python3.12/site-packages/xgboost/core.py:2676: UserWarning: [14:32:31] WARNING: /workspace/src/common/error_msg.cc:27: The tree method `gpu_hist` is deprecated since 2.0.0. To use GPU training, set the `device` parameter to CUDA instead.\n",
      "\n",
      "    E.g. tree_method = \"hist\", device = \"cuda\"\n",
      "\n",
      "  if len(data.shape) != 1 and self.num_features() != data.shape[1]:\n"
     ]
    },
    {
     "name": "stdout",
     "output_type": "stream",
     "text": [
      "[CV] END colsample_bytree=0.8, gamma=0, learning_rate=0.01, max_depth=4, min_child_weight=5, n_estimators=300, reg_alpha=0.01, reg_lambda=1, subsample=0.9; total time=  10.2s\n"
     ]
    },
    {
     "name": "stderr",
     "output_type": "stream",
     "text": [
      "/home/jp/Repositorios/UDEA/InteligenciaArtificial-UdeA20251/.venv/lib/python3.12/site-packages/xgboost/training.py:183: UserWarning: [14:32:31] WARNING: /workspace/src/common/error_msg.cc:27: The tree method `gpu_hist` is deprecated since 2.0.0. To use GPU training, set the `device` parameter to CUDA instead.\n",
      "\n",
      "    E.g. tree_method = \"hist\", device = \"cuda\"\n",
      "\n",
      "  bst.update(dtrain, iteration=i, fobj=obj)\n",
      "/home/jp/Repositorios/UDEA/InteligenciaArtificial-UdeA20251/.venv/lib/python3.12/site-packages/xgboost/core.py:2676: UserWarning: [14:32:39] WARNING: /workspace/src/common/error_msg.cc:27: The tree method `gpu_hist` is deprecated since 2.0.0. To use GPU training, set the `device` parameter to CUDA instead.\n",
      "\n",
      "    E.g. tree_method = \"hist\", device = \"cuda\"\n",
      "\n",
      "  if len(data.shape) != 1 and self.num_features() != data.shape[1]:\n"
     ]
    },
    {
     "name": "stdout",
     "output_type": "stream",
     "text": [
      "[CV] END colsample_bytree=0.8, gamma=0, learning_rate=0.01, max_depth=4, min_child_weight=5, n_estimators=300, reg_alpha=0.01, reg_lambda=1, subsample=0.9; total time=  10.3s\n"
     ]
    },
    {
     "name": "stderr",
     "output_type": "stream",
     "text": [
      "/home/jp/Repositorios/UDEA/InteligenciaArtificial-UdeA20251/.venv/lib/python3.12/site-packages/xgboost/training.py:183: UserWarning: [14:32:40] WARNING: /workspace/src/common/error_msg.cc:27: The tree method `gpu_hist` is deprecated since 2.0.0. To use GPU training, set the `device` parameter to CUDA instead.\n",
      "\n",
      "    E.g. tree_method = \"hist\", device = \"cuda\"\n",
      "\n",
      "  bst.update(dtrain, iteration=i, fobj=obj)\n",
      "/home/jp/Repositorios/UDEA/InteligenciaArtificial-UdeA20251/.venv/lib/python3.12/site-packages/xgboost/core.py:2676: UserWarning: [14:32:58] WARNING: /workspace/src/common/error_msg.cc:27: The tree method `gpu_hist` is deprecated since 2.0.0. To use GPU training, set the `device` parameter to CUDA instead.\n",
      "\n",
      "    E.g. tree_method = \"hist\", device = \"cuda\"\n",
      "\n",
      "  if len(data.shape) != 1 and self.num_features() != data.shape[1]:\n"
     ]
    },
    {
     "name": "stdout",
     "output_type": "stream",
     "text": [
      "[CV] END colsample_bytree=0.9, gamma=0.1, learning_rate=0.1, max_depth=6, min_child_weight=1, n_estimators=800, reg_alpha=0, reg_lambda=2, subsample=1.0; total time=  27.3s\n"
     ]
    },
    {
     "name": "stderr",
     "output_type": "stream",
     "text": [
      "/home/jp/Repositorios/UDEA/InteligenciaArtificial-UdeA20251/.venv/lib/python3.12/site-packages/xgboost/training.py:183: UserWarning: [14:32:58] WARNING: /workspace/src/common/error_msg.cc:27: The tree method `gpu_hist` is deprecated since 2.0.0. To use GPU training, set the `device` parameter to CUDA instead.\n",
      "\n",
      "    E.g. tree_method = \"hist\", device = \"cuda\"\n",
      "\n",
      "  bst.update(dtrain, iteration=i, fobj=obj)\n",
      "/home/jp/Repositorios/UDEA/InteligenciaArtificial-UdeA20251/.venv/lib/python3.12/site-packages/xgboost/core.py:2676: UserWarning: [14:33:06] WARNING: /workspace/src/common/error_msg.cc:27: The tree method `gpu_hist` is deprecated since 2.0.0. To use GPU training, set the `device` parameter to CUDA instead.\n",
      "\n",
      "    E.g. tree_method = \"hist\", device = \"cuda\"\n",
      "\n",
      "  if len(data.shape) != 1 and self.num_features() != data.shape[1]:\n"
     ]
    },
    {
     "name": "stdout",
     "output_type": "stream",
     "text": [
      "[CV] END colsample_bytree=0.9, gamma=0.1, learning_rate=0.1, max_depth=6, min_child_weight=1, n_estimators=800, reg_alpha=0, reg_lambda=2, subsample=1.0; total time=  27.1s\n"
     ]
    },
    {
     "name": "stderr",
     "output_type": "stream",
     "text": [
      "/home/jp/Repositorios/UDEA/InteligenciaArtificial-UdeA20251/.venv/lib/python3.12/site-packages/xgboost/training.py:183: UserWarning: [14:33:07] WARNING: /workspace/src/common/error_msg.cc:27: The tree method `gpu_hist` is deprecated since 2.0.0. To use GPU training, set the `device` parameter to CUDA instead.\n",
      "\n",
      "    E.g. tree_method = \"hist\", device = \"cuda\"\n",
      "\n",
      "  bst.update(dtrain, iteration=i, fobj=obj)\n",
      "/home/jp/Repositorios/UDEA/InteligenciaArtificial-UdeA20251/.venv/lib/python3.12/site-packages/xgboost/core.py:2676: UserWarning: [14:33:25] WARNING: /workspace/src/common/error_msg.cc:27: The tree method `gpu_hist` is deprecated since 2.0.0. To use GPU training, set the `device` parameter to CUDA instead.\n",
      "\n",
      "    E.g. tree_method = \"hist\", device = \"cuda\"\n",
      "\n",
      "  if len(data.shape) != 1 and self.num_features() != data.shape[1]:\n"
     ]
    },
    {
     "name": "stdout",
     "output_type": "stream",
     "text": [
      "[CV] END colsample_bytree=0.9, gamma=0.1, learning_rate=0.1, max_depth=6, min_child_weight=1, n_estimators=800, reg_alpha=0, reg_lambda=2, subsample=1.0; total time=  26.9s\n"
     ]
    },
    {
     "name": "stderr",
     "output_type": "stream",
     "text": [
      "/home/jp/Repositorios/UDEA/InteligenciaArtificial-UdeA20251/.venv/lib/python3.12/site-packages/xgboost/training.py:183: UserWarning: [14:33:25] WARNING: /workspace/src/common/error_msg.cc:27: The tree method `gpu_hist` is deprecated since 2.0.0. To use GPU training, set the `device` parameter to CUDA instead.\n",
      "\n",
      "    E.g. tree_method = \"hist\", device = \"cuda\"\n",
      "\n",
      "  bst.update(dtrain, iteration=i, fobj=obj)\n",
      "/home/jp/Repositorios/UDEA/InteligenciaArtificial-UdeA20251/.venv/lib/python3.12/site-packages/xgboost/core.py:2676: UserWarning: [14:33:34] WARNING: /workspace/src/common/error_msg.cc:27: The tree method `gpu_hist` is deprecated since 2.0.0. To use GPU training, set the `device` parameter to CUDA instead.\n",
      "\n",
      "    E.g. tree_method = \"hist\", device = \"cuda\"\n",
      "\n",
      "  if len(data.shape) != 1 and self.num_features() != data.shape[1]:\n"
     ]
    },
    {
     "name": "stdout",
     "output_type": "stream",
     "text": [
      "[CV] END colsample_bytree=0.9, gamma=0.1, learning_rate=0.1, max_depth=6, min_child_weight=1, n_estimators=800, reg_alpha=0, reg_lambda=2, subsample=1.0; total time=  27.2s\n"
     ]
    },
    {
     "name": "stderr",
     "output_type": "stream",
     "text": [
      "/home/jp/Repositorios/UDEA/InteligenciaArtificial-UdeA20251/.venv/lib/python3.12/site-packages/xgboost/training.py:183: UserWarning: [14:33:34] WARNING: /workspace/src/common/error_msg.cc:27: The tree method `gpu_hist` is deprecated since 2.0.0. To use GPU training, set the `device` parameter to CUDA instead.\n",
      "\n",
      "    E.g. tree_method = \"hist\", device = \"cuda\"\n",
      "\n",
      "  bst.update(dtrain, iteration=i, fobj=obj)\n",
      "/home/jp/Repositorios/UDEA/InteligenciaArtificial-UdeA20251/.venv/lib/python3.12/site-packages/xgboost/core.py:2676: UserWarning: [14:33:52] WARNING: /workspace/src/common/error_msg.cc:27: The tree method `gpu_hist` is deprecated since 2.0.0. To use GPU training, set the `device` parameter to CUDA instead.\n",
      "\n",
      "    E.g. tree_method = \"hist\", device = \"cuda\"\n",
      "\n",
      "  if len(data.shape) != 1 and self.num_features() != data.shape[1]:\n"
     ]
    },
    {
     "name": "stdout",
     "output_type": "stream",
     "text": [
      "[CV] END colsample_bytree=0.9, gamma=0.1, learning_rate=0.1, max_depth=6, min_child_weight=1, n_estimators=800, reg_alpha=0, reg_lambda=2, subsample=1.0; total time=  26.6s\n"
     ]
    },
    {
     "name": "stderr",
     "output_type": "stream",
     "text": [
      "/home/jp/Repositorios/UDEA/InteligenciaArtificial-UdeA20251/.venv/lib/python3.12/site-packages/xgboost/training.py:183: UserWarning: [14:33:52] WARNING: /workspace/src/common/error_msg.cc:27: The tree method `gpu_hist` is deprecated since 2.0.0. To use GPU training, set the `device` parameter to CUDA instead.\n",
      "\n",
      "    E.g. tree_method = \"hist\", device = \"cuda\"\n",
      "\n",
      "  bst.update(dtrain, iteration=i, fobj=obj)\n",
      "/home/jp/Repositorios/UDEA/InteligenciaArtificial-UdeA20251/.venv/lib/python3.12/site-packages/xgboost/core.py:2676: UserWarning: [14:33:56] WARNING: /workspace/src/common/error_msg.cc:27: The tree method `gpu_hist` is deprecated since 2.0.0. To use GPU training, set the `device` parameter to CUDA instead.\n",
      "\n",
      "    E.g. tree_method = \"hist\", device = \"cuda\"\n",
      "\n",
      "  if len(data.shape) != 1 and self.num_features() != data.shape[1]:\n"
     ]
    },
    {
     "name": "stdout",
     "output_type": "stream",
     "text": [
      "[CV] END colsample_bytree=0.9, gamma=0.2, learning_rate=0.01, max_depth=3, min_child_weight=1, n_estimators=800, reg_alpha=0.01, reg_lambda=1.5, subsample=0.9; total time=  22.5s\n"
     ]
    },
    {
     "name": "stderr",
     "output_type": "stream",
     "text": [
      "/home/jp/Repositorios/UDEA/InteligenciaArtificial-UdeA20251/.venv/lib/python3.12/site-packages/xgboost/training.py:183: UserWarning: [14:33:56] WARNING: /workspace/src/common/error_msg.cc:27: The tree method `gpu_hist` is deprecated since 2.0.0. To use GPU training, set the `device` parameter to CUDA instead.\n",
      "\n",
      "    E.g. tree_method = \"hist\", device = \"cuda\"\n",
      "\n",
      "  bst.update(dtrain, iteration=i, fobj=obj)\n",
      "/home/jp/Repositorios/UDEA/InteligenciaArtificial-UdeA20251/.venv/lib/python3.12/site-packages/xgboost/core.py:2676: UserWarning: [14:34:14] WARNING: /workspace/src/common/error_msg.cc:27: The tree method `gpu_hist` is deprecated since 2.0.0. To use GPU training, set the `device` parameter to CUDA instead.\n",
      "\n",
      "    E.g. tree_method = \"hist\", device = \"cuda\"\n",
      "\n",
      "  if len(data.shape) != 1 and self.num_features() != data.shape[1]:\n"
     ]
    },
    {
     "name": "stdout",
     "output_type": "stream",
     "text": [
      "[CV] END colsample_bytree=0.9, gamma=0.2, learning_rate=0.01, max_depth=3, min_child_weight=1, n_estimators=800, reg_alpha=0.01, reg_lambda=1.5, subsample=0.9; total time=  22.4s\n"
     ]
    },
    {
     "name": "stderr",
     "output_type": "stream",
     "text": [
      "/home/jp/Repositorios/UDEA/InteligenciaArtificial-UdeA20251/.venv/lib/python3.12/site-packages/xgboost/training.py:183: UserWarning: [14:34:14] WARNING: /workspace/src/common/error_msg.cc:27: The tree method `gpu_hist` is deprecated since 2.0.0. To use GPU training, set the `device` parameter to CUDA instead.\n",
      "\n",
      "    E.g. tree_method = \"hist\", device = \"cuda\"\n",
      "\n",
      "  bst.update(dtrain, iteration=i, fobj=obj)\n",
      "/home/jp/Repositorios/UDEA/InteligenciaArtificial-UdeA20251/.venv/lib/python3.12/site-packages/xgboost/core.py:2676: UserWarning: [14:34:19] WARNING: /workspace/src/common/error_msg.cc:27: The tree method `gpu_hist` is deprecated since 2.0.0. To use GPU training, set the `device` parameter to CUDA instead.\n",
      "\n",
      "    E.g. tree_method = \"hist\", device = \"cuda\"\n",
      "\n",
      "  if len(data.shape) != 1 and self.num_features() != data.shape[1]:\n"
     ]
    },
    {
     "name": "stdout",
     "output_type": "stream",
     "text": [
      "[CV] END colsample_bytree=0.9, gamma=0.2, learning_rate=0.01, max_depth=3, min_child_weight=1, n_estimators=800, reg_alpha=0.01, reg_lambda=1.5, subsample=0.9; total time=  22.6s\n"
     ]
    },
    {
     "name": "stderr",
     "output_type": "stream",
     "text": [
      "/home/jp/Repositorios/UDEA/InteligenciaArtificial-UdeA20251/.venv/lib/python3.12/site-packages/xgboost/training.py:183: UserWarning: [14:34:19] WARNING: /workspace/src/common/error_msg.cc:27: The tree method `gpu_hist` is deprecated since 2.0.0. To use GPU training, set the `device` parameter to CUDA instead.\n",
      "\n",
      "    E.g. tree_method = \"hist\", device = \"cuda\"\n",
      "\n",
      "  bst.update(dtrain, iteration=i, fobj=obj)\n",
      "/home/jp/Repositorios/UDEA/InteligenciaArtificial-UdeA20251/.venv/lib/python3.12/site-packages/xgboost/core.py:2676: UserWarning: [14:34:37] WARNING: /workspace/src/common/error_msg.cc:27: The tree method `gpu_hist` is deprecated since 2.0.0. To use GPU training, set the `device` parameter to CUDA instead.\n",
      "\n",
      "    E.g. tree_method = \"hist\", device = \"cuda\"\n",
      "\n",
      "  if len(data.shape) != 1 and self.num_features() != data.shape[1]:\n"
     ]
    },
    {
     "name": "stdout",
     "output_type": "stream",
     "text": [
      "[CV] END colsample_bytree=0.9, gamma=0.2, learning_rate=0.01, max_depth=3, min_child_weight=1, n_estimators=800, reg_alpha=0.01, reg_lambda=1.5, subsample=0.9; total time=  22.6s\n"
     ]
    },
    {
     "name": "stderr",
     "output_type": "stream",
     "text": [
      "/home/jp/Repositorios/UDEA/InteligenciaArtificial-UdeA20251/.venv/lib/python3.12/site-packages/xgboost/training.py:183: UserWarning: [14:34:37] WARNING: /workspace/src/common/error_msg.cc:27: The tree method `gpu_hist` is deprecated since 2.0.0. To use GPU training, set the `device` parameter to CUDA instead.\n",
      "\n",
      "    E.g. tree_method = \"hist\", device = \"cuda\"\n",
      "\n",
      "  bst.update(dtrain, iteration=i, fobj=obj)\n",
      "/home/jp/Repositorios/UDEA/InteligenciaArtificial-UdeA20251/.venv/lib/python3.12/site-packages/xgboost/core.py:2676: UserWarning: [14:34:41] WARNING: /workspace/src/common/error_msg.cc:27: The tree method `gpu_hist` is deprecated since 2.0.0. To use GPU training, set the `device` parameter to CUDA instead.\n",
      "\n",
      "    E.g. tree_method = \"hist\", device = \"cuda\"\n",
      "\n",
      "  if len(data.shape) != 1 and self.num_features() != data.shape[1]:\n"
     ]
    },
    {
     "name": "stdout",
     "output_type": "stream",
     "text": [
      "[CV] END colsample_bytree=0.9, gamma=0.2, learning_rate=0.01, max_depth=3, min_child_weight=1, n_estimators=800, reg_alpha=0.01, reg_lambda=1.5, subsample=0.9; total time=  22.6s\n"
     ]
    },
    {
     "name": "stderr",
     "output_type": "stream",
     "text": [
      "/home/jp/Repositorios/UDEA/InteligenciaArtificial-UdeA20251/.venv/lib/python3.12/site-packages/xgboost/training.py:183: UserWarning: [14:34:42] WARNING: /workspace/src/common/error_msg.cc:27: The tree method `gpu_hist` is deprecated since 2.0.0. To use GPU training, set the `device` parameter to CUDA instead.\n",
      "\n",
      "    E.g. tree_method = \"hist\", device = \"cuda\"\n",
      "\n",
      "  bst.update(dtrain, iteration=i, fobj=obj)\n",
      "/home/jp/Repositorios/UDEA/InteligenciaArtificial-UdeA20251/.venv/lib/python3.12/site-packages/xgboost/core.py:2676: UserWarning: [14:35:04] WARNING: /workspace/src/common/error_msg.cc:27: The tree method `gpu_hist` is deprecated since 2.0.0. To use GPU training, set the `device` parameter to CUDA instead.\n",
      "\n",
      "    E.g. tree_method = \"hist\", device = \"cuda\"\n",
      "\n",
      "  if len(data.shape) != 1 and self.num_features() != data.shape[1]:\n"
     ]
    },
    {
     "name": "stdout",
     "output_type": "stream",
     "text": [
      "[CV] END colsample_bytree=0.8, gamma=0, learning_rate=0.1, max_depth=5, min_child_weight=1, n_estimators=800, reg_alpha=0.01, reg_lambda=1.5, subsample=1.0; total time=  27.6s\n"
     ]
    },
    {
     "name": "stderr",
     "output_type": "stream",
     "text": [
      "/home/jp/Repositorios/UDEA/InteligenciaArtificial-UdeA20251/.venv/lib/python3.12/site-packages/xgboost/training.py:183: UserWarning: [14:35:05] WARNING: /workspace/src/common/error_msg.cc:27: The tree method `gpu_hist` is deprecated since 2.0.0. To use GPU training, set the `device` parameter to CUDA instead.\n",
      "\n",
      "    E.g. tree_method = \"hist\", device = \"cuda\"\n",
      "\n",
      "  bst.update(dtrain, iteration=i, fobj=obj)\n",
      "/home/jp/Repositorios/UDEA/InteligenciaArtificial-UdeA20251/.venv/lib/python3.12/site-packages/xgboost/core.py:2676: UserWarning: [14:35:09] WARNING: /workspace/src/common/error_msg.cc:27: The tree method `gpu_hist` is deprecated since 2.0.0. To use GPU training, set the `device` parameter to CUDA instead.\n",
      "\n",
      "    E.g. tree_method = \"hist\", device = \"cuda\"\n",
      "\n",
      "  if len(data.shape) != 1 and self.num_features() != data.shape[1]:\n"
     ]
    },
    {
     "name": "stdout",
     "output_type": "stream",
     "text": [
      "[CV] END colsample_bytree=0.8, gamma=0, learning_rate=0.1, max_depth=5, min_child_weight=1, n_estimators=800, reg_alpha=0.01, reg_lambda=1.5, subsample=1.0; total time=  27.6s\n"
     ]
    },
    {
     "name": "stderr",
     "output_type": "stream",
     "text": [
      "/home/jp/Repositorios/UDEA/InteligenciaArtificial-UdeA20251/.venv/lib/python3.12/site-packages/xgboost/training.py:183: UserWarning: [14:35:09] WARNING: /workspace/src/common/error_msg.cc:27: The tree method `gpu_hist` is deprecated since 2.0.0. To use GPU training, set the `device` parameter to CUDA instead.\n",
      "\n",
      "    E.g. tree_method = \"hist\", device = \"cuda\"\n",
      "\n",
      "  bst.update(dtrain, iteration=i, fobj=obj)\n",
      "/home/jp/Repositorios/UDEA/InteligenciaArtificial-UdeA20251/.venv/lib/python3.12/site-packages/xgboost/core.py:2676: UserWarning: [14:35:31] WARNING: /workspace/src/common/error_msg.cc:27: The tree method `gpu_hist` is deprecated since 2.0.0. To use GPU training, set the `device` parameter to CUDA instead.\n",
      "\n",
      "    E.g. tree_method = \"hist\", device = \"cuda\"\n",
      "\n",
      "  if len(data.shape) != 1 and self.num_features() != data.shape[1]:\n"
     ]
    },
    {
     "name": "stdout",
     "output_type": "stream",
     "text": [
      "[CV] END colsample_bytree=0.8, gamma=0, learning_rate=0.1, max_depth=5, min_child_weight=1, n_estimators=800, reg_alpha=0.01, reg_lambda=1.5, subsample=1.0; total time=  27.0s\n"
     ]
    },
    {
     "name": "stderr",
     "output_type": "stream",
     "text": [
      "/home/jp/Repositorios/UDEA/InteligenciaArtificial-UdeA20251/.venv/lib/python3.12/site-packages/xgboost/training.py:183: UserWarning: [14:35:32] WARNING: /workspace/src/common/error_msg.cc:27: The tree method `gpu_hist` is deprecated since 2.0.0. To use GPU training, set the `device` parameter to CUDA instead.\n",
      "\n",
      "    E.g. tree_method = \"hist\", device = \"cuda\"\n",
      "\n",
      "  bst.update(dtrain, iteration=i, fobj=obj)\n",
      "/home/jp/Repositorios/UDEA/InteligenciaArtificial-UdeA20251/.venv/lib/python3.12/site-packages/xgboost/core.py:2676: UserWarning: [14:35:36] WARNING: /workspace/src/common/error_msg.cc:27: The tree method `gpu_hist` is deprecated since 2.0.0. To use GPU training, set the `device` parameter to CUDA instead.\n",
      "\n",
      "    E.g. tree_method = \"hist\", device = \"cuda\"\n",
      "\n",
      "  if len(data.shape) != 1 and self.num_features() != data.shape[1]:\n"
     ]
    },
    {
     "name": "stdout",
     "output_type": "stream",
     "text": [
      "[CV] END colsample_bytree=0.8, gamma=0, learning_rate=0.1, max_depth=5, min_child_weight=1, n_estimators=800, reg_alpha=0.01, reg_lambda=1.5, subsample=1.0; total time=  26.7s\n"
     ]
    },
    {
     "name": "stderr",
     "output_type": "stream",
     "text": [
      "/home/jp/Repositorios/UDEA/InteligenciaArtificial-UdeA20251/.venv/lib/python3.12/site-packages/xgboost/training.py:183: UserWarning: [14:35:36] WARNING: /workspace/src/common/error_msg.cc:27: The tree method `gpu_hist` is deprecated since 2.0.0. To use GPU training, set the `device` parameter to CUDA instead.\n",
      "\n",
      "    E.g. tree_method = \"hist\", device = \"cuda\"\n",
      "\n",
      "  bst.update(dtrain, iteration=i, fobj=obj)\n",
      "/home/jp/Repositorios/UDEA/InteligenciaArtificial-UdeA20251/.venv/lib/python3.12/site-packages/xgboost/core.py:2676: UserWarning: [14:35:57] WARNING: /workspace/src/common/error_msg.cc:27: The tree method `gpu_hist` is deprecated since 2.0.0. To use GPU training, set the `device` parameter to CUDA instead.\n",
      "\n",
      "    E.g. tree_method = \"hist\", device = \"cuda\"\n",
      "\n",
      "  if len(data.shape) != 1 and self.num_features() != data.shape[1]:\n"
     ]
    },
    {
     "name": "stdout",
     "output_type": "stream",
     "text": [
      "[CV] END colsample_bytree=0.95, gamma=0.1, learning_rate=0.1, max_depth=7, min_child_weight=1, n_estimators=500, reg_alpha=0.1, reg_lambda=2, subsample=1.0; total time=  21.0s\n"
     ]
    },
    {
     "name": "stderr",
     "output_type": "stream",
     "text": [
      "/home/jp/Repositorios/UDEA/InteligenciaArtificial-UdeA20251/.venv/lib/python3.12/site-packages/xgboost/training.py:183: UserWarning: [14:35:57] WARNING: /workspace/src/common/error_msg.cc:27: The tree method `gpu_hist` is deprecated since 2.0.0. To use GPU training, set the `device` parameter to CUDA instead.\n",
      "\n",
      "    E.g. tree_method = \"hist\", device = \"cuda\"\n",
      "\n",
      "  bst.update(dtrain, iteration=i, fobj=obj)\n",
      "/home/jp/Repositorios/UDEA/InteligenciaArtificial-UdeA20251/.venv/lib/python3.12/site-packages/xgboost/core.py:2676: UserWarning: [14:35:59] WARNING: /workspace/src/common/error_msg.cc:27: The tree method `gpu_hist` is deprecated since 2.0.0. To use GPU training, set the `device` parameter to CUDA instead.\n",
      "\n",
      "    E.g. tree_method = \"hist\", device = \"cuda\"\n",
      "\n",
      "  if len(data.shape) != 1 and self.num_features() != data.shape[1]:\n"
     ]
    },
    {
     "name": "stdout",
     "output_type": "stream",
     "text": [
      "[CV] END colsample_bytree=0.8, gamma=0, learning_rate=0.1, max_depth=5, min_child_weight=1, n_estimators=800, reg_alpha=0.01, reg_lambda=1.5, subsample=1.0; total time=  27.8s\n"
     ]
    },
    {
     "name": "stderr",
     "output_type": "stream",
     "text": [
      "/home/jp/Repositorios/UDEA/InteligenciaArtificial-UdeA20251/.venv/lib/python3.12/site-packages/xgboost/training.py:183: UserWarning: [14:35:59] WARNING: /workspace/src/common/error_msg.cc:27: The tree method `gpu_hist` is deprecated since 2.0.0. To use GPU training, set the `device` parameter to CUDA instead.\n",
      "\n",
      "    E.g. tree_method = \"hist\", device = \"cuda\"\n",
      "\n",
      "  bst.update(dtrain, iteration=i, fobj=obj)\n",
      "/home/jp/Repositorios/UDEA/InteligenciaArtificial-UdeA20251/.venv/lib/python3.12/site-packages/xgboost/core.py:2676: UserWarning: [14:36:20] WARNING: /workspace/src/common/error_msg.cc:27: The tree method `gpu_hist` is deprecated since 2.0.0. To use GPU training, set the `device` parameter to CUDA instead.\n",
      "\n",
      "    E.g. tree_method = \"hist\", device = \"cuda\"\n",
      "\n",
      "  if len(data.shape) != 1 and self.num_features() != data.shape[1]:\n"
     ]
    },
    {
     "name": "stdout",
     "output_type": "stream",
     "text": [
      "[CV] END colsample_bytree=0.95, gamma=0.1, learning_rate=0.1, max_depth=7, min_child_weight=1, n_estimators=500, reg_alpha=0.1, reg_lambda=2, subsample=1.0; total time=  23.1s\n"
     ]
    },
    {
     "name": "stderr",
     "output_type": "stream",
     "text": [
      "/home/jp/Repositorios/UDEA/InteligenciaArtificial-UdeA20251/.venv/lib/python3.12/site-packages/xgboost/training.py:183: UserWarning: [14:36:20] WARNING: /workspace/src/common/error_msg.cc:27: The tree method `gpu_hist` is deprecated since 2.0.0. To use GPU training, set the `device` parameter to CUDA instead.\n",
      "\n",
      "    E.g. tree_method = \"hist\", device = \"cuda\"\n",
      "\n",
      "  bst.update(dtrain, iteration=i, fobj=obj)\n",
      "/home/jp/Repositorios/UDEA/InteligenciaArtificial-UdeA20251/.venv/lib/python3.12/site-packages/xgboost/core.py:2676: UserWarning: [14:36:22] WARNING: /workspace/src/common/error_msg.cc:27: The tree method `gpu_hist` is deprecated since 2.0.0. To use GPU training, set the `device` parameter to CUDA instead.\n",
      "\n",
      "    E.g. tree_method = \"hist\", device = \"cuda\"\n",
      "\n",
      "  if len(data.shape) != 1 and self.num_features() != data.shape[1]:\n"
     ]
    },
    {
     "name": "stdout",
     "output_type": "stream",
     "text": [
      "[CV] END colsample_bytree=0.95, gamma=0.1, learning_rate=0.1, max_depth=7, min_child_weight=1, n_estimators=500, reg_alpha=0.1, reg_lambda=2, subsample=1.0; total time=  22.5s\n"
     ]
    },
    {
     "name": "stderr",
     "output_type": "stream",
     "text": [
      "/home/jp/Repositorios/UDEA/InteligenciaArtificial-UdeA20251/.venv/lib/python3.12/site-packages/xgboost/training.py:183: UserWarning: [14:36:22] WARNING: /workspace/src/common/error_msg.cc:27: The tree method `gpu_hist` is deprecated since 2.0.0. To use GPU training, set the `device` parameter to CUDA instead.\n",
      "\n",
      "    E.g. tree_method = \"hist\", device = \"cuda\"\n",
      "\n",
      "  bst.update(dtrain, iteration=i, fobj=obj)\n",
      "/home/jp/Repositorios/UDEA/InteligenciaArtificial-UdeA20251/.venv/lib/python3.12/site-packages/xgboost/core.py:2676: UserWarning: [14:36:42] WARNING: /workspace/src/common/error_msg.cc:27: The tree method `gpu_hist` is deprecated since 2.0.0. To use GPU training, set the `device` parameter to CUDA instead.\n",
      "\n",
      "    E.g. tree_method = \"hist\", device = \"cuda\"\n",
      "\n",
      "  if len(data.shape) != 1 and self.num_features() != data.shape[1]:\n"
     ]
    },
    {
     "name": "stdout",
     "output_type": "stream",
     "text": [
      "[CV] END colsample_bytree=0.95, gamma=0.1, learning_rate=0.1, max_depth=7, min_child_weight=1, n_estimators=500, reg_alpha=0.1, reg_lambda=2, subsample=1.0; total time=  22.6s\n"
     ]
    },
    {
     "name": "stderr",
     "output_type": "stream",
     "text": [
      "/home/jp/Repositorios/UDEA/InteligenciaArtificial-UdeA20251/.venv/lib/python3.12/site-packages/xgboost/training.py:183: UserWarning: [14:36:43] WARNING: /workspace/src/common/error_msg.cc:27: The tree method `gpu_hist` is deprecated since 2.0.0. To use GPU training, set the `device` parameter to CUDA instead.\n",
      "\n",
      "    E.g. tree_method = \"hist\", device = \"cuda\"\n",
      "\n",
      "  bst.update(dtrain, iteration=i, fobj=obj)\n",
      "/home/jp/Repositorios/UDEA/InteligenciaArtificial-UdeA20251/.venv/lib/python3.12/site-packages/xgboost/core.py:2676: UserWarning: [14:36:44] WARNING: /workspace/src/common/error_msg.cc:27: The tree method `gpu_hist` is deprecated since 2.0.0. To use GPU training, set the `device` parameter to CUDA instead.\n",
      "\n",
      "    E.g. tree_method = \"hist\", device = \"cuda\"\n",
      "\n",
      "  if len(data.shape) != 1 and self.num_features() != data.shape[1]:\n"
     ]
    },
    {
     "name": "stdout",
     "output_type": "stream",
     "text": [
      "[CV] END colsample_bytree=0.95, gamma=0.1, learning_rate=0.1, max_depth=7, min_child_weight=1, n_estimators=500, reg_alpha=0.1, reg_lambda=2, subsample=1.0; total time=  22.0s\n"
     ]
    },
    {
     "name": "stderr",
     "output_type": "stream",
     "text": [
      "/home/jp/Repositorios/UDEA/InteligenciaArtificial-UdeA20251/.venv/lib/python3.12/site-packages/xgboost/training.py:183: UserWarning: [14:36:44] WARNING: /workspace/src/common/error_msg.cc:27: The tree method `gpu_hist` is deprecated since 2.0.0. To use GPU training, set the `device` parameter to CUDA instead.\n",
      "\n",
      "    E.g. tree_method = \"hist\", device = \"cuda\"\n",
      "\n",
      "  bst.update(dtrain, iteration=i, fobj=obj)\n",
      "/home/jp/Repositorios/UDEA/InteligenciaArtificial-UdeA20251/.venv/lib/python3.12/site-packages/xgboost/core.py:2676: UserWarning: [14:36:52] WARNING: /workspace/src/common/error_msg.cc:27: The tree method `gpu_hist` is deprecated since 2.0.0. To use GPU training, set the `device` parameter to CUDA instead.\n",
      "\n",
      "    E.g. tree_method = \"hist\", device = \"cuda\"\n",
      "\n",
      "  if len(data.shape) != 1 and self.num_features() != data.shape[1]:\n"
     ]
    },
    {
     "name": "stdout",
     "output_type": "stream",
     "text": [
      "[CV] END colsample_bytree=0.9, gamma=0.3, learning_rate=0.2, max_depth=5, min_child_weight=3, n_estimators=300, reg_alpha=0.01, reg_lambda=2, subsample=0.9; total time=   9.5s\n"
     ]
    },
    {
     "name": "stderr",
     "output_type": "stream",
     "text": [
      "/home/jp/Repositorios/UDEA/InteligenciaArtificial-UdeA20251/.venv/lib/python3.12/site-packages/xgboost/training.py:183: UserWarning: [14:36:52] WARNING: /workspace/src/common/error_msg.cc:27: The tree method `gpu_hist` is deprecated since 2.0.0. To use GPU training, set the `device` parameter to CUDA instead.\n",
      "\n",
      "    E.g. tree_method = \"hist\", device = \"cuda\"\n",
      "\n",
      "  bst.update(dtrain, iteration=i, fobj=obj)\n",
      "/home/jp/Repositorios/UDEA/InteligenciaArtificial-UdeA20251/.venv/lib/python3.12/site-packages/xgboost/core.py:2676: UserWarning: [14:36:53] WARNING: /workspace/src/common/error_msg.cc:27: The tree method `gpu_hist` is deprecated since 2.0.0. To use GPU training, set the `device` parameter to CUDA instead.\n",
      "\n",
      "    E.g. tree_method = \"hist\", device = \"cuda\"\n",
      "\n",
      "  if len(data.shape) != 1 and self.num_features() != data.shape[1]:\n"
     ]
    },
    {
     "name": "stdout",
     "output_type": "stream",
     "text": [
      "[CV] END colsample_bytree=0.9, gamma=0.3, learning_rate=0.2, max_depth=5, min_child_weight=3, n_estimators=300, reg_alpha=0.01, reg_lambda=2, subsample=0.9; total time=   9.5s\n"
     ]
    },
    {
     "name": "stderr",
     "output_type": "stream",
     "text": [
      "/home/jp/Repositorios/UDEA/InteligenciaArtificial-UdeA20251/.venv/lib/python3.12/site-packages/xgboost/training.py:183: UserWarning: [14:36:53] WARNING: /workspace/src/common/error_msg.cc:27: The tree method `gpu_hist` is deprecated since 2.0.0. To use GPU training, set the `device` parameter to CUDA instead.\n",
      "\n",
      "    E.g. tree_method = \"hist\", device = \"cuda\"\n",
      "\n",
      "  bst.update(dtrain, iteration=i, fobj=obj)\n",
      "/home/jp/Repositorios/UDEA/InteligenciaArtificial-UdeA20251/.venv/lib/python3.12/site-packages/xgboost/core.py:2676: UserWarning: [14:37:01] WARNING: /workspace/src/common/error_msg.cc:27: The tree method `gpu_hist` is deprecated since 2.0.0. To use GPU training, set the `device` parameter to CUDA instead.\n",
      "\n",
      "    E.g. tree_method = \"hist\", device = \"cuda\"\n",
      "\n",
      "  if len(data.shape) != 1 and self.num_features() != data.shape[1]:\n"
     ]
    },
    {
     "name": "stdout",
     "output_type": "stream",
     "text": [
      "[CV] END colsample_bytree=0.9, gamma=0.3, learning_rate=0.2, max_depth=5, min_child_weight=3, n_estimators=300, reg_alpha=0.01, reg_lambda=2, subsample=0.9; total time=   9.5s\n"
     ]
    },
    {
     "name": "stderr",
     "output_type": "stream",
     "text": [
      "/home/jp/Repositorios/UDEA/InteligenciaArtificial-UdeA20251/.venv/lib/python3.12/site-packages/xgboost/training.py:183: UserWarning: [14:37:02] WARNING: /workspace/src/common/error_msg.cc:27: The tree method `gpu_hist` is deprecated since 2.0.0. To use GPU training, set the `device` parameter to CUDA instead.\n",
      "\n",
      "    E.g. tree_method = \"hist\", device = \"cuda\"\n",
      "\n",
      "  bst.update(dtrain, iteration=i, fobj=obj)\n",
      "/home/jp/Repositorios/UDEA/InteligenciaArtificial-UdeA20251/.venv/lib/python3.12/site-packages/xgboost/core.py:2676: UserWarning: [14:37:03] WARNING: /workspace/src/common/error_msg.cc:27: The tree method `gpu_hist` is deprecated since 2.0.0. To use GPU training, set the `device` parameter to CUDA instead.\n",
      "\n",
      "    E.g. tree_method = \"hist\", device = \"cuda\"\n",
      "\n",
      "  if len(data.shape) != 1 and self.num_features() != data.shape[1]:\n"
     ]
    },
    {
     "name": "stdout",
     "output_type": "stream",
     "text": [
      "[CV] END colsample_bytree=0.9, gamma=0.3, learning_rate=0.2, max_depth=5, min_child_weight=3, n_estimators=300, reg_alpha=0.01, reg_lambda=2, subsample=0.9; total time=   9.4s\n"
     ]
    },
    {
     "name": "stderr",
     "output_type": "stream",
     "text": [
      "/home/jp/Repositorios/UDEA/InteligenciaArtificial-UdeA20251/.venv/lib/python3.12/site-packages/xgboost/training.py:183: UserWarning: [14:37:03] WARNING: /workspace/src/common/error_msg.cc:27: The tree method `gpu_hist` is deprecated since 2.0.0. To use GPU training, set the `device` parameter to CUDA instead.\n",
      "\n",
      "    E.g. tree_method = \"hist\", device = \"cuda\"\n",
      "\n",
      "  bst.update(dtrain, iteration=i, fobj=obj)\n",
      "/home/jp/Repositorios/UDEA/InteligenciaArtificial-UdeA20251/.venv/lib/python3.12/site-packages/xgboost/core.py:2676: UserWarning: [14:37:13] WARNING: /workspace/src/common/error_msg.cc:27: The tree method `gpu_hist` is deprecated since 2.0.0. To use GPU training, set the `device` parameter to CUDA instead.\n",
      "\n",
      "    E.g. tree_method = \"hist\", device = \"cuda\"\n",
      "\n",
      "  if len(data.shape) != 1 and self.num_features() != data.shape[1]:\n"
     ]
    },
    {
     "name": "stdout",
     "output_type": "stream",
     "text": [
      "[CV] END colsample_bytree=0.9, gamma=0.3, learning_rate=0.2, max_depth=5, min_child_weight=3, n_estimators=300, reg_alpha=0.01, reg_lambda=2, subsample=0.9; total time=  11.2s\n"
     ]
    },
    {
     "name": "stderr",
     "output_type": "stream",
     "text": [
      "/home/jp/Repositorios/UDEA/InteligenciaArtificial-UdeA20251/.venv/lib/python3.12/site-packages/xgboost/training.py:183: UserWarning: [14:37:13] WARNING: /workspace/src/common/error_msg.cc:27: The tree method `gpu_hist` is deprecated since 2.0.0. To use GPU training, set the `device` parameter to CUDA instead.\n",
      "\n",
      "    E.g. tree_method = \"hist\", device = \"cuda\"\n",
      "\n",
      "  bst.update(dtrain, iteration=i, fobj=obj)\n",
      "/home/jp/Repositorios/UDEA/InteligenciaArtificial-UdeA20251/.venv/lib/python3.12/site-packages/xgboost/core.py:2676: UserWarning: [14:37:16] WARNING: /workspace/src/common/error_msg.cc:27: The tree method `gpu_hist` is deprecated since 2.0.0. To use GPU training, set the `device` parameter to CUDA instead.\n",
      "\n",
      "    E.g. tree_method = \"hist\", device = \"cuda\"\n",
      "\n",
      "  if len(data.shape) != 1 and self.num_features() != data.shape[1]:\n"
     ]
    },
    {
     "name": "stdout",
     "output_type": "stream",
     "text": [
      "[CV] END colsample_bytree=1.0, gamma=0.2, learning_rate=0.15, max_depth=7, min_child_weight=5, n_estimators=300, reg_alpha=0.1, reg_lambda=2, subsample=0.9; total time=  13.4s\n"
     ]
    },
    {
     "name": "stderr",
     "output_type": "stream",
     "text": [
      "/home/jp/Repositorios/UDEA/InteligenciaArtificial-UdeA20251/.venv/lib/python3.12/site-packages/xgboost/training.py:183: UserWarning: [14:37:16] WARNING: /workspace/src/common/error_msg.cc:27: The tree method `gpu_hist` is deprecated since 2.0.0. To use GPU training, set the `device` parameter to CUDA instead.\n",
      "\n",
      "    E.g. tree_method = \"hist\", device = \"cuda\"\n",
      "\n",
      "  bst.update(dtrain, iteration=i, fobj=obj)\n",
      "/home/jp/Repositorios/UDEA/InteligenciaArtificial-UdeA20251/.venv/lib/python3.12/site-packages/xgboost/core.py:2676: UserWarning: [14:37:27] WARNING: /workspace/src/common/error_msg.cc:27: The tree method `gpu_hist` is deprecated since 2.0.0. To use GPU training, set the `device` parameter to CUDA instead.\n",
      "\n",
      "    E.g. tree_method = \"hist\", device = \"cuda\"\n",
      "\n",
      "  if len(data.shape) != 1 and self.num_features() != data.shape[1]:\n"
     ]
    },
    {
     "name": "stdout",
     "output_type": "stream",
     "text": [
      "[CV] END colsample_bytree=1.0, gamma=0.2, learning_rate=0.15, max_depth=7, min_child_weight=5, n_estimators=300, reg_alpha=0.1, reg_lambda=2, subsample=0.9; total time=  14.0s\n"
     ]
    },
    {
     "name": "stderr",
     "output_type": "stream",
     "text": [
      "/home/jp/Repositorios/UDEA/InteligenciaArtificial-UdeA20251/.venv/lib/python3.12/site-packages/xgboost/training.py:183: UserWarning: [14:37:27] WARNING: /workspace/src/common/error_msg.cc:27: The tree method `gpu_hist` is deprecated since 2.0.0. To use GPU training, set the `device` parameter to CUDA instead.\n",
      "\n",
      "    E.g. tree_method = \"hist\", device = \"cuda\"\n",
      "\n",
      "  bst.update(dtrain, iteration=i, fobj=obj)\n",
      "/home/jp/Repositorios/UDEA/InteligenciaArtificial-UdeA20251/.venv/lib/python3.12/site-packages/xgboost/core.py:2676: UserWarning: [14:37:30] WARNING: /workspace/src/common/error_msg.cc:27: The tree method `gpu_hist` is deprecated since 2.0.0. To use GPU training, set the `device` parameter to CUDA instead.\n",
      "\n",
      "    E.g. tree_method = \"hist\", device = \"cuda\"\n",
      "\n",
      "  if len(data.shape) != 1 and self.num_features() != data.shape[1]:\n"
     ]
    },
    {
     "name": "stdout",
     "output_type": "stream",
     "text": [
      "[CV] END colsample_bytree=1.0, gamma=0.2, learning_rate=0.15, max_depth=7, min_child_weight=5, n_estimators=300, reg_alpha=0.1, reg_lambda=2, subsample=0.9; total time=  13.8s\n"
     ]
    },
    {
     "name": "stderr",
     "output_type": "stream",
     "text": [
      "/home/jp/Repositorios/UDEA/InteligenciaArtificial-UdeA20251/.venv/lib/python3.12/site-packages/xgboost/training.py:183: UserWarning: [14:37:30] WARNING: /workspace/src/common/error_msg.cc:27: The tree method `gpu_hist` is deprecated since 2.0.0. To use GPU training, set the `device` parameter to CUDA instead.\n",
      "\n",
      "    E.g. tree_method = \"hist\", device = \"cuda\"\n",
      "\n",
      "  bst.update(dtrain, iteration=i, fobj=obj)\n",
      "/home/jp/Repositorios/UDEA/InteligenciaArtificial-UdeA20251/.venv/lib/python3.12/site-packages/xgboost/core.py:2676: UserWarning: [14:37:41] WARNING: /workspace/src/common/error_msg.cc:27: The tree method `gpu_hist` is deprecated since 2.0.0. To use GPU training, set the `device` parameter to CUDA instead.\n",
      "\n",
      "    E.g. tree_method = \"hist\", device = \"cuda\"\n",
      "\n",
      "  if len(data.shape) != 1 and self.num_features() != data.shape[1]:\n"
     ]
    },
    {
     "name": "stdout",
     "output_type": "stream",
     "text": [
      "[CV] END colsample_bytree=1.0, gamma=0.2, learning_rate=0.15, max_depth=7, min_child_weight=5, n_estimators=300, reg_alpha=0.1, reg_lambda=2, subsample=0.9; total time=  14.3s\n"
     ]
    },
    {
     "name": "stderr",
     "output_type": "stream",
     "text": [
      "/home/jp/Repositorios/UDEA/InteligenciaArtificial-UdeA20251/.venv/lib/python3.12/site-packages/xgboost/training.py:183: UserWarning: [14:37:41] WARNING: /workspace/src/common/error_msg.cc:27: The tree method `gpu_hist` is deprecated since 2.0.0. To use GPU training, set the `device` parameter to CUDA instead.\n",
      "\n",
      "    E.g. tree_method = \"hist\", device = \"cuda\"\n",
      "\n",
      "  bst.update(dtrain, iteration=i, fobj=obj)\n",
      "/home/jp/Repositorios/UDEA/InteligenciaArtificial-UdeA20251/.venv/lib/python3.12/site-packages/xgboost/core.py:2676: UserWarning: [14:37:44] WARNING: /workspace/src/common/error_msg.cc:27: The tree method `gpu_hist` is deprecated since 2.0.0. To use GPU training, set the `device` parameter to CUDA instead.\n",
      "\n",
      "    E.g. tree_method = \"hist\", device = \"cuda\"\n",
      "\n",
      "  if len(data.shape) != 1 and self.num_features() != data.shape[1]:\n"
     ]
    },
    {
     "name": "stdout",
     "output_type": "stream",
     "text": [
      "[CV] END colsample_bytree=1.0, gamma=0.2, learning_rate=0.15, max_depth=7, min_child_weight=5, n_estimators=300, reg_alpha=0.1, reg_lambda=2, subsample=0.9; total time=  14.2s\n"
     ]
    },
    {
     "name": "stderr",
     "output_type": "stream",
     "text": [
      "/home/jp/Repositorios/UDEA/InteligenciaArtificial-UdeA20251/.venv/lib/python3.12/site-packages/xgboost/training.py:183: UserWarning: [14:37:44] WARNING: /workspace/src/common/error_msg.cc:27: The tree method `gpu_hist` is deprecated since 2.0.0. To use GPU training, set the `device` parameter to CUDA instead.\n",
      "\n",
      "    E.g. tree_method = \"hist\", device = \"cuda\"\n",
      "\n",
      "  bst.update(dtrain, iteration=i, fobj=obj)\n",
      "/home/jp/Repositorios/UDEA/InteligenciaArtificial-UdeA20251/.venv/lib/python3.12/site-packages/xgboost/core.py:2676: UserWarning: [14:37:49] WARNING: /workspace/src/common/error_msg.cc:27: The tree method `gpu_hist` is deprecated since 2.0.0. To use GPU training, set the `device` parameter to CUDA instead.\n",
      "\n",
      "    E.g. tree_method = \"hist\", device = \"cuda\"\n",
      "\n",
      "  if len(data.shape) != 1 and self.num_features() != data.shape[1]:\n"
     ]
    },
    {
     "name": "stdout",
     "output_type": "stream",
     "text": [
      "[CV] END colsample_bytree=1.0, gamma=0, learning_rate=0.01, max_depth=5, min_child_weight=3, n_estimators=200, reg_alpha=0, reg_lambda=1, subsample=0.8; total time=   7.6s\n"
     ]
    },
    {
     "name": "stderr",
     "output_type": "stream",
     "text": [
      "/home/jp/Repositorios/UDEA/InteligenciaArtificial-UdeA20251/.venv/lib/python3.12/site-packages/xgboost/training.py:183: UserWarning: [14:37:49] WARNING: /workspace/src/common/error_msg.cc:27: The tree method `gpu_hist` is deprecated since 2.0.0. To use GPU training, set the `device` parameter to CUDA instead.\n",
      "\n",
      "    E.g. tree_method = \"hist\", device = \"cuda\"\n",
      "\n",
      "  bst.update(dtrain, iteration=i, fobj=obj)\n",
      "/home/jp/Repositorios/UDEA/InteligenciaArtificial-UdeA20251/.venv/lib/python3.12/site-packages/xgboost/core.py:2676: UserWarning: [14:37:52] WARNING: /workspace/src/common/error_msg.cc:27: The tree method `gpu_hist` is deprecated since 2.0.0. To use GPU training, set the `device` parameter to CUDA instead.\n",
      "\n",
      "    E.g. tree_method = \"hist\", device = \"cuda\"\n",
      "\n",
      "  if len(data.shape) != 1 and self.num_features() != data.shape[1]:\n"
     ]
    },
    {
     "name": "stdout",
     "output_type": "stream",
     "text": [
      "[CV] END colsample_bytree=1.0, gamma=0, learning_rate=0.01, max_depth=5, min_child_weight=3, n_estimators=200, reg_alpha=0, reg_lambda=1, subsample=0.8; total time=   7.6s\n"
     ]
    },
    {
     "name": "stderr",
     "output_type": "stream",
     "text": [
      "/home/jp/Repositorios/UDEA/InteligenciaArtificial-UdeA20251/.venv/lib/python3.12/site-packages/xgboost/training.py:183: UserWarning: [14:37:52] WARNING: /workspace/src/common/error_msg.cc:27: The tree method `gpu_hist` is deprecated since 2.0.0. To use GPU training, set the `device` parameter to CUDA instead.\n",
      "\n",
      "    E.g. tree_method = \"hist\", device = \"cuda\"\n",
      "\n",
      "  bst.update(dtrain, iteration=i, fobj=obj)\n",
      "/home/jp/Repositorios/UDEA/InteligenciaArtificial-UdeA20251/.venv/lib/python3.12/site-packages/xgboost/core.py:2676: UserWarning: [14:37:56] WARNING: /workspace/src/common/error_msg.cc:27: The tree method `gpu_hist` is deprecated since 2.0.0. To use GPU training, set the `device` parameter to CUDA instead.\n",
      "\n",
      "    E.g. tree_method = \"hist\", device = \"cuda\"\n",
      "\n",
      "  if len(data.shape) != 1 and self.num_features() != data.shape[1]:\n"
     ]
    },
    {
     "name": "stdout",
     "output_type": "stream",
     "text": [
      "[CV] END colsample_bytree=1.0, gamma=0, learning_rate=0.01, max_depth=5, min_child_weight=3, n_estimators=200, reg_alpha=0, reg_lambda=1, subsample=0.8; total time=   7.5s\n"
     ]
    },
    {
     "name": "stderr",
     "output_type": "stream",
     "text": [
      "/home/jp/Repositorios/UDEA/InteligenciaArtificial-UdeA20251/.venv/lib/python3.12/site-packages/xgboost/training.py:183: UserWarning: [14:37:56] WARNING: /workspace/src/common/error_msg.cc:27: The tree method `gpu_hist` is deprecated since 2.0.0. To use GPU training, set the `device` parameter to CUDA instead.\n",
      "\n",
      "    E.g. tree_method = \"hist\", device = \"cuda\"\n",
      "\n",
      "  bst.update(dtrain, iteration=i, fobj=obj)\n",
      "/home/jp/Repositorios/UDEA/InteligenciaArtificial-UdeA20251/.venv/lib/python3.12/site-packages/xgboost/core.py:2676: UserWarning: [14:37:59] WARNING: /workspace/src/common/error_msg.cc:27: The tree method `gpu_hist` is deprecated since 2.0.0. To use GPU training, set the `device` parameter to CUDA instead.\n",
      "\n",
      "    E.g. tree_method = \"hist\", device = \"cuda\"\n",
      "\n",
      "  if len(data.shape) != 1 and self.num_features() != data.shape[1]:\n"
     ]
    },
    {
     "name": "stdout",
     "output_type": "stream",
     "text": [
      "[CV] END colsample_bytree=1.0, gamma=0, learning_rate=0.01, max_depth=5, min_child_weight=3, n_estimators=200, reg_alpha=0, reg_lambda=1, subsample=0.8; total time=   7.4s\n"
     ]
    },
    {
     "name": "stderr",
     "output_type": "stream",
     "text": [
      "/home/jp/Repositorios/UDEA/InteligenciaArtificial-UdeA20251/.venv/lib/python3.12/site-packages/xgboost/training.py:183: UserWarning: [14:37:59] WARNING: /workspace/src/common/error_msg.cc:27: The tree method `gpu_hist` is deprecated since 2.0.0. To use GPU training, set the `device` parameter to CUDA instead.\n",
      "\n",
      "    E.g. tree_method = \"hist\", device = \"cuda\"\n",
      "\n",
      "  bst.update(dtrain, iteration=i, fobj=obj)\n",
      "/home/jp/Repositorios/UDEA/InteligenciaArtificial-UdeA20251/.venv/lib/python3.12/site-packages/xgboost/core.py:2676: UserWarning: [14:38:04] WARNING: /workspace/src/common/error_msg.cc:27: The tree method `gpu_hist` is deprecated since 2.0.0. To use GPU training, set the `device` parameter to CUDA instead.\n",
      "\n",
      "    E.g. tree_method = \"hist\", device = \"cuda\"\n",
      "\n",
      "  if len(data.shape) != 1 and self.num_features() != data.shape[1]:\n"
     ]
    },
    {
     "name": "stdout",
     "output_type": "stream",
     "text": [
      "[CV] END colsample_bytree=1.0, gamma=0, learning_rate=0.01, max_depth=5, min_child_weight=3, n_estimators=200, reg_alpha=0, reg_lambda=1, subsample=0.8; total time=   7.6s\n"
     ]
    },
    {
     "name": "stderr",
     "output_type": "stream",
     "text": [
      "/home/jp/Repositorios/UDEA/InteligenciaArtificial-UdeA20251/.venv/lib/python3.12/site-packages/xgboost/training.py:183: UserWarning: [14:38:04] WARNING: /workspace/src/common/error_msg.cc:27: The tree method `gpu_hist` is deprecated since 2.0.0. To use GPU training, set the `device` parameter to CUDA instead.\n",
      "\n",
      "    E.g. tree_method = \"hist\", device = \"cuda\"\n",
      "\n",
      "  bst.update(dtrain, iteration=i, fobj=obj)\n",
      "/home/jp/Repositorios/UDEA/InteligenciaArtificial-UdeA20251/.venv/lib/python3.12/site-packages/xgboost/core.py:2676: UserWarning: [14:38:10] WARNING: /workspace/src/common/error_msg.cc:27: The tree method `gpu_hist` is deprecated since 2.0.0. To use GPU training, set the `device` parameter to CUDA instead.\n",
      "\n",
      "    E.g. tree_method = \"hist\", device = \"cuda\"\n",
      "\n",
      "  if len(data.shape) != 1 and self.num_features() != data.shape[1]:\n"
     ]
    },
    {
     "name": "stdout",
     "output_type": "stream",
     "text": [
      "[CV] END colsample_bytree=1.0, gamma=0.2, learning_rate=0.1, max_depth=5, min_child_weight=5, n_estimators=300, reg_alpha=0.01, reg_lambda=2, subsample=0.95; total time=  10.8s\n"
     ]
    },
    {
     "name": "stderr",
     "output_type": "stream",
     "text": [
      "/home/jp/Repositorios/UDEA/InteligenciaArtificial-UdeA20251/.venv/lib/python3.12/site-packages/xgboost/training.py:183: UserWarning: [14:38:10] WARNING: /workspace/src/common/error_msg.cc:27: The tree method `gpu_hist` is deprecated since 2.0.0. To use GPU training, set the `device` parameter to CUDA instead.\n",
      "\n",
      "    E.g. tree_method = \"hist\", device = \"cuda\"\n",
      "\n",
      "  bst.update(dtrain, iteration=i, fobj=obj)\n",
      "/home/jp/Repositorios/UDEA/InteligenciaArtificial-UdeA20251/.venv/lib/python3.12/site-packages/xgboost/core.py:2676: UserWarning: [14:38:14] WARNING: /workspace/src/common/error_msg.cc:27: The tree method `gpu_hist` is deprecated since 2.0.0. To use GPU training, set the `device` parameter to CUDA instead.\n",
      "\n",
      "    E.g. tree_method = \"hist\", device = \"cuda\"\n",
      "\n",
      "  if len(data.shape) != 1 and self.num_features() != data.shape[1]:\n"
     ]
    },
    {
     "name": "stdout",
     "output_type": "stream",
     "text": [
      "[CV] END colsample_bytree=1.0, gamma=0.2, learning_rate=0.1, max_depth=5, min_child_weight=5, n_estimators=300, reg_alpha=0.01, reg_lambda=2, subsample=0.95; total time=  10.6s\n"
     ]
    },
    {
     "name": "stderr",
     "output_type": "stream",
     "text": [
      "/home/jp/Repositorios/UDEA/InteligenciaArtificial-UdeA20251/.venv/lib/python3.12/site-packages/xgboost/training.py:183: UserWarning: [14:38:15] WARNING: /workspace/src/common/error_msg.cc:27: The tree method `gpu_hist` is deprecated since 2.0.0. To use GPU training, set the `device` parameter to CUDA instead.\n",
      "\n",
      "    E.g. tree_method = \"hist\", device = \"cuda\"\n",
      "\n",
      "  bst.update(dtrain, iteration=i, fobj=obj)\n",
      "/home/jp/Repositorios/UDEA/InteligenciaArtificial-UdeA20251/.venv/lib/python3.12/site-packages/xgboost/core.py:2676: UserWarning: [14:38:20] WARNING: /workspace/src/common/error_msg.cc:27: The tree method `gpu_hist` is deprecated since 2.0.0. To use GPU training, set the `device` parameter to CUDA instead.\n",
      "\n",
      "    E.g. tree_method = \"hist\", device = \"cuda\"\n",
      "\n",
      "  if len(data.shape) != 1 and self.num_features() != data.shape[1]:\n"
     ]
    },
    {
     "name": "stdout",
     "output_type": "stream",
     "text": [
      "[CV] END colsample_bytree=1.0, gamma=0.2, learning_rate=0.1, max_depth=5, min_child_weight=5, n_estimators=300, reg_alpha=0.01, reg_lambda=2, subsample=0.95; total time=  10.2s\n"
     ]
    },
    {
     "name": "stderr",
     "output_type": "stream",
     "text": [
      "/home/jp/Repositorios/UDEA/InteligenciaArtificial-UdeA20251/.venv/lib/python3.12/site-packages/xgboost/training.py:183: UserWarning: [14:38:20] WARNING: /workspace/src/common/error_msg.cc:27: The tree method `gpu_hist` is deprecated since 2.0.0. To use GPU training, set the `device` parameter to CUDA instead.\n",
      "\n",
      "    E.g. tree_method = \"hist\", device = \"cuda\"\n",
      "\n",
      "  bst.update(dtrain, iteration=i, fobj=obj)\n",
      "/home/jp/Repositorios/UDEA/InteligenciaArtificial-UdeA20251/.venv/lib/python3.12/site-packages/xgboost/core.py:2676: UserWarning: [14:38:24] WARNING: /workspace/src/common/error_msg.cc:27: The tree method `gpu_hist` is deprecated since 2.0.0. To use GPU training, set the `device` parameter to CUDA instead.\n",
      "\n",
      "    E.g. tree_method = \"hist\", device = \"cuda\"\n",
      "\n",
      "  if len(data.shape) != 1 and self.num_features() != data.shape[1]:\n"
     ]
    },
    {
     "name": "stdout",
     "output_type": "stream",
     "text": [
      "[CV] END colsample_bytree=1.0, gamma=0.2, learning_rate=0.1, max_depth=5, min_child_weight=5, n_estimators=300, reg_alpha=0.01, reg_lambda=2, subsample=0.95; total time=   9.6s\n"
     ]
    },
    {
     "name": "stderr",
     "output_type": "stream",
     "text": [
      "/home/jp/Repositorios/UDEA/InteligenciaArtificial-UdeA20251/.venv/lib/python3.12/site-packages/xgboost/training.py:183: UserWarning: [14:38:24] WARNING: /workspace/src/common/error_msg.cc:27: The tree method `gpu_hist` is deprecated since 2.0.0. To use GPU training, set the `device` parameter to CUDA instead.\n",
      "\n",
      "    E.g. tree_method = \"hist\", device = \"cuda\"\n",
      "\n",
      "  bst.update(dtrain, iteration=i, fobj=obj)\n",
      "/home/jp/Repositorios/UDEA/InteligenciaArtificial-UdeA20251/.venv/lib/python3.12/site-packages/xgboost/core.py:2676: UserWarning: [14:38:29] WARNING: /workspace/src/common/error_msg.cc:27: The tree method `gpu_hist` is deprecated since 2.0.0. To use GPU training, set the `device` parameter to CUDA instead.\n",
      "\n",
      "    E.g. tree_method = \"hist\", device = \"cuda\"\n",
      "\n",
      "  if len(data.shape) != 1 and self.num_features() != data.shape[1]:\n"
     ]
    },
    {
     "name": "stdout",
     "output_type": "stream",
     "text": [
      "[CV] END colsample_bytree=1.0, gamma=0.2, learning_rate=0.1, max_depth=5, min_child_weight=5, n_estimators=300, reg_alpha=0.01, reg_lambda=2, subsample=0.95; total time=   9.5s\n"
     ]
    },
    {
     "name": "stderr",
     "output_type": "stream",
     "text": [
      "/home/jp/Repositorios/UDEA/InteligenciaArtificial-UdeA20251/.venv/lib/python3.12/site-packages/xgboost/training.py:183: UserWarning: [14:38:30] WARNING: /workspace/src/common/error_msg.cc:27: The tree method `gpu_hist` is deprecated since 2.0.0. To use GPU training, set the `device` parameter to CUDA instead.\n",
      "\n",
      "    E.g. tree_method = \"hist\", device = \"cuda\"\n",
      "\n",
      "  bst.update(dtrain, iteration=i, fobj=obj)\n",
      "/home/jp/Repositorios/UDEA/InteligenciaArtificial-UdeA20251/.venv/lib/python3.12/site-packages/xgboost/core.py:2676: UserWarning: [14:38:37] WARNING: /workspace/src/common/error_msg.cc:27: The tree method `gpu_hist` is deprecated since 2.0.0. To use GPU training, set the `device` parameter to CUDA instead.\n",
      "\n",
      "    E.g. tree_method = \"hist\", device = \"cuda\"\n",
      "\n",
      "  if len(data.shape) != 1 and self.num_features() != data.shape[1]:\n"
     ]
    },
    {
     "name": "stdout",
     "output_type": "stream",
     "text": [
      "[CV] END colsample_bytree=0.9, gamma=0.3, learning_rate=0.2, max_depth=3, min_child_weight=3, n_estimators=500, reg_alpha=0.01, reg_lambda=2, subsample=0.95; total time=  12.7s\n"
     ]
    },
    {
     "name": "stderr",
     "output_type": "stream",
     "text": [
      "/home/jp/Repositorios/UDEA/InteligenciaArtificial-UdeA20251/.venv/lib/python3.12/site-packages/xgboost/training.py:183: UserWarning: [14:38:37] WARNING: /workspace/src/common/error_msg.cc:27: The tree method `gpu_hist` is deprecated since 2.0.0. To use GPU training, set the `device` parameter to CUDA instead.\n",
      "\n",
      "    E.g. tree_method = \"hist\", device = \"cuda\"\n",
      "\n",
      "  bst.update(dtrain, iteration=i, fobj=obj)\n",
      "/home/jp/Repositorios/UDEA/InteligenciaArtificial-UdeA20251/.venv/lib/python3.12/site-packages/xgboost/core.py:2676: UserWarning: [14:38:42] WARNING: /workspace/src/common/error_msg.cc:27: The tree method `gpu_hist` is deprecated since 2.0.0. To use GPU training, set the `device` parameter to CUDA instead.\n",
      "\n",
      "    E.g. tree_method = \"hist\", device = \"cuda\"\n",
      "\n",
      "  if len(data.shape) != 1 and self.num_features() != data.shape[1]:\n"
     ]
    },
    {
     "name": "stdout",
     "output_type": "stream",
     "text": [
      "[CV] END colsample_bytree=0.9, gamma=0.3, learning_rate=0.2, max_depth=3, min_child_weight=3, n_estimators=500, reg_alpha=0.01, reg_lambda=2, subsample=0.95; total time=  12.5s\n"
     ]
    },
    {
     "name": "stderr",
     "output_type": "stream",
     "text": [
      "/home/jp/Repositorios/UDEA/InteligenciaArtificial-UdeA20251/.venv/lib/python3.12/site-packages/xgboost/training.py:183: UserWarning: [14:38:42] WARNING: /workspace/src/common/error_msg.cc:27: The tree method `gpu_hist` is deprecated since 2.0.0. To use GPU training, set the `device` parameter to CUDA instead.\n",
      "\n",
      "    E.g. tree_method = \"hist\", device = \"cuda\"\n",
      "\n",
      "  bst.update(dtrain, iteration=i, fobj=obj)\n",
      "/home/jp/Repositorios/UDEA/InteligenciaArtificial-UdeA20251/.venv/lib/python3.12/site-packages/xgboost/core.py:2676: UserWarning: [14:38:49] WARNING: /workspace/src/common/error_msg.cc:27: The tree method `gpu_hist` is deprecated since 2.0.0. To use GPU training, set the `device` parameter to CUDA instead.\n",
      "\n",
      "    E.g. tree_method = \"hist\", device = \"cuda\"\n",
      "\n",
      "  if len(data.shape) != 1 and self.num_features() != data.shape[1]:\n"
     ]
    },
    {
     "name": "stdout",
     "output_type": "stream",
     "text": [
      "[CV] END colsample_bytree=0.9, gamma=0.3, learning_rate=0.2, max_depth=3, min_child_weight=3, n_estimators=500, reg_alpha=0.01, reg_lambda=2, subsample=0.95; total time=  12.5s\n"
     ]
    },
    {
     "name": "stderr",
     "output_type": "stream",
     "text": [
      "/home/jp/Repositorios/UDEA/InteligenciaArtificial-UdeA20251/.venv/lib/python3.12/site-packages/xgboost/training.py:183: UserWarning: [14:38:49] WARNING: /workspace/src/common/error_msg.cc:27: The tree method `gpu_hist` is deprecated since 2.0.0. To use GPU training, set the `device` parameter to CUDA instead.\n",
      "\n",
      "    E.g. tree_method = \"hist\", device = \"cuda\"\n",
      "\n",
      "  bst.update(dtrain, iteration=i, fobj=obj)\n",
      "/home/jp/Repositorios/UDEA/InteligenciaArtificial-UdeA20251/.venv/lib/python3.12/site-packages/xgboost/core.py:2676: UserWarning: [14:38:54] WARNING: /workspace/src/common/error_msg.cc:27: The tree method `gpu_hist` is deprecated since 2.0.0. To use GPU training, set the `device` parameter to CUDA instead.\n",
      "\n",
      "    E.g. tree_method = \"hist\", device = \"cuda\"\n",
      "\n",
      "  if len(data.shape) != 1 and self.num_features() != data.shape[1]:\n"
     ]
    },
    {
     "name": "stdout",
     "output_type": "stream",
     "text": [
      "[CV] END colsample_bytree=0.9, gamma=0.3, learning_rate=0.2, max_depth=3, min_child_weight=3, n_estimators=500, reg_alpha=0.01, reg_lambda=2, subsample=0.95; total time=  12.4s\n"
     ]
    },
    {
     "name": "stderr",
     "output_type": "stream",
     "text": [
      "/home/jp/Repositorios/UDEA/InteligenciaArtificial-UdeA20251/.venv/lib/python3.12/site-packages/xgboost/training.py:183: UserWarning: [14:38:55] WARNING: /workspace/src/common/error_msg.cc:27: The tree method `gpu_hist` is deprecated since 2.0.0. To use GPU training, set the `device` parameter to CUDA instead.\n",
      "\n",
      "    E.g. tree_method = \"hist\", device = \"cuda\"\n",
      "\n",
      "  bst.update(dtrain, iteration=i, fobj=obj)\n",
      "/home/jp/Repositorios/UDEA/InteligenciaArtificial-UdeA20251/.venv/lib/python3.12/site-packages/xgboost/core.py:2676: UserWarning: [14:39:02] WARNING: /workspace/src/common/error_msg.cc:27: The tree method `gpu_hist` is deprecated since 2.0.0. To use GPU training, set the `device` parameter to CUDA instead.\n",
      "\n",
      "    E.g. tree_method = \"hist\", device = \"cuda\"\n",
      "\n",
      "  if len(data.shape) != 1 and self.num_features() != data.shape[1]:\n"
     ]
    },
    {
     "name": "stdout",
     "output_type": "stream",
     "text": [
      "[CV] END colsample_bytree=0.9, gamma=0.3, learning_rate=0.2, max_depth=3, min_child_weight=3, n_estimators=500, reg_alpha=0.01, reg_lambda=2, subsample=0.95; total time=  13.1s\n"
     ]
    },
    {
     "name": "stderr",
     "output_type": "stream",
     "text": [
      "/home/jp/Repositorios/UDEA/InteligenciaArtificial-UdeA20251/.venv/lib/python3.12/site-packages/xgboost/training.py:183: UserWarning: [14:39:02] WARNING: /workspace/src/common/error_msg.cc:27: The tree method `gpu_hist` is deprecated since 2.0.0. To use GPU training, set the `device` parameter to CUDA instead.\n",
      "\n",
      "    E.g. tree_method = \"hist\", device = \"cuda\"\n",
      "\n",
      "  bst.update(dtrain, iteration=i, fobj=obj)\n",
      "/home/jp/Repositorios/UDEA/InteligenciaArtificial-UdeA20251/.venv/lib/python3.12/site-packages/xgboost/core.py:2676: UserWarning: [14:39:27] WARNING: /workspace/src/common/error_msg.cc:27: The tree method `gpu_hist` is deprecated since 2.0.0. To use GPU training, set the `device` parameter to CUDA instead.\n",
      "\n",
      "    E.g. tree_method = \"hist\", device = \"cuda\"\n",
      "\n",
      "  if len(data.shape) != 1 and self.num_features() != data.shape[1]:\n"
     ]
    },
    {
     "name": "stdout",
     "output_type": "stream",
     "text": [
      "[CV] END colsample_bytree=0.95, gamma=0.3, learning_rate=0.05, max_depth=6, min_child_weight=3, n_estimators=800, reg_alpha=0.1, reg_lambda=1.5, subsample=0.9; total time=  32.8s\n"
     ]
    },
    {
     "name": "stderr",
     "output_type": "stream",
     "text": [
      "/home/jp/Repositorios/UDEA/InteligenciaArtificial-UdeA20251/.venv/lib/python3.12/site-packages/xgboost/training.py:183: UserWarning: [14:39:27] WARNING: /workspace/src/common/error_msg.cc:27: The tree method `gpu_hist` is deprecated since 2.0.0. To use GPU training, set the `device` parameter to CUDA instead.\n",
      "\n",
      "    E.g. tree_method = \"hist\", device = \"cuda\"\n",
      "\n",
      "  bst.update(dtrain, iteration=i, fobj=obj)\n",
      "/home/jp/Repositorios/UDEA/InteligenciaArtificial-UdeA20251/.venv/lib/python3.12/site-packages/xgboost/core.py:2676: UserWarning: [14:39:36] WARNING: /workspace/src/common/error_msg.cc:27: The tree method `gpu_hist` is deprecated since 2.0.0. To use GPU training, set the `device` parameter to CUDA instead.\n",
      "\n",
      "    E.g. tree_method = \"hist\", device = \"cuda\"\n",
      "\n",
      "  if len(data.shape) != 1 and self.num_features() != data.shape[1]:\n"
     ]
    },
    {
     "name": "stdout",
     "output_type": "stream",
     "text": [
      "[CV] END colsample_bytree=0.95, gamma=0.3, learning_rate=0.05, max_depth=6, min_child_weight=3, n_estimators=800, reg_alpha=0.1, reg_lambda=1.5, subsample=0.9; total time=  33.9s\n"
     ]
    },
    {
     "name": "stderr",
     "output_type": "stream",
     "text": [
      "/home/jp/Repositorios/UDEA/InteligenciaArtificial-UdeA20251/.venv/lib/python3.12/site-packages/xgboost/training.py:183: UserWarning: [14:39:36] WARNING: /workspace/src/common/error_msg.cc:27: The tree method `gpu_hist` is deprecated since 2.0.0. To use GPU training, set the `device` parameter to CUDA instead.\n",
      "\n",
      "    E.g. tree_method = \"hist\", device = \"cuda\"\n",
      "\n",
      "  bst.update(dtrain, iteration=i, fobj=obj)\n",
      "/home/jp/Repositorios/UDEA/InteligenciaArtificial-UdeA20251/.venv/lib/python3.12/site-packages/xgboost/core.py:2676: UserWarning: [14:40:02] WARNING: /workspace/src/common/error_msg.cc:27: The tree method `gpu_hist` is deprecated since 2.0.0. To use GPU training, set the `device` parameter to CUDA instead.\n",
      "\n",
      "    E.g. tree_method = \"hist\", device = \"cuda\"\n",
      "\n",
      "  if len(data.shape) != 1 and self.num_features() != data.shape[1]:\n"
     ]
    },
    {
     "name": "stdout",
     "output_type": "stream",
     "text": [
      "[CV] END colsample_bytree=0.95, gamma=0.3, learning_rate=0.05, max_depth=6, min_child_weight=3, n_estimators=800, reg_alpha=0.1, reg_lambda=1.5, subsample=0.9; total time=  34.6s\n"
     ]
    },
    {
     "name": "stderr",
     "output_type": "stream",
     "text": [
      "/home/jp/Repositorios/UDEA/InteligenciaArtificial-UdeA20251/.venv/lib/python3.12/site-packages/xgboost/training.py:183: UserWarning: [14:40:02] WARNING: /workspace/src/common/error_msg.cc:27: The tree method `gpu_hist` is deprecated since 2.0.0. To use GPU training, set the `device` parameter to CUDA instead.\n",
      "\n",
      "    E.g. tree_method = \"hist\", device = \"cuda\"\n",
      "\n",
      "  bst.update(dtrain, iteration=i, fobj=obj)\n",
      "/home/jp/Repositorios/UDEA/InteligenciaArtificial-UdeA20251/.venv/lib/python3.12/site-packages/xgboost/core.py:2676: UserWarning: [14:40:11] WARNING: /workspace/src/common/error_msg.cc:27: The tree method `gpu_hist` is deprecated since 2.0.0. To use GPU training, set the `device` parameter to CUDA instead.\n",
      "\n",
      "    E.g. tree_method = \"hist\", device = \"cuda\"\n",
      "\n",
      "  if len(data.shape) != 1 and self.num_features() != data.shape[1]:\n"
     ]
    },
    {
     "name": "stdout",
     "output_type": "stream",
     "text": [
      "[CV] END colsample_bytree=0.95, gamma=0.3, learning_rate=0.05, max_depth=6, min_child_weight=3, n_estimators=800, reg_alpha=0.1, reg_lambda=1.5, subsample=0.9; total time=  34.5s\n"
     ]
    },
    {
     "name": "stderr",
     "output_type": "stream",
     "text": [
      "/home/jp/Repositorios/UDEA/InteligenciaArtificial-UdeA20251/.venv/lib/python3.12/site-packages/xgboost/training.py:183: UserWarning: [14:40:11] WARNING: /workspace/src/common/error_msg.cc:27: The tree method `gpu_hist` is deprecated since 2.0.0. To use GPU training, set the `device` parameter to CUDA instead.\n",
      "\n",
      "    E.g. tree_method = \"hist\", device = \"cuda\"\n",
      "\n",
      "  bst.update(dtrain, iteration=i, fobj=obj)\n",
      "/home/jp/Repositorios/UDEA/InteligenciaArtificial-UdeA20251/.venv/lib/python3.12/site-packages/xgboost/core.py:2676: UserWarning: [14:40:17] WARNING: /workspace/src/common/error_msg.cc:27: The tree method `gpu_hist` is deprecated since 2.0.0. To use GPU training, set the `device` parameter to CUDA instead.\n",
      "\n",
      "    E.g. tree_method = \"hist\", device = \"cuda\"\n",
      "\n",
      "  if len(data.shape) != 1 and self.num_features() != data.shape[1]:\n"
     ]
    },
    {
     "name": "stdout",
     "output_type": "stream",
     "text": [
      "[CV] END colsample_bytree=1.0, gamma=0.1, learning_rate=0.2, max_depth=4, min_child_weight=1, n_estimators=200, reg_alpha=0.1, reg_lambda=1.5, subsample=1.0; total time=   6.3s\n"
     ]
    },
    {
     "name": "stderr",
     "output_type": "stream",
     "text": [
      "/home/jp/Repositorios/UDEA/InteligenciaArtificial-UdeA20251/.venv/lib/python3.12/site-packages/xgboost/training.py:183: UserWarning: [14:40:17] WARNING: /workspace/src/common/error_msg.cc:27: The tree method `gpu_hist` is deprecated since 2.0.0. To use GPU training, set the `device` parameter to CUDA instead.\n",
      "\n",
      "    E.g. tree_method = \"hist\", device = \"cuda\"\n",
      "\n",
      "  bst.update(dtrain, iteration=i, fobj=obj)\n",
      "/home/jp/Repositorios/UDEA/InteligenciaArtificial-UdeA20251/.venv/lib/python3.12/site-packages/xgboost/core.py:2676: UserWarning: [14:40:23] WARNING: /workspace/src/common/error_msg.cc:27: The tree method `gpu_hist` is deprecated since 2.0.0. To use GPU training, set the `device` parameter to CUDA instead.\n",
      "\n",
      "    E.g. tree_method = \"hist\", device = \"cuda\"\n",
      "\n",
      "  if len(data.shape) != 1 and self.num_features() != data.shape[1]:\n"
     ]
    },
    {
     "name": "stdout",
     "output_type": "stream",
     "text": [
      "[CV] END colsample_bytree=1.0, gamma=0.1, learning_rate=0.2, max_depth=4, min_child_weight=1, n_estimators=200, reg_alpha=0.1, reg_lambda=1.5, subsample=1.0; total time=   6.3s\n"
     ]
    },
    {
     "name": "stderr",
     "output_type": "stream",
     "text": [
      "/home/jp/Repositorios/UDEA/InteligenciaArtificial-UdeA20251/.venv/lib/python3.12/site-packages/xgboost/training.py:183: UserWarning: [14:40:23] WARNING: /workspace/src/common/error_msg.cc:27: The tree method `gpu_hist` is deprecated since 2.0.0. To use GPU training, set the `device` parameter to CUDA instead.\n",
      "\n",
      "    E.g. tree_method = \"hist\", device = \"cuda\"\n",
      "\n",
      "  bst.update(dtrain, iteration=i, fobj=obj)\n",
      "/home/jp/Repositorios/UDEA/InteligenciaArtificial-UdeA20251/.venv/lib/python3.12/site-packages/xgboost/core.py:2676: UserWarning: [14:40:29] WARNING: /workspace/src/common/error_msg.cc:27: The tree method `gpu_hist` is deprecated since 2.0.0. To use GPU training, set the `device` parameter to CUDA instead.\n",
      "\n",
      "    E.g. tree_method = \"hist\", device = \"cuda\"\n",
      "\n",
      "  if len(data.shape) != 1 and self.num_features() != data.shape[1]:\n"
     ]
    },
    {
     "name": "stdout",
     "output_type": "stream",
     "text": [
      "[CV] END colsample_bytree=1.0, gamma=0.1, learning_rate=0.2, max_depth=4, min_child_weight=1, n_estimators=200, reg_alpha=0.1, reg_lambda=1.5, subsample=1.0; total time=   6.2s\n"
     ]
    },
    {
     "name": "stderr",
     "output_type": "stream",
     "text": [
      "/home/jp/Repositorios/UDEA/InteligenciaArtificial-UdeA20251/.venv/lib/python3.12/site-packages/xgboost/training.py:183: UserWarning: [14:40:30] WARNING: /workspace/src/common/error_msg.cc:27: The tree method `gpu_hist` is deprecated since 2.0.0. To use GPU training, set the `device` parameter to CUDA instead.\n",
      "\n",
      "    E.g. tree_method = \"hist\", device = \"cuda\"\n",
      "\n",
      "  bst.update(dtrain, iteration=i, fobj=obj)\n",
      "/home/jp/Repositorios/UDEA/InteligenciaArtificial-UdeA20251/.venv/lib/python3.12/site-packages/xgboost/core.py:2676: UserWarning: [14:40:34] WARNING: /workspace/src/common/error_msg.cc:27: The tree method `gpu_hist` is deprecated since 2.0.0. To use GPU training, set the `device` parameter to CUDA instead.\n",
      "\n",
      "    E.g. tree_method = \"hist\", device = \"cuda\"\n",
      "\n",
      "  if len(data.shape) != 1 and self.num_features() != data.shape[1]:\n"
     ]
    },
    {
     "name": "stdout",
     "output_type": "stream",
     "text": [
      "[CV] END colsample_bytree=0.95, gamma=0.3, learning_rate=0.05, max_depth=6, min_child_weight=3, n_estimators=800, reg_alpha=0.1, reg_lambda=1.5, subsample=0.9; total time=  32.7s\n"
     ]
    },
    {
     "name": "stderr",
     "output_type": "stream",
     "text": [
      "/home/jp/Repositorios/UDEA/InteligenciaArtificial-UdeA20251/.venv/lib/python3.12/site-packages/xgboost/training.py:183: UserWarning: [14:40:35] WARNING: /workspace/src/common/error_msg.cc:27: The tree method `gpu_hist` is deprecated since 2.0.0. To use GPU training, set the `device` parameter to CUDA instead.\n",
      "\n",
      "    E.g. tree_method = \"hist\", device = \"cuda\"\n",
      "\n",
      "  bst.update(dtrain, iteration=i, fobj=obj)\n",
      "/home/jp/Repositorios/UDEA/InteligenciaArtificial-UdeA20251/.venv/lib/python3.12/site-packages/xgboost/core.py:2676: UserWarning: [14:40:35] WARNING: /workspace/src/common/error_msg.cc:27: The tree method `gpu_hist` is deprecated since 2.0.0. To use GPU training, set the `device` parameter to CUDA instead.\n",
      "\n",
      "    E.g. tree_method = \"hist\", device = \"cuda\"\n",
      "\n",
      "  if len(data.shape) != 1 and self.num_features() != data.shape[1]:\n"
     ]
    },
    {
     "name": "stdout",
     "output_type": "stream",
     "text": [
      "[CV] END colsample_bytree=1.0, gamma=0.1, learning_rate=0.2, max_depth=4, min_child_weight=1, n_estimators=200, reg_alpha=0.1, reg_lambda=1.5, subsample=1.0; total time=   5.8s\n"
     ]
    },
    {
     "name": "stderr",
     "output_type": "stream",
     "text": [
      "/home/jp/Repositorios/UDEA/InteligenciaArtificial-UdeA20251/.venv/lib/python3.12/site-packages/xgboost/training.py:183: UserWarning: [14:40:35] WARNING: /workspace/src/common/error_msg.cc:27: The tree method `gpu_hist` is deprecated since 2.0.0. To use GPU training, set the `device` parameter to CUDA instead.\n",
      "\n",
      "    E.g. tree_method = \"hist\", device = \"cuda\"\n",
      "\n",
      "  bst.update(dtrain, iteration=i, fobj=obj)\n",
      "/home/jp/Repositorios/UDEA/InteligenciaArtificial-UdeA20251/.venv/lib/python3.12/site-packages/xgboost/core.py:2676: UserWarning: [14:40:40] WARNING: /workspace/src/common/error_msg.cc:27: The tree method `gpu_hist` is deprecated since 2.0.0. To use GPU training, set the `device` parameter to CUDA instead.\n",
      "\n",
      "    E.g. tree_method = \"hist\", device = \"cuda\"\n",
      "\n",
      "  if len(data.shape) != 1 and self.num_features() != data.shape[1]:\n"
     ]
    },
    {
     "name": "stdout",
     "output_type": "stream",
     "text": [
      "[CV] END colsample_bytree=1.0, gamma=0.1, learning_rate=0.2, max_depth=4, min_child_weight=1, n_estimators=200, reg_alpha=0.1, reg_lambda=1.5, subsample=1.0; total time=   6.0s\n"
     ]
    },
    {
     "name": "stderr",
     "output_type": "stream",
     "text": [
      "/home/jp/Repositorios/UDEA/InteligenciaArtificial-UdeA20251/.venv/lib/python3.12/site-packages/xgboost/training.py:183: UserWarning: [14:40:41] WARNING: /workspace/src/common/error_msg.cc:27: The tree method `gpu_hist` is deprecated since 2.0.0. To use GPU training, set the `device` parameter to CUDA instead.\n",
      "\n",
      "    E.g. tree_method = \"hist\", device = \"cuda\"\n",
      "\n",
      "  bst.update(dtrain, iteration=i, fobj=obj)\n",
      "/home/jp/Repositorios/UDEA/InteligenciaArtificial-UdeA20251/.venv/lib/python3.12/site-packages/xgboost/core.py:2676: UserWarning: [14:40:46] WARNING: /workspace/src/common/error_msg.cc:27: The tree method `gpu_hist` is deprecated since 2.0.0. To use GPU training, set the `device` parameter to CUDA instead.\n",
      "\n",
      "    E.g. tree_method = \"hist\", device = \"cuda\"\n",
      "\n",
      "  if len(data.shape) != 1 and self.num_features() != data.shape[1]:\n"
     ]
    },
    {
     "name": "stdout",
     "output_type": "stream",
     "text": [
      "[CV] END colsample_bytree=1.0, gamma=0, learning_rate=0.01, max_depth=5, min_child_weight=1, n_estimators=300, reg_alpha=0.01, reg_lambda=2, subsample=1.0; total time=  10.8s\n"
     ]
    },
    {
     "name": "stderr",
     "output_type": "stream",
     "text": [
      "/home/jp/Repositorios/UDEA/InteligenciaArtificial-UdeA20251/.venv/lib/python3.12/site-packages/xgboost/training.py:183: UserWarning: [14:40:46] WARNING: /workspace/src/common/error_msg.cc:27: The tree method `gpu_hist` is deprecated since 2.0.0. To use GPU training, set the `device` parameter to CUDA instead.\n",
      "\n",
      "    E.g. tree_method = \"hist\", device = \"cuda\"\n",
      "\n",
      "  bst.update(dtrain, iteration=i, fobj=obj)\n",
      "/home/jp/Repositorios/UDEA/InteligenciaArtificial-UdeA20251/.venv/lib/python3.12/site-packages/xgboost/core.py:2676: UserWarning: [14:40:51] WARNING: /workspace/src/common/error_msg.cc:27: The tree method `gpu_hist` is deprecated since 2.0.0. To use GPU training, set the `device` parameter to CUDA instead.\n",
      "\n",
      "    E.g. tree_method = \"hist\", device = \"cuda\"\n",
      "\n",
      "  if len(data.shape) != 1 and self.num_features() != data.shape[1]:\n"
     ]
    },
    {
     "name": "stdout",
     "output_type": "stream",
     "text": [
      "[CV] END colsample_bytree=1.0, gamma=0, learning_rate=0.01, max_depth=5, min_child_weight=1, n_estimators=300, reg_alpha=0.01, reg_lambda=2, subsample=1.0; total time=  11.0s\n"
     ]
    },
    {
     "name": "stderr",
     "output_type": "stream",
     "text": [
      "/home/jp/Repositorios/UDEA/InteligenciaArtificial-UdeA20251/.venv/lib/python3.12/site-packages/xgboost/training.py:183: UserWarning: [14:40:52] WARNING: /workspace/src/common/error_msg.cc:27: The tree method `gpu_hist` is deprecated since 2.0.0. To use GPU training, set the `device` parameter to CUDA instead.\n",
      "\n",
      "    E.g. tree_method = \"hist\", device = \"cuda\"\n",
      "\n",
      "  bst.update(dtrain, iteration=i, fobj=obj)\n",
      "/home/jp/Repositorios/UDEA/InteligenciaArtificial-UdeA20251/.venv/lib/python3.12/site-packages/xgboost/core.py:2676: UserWarning: [14:40:57] WARNING: /workspace/src/common/error_msg.cc:27: The tree method `gpu_hist` is deprecated since 2.0.0. To use GPU training, set the `device` parameter to CUDA instead.\n",
      "\n",
      "    E.g. tree_method = \"hist\", device = \"cuda\"\n",
      "\n",
      "  if len(data.shape) != 1 and self.num_features() != data.shape[1]:\n"
     ]
    },
    {
     "name": "stdout",
     "output_type": "stream",
     "text": [
      "[CV] END colsample_bytree=1.0, gamma=0, learning_rate=0.01, max_depth=5, min_child_weight=1, n_estimators=300, reg_alpha=0.01, reg_lambda=2, subsample=1.0; total time=  11.1s\n"
     ]
    },
    {
     "name": "stderr",
     "output_type": "stream",
     "text": [
      "/home/jp/Repositorios/UDEA/InteligenciaArtificial-UdeA20251/.venv/lib/python3.12/site-packages/xgboost/training.py:183: UserWarning: [14:40:57] WARNING: /workspace/src/common/error_msg.cc:27: The tree method `gpu_hist` is deprecated since 2.0.0. To use GPU training, set the `device` parameter to CUDA instead.\n",
      "\n",
      "    E.g. tree_method = \"hist\", device = \"cuda\"\n",
      "\n",
      "  bst.update(dtrain, iteration=i, fobj=obj)\n",
      "/home/jp/Repositorios/UDEA/InteligenciaArtificial-UdeA20251/.venv/lib/python3.12/site-packages/xgboost/core.py:2676: UserWarning: [14:41:03] WARNING: /workspace/src/common/error_msg.cc:27: The tree method `gpu_hist` is deprecated since 2.0.0. To use GPU training, set the `device` parameter to CUDA instead.\n",
      "\n",
      "    E.g. tree_method = \"hist\", device = \"cuda\"\n",
      "\n",
      "  if len(data.shape) != 1 and self.num_features() != data.shape[1]:\n"
     ]
    },
    {
     "name": "stdout",
     "output_type": "stream",
     "text": [
      "[CV] END colsample_bytree=1.0, gamma=0, learning_rate=0.01, max_depth=5, min_child_weight=1, n_estimators=300, reg_alpha=0.01, reg_lambda=2, subsample=1.0; total time=  11.1s\n"
     ]
    },
    {
     "name": "stderr",
     "output_type": "stream",
     "text": [
      "/home/jp/Repositorios/UDEA/InteligenciaArtificial-UdeA20251/.venv/lib/python3.12/site-packages/xgboost/training.py:183: UserWarning: [14:41:03] WARNING: /workspace/src/common/error_msg.cc:27: The tree method `gpu_hist` is deprecated since 2.0.0. To use GPU training, set the `device` parameter to CUDA instead.\n",
      "\n",
      "    E.g. tree_method = \"hist\", device = \"cuda\"\n",
      "\n",
      "  bst.update(dtrain, iteration=i, fobj=obj)\n",
      "/home/jp/Repositorios/UDEA/InteligenciaArtificial-UdeA20251/.venv/lib/python3.12/site-packages/xgboost/core.py:2676: UserWarning: [14:41:08] WARNING: /workspace/src/common/error_msg.cc:27: The tree method `gpu_hist` is deprecated since 2.0.0. To use GPU training, set the `device` parameter to CUDA instead.\n",
      "\n",
      "    E.g. tree_method = \"hist\", device = \"cuda\"\n",
      "\n",
      "  if len(data.shape) != 1 and self.num_features() != data.shape[1]:\n"
     ]
    },
    {
     "name": "stdout",
     "output_type": "stream",
     "text": [
      "[CV] END colsample_bytree=1.0, gamma=0, learning_rate=0.01, max_depth=5, min_child_weight=1, n_estimators=300, reg_alpha=0.01, reg_lambda=2, subsample=1.0; total time=  10.7s\n"
     ]
    },
    {
     "name": "stderr",
     "output_type": "stream",
     "text": [
      "/home/jp/Repositorios/UDEA/InteligenciaArtificial-UdeA20251/.venv/lib/python3.12/site-packages/xgboost/training.py:183: UserWarning: [14:41:08] WARNING: /workspace/src/common/error_msg.cc:27: The tree method `gpu_hist` is deprecated since 2.0.0. To use GPU training, set the `device` parameter to CUDA instead.\n",
      "\n",
      "    E.g. tree_method = \"hist\", device = \"cuda\"\n",
      "\n",
      "  bst.update(dtrain, iteration=i, fobj=obj)\n",
      "/home/jp/Repositorios/UDEA/InteligenciaArtificial-UdeA20251/.venv/lib/python3.12/site-packages/xgboost/core.py:2676: UserWarning: [14:41:09] WARNING: /workspace/src/common/error_msg.cc:27: The tree method `gpu_hist` is deprecated since 2.0.0. To use GPU training, set the `device` parameter to CUDA instead.\n",
      "\n",
      "    E.g. tree_method = \"hist\", device = \"cuda\"\n",
      "\n",
      "  if len(data.shape) != 1 and self.num_features() != data.shape[1]:\n"
     ]
    },
    {
     "name": "stdout",
     "output_type": "stream",
     "text": [
      "[CV] END colsample_bytree=0.8, gamma=0, learning_rate=0.05, max_depth=4, min_child_weight=3, n_estimators=200, reg_alpha=0, reg_lambda=2, subsample=1.0; total time=   6.6s\n"
     ]
    },
    {
     "name": "stderr",
     "output_type": "stream",
     "text": [
      "/home/jp/Repositorios/UDEA/InteligenciaArtificial-UdeA20251/.venv/lib/python3.12/site-packages/xgboost/training.py:183: UserWarning: [14:41:09] WARNING: /workspace/src/common/error_msg.cc:27: The tree method `gpu_hist` is deprecated since 2.0.0. To use GPU training, set the `device` parameter to CUDA instead.\n",
      "\n",
      "    E.g. tree_method = \"hist\", device = \"cuda\"\n",
      "\n",
      "  bst.update(dtrain, iteration=i, fobj=obj)\n",
      "/home/jp/Repositorios/UDEA/InteligenciaArtificial-UdeA20251/.venv/lib/python3.12/site-packages/xgboost/core.py:2676: UserWarning: [14:41:14] WARNING: /workspace/src/common/error_msg.cc:27: The tree method `gpu_hist` is deprecated since 2.0.0. To use GPU training, set the `device` parameter to CUDA instead.\n",
      "\n",
      "    E.g. tree_method = \"hist\", device = \"cuda\"\n",
      "\n",
      "  if len(data.shape) != 1 and self.num_features() != data.shape[1]:\n"
     ]
    },
    {
     "name": "stdout",
     "output_type": "stream",
     "text": [
      "[CV] END colsample_bytree=0.8, gamma=0, learning_rate=0.05, max_depth=4, min_child_weight=3, n_estimators=200, reg_alpha=0, reg_lambda=2, subsample=1.0; total time=   6.3s\n"
     ]
    },
    {
     "name": "stderr",
     "output_type": "stream",
     "text": [
      "/home/jp/Repositorios/UDEA/InteligenciaArtificial-UdeA20251/.venv/lib/python3.12/site-packages/xgboost/training.py:183: UserWarning: [14:41:14] WARNING: /workspace/src/common/error_msg.cc:27: The tree method `gpu_hist` is deprecated since 2.0.0. To use GPU training, set the `device` parameter to CUDA instead.\n",
      "\n",
      "    E.g. tree_method = \"hist\", device = \"cuda\"\n",
      "\n",
      "  bst.update(dtrain, iteration=i, fobj=obj)\n",
      "/home/jp/Repositorios/UDEA/InteligenciaArtificial-UdeA20251/.venv/lib/python3.12/site-packages/xgboost/core.py:2676: UserWarning: [14:41:15] WARNING: /workspace/src/common/error_msg.cc:27: The tree method `gpu_hist` is deprecated since 2.0.0. To use GPU training, set the `device` parameter to CUDA instead.\n",
      "\n",
      "    E.g. tree_method = \"hist\", device = \"cuda\"\n",
      "\n",
      "  if len(data.shape) != 1 and self.num_features() != data.shape[1]:\n"
     ]
    },
    {
     "name": "stdout",
     "output_type": "stream",
     "text": [
      "[CV] END colsample_bytree=0.8, gamma=0, learning_rate=0.05, max_depth=4, min_child_weight=3, n_estimators=200, reg_alpha=0, reg_lambda=2, subsample=1.0; total time=   6.2s\n"
     ]
    },
    {
     "name": "stderr",
     "output_type": "stream",
     "text": [
      "/home/jp/Repositorios/UDEA/InteligenciaArtificial-UdeA20251/.venv/lib/python3.12/site-packages/xgboost/training.py:183: UserWarning: [14:41:15] WARNING: /workspace/src/common/error_msg.cc:27: The tree method `gpu_hist` is deprecated since 2.0.0. To use GPU training, set the `device` parameter to CUDA instead.\n",
      "\n",
      "    E.g. tree_method = \"hist\", device = \"cuda\"\n",
      "\n",
      "  bst.update(dtrain, iteration=i, fobj=obj)\n",
      "/home/jp/Repositorios/UDEA/InteligenciaArtificial-UdeA20251/.venv/lib/python3.12/site-packages/xgboost/core.py:2676: UserWarning: [14:41:20] WARNING: /workspace/src/common/error_msg.cc:27: The tree method `gpu_hist` is deprecated since 2.0.0. To use GPU training, set the `device` parameter to CUDA instead.\n",
      "\n",
      "    E.g. tree_method = \"hist\", device = \"cuda\"\n",
      "\n",
      "  if len(data.shape) != 1 and self.num_features() != data.shape[1]:\n"
     ]
    },
    {
     "name": "stdout",
     "output_type": "stream",
     "text": [
      "[CV] END colsample_bytree=0.8, gamma=0, learning_rate=0.05, max_depth=4, min_child_weight=3, n_estimators=200, reg_alpha=0, reg_lambda=2, subsample=1.0; total time=   6.1s\n"
     ]
    },
    {
     "name": "stderr",
     "output_type": "stream",
     "text": [
      "/home/jp/Repositorios/UDEA/InteligenciaArtificial-UdeA20251/.venv/lib/python3.12/site-packages/xgboost/training.py:183: UserWarning: [14:41:20] WARNING: /workspace/src/common/error_msg.cc:27: The tree method `gpu_hist` is deprecated since 2.0.0. To use GPU training, set the `device` parameter to CUDA instead.\n",
      "\n",
      "    E.g. tree_method = \"hist\", device = \"cuda\"\n",
      "\n",
      "  bst.update(dtrain, iteration=i, fobj=obj)\n",
      "/home/jp/Repositorios/UDEA/InteligenciaArtificial-UdeA20251/.venv/lib/python3.12/site-packages/xgboost/core.py:2676: UserWarning: [14:41:21] WARNING: /workspace/src/common/error_msg.cc:27: The tree method `gpu_hist` is deprecated since 2.0.0. To use GPU training, set the `device` parameter to CUDA instead.\n",
      "\n",
      "    E.g. tree_method = \"hist\", device = \"cuda\"\n",
      "\n",
      "  if len(data.shape) != 1 and self.num_features() != data.shape[1]:\n"
     ]
    },
    {
     "name": "stdout",
     "output_type": "stream",
     "text": [
      "[CV] END colsample_bytree=0.8, gamma=0, learning_rate=0.05, max_depth=4, min_child_weight=3, n_estimators=200, reg_alpha=0, reg_lambda=2, subsample=1.0; total time=   6.0s\n"
     ]
    },
    {
     "name": "stderr",
     "output_type": "stream",
     "text": [
      "/home/jp/Repositorios/UDEA/InteligenciaArtificial-UdeA20251/.venv/lib/python3.12/site-packages/xgboost/training.py:183: UserWarning: [14:41:22] WARNING: /workspace/src/common/error_msg.cc:27: The tree method `gpu_hist` is deprecated since 2.0.0. To use GPU training, set the `device` parameter to CUDA instead.\n",
      "\n",
      "    E.g. tree_method = \"hist\", device = \"cuda\"\n",
      "\n",
      "  bst.update(dtrain, iteration=i, fobj=obj)\n",
      "/home/jp/Repositorios/UDEA/InteligenciaArtificial-UdeA20251/.venv/lib/python3.12/site-packages/xgboost/core.py:2676: UserWarning: [14:41:26] WARNING: /workspace/src/common/error_msg.cc:27: The tree method `gpu_hist` is deprecated since 2.0.0. To use GPU training, set the `device` parameter to CUDA instead.\n",
      "\n",
      "    E.g. tree_method = \"hist\", device = \"cuda\"\n",
      "\n",
      "  if len(data.shape) != 1 and self.num_features() != data.shape[1]:\n"
     ]
    },
    {
     "name": "stdout",
     "output_type": "stream",
     "text": [
      "[CV] END colsample_bytree=0.95, gamma=0.3, learning_rate=0.1, max_depth=4, min_child_weight=5, n_estimators=200, reg_alpha=0.01, reg_lambda=1, subsample=1.0; total time=   6.1s\n"
     ]
    },
    {
     "name": "stderr",
     "output_type": "stream",
     "text": [
      "/home/jp/Repositorios/UDEA/InteligenciaArtificial-UdeA20251/.venv/lib/python3.12/site-packages/xgboost/training.py:183: UserWarning: [14:41:27] WARNING: /workspace/src/common/error_msg.cc:27: The tree method `gpu_hist` is deprecated since 2.0.0. To use GPU training, set the `device` parameter to CUDA instead.\n",
      "\n",
      "    E.g. tree_method = \"hist\", device = \"cuda\"\n",
      "\n",
      "  bst.update(dtrain, iteration=i, fobj=obj)\n",
      "/home/jp/Repositorios/UDEA/InteligenciaArtificial-UdeA20251/.venv/lib/python3.12/site-packages/xgboost/core.py:2676: UserWarning: [14:41:27] WARNING: /workspace/src/common/error_msg.cc:27: The tree method `gpu_hist` is deprecated since 2.0.0. To use GPU training, set the `device` parameter to CUDA instead.\n",
      "\n",
      "    E.g. tree_method = \"hist\", device = \"cuda\"\n",
      "\n",
      "  if len(data.shape) != 1 and self.num_features() != data.shape[1]:\n"
     ]
    },
    {
     "name": "stdout",
     "output_type": "stream",
     "text": [
      "[CV] END colsample_bytree=0.95, gamma=0.3, learning_rate=0.1, max_depth=4, min_child_weight=5, n_estimators=200, reg_alpha=0.01, reg_lambda=1, subsample=1.0; total time=   6.1s\n"
     ]
    },
    {
     "name": "stderr",
     "output_type": "stream",
     "text": [
      "/home/jp/Repositorios/UDEA/InteligenciaArtificial-UdeA20251/.venv/lib/python3.12/site-packages/xgboost/training.py:183: UserWarning: [14:41:28] WARNING: /workspace/src/common/error_msg.cc:27: The tree method `gpu_hist` is deprecated since 2.0.0. To use GPU training, set the `device` parameter to CUDA instead.\n",
      "\n",
      "    E.g. tree_method = \"hist\", device = \"cuda\"\n",
      "\n",
      "  bst.update(dtrain, iteration=i, fobj=obj)\n",
      "/home/jp/Repositorios/UDEA/InteligenciaArtificial-UdeA20251/.venv/lib/python3.12/site-packages/xgboost/core.py:2676: UserWarning: [14:41:32] WARNING: /workspace/src/common/error_msg.cc:27: The tree method `gpu_hist` is deprecated since 2.0.0. To use GPU training, set the `device` parameter to CUDA instead.\n",
      "\n",
      "    E.g. tree_method = \"hist\", device = \"cuda\"\n",
      "\n",
      "  if len(data.shape) != 1 and self.num_features() != data.shape[1]:\n"
     ]
    },
    {
     "name": "stdout",
     "output_type": "stream",
     "text": [
      "[CV] END colsample_bytree=0.95, gamma=0.3, learning_rate=0.1, max_depth=4, min_child_weight=5, n_estimators=200, reg_alpha=0.01, reg_lambda=1, subsample=1.0; total time=   6.0s\n"
     ]
    },
    {
     "name": "stderr",
     "output_type": "stream",
     "text": [
      "/home/jp/Repositorios/UDEA/InteligenciaArtificial-UdeA20251/.venv/lib/python3.12/site-packages/xgboost/training.py:183: UserWarning: [14:41:33] WARNING: /workspace/src/common/error_msg.cc:27: The tree method `gpu_hist` is deprecated since 2.0.0. To use GPU training, set the `device` parameter to CUDA instead.\n",
      "\n",
      "    E.g. tree_method = \"hist\", device = \"cuda\"\n",
      "\n",
      "  bst.update(dtrain, iteration=i, fobj=obj)\n",
      "/home/jp/Repositorios/UDEA/InteligenciaArtificial-UdeA20251/.venv/lib/python3.12/site-packages/xgboost/core.py:2676: UserWarning: [14:41:33] WARNING: /workspace/src/common/error_msg.cc:27: The tree method `gpu_hist` is deprecated since 2.0.0. To use GPU training, set the `device` parameter to CUDA instead.\n",
      "\n",
      "    E.g. tree_method = \"hist\", device = \"cuda\"\n",
      "\n",
      "  if len(data.shape) != 1 and self.num_features() != data.shape[1]:\n"
     ]
    },
    {
     "name": "stdout",
     "output_type": "stream",
     "text": [
      "[CV] END colsample_bytree=0.95, gamma=0.3, learning_rate=0.1, max_depth=4, min_child_weight=5, n_estimators=200, reg_alpha=0.01, reg_lambda=1, subsample=1.0; total time=   6.0s\n"
     ]
    },
    {
     "name": "stderr",
     "output_type": "stream",
     "text": [
      "/home/jp/Repositorios/UDEA/InteligenciaArtificial-UdeA20251/.venv/lib/python3.12/site-packages/xgboost/training.py:183: UserWarning: [14:41:34] WARNING: /workspace/src/common/error_msg.cc:27: The tree method `gpu_hist` is deprecated since 2.0.0. To use GPU training, set the `device` parameter to CUDA instead.\n",
      "\n",
      "    E.g. tree_method = \"hist\", device = \"cuda\"\n",
      "\n",
      "  bst.update(dtrain, iteration=i, fobj=obj)\n",
      "/home/jp/Repositorios/UDEA/InteligenciaArtificial-UdeA20251/.venv/lib/python3.12/site-packages/xgboost/core.py:2676: UserWarning: [14:41:39] WARNING: /workspace/src/common/error_msg.cc:27: The tree method `gpu_hist` is deprecated since 2.0.0. To use GPU training, set the `device` parameter to CUDA instead.\n",
      "\n",
      "    E.g. tree_method = \"hist\", device = \"cuda\"\n",
      "\n",
      "  if len(data.shape) != 1 and self.num_features() != data.shape[1]:\n"
     ]
    },
    {
     "name": "stdout",
     "output_type": "stream",
     "text": [
      "[CV] END colsample_bytree=0.95, gamma=0.3, learning_rate=0.1, max_depth=4, min_child_weight=5, n_estimators=200, reg_alpha=0.01, reg_lambda=1, subsample=1.0; total time=   6.5s\n"
     ]
    },
    {
     "name": "stderr",
     "output_type": "stream",
     "text": [
      "/home/jp/Repositorios/UDEA/InteligenciaArtificial-UdeA20251/.venv/lib/python3.12/site-packages/xgboost/training.py:183: UserWarning: [14:41:39] WARNING: /workspace/src/common/error_msg.cc:27: The tree method `gpu_hist` is deprecated since 2.0.0. To use GPU training, set the `device` parameter to CUDA instead.\n",
      "\n",
      "    E.g. tree_method = \"hist\", device = \"cuda\"\n",
      "\n",
      "  bst.update(dtrain, iteration=i, fobj=obj)\n",
      "/home/jp/Repositorios/UDEA/InteligenciaArtificial-UdeA20251/.venv/lib/python3.12/site-packages/xgboost/core.py:2676: UserWarning: [14:41:45] WARNING: /workspace/src/common/error_msg.cc:27: The tree method `gpu_hist` is deprecated since 2.0.0. To use GPU training, set the `device` parameter to CUDA instead.\n",
      "\n",
      "    E.g. tree_method = \"hist\", device = \"cuda\"\n",
      "\n",
      "  if len(data.shape) != 1 and self.num_features() != data.shape[1]:\n"
     ]
    },
    {
     "name": "stdout",
     "output_type": "stream",
     "text": [
      "[CV] END colsample_bytree=0.9, gamma=0.2, learning_rate=0.01, max_depth=5, min_child_weight=1, n_estimators=300, reg_alpha=0.1, reg_lambda=1, subsample=0.9; total time=  11.6s\n"
     ]
    },
    {
     "name": "stderr",
     "output_type": "stream",
     "text": [
      "/home/jp/Repositorios/UDEA/InteligenciaArtificial-UdeA20251/.venv/lib/python3.12/site-packages/xgboost/training.py:183: UserWarning: [14:41:45] WARNING: /workspace/src/common/error_msg.cc:27: The tree method `gpu_hist` is deprecated since 2.0.0. To use GPU training, set the `device` parameter to CUDA instead.\n",
      "\n",
      "    E.g. tree_method = \"hist\", device = \"cuda\"\n",
      "\n",
      "  bst.update(dtrain, iteration=i, fobj=obj)\n",
      "/home/jp/Repositorios/UDEA/InteligenciaArtificial-UdeA20251/.venv/lib/python3.12/site-packages/xgboost/core.py:2676: UserWarning: [14:41:51] WARNING: /workspace/src/common/error_msg.cc:27: The tree method `gpu_hist` is deprecated since 2.0.0. To use GPU training, set the `device` parameter to CUDA instead.\n",
      "\n",
      "    E.g. tree_method = \"hist\", device = \"cuda\"\n",
      "\n",
      "  if len(data.shape) != 1 and self.num_features() != data.shape[1]:\n"
     ]
    },
    {
     "name": "stdout",
     "output_type": "stream",
     "text": [
      "[CV] END colsample_bytree=0.9, gamma=0.2, learning_rate=0.01, max_depth=5, min_child_weight=1, n_estimators=300, reg_alpha=0.1, reg_lambda=1, subsample=0.9; total time=  11.9s\n"
     ]
    },
    {
     "name": "stderr",
     "output_type": "stream",
     "text": [
      "/home/jp/Repositorios/UDEA/InteligenciaArtificial-UdeA20251/.venv/lib/python3.12/site-packages/xgboost/training.py:183: UserWarning: [14:41:51] WARNING: /workspace/src/common/error_msg.cc:27: The tree method `gpu_hist` is deprecated since 2.0.0. To use GPU training, set the `device` parameter to CUDA instead.\n",
      "\n",
      "    E.g. tree_method = \"hist\", device = \"cuda\"\n",
      "\n",
      "  bst.update(dtrain, iteration=i, fobj=obj)\n",
      "/home/jp/Repositorios/UDEA/InteligenciaArtificial-UdeA20251/.venv/lib/python3.12/site-packages/xgboost/core.py:2676: UserWarning: [14:41:57] WARNING: /workspace/src/common/error_msg.cc:27: The tree method `gpu_hist` is deprecated since 2.0.0. To use GPU training, set the `device` parameter to CUDA instead.\n",
      "\n",
      "    E.g. tree_method = \"hist\", device = \"cuda\"\n",
      "\n",
      "  if len(data.shape) != 1 and self.num_features() != data.shape[1]:\n"
     ]
    },
    {
     "name": "stdout",
     "output_type": "stream",
     "text": [
      "[CV] END colsample_bytree=0.9, gamma=0.2, learning_rate=0.01, max_depth=5, min_child_weight=1, n_estimators=300, reg_alpha=0.1, reg_lambda=1, subsample=0.9; total time=  11.9s\n"
     ]
    },
    {
     "name": "stderr",
     "output_type": "stream",
     "text": [
      "/home/jp/Repositorios/UDEA/InteligenciaArtificial-UdeA20251/.venv/lib/python3.12/site-packages/xgboost/training.py:183: UserWarning: [14:41:57] WARNING: /workspace/src/common/error_msg.cc:27: The tree method `gpu_hist` is deprecated since 2.0.0. To use GPU training, set the `device` parameter to CUDA instead.\n",
      "\n",
      "    E.g. tree_method = \"hist\", device = \"cuda\"\n",
      "\n",
      "  bst.update(dtrain, iteration=i, fobj=obj)\n",
      "/home/jp/Repositorios/UDEA/InteligenciaArtificial-UdeA20251/.venv/lib/python3.12/site-packages/xgboost/core.py:2676: UserWarning: [14:42:03] WARNING: /workspace/src/common/error_msg.cc:27: The tree method `gpu_hist` is deprecated since 2.0.0. To use GPU training, set the `device` parameter to CUDA instead.\n",
      "\n",
      "    E.g. tree_method = \"hist\", device = \"cuda\"\n",
      "\n",
      "  if len(data.shape) != 1 and self.num_features() != data.shape[1]:\n"
     ]
    },
    {
     "name": "stdout",
     "output_type": "stream",
     "text": [
      "[CV] END colsample_bytree=0.9, gamma=0.2, learning_rate=0.01, max_depth=5, min_child_weight=1, n_estimators=300, reg_alpha=0.1, reg_lambda=1, subsample=0.9; total time=  11.8s\n"
     ]
    },
    {
     "name": "stderr",
     "output_type": "stream",
     "text": [
      "/home/jp/Repositorios/UDEA/InteligenciaArtificial-UdeA20251/.venv/lib/python3.12/site-packages/xgboost/training.py:183: UserWarning: [14:42:03] WARNING: /workspace/src/common/error_msg.cc:27: The tree method `gpu_hist` is deprecated since 2.0.0. To use GPU training, set the `device` parameter to CUDA instead.\n",
      "\n",
      "    E.g. tree_method = \"hist\", device = \"cuda\"\n",
      "\n",
      "  bst.update(dtrain, iteration=i, fobj=obj)\n",
      "/home/jp/Repositorios/UDEA/InteligenciaArtificial-UdeA20251/.venv/lib/python3.12/site-packages/xgboost/core.py:2676: UserWarning: [14:42:08] WARNING: /workspace/src/common/error_msg.cc:27: The tree method `gpu_hist` is deprecated since 2.0.0. To use GPU training, set the `device` parameter to CUDA instead.\n",
      "\n",
      "    E.g. tree_method = \"hist\", device = \"cuda\"\n",
      "\n",
      "  if len(data.shape) != 1 and self.num_features() != data.shape[1]:\n"
     ]
    },
    {
     "name": "stdout",
     "output_type": "stream",
     "text": [
      "[CV] END colsample_bytree=0.9, gamma=0.2, learning_rate=0.01, max_depth=5, min_child_weight=1, n_estimators=300, reg_alpha=0.1, reg_lambda=1, subsample=0.9; total time=  11.6s\n"
     ]
    },
    {
     "name": "stderr",
     "output_type": "stream",
     "text": [
      "/home/jp/Repositorios/UDEA/InteligenciaArtificial-UdeA20251/.venv/lib/python3.12/site-packages/xgboost/training.py:183: UserWarning: [14:42:09] WARNING: /workspace/src/common/error_msg.cc:27: The tree method `gpu_hist` is deprecated since 2.0.0. To use GPU training, set the `device` parameter to CUDA instead.\n",
      "\n",
      "    E.g. tree_method = \"hist\", device = \"cuda\"\n",
      "\n",
      "  bst.update(dtrain, iteration=i, fobj=obj)\n",
      "/home/jp/Repositorios/UDEA/InteligenciaArtificial-UdeA20251/.venv/lib/python3.12/site-packages/xgboost/core.py:2676: UserWarning: [14:42:16] WARNING: /workspace/src/common/error_msg.cc:27: The tree method `gpu_hist` is deprecated since 2.0.0. To use GPU training, set the `device` parameter to CUDA instead.\n",
      "\n",
      "    E.g. tree_method = \"hist\", device = \"cuda\"\n",
      "\n",
      "  if len(data.shape) != 1 and self.num_features() != data.shape[1]:\n"
     ]
    },
    {
     "name": "stdout",
     "output_type": "stream",
     "text": [
      "[CV] END colsample_bytree=1.0, gamma=0, learning_rate=0.01, max_depth=3, min_child_weight=5, n_estimators=500, reg_alpha=0.01, reg_lambda=2, subsample=0.9; total time=  13.0s\n"
     ]
    },
    {
     "name": "stderr",
     "output_type": "stream",
     "text": [
      "/home/jp/Repositorios/UDEA/InteligenciaArtificial-UdeA20251/.venv/lib/python3.12/site-packages/xgboost/training.py:183: UserWarning: [14:42:16] WARNING: /workspace/src/common/error_msg.cc:27: The tree method `gpu_hist` is deprecated since 2.0.0. To use GPU training, set the `device` parameter to CUDA instead.\n",
      "\n",
      "    E.g. tree_method = \"hist\", device = \"cuda\"\n",
      "\n",
      "  bst.update(dtrain, iteration=i, fobj=obj)\n",
      "/home/jp/Repositorios/UDEA/InteligenciaArtificial-UdeA20251/.venv/lib/python3.12/site-packages/xgboost/core.py:2676: UserWarning: [14:42:21] WARNING: /workspace/src/common/error_msg.cc:27: The tree method `gpu_hist` is deprecated since 2.0.0. To use GPU training, set the `device` parameter to CUDA instead.\n",
      "\n",
      "    E.g. tree_method = \"hist\", device = \"cuda\"\n",
      "\n",
      "  if len(data.shape) != 1 and self.num_features() != data.shape[1]:\n"
     ]
    },
    {
     "name": "stdout",
     "output_type": "stream",
     "text": [
      "[CV] END colsample_bytree=1.0, gamma=0, learning_rate=0.01, max_depth=3, min_child_weight=5, n_estimators=500, reg_alpha=0.01, reg_lambda=2, subsample=0.9; total time=  12.6s\n"
     ]
    },
    {
     "name": "stderr",
     "output_type": "stream",
     "text": [
      "/home/jp/Repositorios/UDEA/InteligenciaArtificial-UdeA20251/.venv/lib/python3.12/site-packages/xgboost/training.py:183: UserWarning: [14:42:21] WARNING: /workspace/src/common/error_msg.cc:27: The tree method `gpu_hist` is deprecated since 2.0.0. To use GPU training, set the `device` parameter to CUDA instead.\n",
      "\n",
      "    E.g. tree_method = \"hist\", device = \"cuda\"\n",
      "\n",
      "  bst.update(dtrain, iteration=i, fobj=obj)\n",
      "/home/jp/Repositorios/UDEA/InteligenciaArtificial-UdeA20251/.venv/lib/python3.12/site-packages/xgboost/core.py:2676: UserWarning: [14:42:28] WARNING: /workspace/src/common/error_msg.cc:27: The tree method `gpu_hist` is deprecated since 2.0.0. To use GPU training, set the `device` parameter to CUDA instead.\n",
      "\n",
      "    E.g. tree_method = \"hist\", device = \"cuda\"\n",
      "\n",
      "  if len(data.shape) != 1 and self.num_features() != data.shape[1]:\n"
     ]
    },
    {
     "name": "stdout",
     "output_type": "stream",
     "text": [
      "[CV] END colsample_bytree=1.0, gamma=0, learning_rate=0.01, max_depth=3, min_child_weight=5, n_estimators=500, reg_alpha=0.01, reg_lambda=2, subsample=0.9; total time=  12.8s\n"
     ]
    },
    {
     "name": "stderr",
     "output_type": "stream",
     "text": [
      "/home/jp/Repositorios/UDEA/InteligenciaArtificial-UdeA20251/.venv/lib/python3.12/site-packages/xgboost/training.py:183: UserWarning: [14:42:29] WARNING: /workspace/src/common/error_msg.cc:27: The tree method `gpu_hist` is deprecated since 2.0.0. To use GPU training, set the `device` parameter to CUDA instead.\n",
      "\n",
      "    E.g. tree_method = \"hist\", device = \"cuda\"\n",
      "\n",
      "  bst.update(dtrain, iteration=i, fobj=obj)\n",
      "/home/jp/Repositorios/UDEA/InteligenciaArtificial-UdeA20251/.venv/lib/python3.12/site-packages/xgboost/core.py:2676: UserWarning: [14:42:34] WARNING: /workspace/src/common/error_msg.cc:27: The tree method `gpu_hist` is deprecated since 2.0.0. To use GPU training, set the `device` parameter to CUDA instead.\n",
      "\n",
      "    E.g. tree_method = \"hist\", device = \"cuda\"\n",
      "\n",
      "  if len(data.shape) != 1 and self.num_features() != data.shape[1]:\n"
     ]
    },
    {
     "name": "stdout",
     "output_type": "stream",
     "text": [
      "[CV] END colsample_bytree=1.0, gamma=0, learning_rate=0.01, max_depth=3, min_child_weight=5, n_estimators=500, reg_alpha=0.01, reg_lambda=2, subsample=0.9; total time=  12.7s\n"
     ]
    },
    {
     "name": "stderr",
     "output_type": "stream",
     "text": [
      "/home/jp/Repositorios/UDEA/InteligenciaArtificial-UdeA20251/.venv/lib/python3.12/site-packages/xgboost/training.py:183: UserWarning: [14:42:34] WARNING: /workspace/src/common/error_msg.cc:27: The tree method `gpu_hist` is deprecated since 2.0.0. To use GPU training, set the `device` parameter to CUDA instead.\n",
      "\n",
      "    E.g. tree_method = \"hist\", device = \"cuda\"\n",
      "\n",
      "  bst.update(dtrain, iteration=i, fobj=obj)\n",
      "/home/jp/Repositorios/UDEA/InteligenciaArtificial-UdeA20251/.venv/lib/python3.12/site-packages/xgboost/core.py:2676: UserWarning: [14:42:41] WARNING: /workspace/src/common/error_msg.cc:27: The tree method `gpu_hist` is deprecated since 2.0.0. To use GPU training, set the `device` parameter to CUDA instead.\n",
      "\n",
      "    E.g. tree_method = \"hist\", device = \"cuda\"\n",
      "\n",
      "  if len(data.shape) != 1 and self.num_features() != data.shape[1]:\n"
     ]
    },
    {
     "name": "stdout",
     "output_type": "stream",
     "text": [
      "[CV] END colsample_bytree=1.0, gamma=0, learning_rate=0.01, max_depth=3, min_child_weight=5, n_estimators=500, reg_alpha=0.01, reg_lambda=2, subsample=0.9; total time=  12.2s\n"
     ]
    },
    {
     "name": "stderr",
     "output_type": "stream",
     "text": [
      "/home/jp/Repositorios/UDEA/InteligenciaArtificial-UdeA20251/.venv/lib/python3.12/site-packages/xgboost/training.py:183: UserWarning: [14:42:41] WARNING: /workspace/src/common/error_msg.cc:27: The tree method `gpu_hist` is deprecated since 2.0.0. To use GPU training, set the `device` parameter to CUDA instead.\n",
      "\n",
      "    E.g. tree_method = \"hist\", device = \"cuda\"\n",
      "\n",
      "  bst.update(dtrain, iteration=i, fobj=obj)\n",
      "/home/jp/Repositorios/UDEA/InteligenciaArtificial-UdeA20251/.venv/lib/python3.12/site-packages/xgboost/core.py:2676: UserWarning: [14:42:54] WARNING: /workspace/src/common/error_msg.cc:27: The tree method `gpu_hist` is deprecated since 2.0.0. To use GPU training, set the `device` parameter to CUDA instead.\n",
      "\n",
      "    E.g. tree_method = \"hist\", device = \"cuda\"\n",
      "\n",
      "  if len(data.shape) != 1 and self.num_features() != data.shape[1]:\n"
     ]
    },
    {
     "name": "stdout",
     "output_type": "stream",
     "text": [
      "[CV] END colsample_bytree=0.9, gamma=0.3, learning_rate=0.2, max_depth=3, min_child_weight=5, n_estimators=800, reg_alpha=0.01, reg_lambda=1.5, subsample=0.95; total time=  19.8s\n"
     ]
    },
    {
     "name": "stderr",
     "output_type": "stream",
     "text": [
      "/home/jp/Repositorios/UDEA/InteligenciaArtificial-UdeA20251/.venv/lib/python3.12/site-packages/xgboost/training.py:183: UserWarning: [14:42:54] WARNING: /workspace/src/common/error_msg.cc:27: The tree method `gpu_hist` is deprecated since 2.0.0. To use GPU training, set the `device` parameter to CUDA instead.\n",
      "\n",
      "    E.g. tree_method = \"hist\", device = \"cuda\"\n",
      "\n",
      "  bst.update(dtrain, iteration=i, fobj=obj)\n",
      "/home/jp/Repositorios/UDEA/InteligenciaArtificial-UdeA20251/.venv/lib/python3.12/site-packages/xgboost/core.py:2676: UserWarning: [14:43:00] WARNING: /workspace/src/common/error_msg.cc:27: The tree method `gpu_hist` is deprecated since 2.0.0. To use GPU training, set the `device` parameter to CUDA instead.\n",
      "\n",
      "    E.g. tree_method = \"hist\", device = \"cuda\"\n",
      "\n",
      "  if len(data.shape) != 1 and self.num_features() != data.shape[1]:\n"
     ]
    },
    {
     "name": "stdout",
     "output_type": "stream",
     "text": [
      "[CV] END colsample_bytree=0.9, gamma=0.3, learning_rate=0.2, max_depth=3, min_child_weight=5, n_estimators=800, reg_alpha=0.01, reg_lambda=1.5, subsample=0.95; total time=  19.5s\n"
     ]
    },
    {
     "name": "stderr",
     "output_type": "stream",
     "text": [
      "/home/jp/Repositorios/UDEA/InteligenciaArtificial-UdeA20251/.venv/lib/python3.12/site-packages/xgboost/training.py:183: UserWarning: [14:43:00] WARNING: /workspace/src/common/error_msg.cc:27: The tree method `gpu_hist` is deprecated since 2.0.0. To use GPU training, set the `device` parameter to CUDA instead.\n",
      "\n",
      "    E.g. tree_method = \"hist\", device = \"cuda\"\n",
      "\n",
      "  bst.update(dtrain, iteration=i, fobj=obj)\n",
      "/home/jp/Repositorios/UDEA/InteligenciaArtificial-UdeA20251/.venv/lib/python3.12/site-packages/xgboost/core.py:2676: UserWarning: [14:43:13] WARNING: /workspace/src/common/error_msg.cc:27: The tree method `gpu_hist` is deprecated since 2.0.0. To use GPU training, set the `device` parameter to CUDA instead.\n",
      "\n",
      "    E.g. tree_method = \"hist\", device = \"cuda\"\n",
      "\n",
      "  if len(data.shape) != 1 and self.num_features() != data.shape[1]:\n"
     ]
    },
    {
     "name": "stdout",
     "output_type": "stream",
     "text": [
      "[CV] END colsample_bytree=0.9, gamma=0.3, learning_rate=0.2, max_depth=3, min_child_weight=5, n_estimators=800, reg_alpha=0.01, reg_lambda=1.5, subsample=0.95; total time=  19.9s\n"
     ]
    },
    {
     "name": "stderr",
     "output_type": "stream",
     "text": [
      "/home/jp/Repositorios/UDEA/InteligenciaArtificial-UdeA20251/.venv/lib/python3.12/site-packages/xgboost/training.py:183: UserWarning: [14:43:14] WARNING: /workspace/src/common/error_msg.cc:27: The tree method `gpu_hist` is deprecated since 2.0.0. To use GPU training, set the `device` parameter to CUDA instead.\n",
      "\n",
      "    E.g. tree_method = \"hist\", device = \"cuda\"\n",
      "\n",
      "  bst.update(dtrain, iteration=i, fobj=obj)\n",
      "/home/jp/Repositorios/UDEA/InteligenciaArtificial-UdeA20251/.venv/lib/python3.12/site-packages/xgboost/core.py:2676: UserWarning: [14:43:20] WARNING: /workspace/src/common/error_msg.cc:27: The tree method `gpu_hist` is deprecated since 2.0.0. To use GPU training, set the `device` parameter to CUDA instead.\n",
      "\n",
      "    E.g. tree_method = \"hist\", device = \"cuda\"\n",
      "\n",
      "  if len(data.shape) != 1 and self.num_features() != data.shape[1]:\n"
     ]
    },
    {
     "name": "stdout",
     "output_type": "stream",
     "text": [
      "[CV] END colsample_bytree=0.9, gamma=0.3, learning_rate=0.2, max_depth=3, min_child_weight=5, n_estimators=800, reg_alpha=0.01, reg_lambda=1.5, subsample=0.95; total time=  20.2s\n"
     ]
    },
    {
     "name": "stderr",
     "output_type": "stream",
     "text": [
      "/home/jp/Repositorios/UDEA/InteligenciaArtificial-UdeA20251/.venv/lib/python3.12/site-packages/xgboost/training.py:183: UserWarning: [14:43:21] WARNING: /workspace/src/common/error_msg.cc:27: The tree method `gpu_hist` is deprecated since 2.0.0. To use GPU training, set the `device` parameter to CUDA instead.\n",
      "\n",
      "    E.g. tree_method = \"hist\", device = \"cuda\"\n",
      "\n",
      "  bst.update(dtrain, iteration=i, fobj=obj)\n",
      "/home/jp/Repositorios/UDEA/InteligenciaArtificial-UdeA20251/.venv/lib/python3.12/site-packages/xgboost/core.py:2676: UserWarning: [14:43:34] WARNING: /workspace/src/common/error_msg.cc:27: The tree method `gpu_hist` is deprecated since 2.0.0. To use GPU training, set the `device` parameter to CUDA instead.\n",
      "\n",
      "    E.g. tree_method = \"hist\", device = \"cuda\"\n",
      "\n",
      "  if len(data.shape) != 1 and self.num_features() != data.shape[1]:\n",
      "/home/jp/Repositorios/UDEA/InteligenciaArtificial-UdeA20251/.venv/lib/python3.12/site-packages/xgboost/core.py:2676: UserWarning: [14:43:34] WARNING: /workspace/src/common/error_msg.cc:27: The tree method `gpu_hist` is deprecated since 2.0.0. To use GPU training, set the `device` parameter to CUDA instead.\n",
      "\n",
      "    E.g. tree_method = \"hist\", device = \"cuda\"\n",
      "\n",
      "  if len(data.shape) != 1 and self.num_features() != data.shape[1]:\n"
     ]
    },
    {
     "name": "stdout",
     "output_type": "stream",
     "text": [
      "[CV] END colsample_bytree=0.9, gamma=0.3, learning_rate=0.2, max_depth=3, min_child_weight=5, n_estimators=800, reg_alpha=0.01, reg_lambda=1.5, subsample=0.95; total time=  20.9s\n",
      "[CV] END colsample_bytree=1.0, gamma=0.3, learning_rate=0.1, max_depth=4, min_child_weight=1, n_estimators=500, reg_alpha=0.01, reg_lambda=2, subsample=0.9; total time=  14.0s\n"
     ]
    },
    {
     "name": "stderr",
     "output_type": "stream",
     "text": [
      "/home/jp/Repositorios/UDEA/InteligenciaArtificial-UdeA20251/.venv/lib/python3.12/site-packages/xgboost/training.py:183: UserWarning: [14:43:35] WARNING: /workspace/src/common/error_msg.cc:27: The tree method `gpu_hist` is deprecated since 2.0.0. To use GPU training, set the `device` parameter to CUDA instead.\n",
      "\n",
      "    E.g. tree_method = \"hist\", device = \"cuda\"\n",
      "\n",
      "  bst.update(dtrain, iteration=i, fobj=obj)\n",
      "/home/jp/Repositorios/UDEA/InteligenciaArtificial-UdeA20251/.venv/lib/python3.12/site-packages/xgboost/training.py:183: UserWarning: [14:43:35] WARNING: /workspace/src/common/error_msg.cc:27: The tree method `gpu_hist` is deprecated since 2.0.0. To use GPU training, set the `device` parameter to CUDA instead.\n",
      "\n",
      "    E.g. tree_method = \"hist\", device = \"cuda\"\n",
      "\n",
      "  bst.update(dtrain, iteration=i, fobj=obj)\n",
      "/home/jp/Repositorios/UDEA/InteligenciaArtificial-UdeA20251/.venv/lib/python3.12/site-packages/xgboost/core.py:2676: UserWarning: [14:43:49] WARNING: /workspace/src/common/error_msg.cc:27: The tree method `gpu_hist` is deprecated since 2.0.0. To use GPU training, set the `device` parameter to CUDA instead.\n",
      "\n",
      "    E.g. tree_method = \"hist\", device = \"cuda\"\n",
      "\n",
      "  if len(data.shape) != 1 and self.num_features() != data.shape[1]:\n",
      "/home/jp/Repositorios/UDEA/InteligenciaArtificial-UdeA20251/.venv/lib/python3.12/site-packages/xgboost/core.py:2676: UserWarning: [14:43:49] WARNING: /workspace/src/common/error_msg.cc:27: The tree method `gpu_hist` is deprecated since 2.0.0. To use GPU training, set the `device` parameter to CUDA instead.\n",
      "\n",
      "    E.g. tree_method = \"hist\", device = \"cuda\"\n",
      "\n",
      "  if len(data.shape) != 1 and self.num_features() != data.shape[1]:\n"
     ]
    },
    {
     "name": "stdout",
     "output_type": "stream",
     "text": [
      "[CV] END colsample_bytree=1.0, gamma=0.3, learning_rate=0.1, max_depth=4, min_child_weight=1, n_estimators=500, reg_alpha=0.01, reg_lambda=2, subsample=0.9; total time=  14.6s\n",
      "[CV] END colsample_bytree=1.0, gamma=0.3, learning_rate=0.1, max_depth=4, min_child_weight=1, n_estimators=500, reg_alpha=0.01, reg_lambda=2, subsample=0.9; total time=  14.7s\n"
     ]
    },
    {
     "name": "stderr",
     "output_type": "stream",
     "text": [
      "/home/jp/Repositorios/UDEA/InteligenciaArtificial-UdeA20251/.venv/lib/python3.12/site-packages/xgboost/training.py:183: UserWarning: [14:43:49] WARNING: /workspace/src/common/error_msg.cc:27: The tree method `gpu_hist` is deprecated since 2.0.0. To use GPU training, set the `device` parameter to CUDA instead.\n",
      "\n",
      "    E.g. tree_method = \"hist\", device = \"cuda\"\n",
      "\n",
      "  bst.update(dtrain, iteration=i, fobj=obj)\n",
      "/home/jp/Repositorios/UDEA/InteligenciaArtificial-UdeA20251/.venv/lib/python3.12/site-packages/xgboost/training.py:183: UserWarning: [14:43:49] WARNING: /workspace/src/common/error_msg.cc:27: The tree method `gpu_hist` is deprecated since 2.0.0. To use GPU training, set the `device` parameter to CUDA instead.\n",
      "\n",
      "    E.g. tree_method = \"hist\", device = \"cuda\"\n",
      "\n",
      "  bst.update(dtrain, iteration=i, fobj=obj)\n",
      "/home/jp/Repositorios/UDEA/InteligenciaArtificial-UdeA20251/.venv/lib/python3.12/site-packages/xgboost/core.py:2676: UserWarning: [14:44:03] WARNING: /workspace/src/common/error_msg.cc:27: The tree method `gpu_hist` is deprecated since 2.0.0. To use GPU training, set the `device` parameter to CUDA instead.\n",
      "\n",
      "    E.g. tree_method = \"hist\", device = \"cuda\"\n",
      "\n",
      "  if len(data.shape) != 1 and self.num_features() != data.shape[1]:\n"
     ]
    },
    {
     "name": "stdout",
     "output_type": "stream",
     "text": [
      "[CV] END colsample_bytree=1.0, gamma=0.3, learning_rate=0.1, max_depth=4, min_child_weight=1, n_estimators=500, reg_alpha=0.01, reg_lambda=2, subsample=0.9; total time=  14.5s\n"
     ]
    },
    {
     "name": "stderr",
     "output_type": "stream",
     "text": [
      "/home/jp/Repositorios/UDEA/InteligenciaArtificial-UdeA20251/.venv/lib/python3.12/site-packages/xgboost/core.py:2676: UserWarning: [14:44:04] WARNING: /workspace/src/common/error_msg.cc:27: The tree method `gpu_hist` is deprecated since 2.0.0. To use GPU training, set the `device` parameter to CUDA instead.\n",
      "\n",
      "    E.g. tree_method = \"hist\", device = \"cuda\"\n",
      "\n",
      "  if len(data.shape) != 1 and self.num_features() != data.shape[1]:\n",
      "/home/jp/Repositorios/UDEA/InteligenciaArtificial-UdeA20251/.venv/lib/python3.12/site-packages/xgboost/training.py:183: UserWarning: [14:44:04] WARNING: /workspace/src/common/error_msg.cc:27: The tree method `gpu_hist` is deprecated since 2.0.0. To use GPU training, set the `device` parameter to CUDA instead.\n",
      "\n",
      "    E.g. tree_method = \"hist\", device = \"cuda\"\n",
      "\n",
      "  bst.update(dtrain, iteration=i, fobj=obj)\n"
     ]
    },
    {
     "name": "stdout",
     "output_type": "stream",
     "text": [
      "[CV] END colsample_bytree=1.0, gamma=0.3, learning_rate=0.1, max_depth=4, min_child_weight=1, n_estimators=500, reg_alpha=0.01, reg_lambda=2, subsample=0.9; total time=  14.6s\n"
     ]
    },
    {
     "name": "stderr",
     "output_type": "stream",
     "text": [
      "/home/jp/Repositorios/UDEA/InteligenciaArtificial-UdeA20251/.venv/lib/python3.12/site-packages/xgboost/training.py:183: UserWarning: [14:44:04] WARNING: /workspace/src/common/error_msg.cc:27: The tree method `gpu_hist` is deprecated since 2.0.0. To use GPU training, set the `device` parameter to CUDA instead.\n",
      "\n",
      "    E.g. tree_method = \"hist\", device = \"cuda\"\n",
      "\n",
      "  bst.update(dtrain, iteration=i, fobj=obj)\n",
      "/home/jp/Repositorios/UDEA/InteligenciaArtificial-UdeA20251/.venv/lib/python3.12/site-packages/xgboost/core.py:2676: UserWarning: [14:44:29] WARNING: /workspace/src/common/error_msg.cc:27: The tree method `gpu_hist` is deprecated since 2.0.0. To use GPU training, set the `device` parameter to CUDA instead.\n",
      "\n",
      "    E.g. tree_method = \"hist\", device = \"cuda\"\n",
      "\n",
      "  if len(data.shape) != 1 and self.num_features() != data.shape[1]:\n"
     ]
    },
    {
     "name": "stdout",
     "output_type": "stream",
     "text": [
      "[CV] END colsample_bytree=0.95, gamma=0.3, learning_rate=0.01, max_depth=4, min_child_weight=1, n_estimators=800, reg_alpha=0, reg_lambda=1.5, subsample=0.95; total time=  25.6s\n"
     ]
    },
    {
     "name": "stderr",
     "output_type": "stream",
     "text": [
      "/home/jp/Repositorios/UDEA/InteligenciaArtificial-UdeA20251/.venv/lib/python3.12/site-packages/xgboost/training.py:183: UserWarning: [14:44:29] WARNING: /workspace/src/common/error_msg.cc:27: The tree method `gpu_hist` is deprecated since 2.0.0. To use GPU training, set the `device` parameter to CUDA instead.\n",
      "\n",
      "    E.g. tree_method = \"hist\", device = \"cuda\"\n",
      "\n",
      "  bst.update(dtrain, iteration=i, fobj=obj)\n",
      "/home/jp/Repositorios/UDEA/InteligenciaArtificial-UdeA20251/.venv/lib/python3.12/site-packages/xgboost/core.py:2676: UserWarning: [14:44:29] WARNING: /workspace/src/common/error_msg.cc:27: The tree method `gpu_hist` is deprecated since 2.0.0. To use GPU training, set the `device` parameter to CUDA instead.\n",
      "\n",
      "    E.g. tree_method = \"hist\", device = \"cuda\"\n",
      "\n",
      "  if len(data.shape) != 1 and self.num_features() != data.shape[1]:\n"
     ]
    },
    {
     "name": "stdout",
     "output_type": "stream",
     "text": [
      "[CV] END colsample_bytree=0.95, gamma=0.3, learning_rate=0.01, max_depth=4, min_child_weight=1, n_estimators=800, reg_alpha=0, reg_lambda=1.5, subsample=0.95; total time=  25.7s\n"
     ]
    },
    {
     "name": "stderr",
     "output_type": "stream",
     "text": [
      "/home/jp/Repositorios/UDEA/InteligenciaArtificial-UdeA20251/.venv/lib/python3.12/site-packages/xgboost/training.py:183: UserWarning: [14:44:30] WARNING: /workspace/src/common/error_msg.cc:27: The tree method `gpu_hist` is deprecated since 2.0.0. To use GPU training, set the `device` parameter to CUDA instead.\n",
      "\n",
      "    E.g. tree_method = \"hist\", device = \"cuda\"\n",
      "\n",
      "  bst.update(dtrain, iteration=i, fobj=obj)\n",
      "/home/jp/Repositorios/UDEA/InteligenciaArtificial-UdeA20251/.venv/lib/python3.12/site-packages/xgboost/core.py:2676: UserWarning: [14:44:55] WARNING: /workspace/src/common/error_msg.cc:27: The tree method `gpu_hist` is deprecated since 2.0.0. To use GPU training, set the `device` parameter to CUDA instead.\n",
      "\n",
      "    E.g. tree_method = \"hist\", device = \"cuda\"\n",
      "\n",
      "  if len(data.shape) != 1 and self.num_features() != data.shape[1]:\n"
     ]
    },
    {
     "name": "stdout",
     "output_type": "stream",
     "text": [
      "[CV] END colsample_bytree=0.95, gamma=0.3, learning_rate=0.01, max_depth=4, min_child_weight=1, n_estimators=800, reg_alpha=0, reg_lambda=1.5, subsample=0.95; total time=  25.6s\n"
     ]
    },
    {
     "name": "stderr",
     "output_type": "stream",
     "text": [
      "/home/jp/Repositorios/UDEA/InteligenciaArtificial-UdeA20251/.venv/lib/python3.12/site-packages/xgboost/training.py:183: UserWarning: [14:44:55] WARNING: /workspace/src/common/error_msg.cc:27: The tree method `gpu_hist` is deprecated since 2.0.0. To use GPU training, set the `device` parameter to CUDA instead.\n",
      "\n",
      "    E.g. tree_method = \"hist\", device = \"cuda\"\n",
      "\n",
      "  bst.update(dtrain, iteration=i, fobj=obj)\n",
      "/home/jp/Repositorios/UDEA/InteligenciaArtificial-UdeA20251/.venv/lib/python3.12/site-packages/xgboost/core.py:2676: UserWarning: [14:44:55] WARNING: /workspace/src/common/error_msg.cc:27: The tree method `gpu_hist` is deprecated since 2.0.0. To use GPU training, set the `device` parameter to CUDA instead.\n",
      "\n",
      "    E.g. tree_method = \"hist\", device = \"cuda\"\n",
      "\n",
      "  if len(data.shape) != 1 and self.num_features() != data.shape[1]:\n"
     ]
    },
    {
     "name": "stdout",
     "output_type": "stream",
     "text": [
      "[CV] END colsample_bytree=0.95, gamma=0.3, learning_rate=0.01, max_depth=4, min_child_weight=1, n_estimators=800, reg_alpha=0, reg_lambda=1.5, subsample=0.95; total time=  25.6s\n"
     ]
    },
    {
     "name": "stderr",
     "output_type": "stream",
     "text": [
      "/home/jp/Repositorios/UDEA/InteligenciaArtificial-UdeA20251/.venv/lib/python3.12/site-packages/xgboost/training.py:183: UserWarning: [14:44:55] WARNING: /workspace/src/common/error_msg.cc:27: The tree method `gpu_hist` is deprecated since 2.0.0. To use GPU training, set the `device` parameter to CUDA instead.\n",
      "\n",
      "    E.g. tree_method = \"hist\", device = \"cuda\"\n",
      "\n",
      "  bst.update(dtrain, iteration=i, fobj=obj)\n",
      "/home/jp/Repositorios/UDEA/InteligenciaArtificial-UdeA20251/.venv/lib/python3.12/site-packages/xgboost/core.py:2676: UserWarning: [14:45:05] WARNING: /workspace/src/common/error_msg.cc:27: The tree method `gpu_hist` is deprecated since 2.0.0. To use GPU training, set the `device` parameter to CUDA instead.\n",
      "\n",
      "    E.g. tree_method = \"hist\", device = \"cuda\"\n",
      "\n",
      "  if len(data.shape) != 1 and self.num_features() != data.shape[1]:\n"
     ]
    },
    {
     "name": "stdout",
     "output_type": "stream",
     "text": [
      "[CV] END colsample_bytree=0.9, gamma=0.2, learning_rate=0.05, max_depth=4, min_child_weight=1, n_estimators=300, reg_alpha=0, reg_lambda=1.5, subsample=1.0; total time=   9.7s\n"
     ]
    },
    {
     "name": "stderr",
     "output_type": "stream",
     "text": [
      "/home/jp/Repositorios/UDEA/InteligenciaArtificial-UdeA20251/.venv/lib/python3.12/site-packages/xgboost/training.py:183: UserWarning: [14:45:05] WARNING: /workspace/src/common/error_msg.cc:27: The tree method `gpu_hist` is deprecated since 2.0.0. To use GPU training, set the `device` parameter to CUDA instead.\n",
      "\n",
      "    E.g. tree_method = \"hist\", device = \"cuda\"\n",
      "\n",
      "  bst.update(dtrain, iteration=i, fobj=obj)\n",
      "/home/jp/Repositorios/UDEA/InteligenciaArtificial-UdeA20251/.venv/lib/python3.12/site-packages/xgboost/core.py:2676: UserWarning: [14:45:14] WARNING: /workspace/src/common/error_msg.cc:27: The tree method `gpu_hist` is deprecated since 2.0.0. To use GPU training, set the `device` parameter to CUDA instead.\n",
      "\n",
      "    E.g. tree_method = \"hist\", device = \"cuda\"\n",
      "\n",
      "  if len(data.shape) != 1 and self.num_features() != data.shape[1]:\n"
     ]
    },
    {
     "name": "stdout",
     "output_type": "stream",
     "text": [
      "[CV] END colsample_bytree=0.9, gamma=0.2, learning_rate=0.05, max_depth=4, min_child_weight=1, n_estimators=300, reg_alpha=0, reg_lambda=1.5, subsample=1.0; total time=   9.6s\n"
     ]
    },
    {
     "name": "stderr",
     "output_type": "stream",
     "text": [
      "/home/jp/Repositorios/UDEA/InteligenciaArtificial-UdeA20251/.venv/lib/python3.12/site-packages/xgboost/training.py:183: UserWarning: [14:45:14] WARNING: /workspace/src/common/error_msg.cc:27: The tree method `gpu_hist` is deprecated since 2.0.0. To use GPU training, set the `device` parameter to CUDA instead.\n",
      "\n",
      "    E.g. tree_method = \"hist\", device = \"cuda\"\n",
      "\n",
      "  bst.update(dtrain, iteration=i, fobj=obj)\n",
      "/home/jp/Repositorios/UDEA/InteligenciaArtificial-UdeA20251/.venv/lib/python3.12/site-packages/xgboost/core.py:2676: UserWarning: [14:45:19] WARNING: /workspace/src/common/error_msg.cc:27: The tree method `gpu_hist` is deprecated since 2.0.0. To use GPU training, set the `device` parameter to CUDA instead.\n",
      "\n",
      "    E.g. tree_method = \"hist\", device = \"cuda\"\n",
      "\n",
      "  if len(data.shape) != 1 and self.num_features() != data.shape[1]:\n"
     ]
    },
    {
     "name": "stdout",
     "output_type": "stream",
     "text": [
      "[CV] END colsample_bytree=0.95, gamma=0.3, learning_rate=0.01, max_depth=4, min_child_weight=1, n_estimators=800, reg_alpha=0, reg_lambda=1.5, subsample=0.95; total time=  24.1s\n"
     ]
    },
    {
     "name": "stderr",
     "output_type": "stream",
     "text": [
      "/home/jp/Repositorios/UDEA/InteligenciaArtificial-UdeA20251/.venv/lib/python3.12/site-packages/xgboost/training.py:183: UserWarning: [14:45:19] WARNING: /workspace/src/common/error_msg.cc:27: The tree method `gpu_hist` is deprecated since 2.0.0. To use GPU training, set the `device` parameter to CUDA instead.\n",
      "\n",
      "    E.g. tree_method = \"hist\", device = \"cuda\"\n",
      "\n",
      "  bst.update(dtrain, iteration=i, fobj=obj)\n",
      "/home/jp/Repositorios/UDEA/InteligenciaArtificial-UdeA20251/.venv/lib/python3.12/site-packages/xgboost/core.py:2676: UserWarning: [14:45:23] WARNING: /workspace/src/common/error_msg.cc:27: The tree method `gpu_hist` is deprecated since 2.0.0. To use GPU training, set the `device` parameter to CUDA instead.\n",
      "\n",
      "    E.g. tree_method = \"hist\", device = \"cuda\"\n",
      "\n",
      "  if len(data.shape) != 1 and self.num_features() != data.shape[1]:\n"
     ]
    },
    {
     "name": "stdout",
     "output_type": "stream",
     "text": [
      "[CV] END colsample_bytree=0.9, gamma=0.2, learning_rate=0.05, max_depth=4, min_child_weight=1, n_estimators=300, reg_alpha=0, reg_lambda=1.5, subsample=1.0; total time=   9.1s\n"
     ]
    },
    {
     "name": "stderr",
     "output_type": "stream",
     "text": [
      "/home/jp/Repositorios/UDEA/InteligenciaArtificial-UdeA20251/.venv/lib/python3.12/site-packages/xgboost/training.py:183: UserWarning: [14:45:24] WARNING: /workspace/src/common/error_msg.cc:27: The tree method `gpu_hist` is deprecated since 2.0.0. To use GPU training, set the `device` parameter to CUDA instead.\n",
      "\n",
      "    E.g. tree_method = \"hist\", device = \"cuda\"\n",
      "\n",
      "  bst.update(dtrain, iteration=i, fobj=obj)\n",
      "/home/jp/Repositorios/UDEA/InteligenciaArtificial-UdeA20251/.venv/lib/python3.12/site-packages/xgboost/core.py:2676: UserWarning: [14:45:28] WARNING: /workspace/src/common/error_msg.cc:27: The tree method `gpu_hist` is deprecated since 2.0.0. To use GPU training, set the `device` parameter to CUDA instead.\n",
      "\n",
      "    E.g. tree_method = \"hist\", device = \"cuda\"\n",
      "\n",
      "  if len(data.shape) != 1 and self.num_features() != data.shape[1]:\n"
     ]
    },
    {
     "name": "stdout",
     "output_type": "stream",
     "text": [
      "[CV] END colsample_bytree=0.9, gamma=0.2, learning_rate=0.05, max_depth=4, min_child_weight=1, n_estimators=300, reg_alpha=0, reg_lambda=1.5, subsample=1.0; total time=   8.9s\n"
     ]
    },
    {
     "name": "stderr",
     "output_type": "stream",
     "text": [
      "/home/jp/Repositorios/UDEA/InteligenciaArtificial-UdeA20251/.venv/lib/python3.12/site-packages/xgboost/training.py:183: UserWarning: [14:45:28] WARNING: /workspace/src/common/error_msg.cc:27: The tree method `gpu_hist` is deprecated since 2.0.0. To use GPU training, set the `device` parameter to CUDA instead.\n",
      "\n",
      "    E.g. tree_method = \"hist\", device = \"cuda\"\n",
      "\n",
      "  bst.update(dtrain, iteration=i, fobj=obj)\n",
      "/home/jp/Repositorios/UDEA/InteligenciaArtificial-UdeA20251/.venv/lib/python3.12/site-packages/xgboost/core.py:2676: UserWarning: [14:45:32] WARNING: /workspace/src/common/error_msg.cc:27: The tree method `gpu_hist` is deprecated since 2.0.0. To use GPU training, set the `device` parameter to CUDA instead.\n",
      "\n",
      "    E.g. tree_method = \"hist\", device = \"cuda\"\n",
      "\n",
      "  if len(data.shape) != 1 and self.num_features() != data.shape[1]:\n"
     ]
    },
    {
     "name": "stdout",
     "output_type": "stream",
     "text": [
      "[CV] END colsample_bytree=0.9, gamma=0.2, learning_rate=0.05, max_depth=4, min_child_weight=1, n_estimators=300, reg_alpha=0, reg_lambda=1.5, subsample=1.0; total time=   8.9s\n"
     ]
    },
    {
     "name": "stderr",
     "output_type": "stream",
     "text": [
      "/home/jp/Repositorios/UDEA/InteligenciaArtificial-UdeA20251/.venv/lib/python3.12/site-packages/xgboost/training.py:183: UserWarning: [14:45:33] WARNING: /workspace/src/common/error_msg.cc:27: The tree method `gpu_hist` is deprecated since 2.0.0. To use GPU training, set the `device` parameter to CUDA instead.\n",
      "\n",
      "    E.g. tree_method = \"hist\", device = \"cuda\"\n",
      "\n",
      "  bst.update(dtrain, iteration=i, fobj=obj)\n",
      "/home/jp/Repositorios/UDEA/InteligenciaArtificial-UdeA20251/.venv/lib/python3.12/site-packages/xgboost/core.py:2676: UserWarning: [14:45:34] WARNING: /workspace/src/common/error_msg.cc:27: The tree method `gpu_hist` is deprecated since 2.0.0. To use GPU training, set the `device` parameter to CUDA instead.\n",
      "\n",
      "    E.g. tree_method = \"hist\", device = \"cuda\"\n",
      "\n",
      "  if len(data.shape) != 1 and self.num_features() != data.shape[1]:\n"
     ]
    },
    {
     "name": "stdout",
     "output_type": "stream",
     "text": [
      "[CV] END colsample_bytree=0.9, gamma=0.1, learning_rate=0.05, max_depth=4, min_child_weight=5, n_estimators=200, reg_alpha=0, reg_lambda=1.5, subsample=0.95; total time=   5.9s\n"
     ]
    },
    {
     "name": "stderr",
     "output_type": "stream",
     "text": [
      "/home/jp/Repositorios/UDEA/InteligenciaArtificial-UdeA20251/.venv/lib/python3.12/site-packages/xgboost/training.py:183: UserWarning: [14:45:34] WARNING: /workspace/src/common/error_msg.cc:27: The tree method `gpu_hist` is deprecated since 2.0.0. To use GPU training, set the `device` parameter to CUDA instead.\n",
      "\n",
      "    E.g. tree_method = \"hist\", device = \"cuda\"\n",
      "\n",
      "  bst.update(dtrain, iteration=i, fobj=obj)\n",
      "/home/jp/Repositorios/UDEA/InteligenciaArtificial-UdeA20251/.venv/lib/python3.12/site-packages/xgboost/core.py:2676: UserWarning: [14:45:39] WARNING: /workspace/src/common/error_msg.cc:27: The tree method `gpu_hist` is deprecated since 2.0.0. To use GPU training, set the `device` parameter to CUDA instead.\n",
      "\n",
      "    E.g. tree_method = \"hist\", device = \"cuda\"\n",
      "\n",
      "  if len(data.shape) != 1 and self.num_features() != data.shape[1]:\n"
     ]
    },
    {
     "name": "stdout",
     "output_type": "stream",
     "text": [
      "[CV] END colsample_bytree=0.9, gamma=0.1, learning_rate=0.05, max_depth=4, min_child_weight=5, n_estimators=200, reg_alpha=0, reg_lambda=1.5, subsample=0.95; total time=   6.2s\n"
     ]
    },
    {
     "name": "stderr",
     "output_type": "stream",
     "text": [
      "/home/jp/Repositorios/UDEA/InteligenciaArtificial-UdeA20251/.venv/lib/python3.12/site-packages/xgboost/training.py:183: UserWarning: [14:45:39] WARNING: /workspace/src/common/error_msg.cc:27: The tree method `gpu_hist` is deprecated since 2.0.0. To use GPU training, set the `device` parameter to CUDA instead.\n",
      "\n",
      "    E.g. tree_method = \"hist\", device = \"cuda\"\n",
      "\n",
      "  bst.update(dtrain, iteration=i, fobj=obj)\n",
      "/home/jp/Repositorios/UDEA/InteligenciaArtificial-UdeA20251/.venv/lib/python3.12/site-packages/xgboost/core.py:2676: UserWarning: [14:45:40] WARNING: /workspace/src/common/error_msg.cc:27: The tree method `gpu_hist` is deprecated since 2.0.0. To use GPU training, set the `device` parameter to CUDA instead.\n",
      "\n",
      "    E.g. tree_method = \"hist\", device = \"cuda\"\n",
      "\n",
      "  if len(data.shape) != 1 and self.num_features() != data.shape[1]:\n"
     ]
    },
    {
     "name": "stdout",
     "output_type": "stream",
     "text": [
      "[CV] END colsample_bytree=0.9, gamma=0.1, learning_rate=0.05, max_depth=4, min_child_weight=5, n_estimators=200, reg_alpha=0, reg_lambda=1.5, subsample=0.95; total time=   6.1s\n"
     ]
    },
    {
     "name": "stderr",
     "output_type": "stream",
     "text": [
      "/home/jp/Repositorios/UDEA/InteligenciaArtificial-UdeA20251/.venv/lib/python3.12/site-packages/xgboost/training.py:183: UserWarning: [14:45:40] WARNING: /workspace/src/common/error_msg.cc:27: The tree method `gpu_hist` is deprecated since 2.0.0. To use GPU training, set the `device` parameter to CUDA instead.\n",
      "\n",
      "    E.g. tree_method = \"hist\", device = \"cuda\"\n",
      "\n",
      "  bst.update(dtrain, iteration=i, fobj=obj)\n",
      "/home/jp/Repositorios/UDEA/InteligenciaArtificial-UdeA20251/.venv/lib/python3.12/site-packages/xgboost/core.py:2676: UserWarning: [14:45:45] WARNING: /workspace/src/common/error_msg.cc:27: The tree method `gpu_hist` is deprecated since 2.0.0. To use GPU training, set the `device` parameter to CUDA instead.\n",
      "\n",
      "    E.g. tree_method = \"hist\", device = \"cuda\"\n",
      "\n",
      "  if len(data.shape) != 1 and self.num_features() != data.shape[1]:\n"
     ]
    },
    {
     "name": "stdout",
     "output_type": "stream",
     "text": [
      "[CV] END colsample_bytree=0.9, gamma=0.1, learning_rate=0.05, max_depth=4, min_child_weight=5, n_estimators=200, reg_alpha=0, reg_lambda=1.5, subsample=0.95; total time=   6.1s\n"
     ]
    },
    {
     "name": "stderr",
     "output_type": "stream",
     "text": [
      "/home/jp/Repositorios/UDEA/InteligenciaArtificial-UdeA20251/.venv/lib/python3.12/site-packages/xgboost/training.py:183: UserWarning: [14:45:45] WARNING: /workspace/src/common/error_msg.cc:27: The tree method `gpu_hist` is deprecated since 2.0.0. To use GPU training, set the `device` parameter to CUDA instead.\n",
      "\n",
      "    E.g. tree_method = \"hist\", device = \"cuda\"\n",
      "\n",
      "  bst.update(dtrain, iteration=i, fobj=obj)\n",
      "/home/jp/Repositorios/UDEA/InteligenciaArtificial-UdeA20251/.venv/lib/python3.12/site-packages/xgboost/core.py:2676: UserWarning: [14:45:46] WARNING: /workspace/src/common/error_msg.cc:27: The tree method `gpu_hist` is deprecated since 2.0.0. To use GPU training, set the `device` parameter to CUDA instead.\n",
      "\n",
      "    E.g. tree_method = \"hist\", device = \"cuda\"\n",
      "\n",
      "  if len(data.shape) != 1 and self.num_features() != data.shape[1]:\n"
     ]
    },
    {
     "name": "stdout",
     "output_type": "stream",
     "text": [
      "[CV] END colsample_bytree=0.9, gamma=0.1, learning_rate=0.05, max_depth=4, min_child_weight=5, n_estimators=200, reg_alpha=0, reg_lambda=1.5, subsample=0.95; total time=   6.2s\n"
     ]
    },
    {
     "name": "stderr",
     "output_type": "stream",
     "text": [
      "/home/jp/Repositorios/UDEA/InteligenciaArtificial-UdeA20251/.venv/lib/python3.12/site-packages/xgboost/training.py:183: UserWarning: [14:45:46] WARNING: /workspace/src/common/error_msg.cc:27: The tree method `gpu_hist` is deprecated since 2.0.0. To use GPU training, set the `device` parameter to CUDA instead.\n",
      "\n",
      "    E.g. tree_method = \"hist\", device = \"cuda\"\n",
      "\n",
      "  bst.update(dtrain, iteration=i, fobj=obj)\n",
      "/home/jp/Repositorios/UDEA/InteligenciaArtificial-UdeA20251/.venv/lib/python3.12/site-packages/xgboost/core.py:2676: UserWarning: [14:46:26] WARNING: /workspace/src/common/error_msg.cc:27: The tree method `gpu_hist` is deprecated since 2.0.0. To use GPU training, set the `device` parameter to CUDA instead.\n",
      "\n",
      "    E.g. tree_method = \"hist\", device = \"cuda\"\n",
      "\n",
      "  if len(data.shape) != 1 and self.num_features() != data.shape[1]:\n"
     ]
    },
    {
     "name": "stdout",
     "output_type": "stream",
     "text": [
      "[CV] END colsample_bytree=0.9, gamma=0.2, learning_rate=0.01, max_depth=7, min_child_weight=3, n_estimators=800, reg_alpha=0.01, reg_lambda=2, subsample=1.0; total time=  41.3s\n"
     ]
    },
    {
     "name": "stderr",
     "output_type": "stream",
     "text": [
      "/home/jp/Repositorios/UDEA/InteligenciaArtificial-UdeA20251/.venv/lib/python3.12/site-packages/xgboost/training.py:183: UserWarning: [14:46:26] WARNING: /workspace/src/common/error_msg.cc:27: The tree method `gpu_hist` is deprecated since 2.0.0. To use GPU training, set the `device` parameter to CUDA instead.\n",
      "\n",
      "    E.g. tree_method = \"hist\", device = \"cuda\"\n",
      "\n",
      "  bst.update(dtrain, iteration=i, fobj=obj)\n",
      "/home/jp/Repositorios/UDEA/InteligenciaArtificial-UdeA20251/.venv/lib/python3.12/site-packages/xgboost/core.py:2676: UserWarning: [14:46:27] WARNING: /workspace/src/common/error_msg.cc:27: The tree method `gpu_hist` is deprecated since 2.0.0. To use GPU training, set the `device` parameter to CUDA instead.\n",
      "\n",
      "    E.g. tree_method = \"hist\", device = \"cuda\"\n",
      "\n",
      "  if len(data.shape) != 1 and self.num_features() != data.shape[1]:\n"
     ]
    },
    {
     "name": "stdout",
     "output_type": "stream",
     "text": [
      "[CV] END colsample_bytree=0.9, gamma=0.2, learning_rate=0.01, max_depth=7, min_child_weight=3, n_estimators=800, reg_alpha=0.01, reg_lambda=2, subsample=1.0; total time=  41.2s\n"
     ]
    },
    {
     "name": "stderr",
     "output_type": "stream",
     "text": [
      "/home/jp/Repositorios/UDEA/InteligenciaArtificial-UdeA20251/.venv/lib/python3.12/site-packages/xgboost/training.py:183: UserWarning: [14:46:27] WARNING: /workspace/src/common/error_msg.cc:27: The tree method `gpu_hist` is deprecated since 2.0.0. To use GPU training, set the `device` parameter to CUDA instead.\n",
      "\n",
      "    E.g. tree_method = \"hist\", device = \"cuda\"\n",
      "\n",
      "  bst.update(dtrain, iteration=i, fobj=obj)\n",
      "/home/jp/Repositorios/UDEA/InteligenciaArtificial-UdeA20251/.venv/lib/python3.12/site-packages/xgboost/core.py:2676: UserWarning: [14:47:09] WARNING: /workspace/src/common/error_msg.cc:27: The tree method `gpu_hist` is deprecated since 2.0.0. To use GPU training, set the `device` parameter to CUDA instead.\n",
      "\n",
      "    E.g. tree_method = \"hist\", device = \"cuda\"\n",
      "\n",
      "  if len(data.shape) != 1 and self.num_features() != data.shape[1]:\n"
     ]
    },
    {
     "name": "stdout",
     "output_type": "stream",
     "text": [
      "[CV] END colsample_bytree=0.9, gamma=0.2, learning_rate=0.01, max_depth=7, min_child_weight=3, n_estimators=800, reg_alpha=0.01, reg_lambda=2, subsample=1.0; total time=  43.4s\n"
     ]
    },
    {
     "name": "stderr",
     "output_type": "stream",
     "text": [
      "/home/jp/Repositorios/UDEA/InteligenciaArtificial-UdeA20251/.venv/lib/python3.12/site-packages/xgboost/training.py:183: UserWarning: [14:47:10] WARNING: /workspace/src/common/error_msg.cc:27: The tree method `gpu_hist` is deprecated since 2.0.0. To use GPU training, set the `device` parameter to CUDA instead.\n",
      "\n",
      "    E.g. tree_method = \"hist\", device = \"cuda\"\n",
      "\n",
      "  bst.update(dtrain, iteration=i, fobj=obj)\n",
      "/home/jp/Repositorios/UDEA/InteligenciaArtificial-UdeA20251/.venv/lib/python3.12/site-packages/xgboost/core.py:2676: UserWarning: [14:47:10] WARNING: /workspace/src/common/error_msg.cc:27: The tree method `gpu_hist` is deprecated since 2.0.0. To use GPU training, set the `device` parameter to CUDA instead.\n",
      "\n",
      "    E.g. tree_method = \"hist\", device = \"cuda\"\n",
      "\n",
      "  if len(data.shape) != 1 and self.num_features() != data.shape[1]:\n"
     ]
    },
    {
     "name": "stdout",
     "output_type": "stream",
     "text": [
      "[CV] END colsample_bytree=0.9, gamma=0.2, learning_rate=0.01, max_depth=7, min_child_weight=3, n_estimators=800, reg_alpha=0.01, reg_lambda=2, subsample=1.0; total time=  43.4s\n"
     ]
    },
    {
     "name": "stderr",
     "output_type": "stream",
     "text": [
      "/home/jp/Repositorios/UDEA/InteligenciaArtificial-UdeA20251/.venv/lib/python3.12/site-packages/xgboost/training.py:183: UserWarning: [14:47:11] WARNING: /workspace/src/common/error_msg.cc:27: The tree method `gpu_hist` is deprecated since 2.0.0. To use GPU training, set the `device` parameter to CUDA instead.\n",
      "\n",
      "    E.g. tree_method = \"hist\", device = \"cuda\"\n",
      "\n",
      "  bst.update(dtrain, iteration=i, fobj=obj)\n",
      "/home/jp/Repositorios/UDEA/InteligenciaArtificial-UdeA20251/.venv/lib/python3.12/site-packages/xgboost/core.py:2676: UserWarning: [14:47:20] WARNING: /workspace/src/common/error_msg.cc:27: The tree method `gpu_hist` is deprecated since 2.0.0. To use GPU training, set the `device` parameter to CUDA instead.\n",
      "\n",
      "    E.g. tree_method = \"hist\", device = \"cuda\"\n",
      "\n",
      "  if len(data.shape) != 1 and self.num_features() != data.shape[1]:\n"
     ]
    },
    {
     "name": "stdout",
     "output_type": "stream",
     "text": [
      "[CV] END colsample_bytree=0.8, gamma=0.2, learning_rate=0.2, max_depth=6, min_child_weight=1, n_estimators=200, reg_alpha=0.01, reg_lambda=1, subsample=1.0; total time=   9.2s\n"
     ]
    },
    {
     "name": "stderr",
     "output_type": "stream",
     "text": [
      "/home/jp/Repositorios/UDEA/InteligenciaArtificial-UdeA20251/.venv/lib/python3.12/site-packages/xgboost/training.py:183: UserWarning: [14:47:20] WARNING: /workspace/src/common/error_msg.cc:27: The tree method `gpu_hist` is deprecated since 2.0.0. To use GPU training, set the `device` parameter to CUDA instead.\n",
      "\n",
      "    E.g. tree_method = \"hist\", device = \"cuda\"\n",
      "\n",
      "  bst.update(dtrain, iteration=i, fobj=obj)\n",
      "/home/jp/Repositorios/UDEA/InteligenciaArtificial-UdeA20251/.venv/lib/python3.12/site-packages/xgboost/core.py:2676: UserWarning: [14:47:29] WARNING: /workspace/src/common/error_msg.cc:27: The tree method `gpu_hist` is deprecated since 2.0.0. To use GPU training, set the `device` parameter to CUDA instead.\n",
      "\n",
      "    E.g. tree_method = \"hist\", device = \"cuda\"\n",
      "\n",
      "  if len(data.shape) != 1 and self.num_features() != data.shape[1]:\n"
     ]
    },
    {
     "name": "stdout",
     "output_type": "stream",
     "text": [
      "[CV] END colsample_bytree=0.8, gamma=0.2, learning_rate=0.2, max_depth=6, min_child_weight=1, n_estimators=200, reg_alpha=0.01, reg_lambda=1, subsample=1.0; total time=   9.1s\n"
     ]
    },
    {
     "name": "stderr",
     "output_type": "stream",
     "text": [
      "/home/jp/Repositorios/UDEA/InteligenciaArtificial-UdeA20251/.venv/lib/python3.12/site-packages/xgboost/training.py:183: UserWarning: [14:47:29] WARNING: /workspace/src/common/error_msg.cc:27: The tree method `gpu_hist` is deprecated since 2.0.0. To use GPU training, set the `device` parameter to CUDA instead.\n",
      "\n",
      "    E.g. tree_method = \"hist\", device = \"cuda\"\n",
      "\n",
      "  bst.update(dtrain, iteration=i, fobj=obj)\n",
      "/home/jp/Repositorios/UDEA/InteligenciaArtificial-UdeA20251/.venv/lib/python3.12/site-packages/xgboost/core.py:2676: UserWarning: [14:47:38] WARNING: /workspace/src/common/error_msg.cc:27: The tree method `gpu_hist` is deprecated since 2.0.0. To use GPU training, set the `device` parameter to CUDA instead.\n",
      "\n",
      "    E.g. tree_method = \"hist\", device = \"cuda\"\n",
      "\n",
      "  if len(data.shape) != 1 and self.num_features() != data.shape[1]:\n"
     ]
    },
    {
     "name": "stdout",
     "output_type": "stream",
     "text": [
      "[CV] END colsample_bytree=0.8, gamma=0.2, learning_rate=0.2, max_depth=6, min_child_weight=1, n_estimators=200, reg_alpha=0.01, reg_lambda=1, subsample=1.0; total time=   8.9s\n"
     ]
    },
    {
     "name": "stderr",
     "output_type": "stream",
     "text": [
      "/home/jp/Repositorios/UDEA/InteligenciaArtificial-UdeA20251/.venv/lib/python3.12/site-packages/xgboost/training.py:183: UserWarning: [14:47:38] WARNING: /workspace/src/common/error_msg.cc:27: The tree method `gpu_hist` is deprecated since 2.0.0. To use GPU training, set the `device` parameter to CUDA instead.\n",
      "\n",
      "    E.g. tree_method = \"hist\", device = \"cuda\"\n",
      "\n",
      "  bst.update(dtrain, iteration=i, fobj=obj)\n",
      "/home/jp/Repositorios/UDEA/InteligenciaArtificial-UdeA20251/.venv/lib/python3.12/site-packages/xgboost/core.py:2676: UserWarning: [14:47:46] WARNING: /workspace/src/common/error_msg.cc:27: The tree method `gpu_hist` is deprecated since 2.0.0. To use GPU training, set the `device` parameter to CUDA instead.\n",
      "\n",
      "    E.g. tree_method = \"hist\", device = \"cuda\"\n",
      "\n",
      "  if len(data.shape) != 1 and self.num_features() != data.shape[1]:\n"
     ]
    },
    {
     "name": "stdout",
     "output_type": "stream",
     "text": [
      "[CV] END colsample_bytree=0.8, gamma=0.2, learning_rate=0.2, max_depth=6, min_child_weight=1, n_estimators=200, reg_alpha=0.01, reg_lambda=1, subsample=1.0; total time=   8.7s\n"
     ]
    },
    {
     "name": "stderr",
     "output_type": "stream",
     "text": [
      "/home/jp/Repositorios/UDEA/InteligenciaArtificial-UdeA20251/.venv/lib/python3.12/site-packages/xgboost/training.py:183: UserWarning: [14:47:46] WARNING: /workspace/src/common/error_msg.cc:27: The tree method `gpu_hist` is deprecated since 2.0.0. To use GPU training, set the `device` parameter to CUDA instead.\n",
      "\n",
      "    E.g. tree_method = \"hist\", device = \"cuda\"\n",
      "\n",
      "  bst.update(dtrain, iteration=i, fobj=obj)\n",
      "/home/jp/Repositorios/UDEA/InteligenciaArtificial-UdeA20251/.venv/lib/python3.12/site-packages/xgboost/core.py:2676: UserWarning: [14:47:48] WARNING: /workspace/src/common/error_msg.cc:27: The tree method `gpu_hist` is deprecated since 2.0.0. To use GPU training, set the `device` parameter to CUDA instead.\n",
      "\n",
      "    E.g. tree_method = \"hist\", device = \"cuda\"\n",
      "\n",
      "  if len(data.shape) != 1 and self.num_features() != data.shape[1]:\n"
     ]
    },
    {
     "name": "stdout",
     "output_type": "stream",
     "text": [
      "[CV] END colsample_bytree=0.9, gamma=0.2, learning_rate=0.01, max_depth=7, min_child_weight=3, n_estimators=800, reg_alpha=0.01, reg_lambda=2, subsample=1.0; total time=  39.2s\n"
     ]
    },
    {
     "name": "stderr",
     "output_type": "stream",
     "text": [
      "/home/jp/Repositorios/UDEA/InteligenciaArtificial-UdeA20251/.venv/lib/python3.12/site-packages/xgboost/training.py:183: UserWarning: [14:47:49] WARNING: /workspace/src/common/error_msg.cc:27: The tree method `gpu_hist` is deprecated since 2.0.0. To use GPU training, set the `device` parameter to CUDA instead.\n",
      "\n",
      "    E.g. tree_method = \"hist\", device = \"cuda\"\n",
      "\n",
      "  bst.update(dtrain, iteration=i, fobj=obj)\n",
      "/home/jp/Repositorios/UDEA/InteligenciaArtificial-UdeA20251/.venv/lib/python3.12/site-packages/xgboost/core.py:2676: UserWarning: [14:47:54] WARNING: /workspace/src/common/error_msg.cc:27: The tree method `gpu_hist` is deprecated since 2.0.0. To use GPU training, set the `device` parameter to CUDA instead.\n",
      "\n",
      "    E.g. tree_method = \"hist\", device = \"cuda\"\n",
      "\n",
      "  if len(data.shape) != 1 and self.num_features() != data.shape[1]:\n"
     ]
    },
    {
     "name": "stdout",
     "output_type": "stream",
     "text": [
      "[CV] END colsample_bytree=0.8, gamma=0.2, learning_rate=0.2, max_depth=6, min_child_weight=1, n_estimators=200, reg_alpha=0.01, reg_lambda=1, subsample=1.0; total time=   8.2s\n"
     ]
    },
    {
     "name": "stderr",
     "output_type": "stream",
     "text": [
      "/home/jp/Repositorios/UDEA/InteligenciaArtificial-UdeA20251/.venv/lib/python3.12/site-packages/xgboost/training.py:183: UserWarning: [14:47:55] WARNING: /workspace/src/common/error_msg.cc:27: The tree method `gpu_hist` is deprecated since 2.0.0. To use GPU training, set the `device` parameter to CUDA instead.\n",
      "\n",
      "    E.g. tree_method = \"hist\", device = \"cuda\"\n",
      "\n",
      "  bst.update(dtrain, iteration=i, fobj=obj)\n",
      "/home/jp/Repositorios/UDEA/InteligenciaArtificial-UdeA20251/.venv/lib/python3.12/site-packages/xgboost/core.py:2676: UserWarning: [14:47:58] WARNING: /workspace/src/common/error_msg.cc:27: The tree method `gpu_hist` is deprecated since 2.0.0. To use GPU training, set the `device` parameter to CUDA instead.\n",
      "\n",
      "    E.g. tree_method = \"hist\", device = \"cuda\"\n",
      "\n",
      "  if len(data.shape) != 1 and self.num_features() != data.shape[1]:\n"
     ]
    },
    {
     "name": "stdout",
     "output_type": "stream",
     "text": [
      "[CV] END colsample_bytree=0.95, gamma=0.2, learning_rate=0.15, max_depth=7, min_child_weight=1, n_estimators=200, reg_alpha=0, reg_lambda=2, subsample=0.8; total time=   9.8s\n"
     ]
    },
    {
     "name": "stderr",
     "output_type": "stream",
     "text": [
      "/home/jp/Repositorios/UDEA/InteligenciaArtificial-UdeA20251/.venv/lib/python3.12/site-packages/xgboost/training.py:183: UserWarning: [14:47:59] WARNING: /workspace/src/common/error_msg.cc:27: The tree method `gpu_hist` is deprecated since 2.0.0. To use GPU training, set the `device` parameter to CUDA instead.\n",
      "\n",
      "    E.g. tree_method = \"hist\", device = \"cuda\"\n",
      "\n",
      "  bst.update(dtrain, iteration=i, fobj=obj)\n",
      "/home/jp/Repositorios/UDEA/InteligenciaArtificial-UdeA20251/.venv/lib/python3.12/site-packages/xgboost/core.py:2676: UserWarning: [14:48:05] WARNING: /workspace/src/common/error_msg.cc:27: The tree method `gpu_hist` is deprecated since 2.0.0. To use GPU training, set the `device` parameter to CUDA instead.\n",
      "\n",
      "    E.g. tree_method = \"hist\", device = \"cuda\"\n",
      "\n",
      "  if len(data.shape) != 1 and self.num_features() != data.shape[1]:\n"
     ]
    },
    {
     "name": "stdout",
     "output_type": "stream",
     "text": [
      "[CV] END colsample_bytree=0.95, gamma=0.2, learning_rate=0.15, max_depth=7, min_child_weight=1, n_estimators=200, reg_alpha=0, reg_lambda=2, subsample=0.8; total time=  10.0s\n"
     ]
    },
    {
     "name": "stderr",
     "output_type": "stream",
     "text": [
      "/home/jp/Repositorios/UDEA/InteligenciaArtificial-UdeA20251/.venv/lib/python3.12/site-packages/xgboost/training.py:183: UserWarning: [14:48:05] WARNING: /workspace/src/common/error_msg.cc:27: The tree method `gpu_hist` is deprecated since 2.0.0. To use GPU training, set the `device` parameter to CUDA instead.\n",
      "\n",
      "    E.g. tree_method = \"hist\", device = \"cuda\"\n",
      "\n",
      "  bst.update(dtrain, iteration=i, fobj=obj)\n",
      "/home/jp/Repositorios/UDEA/InteligenciaArtificial-UdeA20251/.venv/lib/python3.12/site-packages/xgboost/core.py:2676: UserWarning: [14:48:08] WARNING: /workspace/src/common/error_msg.cc:27: The tree method `gpu_hist` is deprecated since 2.0.0. To use GPU training, set the `device` parameter to CUDA instead.\n",
      "\n",
      "    E.g. tree_method = \"hist\", device = \"cuda\"\n",
      "\n",
      "  if len(data.shape) != 1 and self.num_features() != data.shape[1]:\n"
     ]
    },
    {
     "name": "stdout",
     "output_type": "stream",
     "text": [
      "[CV] END colsample_bytree=0.95, gamma=0.2, learning_rate=0.15, max_depth=7, min_child_weight=1, n_estimators=200, reg_alpha=0, reg_lambda=2, subsample=0.8; total time=   9.9s\n"
     ]
    },
    {
     "name": "stderr",
     "output_type": "stream",
     "text": [
      "/home/jp/Repositorios/UDEA/InteligenciaArtificial-UdeA20251/.venv/lib/python3.12/site-packages/xgboost/training.py:183: UserWarning: [14:48:08] WARNING: /workspace/src/common/error_msg.cc:27: The tree method `gpu_hist` is deprecated since 2.0.0. To use GPU training, set the `device` parameter to CUDA instead.\n",
      "\n",
      "    E.g. tree_method = \"hist\", device = \"cuda\"\n",
      "\n",
      "  bst.update(dtrain, iteration=i, fobj=obj)\n",
      "/home/jp/Repositorios/UDEA/InteligenciaArtificial-UdeA20251/.venv/lib/python3.12/site-packages/xgboost/core.py:2676: UserWarning: [14:48:14] WARNING: /workspace/src/common/error_msg.cc:27: The tree method `gpu_hist` is deprecated since 2.0.0. To use GPU training, set the `device` parameter to CUDA instead.\n",
      "\n",
      "    E.g. tree_method = \"hist\", device = \"cuda\"\n",
      "\n",
      "  if len(data.shape) != 1 and self.num_features() != data.shape[1]:\n"
     ]
    },
    {
     "name": "stdout",
     "output_type": "stream",
     "text": [
      "[CV] END colsample_bytree=0.95, gamma=0.2, learning_rate=0.15, max_depth=7, min_child_weight=1, n_estimators=200, reg_alpha=0, reg_lambda=2, subsample=0.8; total time=   9.6s\n"
     ]
    },
    {
     "name": "stderr",
     "output_type": "stream",
     "text": [
      "/home/jp/Repositorios/UDEA/InteligenciaArtificial-UdeA20251/.venv/lib/python3.12/site-packages/xgboost/training.py:183: UserWarning: [14:48:14] WARNING: /workspace/src/common/error_msg.cc:27: The tree method `gpu_hist` is deprecated since 2.0.0. To use GPU training, set the `device` parameter to CUDA instead.\n",
      "\n",
      "    E.g. tree_method = \"hist\", device = \"cuda\"\n",
      "\n",
      "  bst.update(dtrain, iteration=i, fobj=obj)\n",
      "/home/jp/Repositorios/UDEA/InteligenciaArtificial-UdeA20251/.venv/lib/python3.12/site-packages/xgboost/core.py:2676: UserWarning: [14:48:17] WARNING: /workspace/src/common/error_msg.cc:27: The tree method `gpu_hist` is deprecated since 2.0.0. To use GPU training, set the `device` parameter to CUDA instead.\n",
      "\n",
      "    E.g. tree_method = \"hist\", device = \"cuda\"\n",
      "\n",
      "  if len(data.shape) != 1 and self.num_features() != data.shape[1]:\n"
     ]
    },
    {
     "name": "stdout",
     "output_type": "stream",
     "text": [
      "[CV] END colsample_bytree=0.95, gamma=0.2, learning_rate=0.15, max_depth=7, min_child_weight=1, n_estimators=200, reg_alpha=0, reg_lambda=2, subsample=0.8; total time=   9.1s\n"
     ]
    },
    {
     "name": "stderr",
     "output_type": "stream",
     "text": [
      "/home/jp/Repositorios/UDEA/InteligenciaArtificial-UdeA20251/.venv/lib/python3.12/site-packages/xgboost/training.py:183: UserWarning: [14:48:18] WARNING: /workspace/src/common/error_msg.cc:27: The tree method `gpu_hist` is deprecated since 2.0.0. To use GPU training, set the `device` parameter to CUDA instead.\n",
      "\n",
      "    E.g. tree_method = \"hist\", device = \"cuda\"\n",
      "\n",
      "  bst.update(dtrain, iteration=i, fobj=obj)\n",
      "/home/jp/Repositorios/UDEA/InteligenciaArtificial-UdeA20251/.venv/lib/python3.12/site-packages/xgboost/core.py:2676: UserWarning: [14:48:20] WARNING: /workspace/src/common/error_msg.cc:27: The tree method `gpu_hist` is deprecated since 2.0.0. To use GPU training, set the `device` parameter to CUDA instead.\n",
      "\n",
      "    E.g. tree_method = \"hist\", device = \"cuda\"\n",
      "\n",
      "  if len(data.shape) != 1 and self.num_features() != data.shape[1]:\n"
     ]
    },
    {
     "name": "stdout",
     "output_type": "stream",
     "text": [
      "[CV] END colsample_bytree=0.8, gamma=0.1, learning_rate=0.01, max_depth=4, min_child_weight=3, n_estimators=200, reg_alpha=0.01, reg_lambda=1.5, subsample=0.95; total time=   6.3s\n"
     ]
    },
    {
     "name": "stderr",
     "output_type": "stream",
     "text": [
      "/home/jp/Repositorios/UDEA/InteligenciaArtificial-UdeA20251/.venv/lib/python3.12/site-packages/xgboost/training.py:183: UserWarning: [14:48:21] WARNING: /workspace/src/common/error_msg.cc:27: The tree method `gpu_hist` is deprecated since 2.0.0. To use GPU training, set the `device` parameter to CUDA instead.\n",
      "\n",
      "    E.g. tree_method = \"hist\", device = \"cuda\"\n",
      "\n",
      "  bst.update(dtrain, iteration=i, fobj=obj)\n",
      "/home/jp/Repositorios/UDEA/InteligenciaArtificial-UdeA20251/.venv/lib/python3.12/site-packages/xgboost/core.py:2676: UserWarning: [14:48:24] WARNING: /workspace/src/common/error_msg.cc:27: The tree method `gpu_hist` is deprecated since 2.0.0. To use GPU training, set the `device` parameter to CUDA instead.\n",
      "\n",
      "    E.g. tree_method = \"hist\", device = \"cuda\"\n",
      "\n",
      "  if len(data.shape) != 1 and self.num_features() != data.shape[1]:\n"
     ]
    },
    {
     "name": "stdout",
     "output_type": "stream",
     "text": [
      "[CV] END colsample_bytree=0.8, gamma=0.1, learning_rate=0.01, max_depth=4, min_child_weight=3, n_estimators=200, reg_alpha=0.01, reg_lambda=1.5, subsample=0.95; total time=   6.4s\n"
     ]
    },
    {
     "name": "stderr",
     "output_type": "stream",
     "text": [
      "/home/jp/Repositorios/UDEA/InteligenciaArtificial-UdeA20251/.venv/lib/python3.12/site-packages/xgboost/training.py:183: UserWarning: [14:48:24] WARNING: /workspace/src/common/error_msg.cc:27: The tree method `gpu_hist` is deprecated since 2.0.0. To use GPU training, set the `device` parameter to CUDA instead.\n",
      "\n",
      "    E.g. tree_method = \"hist\", device = \"cuda\"\n",
      "\n",
      "  bst.update(dtrain, iteration=i, fobj=obj)\n",
      "/home/jp/Repositorios/UDEA/InteligenciaArtificial-UdeA20251/.venv/lib/python3.12/site-packages/xgboost/core.py:2676: UserWarning: [14:48:27] WARNING: /workspace/src/common/error_msg.cc:27: The tree method `gpu_hist` is deprecated since 2.0.0. To use GPU training, set the `device` parameter to CUDA instead.\n",
      "\n",
      "    E.g. tree_method = \"hist\", device = \"cuda\"\n",
      "\n",
      "  if len(data.shape) != 1 and self.num_features() != data.shape[1]:\n"
     ]
    },
    {
     "name": "stdout",
     "output_type": "stream",
     "text": [
      "[CV] END colsample_bytree=0.8, gamma=0.1, learning_rate=0.01, max_depth=4, min_child_weight=3, n_estimators=200, reg_alpha=0.01, reg_lambda=1.5, subsample=0.95; total time=   6.4s\n"
     ]
    },
    {
     "name": "stderr",
     "output_type": "stream",
     "text": [
      "/home/jp/Repositorios/UDEA/InteligenciaArtificial-UdeA20251/.venv/lib/python3.12/site-packages/xgboost/training.py:183: UserWarning: [14:48:27] WARNING: /workspace/src/common/error_msg.cc:27: The tree method `gpu_hist` is deprecated since 2.0.0. To use GPU training, set the `device` parameter to CUDA instead.\n",
      "\n",
      "    E.g. tree_method = \"hist\", device = \"cuda\"\n",
      "\n",
      "  bst.update(dtrain, iteration=i, fobj=obj)\n",
      "/home/jp/Repositorios/UDEA/InteligenciaArtificial-UdeA20251/.venv/lib/python3.12/site-packages/xgboost/core.py:2676: UserWarning: [14:48:30] WARNING: /workspace/src/common/error_msg.cc:27: The tree method `gpu_hist` is deprecated since 2.0.0. To use GPU training, set the `device` parameter to CUDA instead.\n",
      "\n",
      "    E.g. tree_method = \"hist\", device = \"cuda\"\n",
      "\n",
      "  if len(data.shape) != 1 and self.num_features() != data.shape[1]:\n"
     ]
    },
    {
     "name": "stdout",
     "output_type": "stream",
     "text": [
      "[CV] END colsample_bytree=0.8, gamma=0.1, learning_rate=0.01, max_depth=4, min_child_weight=3, n_estimators=200, reg_alpha=0.01, reg_lambda=1.5, subsample=0.95; total time=   6.1s\n"
     ]
    },
    {
     "name": "stderr",
     "output_type": "stream",
     "text": [
      "/home/jp/Repositorios/UDEA/InteligenciaArtificial-UdeA20251/.venv/lib/python3.12/site-packages/xgboost/training.py:183: UserWarning: [14:48:30] WARNING: /workspace/src/common/error_msg.cc:27: The tree method `gpu_hist` is deprecated since 2.0.0. To use GPU training, set the `device` parameter to CUDA instead.\n",
      "\n",
      "    E.g. tree_method = \"hist\", device = \"cuda\"\n",
      "\n",
      "  bst.update(dtrain, iteration=i, fobj=obj)\n",
      "/home/jp/Repositorios/UDEA/InteligenciaArtificial-UdeA20251/.venv/lib/python3.12/site-packages/xgboost/core.py:2676: UserWarning: [14:48:33] WARNING: /workspace/src/common/error_msg.cc:27: The tree method `gpu_hist` is deprecated since 2.0.0. To use GPU training, set the `device` parameter to CUDA instead.\n",
      "\n",
      "    E.g. tree_method = \"hist\", device = \"cuda\"\n",
      "\n",
      "  if len(data.shape) != 1 and self.num_features() != data.shape[1]:\n"
     ]
    },
    {
     "name": "stdout",
     "output_type": "stream",
     "text": [
      "[CV] END colsample_bytree=0.8, gamma=0.1, learning_rate=0.01, max_depth=4, min_child_weight=3, n_estimators=200, reg_alpha=0.01, reg_lambda=1.5, subsample=0.95; total time=   6.5s\n"
     ]
    },
    {
     "name": "stderr",
     "output_type": "stream",
     "text": [
      "/home/jp/Repositorios/UDEA/InteligenciaArtificial-UdeA20251/.venv/lib/python3.12/site-packages/xgboost/training.py:183: UserWarning: [14:48:34] WARNING: /workspace/src/common/error_msg.cc:27: The tree method `gpu_hist` is deprecated since 2.0.0. To use GPU training, set the `device` parameter to CUDA instead.\n",
      "\n",
      "    E.g. tree_method = \"hist\", device = \"cuda\"\n",
      "\n",
      "  bst.update(dtrain, iteration=i, fobj=obj)\n",
      "/home/jp/Repositorios/UDEA/InteligenciaArtificial-UdeA20251/.venv/lib/python3.12/site-packages/xgboost/core.py:2676: UserWarning: [14:49:08] WARNING: /workspace/src/common/error_msg.cc:27: The tree method `gpu_hist` is deprecated since 2.0.0. To use GPU training, set the `device` parameter to CUDA instead.\n",
      "\n",
      "    E.g. tree_method = \"hist\", device = \"cuda\"\n",
      "\n",
      "  if len(data.shape) != 1 and self.num_features() != data.shape[1]:\n"
     ]
    },
    {
     "name": "stdout",
     "output_type": "stream",
     "text": [
      "[CV] END colsample_bytree=0.9, gamma=0.2, learning_rate=0.05, max_depth=7, min_child_weight=5, n_estimators=800, reg_alpha=0, reg_lambda=2, subsample=0.8; total time=  38.4s\n"
     ]
    },
    {
     "name": "stderr",
     "output_type": "stream",
     "text": [
      "/home/jp/Repositorios/UDEA/InteligenciaArtificial-UdeA20251/.venv/lib/python3.12/site-packages/xgboost/training.py:183: UserWarning: [14:49:08] WARNING: /workspace/src/common/error_msg.cc:27: The tree method `gpu_hist` is deprecated since 2.0.0. To use GPU training, set the `device` parameter to CUDA instead.\n",
      "\n",
      "    E.g. tree_method = \"hist\", device = \"cuda\"\n",
      "\n",
      "  bst.update(dtrain, iteration=i, fobj=obj)\n",
      "/home/jp/Repositorios/UDEA/InteligenciaArtificial-UdeA20251/.venv/lib/python3.12/site-packages/xgboost/core.py:2676: UserWarning: [14:49:12] WARNING: /workspace/src/common/error_msg.cc:27: The tree method `gpu_hist` is deprecated since 2.0.0. To use GPU training, set the `device` parameter to CUDA instead.\n",
      "\n",
      "    E.g. tree_method = \"hist\", device = \"cuda\"\n",
      "\n",
      "  if len(data.shape) != 1 and self.num_features() != data.shape[1]:\n"
     ]
    },
    {
     "name": "stdout",
     "output_type": "stream",
     "text": [
      "[CV] END colsample_bytree=0.9, gamma=0.2, learning_rate=0.05, max_depth=7, min_child_weight=5, n_estimators=800, reg_alpha=0, reg_lambda=2, subsample=0.8; total time=  38.9s\n"
     ]
    },
    {
     "name": "stderr",
     "output_type": "stream",
     "text": [
      "/home/jp/Repositorios/UDEA/InteligenciaArtificial-UdeA20251/.venv/lib/python3.12/site-packages/xgboost/training.py:183: UserWarning: [14:49:12] WARNING: /workspace/src/common/error_msg.cc:27: The tree method `gpu_hist` is deprecated since 2.0.0. To use GPU training, set the `device` parameter to CUDA instead.\n",
      "\n",
      "    E.g. tree_method = \"hist\", device = \"cuda\"\n",
      "\n",
      "  bst.update(dtrain, iteration=i, fobj=obj)\n",
      "/home/jp/Repositorios/UDEA/InteligenciaArtificial-UdeA20251/.venv/lib/python3.12/site-packages/xgboost/core.py:2676: UserWarning: [14:49:47] WARNING: /workspace/src/common/error_msg.cc:27: The tree method `gpu_hist` is deprecated since 2.0.0. To use GPU training, set the `device` parameter to CUDA instead.\n",
      "\n",
      "    E.g. tree_method = \"hist\", device = \"cuda\"\n",
      "\n",
      "  if len(data.shape) != 1 and self.num_features() != data.shape[1]:\n"
     ]
    },
    {
     "name": "stdout",
     "output_type": "stream",
     "text": [
      "[CV] END colsample_bytree=0.9, gamma=0.2, learning_rate=0.05, max_depth=7, min_child_weight=5, n_estimators=800, reg_alpha=0, reg_lambda=2, subsample=0.8; total time=  39.1s\n"
     ]
    },
    {
     "name": "stderr",
     "output_type": "stream",
     "text": [
      "/home/jp/Repositorios/UDEA/InteligenciaArtificial-UdeA20251/.venv/lib/python3.12/site-packages/xgboost/training.py:183: UserWarning: [14:49:48] WARNING: /workspace/src/common/error_msg.cc:27: The tree method `gpu_hist` is deprecated since 2.0.0. To use GPU training, set the `device` parameter to CUDA instead.\n",
      "\n",
      "    E.g. tree_method = \"hist\", device = \"cuda\"\n",
      "\n",
      "  bst.update(dtrain, iteration=i, fobj=obj)\n",
      "/home/jp/Repositorios/UDEA/InteligenciaArtificial-UdeA20251/.venv/lib/python3.12/site-packages/xgboost/core.py:2676: UserWarning: [14:49:51] WARNING: /workspace/src/common/error_msg.cc:27: The tree method `gpu_hist` is deprecated since 2.0.0. To use GPU training, set the `device` parameter to CUDA instead.\n",
      "\n",
      "    E.g. tree_method = \"hist\", device = \"cuda\"\n",
      "\n",
      "  if len(data.shape) != 1 and self.num_features() != data.shape[1]:\n"
     ]
    },
    {
     "name": "stdout",
     "output_type": "stream",
     "text": [
      "[CV] END colsample_bytree=0.9, gamma=0.2, learning_rate=0.05, max_depth=7, min_child_weight=5, n_estimators=800, reg_alpha=0, reg_lambda=2, subsample=0.8; total time=  38.8s\n"
     ]
    },
    {
     "name": "stderr",
     "output_type": "stream",
     "text": [
      "/home/jp/Repositorios/UDEA/InteligenciaArtificial-UdeA20251/.venv/lib/python3.12/site-packages/xgboost/training.py:183: UserWarning: [14:49:51] WARNING: /workspace/src/common/error_msg.cc:27: The tree method `gpu_hist` is deprecated since 2.0.0. To use GPU training, set the `device` parameter to CUDA instead.\n",
      "\n",
      "    E.g. tree_method = \"hist\", device = \"cuda\"\n",
      "\n",
      "  bst.update(dtrain, iteration=i, fobj=obj)\n",
      "/home/jp/Repositorios/UDEA/InteligenciaArtificial-UdeA20251/.venv/lib/python3.12/site-packages/xgboost/core.py:2676: UserWarning: [14:50:01] WARNING: /workspace/src/common/error_msg.cc:27: The tree method `gpu_hist` is deprecated since 2.0.0. To use GPU training, set the `device` parameter to CUDA instead.\n",
      "\n",
      "    E.g. tree_method = \"hist\", device = \"cuda\"\n",
      "\n",
      "  if len(data.shape) != 1 and self.num_features() != data.shape[1]:\n"
     ]
    },
    {
     "name": "stdout",
     "output_type": "stream",
     "text": [
      "[CV] END colsample_bytree=0.8, gamma=0, learning_rate=0.05, max_depth=7, min_child_weight=1, n_estimators=200, reg_alpha=0, reg_lambda=1, subsample=0.95; total time=  10.3s\n"
     ]
    },
    {
     "name": "stderr",
     "output_type": "stream",
     "text": [
      "/home/jp/Repositorios/UDEA/InteligenciaArtificial-UdeA20251/.venv/lib/python3.12/site-packages/xgboost/training.py:183: UserWarning: [14:50:02] WARNING: /workspace/src/common/error_msg.cc:27: The tree method `gpu_hist` is deprecated since 2.0.0. To use GPU training, set the `device` parameter to CUDA instead.\n",
      "\n",
      "    E.g. tree_method = \"hist\", device = \"cuda\"\n",
      "\n",
      "  bst.update(dtrain, iteration=i, fobj=obj)\n",
      "/home/jp/Repositorios/UDEA/InteligenciaArtificial-UdeA20251/.venv/lib/python3.12/site-packages/xgboost/core.py:2676: UserWarning: [14:50:11] WARNING: /workspace/src/common/error_msg.cc:27: The tree method `gpu_hist` is deprecated since 2.0.0. To use GPU training, set the `device` parameter to CUDA instead.\n",
      "\n",
      "    E.g. tree_method = \"hist\", device = \"cuda\"\n",
      "\n",
      "  if len(data.shape) != 1 and self.num_features() != data.shape[1]:\n"
     ]
    },
    {
     "name": "stdout",
     "output_type": "stream",
     "text": [
      "[CV] END colsample_bytree=0.8, gamma=0, learning_rate=0.05, max_depth=7, min_child_weight=1, n_estimators=200, reg_alpha=0, reg_lambda=1, subsample=0.95; total time=  10.1s\n"
     ]
    },
    {
     "name": "stderr",
     "output_type": "stream",
     "text": [
      "/home/jp/Repositorios/UDEA/InteligenciaArtificial-UdeA20251/.venv/lib/python3.12/site-packages/xgboost/training.py:183: UserWarning: [14:50:12] WARNING: /workspace/src/common/error_msg.cc:27: The tree method `gpu_hist` is deprecated since 2.0.0. To use GPU training, set the `device` parameter to CUDA instead.\n",
      "\n",
      "    E.g. tree_method = \"hist\", device = \"cuda\"\n",
      "\n",
      "  bst.update(dtrain, iteration=i, fobj=obj)\n",
      "/home/jp/Repositorios/UDEA/InteligenciaArtificial-UdeA20251/.venv/lib/python3.12/site-packages/xgboost/core.py:2676: UserWarning: [14:50:22] WARNING: /workspace/src/common/error_msg.cc:27: The tree method `gpu_hist` is deprecated since 2.0.0. To use GPU training, set the `device` parameter to CUDA instead.\n",
      "\n",
      "    E.g. tree_method = \"hist\", device = \"cuda\"\n",
      "\n",
      "  if len(data.shape) != 1 and self.num_features() != data.shape[1]:\n"
     ]
    },
    {
     "name": "stdout",
     "output_type": "stream",
     "text": [
      "[CV] END colsample_bytree=0.8, gamma=0, learning_rate=0.05, max_depth=7, min_child_weight=1, n_estimators=200, reg_alpha=0, reg_lambda=1, subsample=0.95; total time=  10.5s\n"
     ]
    },
    {
     "name": "stderr",
     "output_type": "stream",
     "text": [
      "/home/jp/Repositorios/UDEA/InteligenciaArtificial-UdeA20251/.venv/lib/python3.12/site-packages/xgboost/training.py:183: UserWarning: [14:50:22] WARNING: /workspace/src/common/error_msg.cc:27: The tree method `gpu_hist` is deprecated since 2.0.0. To use GPU training, set the `device` parameter to CUDA instead.\n",
      "\n",
      "    E.g. tree_method = \"hist\", device = \"cuda\"\n",
      "\n",
      "  bst.update(dtrain, iteration=i, fobj=obj)\n",
      "/home/jp/Repositorios/UDEA/InteligenciaArtificial-UdeA20251/.venv/lib/python3.12/site-packages/xgboost/core.py:2676: UserWarning: [14:50:27] WARNING: /workspace/src/common/error_msg.cc:27: The tree method `gpu_hist` is deprecated since 2.0.0. To use GPU training, set the `device` parameter to CUDA instead.\n",
      "\n",
      "    E.g. tree_method = \"hist\", device = \"cuda\"\n",
      "\n",
      "  if len(data.shape) != 1 and self.num_features() != data.shape[1]:\n"
     ]
    },
    {
     "name": "stdout",
     "output_type": "stream",
     "text": [
      "[CV] END colsample_bytree=0.9, gamma=0.2, learning_rate=0.05, max_depth=7, min_child_weight=5, n_estimators=800, reg_alpha=0, reg_lambda=2, subsample=0.8; total time=  39.3s\n"
     ]
    },
    {
     "name": "stderr",
     "output_type": "stream",
     "text": [
      "/home/jp/Repositorios/UDEA/InteligenciaArtificial-UdeA20251/.venv/lib/python3.12/site-packages/xgboost/training.py:183: UserWarning: [14:50:27] WARNING: /workspace/src/common/error_msg.cc:27: The tree method `gpu_hist` is deprecated since 2.0.0. To use GPU training, set the `device` parameter to CUDA instead.\n",
      "\n",
      "    E.g. tree_method = \"hist\", device = \"cuda\"\n",
      "\n",
      "  bst.update(dtrain, iteration=i, fobj=obj)\n",
      "/home/jp/Repositorios/UDEA/InteligenciaArtificial-UdeA20251/.venv/lib/python3.12/site-packages/xgboost/core.py:2676: UserWarning: [14:50:32] WARNING: /workspace/src/common/error_msg.cc:27: The tree method `gpu_hist` is deprecated since 2.0.0. To use GPU training, set the `device` parameter to CUDA instead.\n",
      "\n",
      "    E.g. tree_method = \"hist\", device = \"cuda\"\n",
      "\n",
      "  if len(data.shape) != 1 and self.num_features() != data.shape[1]:\n"
     ]
    },
    {
     "name": "stdout",
     "output_type": "stream",
     "text": [
      "[CV] END colsample_bytree=0.8, gamma=0, learning_rate=0.05, max_depth=7, min_child_weight=1, n_estimators=200, reg_alpha=0, reg_lambda=1, subsample=0.95; total time=  10.0s\n"
     ]
    },
    {
     "name": "stderr",
     "output_type": "stream",
     "text": [
      "/home/jp/Repositorios/UDEA/InteligenciaArtificial-UdeA20251/.venv/lib/python3.12/site-packages/xgboost/training.py:183: UserWarning: [14:50:32] WARNING: /workspace/src/common/error_msg.cc:27: The tree method `gpu_hist` is deprecated since 2.0.0. To use GPU training, set the `device` parameter to CUDA instead.\n",
      "\n",
      "    E.g. tree_method = \"hist\", device = \"cuda\"\n",
      "\n",
      "  bst.update(dtrain, iteration=i, fobj=obj)\n",
      "/home/jp/Repositorios/UDEA/InteligenciaArtificial-UdeA20251/.venv/lib/python3.12/site-packages/xgboost/core.py:2676: UserWarning: [14:50:37] WARNING: /workspace/src/common/error_msg.cc:27: The tree method `gpu_hist` is deprecated since 2.0.0. To use GPU training, set the `device` parameter to CUDA instead.\n",
      "\n",
      "    E.g. tree_method = \"hist\", device = \"cuda\"\n",
      "\n",
      "  if len(data.shape) != 1 and self.num_features() != data.shape[1]:\n"
     ]
    },
    {
     "name": "stdout",
     "output_type": "stream",
     "text": [
      "[CV] END colsample_bytree=0.8, gamma=0, learning_rate=0.05, max_depth=7, min_child_weight=1, n_estimators=200, reg_alpha=0, reg_lambda=1, subsample=0.95; total time=   9.8s\n"
     ]
    },
    {
     "name": "stderr",
     "output_type": "stream",
     "text": [
      "/home/jp/Repositorios/UDEA/InteligenciaArtificial-UdeA20251/.venv/lib/python3.12/site-packages/xgboost/training.py:183: UserWarning: [14:50:37] WARNING: /workspace/src/common/error_msg.cc:27: The tree method `gpu_hist` is deprecated since 2.0.0. To use GPU training, set the `device` parameter to CUDA instead.\n",
      "\n",
      "    E.g. tree_method = \"hist\", device = \"cuda\"\n",
      "\n",
      "  bst.update(dtrain, iteration=i, fobj=obj)\n",
      "/home/jp/Repositorios/UDEA/InteligenciaArtificial-UdeA20251/.venv/lib/python3.12/site-packages/xgboost/core.py:2676: UserWarning: [14:50:54] WARNING: /workspace/src/common/error_msg.cc:27: The tree method `gpu_hist` is deprecated since 2.0.0. To use GPU training, set the `device` parameter to CUDA instead.\n",
      "\n",
      "    E.g. tree_method = \"hist\", device = \"cuda\"\n",
      "\n",
      "  if len(data.shape) != 1 and self.num_features() != data.shape[1]:\n"
     ]
    },
    {
     "name": "stdout",
     "output_type": "stream",
     "text": [
      "[CV] END colsample_bytree=0.8, gamma=0.3, learning_rate=0.2, max_depth=4, min_child_weight=1, n_estimators=800, reg_alpha=0.1, reg_lambda=1, subsample=0.95; total time=  22.5s\n"
     ]
    },
    {
     "name": "stderr",
     "output_type": "stream",
     "text": [
      "/home/jp/Repositorios/UDEA/InteligenciaArtificial-UdeA20251/.venv/lib/python3.12/site-packages/xgboost/training.py:183: UserWarning: [14:50:55] WARNING: /workspace/src/common/error_msg.cc:27: The tree method `gpu_hist` is deprecated since 2.0.0. To use GPU training, set the `device` parameter to CUDA instead.\n",
      "\n",
      "    E.g. tree_method = \"hist\", device = \"cuda\"\n",
      "\n",
      "  bst.update(dtrain, iteration=i, fobj=obj)\n",
      "/home/jp/Repositorios/UDEA/InteligenciaArtificial-UdeA20251/.venv/lib/python3.12/site-packages/xgboost/core.py:2676: UserWarning: [14:50:59] WARNING: /workspace/src/common/error_msg.cc:27: The tree method `gpu_hist` is deprecated since 2.0.0. To use GPU training, set the `device` parameter to CUDA instead.\n",
      "\n",
      "    E.g. tree_method = \"hist\", device = \"cuda\"\n",
      "\n",
      "  if len(data.shape) != 1 and self.num_features() != data.shape[1]:\n"
     ]
    },
    {
     "name": "stdout",
     "output_type": "stream",
     "text": [
      "[CV] END colsample_bytree=0.8, gamma=0.3, learning_rate=0.2, max_depth=4, min_child_weight=1, n_estimators=800, reg_alpha=0.1, reg_lambda=1, subsample=0.95; total time=  22.2s\n"
     ]
    },
    {
     "name": "stderr",
     "output_type": "stream",
     "text": [
      "/home/jp/Repositorios/UDEA/InteligenciaArtificial-UdeA20251/.venv/lib/python3.12/site-packages/xgboost/training.py:183: UserWarning: [14:50:59] WARNING: /workspace/src/common/error_msg.cc:27: The tree method `gpu_hist` is deprecated since 2.0.0. To use GPU training, set the `device` parameter to CUDA instead.\n",
      "\n",
      "    E.g. tree_method = \"hist\", device = \"cuda\"\n",
      "\n",
      "  bst.update(dtrain, iteration=i, fobj=obj)\n",
      "/home/jp/Repositorios/UDEA/InteligenciaArtificial-UdeA20251/.venv/lib/python3.12/site-packages/xgboost/core.py:2676: UserWarning: [14:51:16] WARNING: /workspace/src/common/error_msg.cc:27: The tree method `gpu_hist` is deprecated since 2.0.0. To use GPU training, set the `device` parameter to CUDA instead.\n",
      "\n",
      "    E.g. tree_method = \"hist\", device = \"cuda\"\n",
      "\n",
      "  if len(data.shape) != 1 and self.num_features() != data.shape[1]:\n"
     ]
    },
    {
     "name": "stdout",
     "output_type": "stream",
     "text": [
      "[CV] END colsample_bytree=0.8, gamma=0.3, learning_rate=0.2, max_depth=4, min_child_weight=1, n_estimators=800, reg_alpha=0.1, reg_lambda=1, subsample=0.95; total time=  21.8s\n"
     ]
    },
    {
     "name": "stderr",
     "output_type": "stream",
     "text": [
      "/home/jp/Repositorios/UDEA/InteligenciaArtificial-UdeA20251/.venv/lib/python3.12/site-packages/xgboost/training.py:183: UserWarning: [14:51:16] WARNING: /workspace/src/common/error_msg.cc:27: The tree method `gpu_hist` is deprecated since 2.0.0. To use GPU training, set the `device` parameter to CUDA instead.\n",
      "\n",
      "    E.g. tree_method = \"hist\", device = \"cuda\"\n",
      "\n",
      "  bst.update(dtrain, iteration=i, fobj=obj)\n",
      "/home/jp/Repositorios/UDEA/InteligenciaArtificial-UdeA20251/.venv/lib/python3.12/site-packages/xgboost/core.py:2676: UserWarning: [14:51:21] WARNING: /workspace/src/common/error_msg.cc:27: The tree method `gpu_hist` is deprecated since 2.0.0. To use GPU training, set the `device` parameter to CUDA instead.\n",
      "\n",
      "    E.g. tree_method = \"hist\", device = \"cuda\"\n",
      "\n",
      "  if len(data.shape) != 1 and self.num_features() != data.shape[1]:\n"
     ]
    },
    {
     "name": "stdout",
     "output_type": "stream",
     "text": [
      "[CV] END colsample_bytree=0.8, gamma=0.3, learning_rate=0.2, max_depth=4, min_child_weight=1, n_estimators=800, reg_alpha=0.1, reg_lambda=1, subsample=0.95; total time=  22.0s\n"
     ]
    },
    {
     "name": "stderr",
     "output_type": "stream",
     "text": [
      "/home/jp/Repositorios/UDEA/InteligenciaArtificial-UdeA20251/.venv/lib/python3.12/site-packages/xgboost/training.py:183: UserWarning: [14:51:21] WARNING: /workspace/src/common/error_msg.cc:27: The tree method `gpu_hist` is deprecated since 2.0.0. To use GPU training, set the `device` parameter to CUDA instead.\n",
      "\n",
      "    E.g. tree_method = \"hist\", device = \"cuda\"\n",
      "\n",
      "  bst.update(dtrain, iteration=i, fobj=obj)\n",
      "/home/jp/Repositorios/UDEA/InteligenciaArtificial-UdeA20251/.venv/lib/python3.12/site-packages/xgboost/core.py:2676: UserWarning: [14:51:32] WARNING: /workspace/src/common/error_msg.cc:27: The tree method `gpu_hist` is deprecated since 2.0.0. To use GPU training, set the `device` parameter to CUDA instead.\n",
      "\n",
      "    E.g. tree_method = \"hist\", device = \"cuda\"\n",
      "\n",
      "  if len(data.shape) != 1 and self.num_features() != data.shape[1]:\n"
     ]
    },
    {
     "name": "stdout",
     "output_type": "stream",
     "text": [
      "[CV] END colsample_bytree=0.95, gamma=0, learning_rate=0.01, max_depth=5, min_child_weight=1, n_estimators=300, reg_alpha=0.01, reg_lambda=1, subsample=0.9; total time=  11.2s\n"
     ]
    },
    {
     "name": "stderr",
     "output_type": "stream",
     "text": [
      "/home/jp/Repositorios/UDEA/InteligenciaArtificial-UdeA20251/.venv/lib/python3.12/site-packages/xgboost/training.py:183: UserWarning: [14:51:32] WARNING: /workspace/src/common/error_msg.cc:27: The tree method `gpu_hist` is deprecated since 2.0.0. To use GPU training, set the `device` parameter to CUDA instead.\n",
      "\n",
      "    E.g. tree_method = \"hist\", device = \"cuda\"\n",
      "\n",
      "  bst.update(dtrain, iteration=i, fobj=obj)\n",
      "/home/jp/Repositorios/UDEA/InteligenciaArtificial-UdeA20251/.venv/lib/python3.12/site-packages/xgboost/core.py:2676: UserWarning: [14:51:39] WARNING: /workspace/src/common/error_msg.cc:27: The tree method `gpu_hist` is deprecated since 2.0.0. To use GPU training, set the `device` parameter to CUDA instead.\n",
      "\n",
      "    E.g. tree_method = \"hist\", device = \"cuda\"\n",
      "\n",
      "  if len(data.shape) != 1 and self.num_features() != data.shape[1]:\n"
     ]
    },
    {
     "name": "stdout",
     "output_type": "stream",
     "text": [
      "[CV] END colsample_bytree=0.8, gamma=0.3, learning_rate=0.2, max_depth=4, min_child_weight=1, n_estimators=800, reg_alpha=0.1, reg_lambda=1, subsample=0.95; total time=  22.9s\n"
     ]
    },
    {
     "name": "stderr",
     "output_type": "stream",
     "text": [
      "/home/jp/Repositorios/UDEA/InteligenciaArtificial-UdeA20251/.venv/lib/python3.12/site-packages/xgboost/training.py:183: UserWarning: [14:51:39] WARNING: /workspace/src/common/error_msg.cc:27: The tree method `gpu_hist` is deprecated since 2.0.0. To use GPU training, set the `device` parameter to CUDA instead.\n",
      "\n",
      "    E.g. tree_method = \"hist\", device = \"cuda\"\n",
      "\n",
      "  bst.update(dtrain, iteration=i, fobj=obj)\n",
      "/home/jp/Repositorios/UDEA/InteligenciaArtificial-UdeA20251/.venv/lib/python3.12/site-packages/xgboost/core.py:2676: UserWarning: [14:51:43] WARNING: /workspace/src/common/error_msg.cc:27: The tree method `gpu_hist` is deprecated since 2.0.0. To use GPU training, set the `device` parameter to CUDA instead.\n",
      "\n",
      "    E.g. tree_method = \"hist\", device = \"cuda\"\n",
      "\n",
      "  if len(data.shape) != 1 and self.num_features() != data.shape[1]:\n"
     ]
    },
    {
     "name": "stdout",
     "output_type": "stream",
     "text": [
      "[CV] END colsample_bytree=0.95, gamma=0, learning_rate=0.01, max_depth=5, min_child_weight=1, n_estimators=300, reg_alpha=0.01, reg_lambda=1, subsample=0.9; total time=  11.1s\n"
     ]
    },
    {
     "name": "stderr",
     "output_type": "stream",
     "text": [
      "/home/jp/Repositorios/UDEA/InteligenciaArtificial-UdeA20251/.venv/lib/python3.12/site-packages/xgboost/training.py:183: UserWarning: [14:51:43] WARNING: /workspace/src/common/error_msg.cc:27: The tree method `gpu_hist` is deprecated since 2.0.0. To use GPU training, set the `device` parameter to CUDA instead.\n",
      "\n",
      "    E.g. tree_method = \"hist\", device = \"cuda\"\n",
      "\n",
      "  bst.update(dtrain, iteration=i, fobj=obj)\n",
      "/home/jp/Repositorios/UDEA/InteligenciaArtificial-UdeA20251/.venv/lib/python3.12/site-packages/xgboost/core.py:2676: UserWarning: [14:51:51] WARNING: /workspace/src/common/error_msg.cc:27: The tree method `gpu_hist` is deprecated since 2.0.0. To use GPU training, set the `device` parameter to CUDA instead.\n",
      "\n",
      "    E.g. tree_method = \"hist\", device = \"cuda\"\n",
      "\n",
      "  if len(data.shape) != 1 and self.num_features() != data.shape[1]:\n"
     ]
    },
    {
     "name": "stdout",
     "output_type": "stream",
     "text": [
      "[CV] END colsample_bytree=0.95, gamma=0, learning_rate=0.01, max_depth=5, min_child_weight=1, n_estimators=300, reg_alpha=0.01, reg_lambda=1, subsample=0.9; total time=  11.7s\n"
     ]
    },
    {
     "name": "stderr",
     "output_type": "stream",
     "text": [
      "/home/jp/Repositorios/UDEA/InteligenciaArtificial-UdeA20251/.venv/lib/python3.12/site-packages/xgboost/training.py:183: UserWarning: [14:51:51] WARNING: /workspace/src/common/error_msg.cc:27: The tree method `gpu_hist` is deprecated since 2.0.0. To use GPU training, set the `device` parameter to CUDA instead.\n",
      "\n",
      "    E.g. tree_method = \"hist\", device = \"cuda\"\n",
      "\n",
      "  bst.update(dtrain, iteration=i, fobj=obj)\n",
      "/home/jp/Repositorios/UDEA/InteligenciaArtificial-UdeA20251/.venv/lib/python3.12/site-packages/xgboost/core.py:2676: UserWarning: [14:51:55] WARNING: /workspace/src/common/error_msg.cc:27: The tree method `gpu_hist` is deprecated since 2.0.0. To use GPU training, set the `device` parameter to CUDA instead.\n",
      "\n",
      "    E.g. tree_method = \"hist\", device = \"cuda\"\n",
      "\n",
      "  if len(data.shape) != 1 and self.num_features() != data.shape[1]:\n"
     ]
    },
    {
     "name": "stdout",
     "output_type": "stream",
     "text": [
      "[CV] END colsample_bytree=0.95, gamma=0, learning_rate=0.01, max_depth=5, min_child_weight=1, n_estimators=300, reg_alpha=0.01, reg_lambda=1, subsample=0.9; total time=  11.7s\n"
     ]
    },
    {
     "name": "stderr",
     "output_type": "stream",
     "text": [
      "/home/jp/Repositorios/UDEA/InteligenciaArtificial-UdeA20251/.venv/lib/python3.12/site-packages/xgboost/training.py:183: UserWarning: [14:51:55] WARNING: /workspace/src/common/error_msg.cc:27: The tree method `gpu_hist` is deprecated since 2.0.0. To use GPU training, set the `device` parameter to CUDA instead.\n",
      "\n",
      "    E.g. tree_method = \"hist\", device = \"cuda\"\n",
      "\n",
      "  bst.update(dtrain, iteration=i, fobj=obj)\n",
      "/home/jp/Repositorios/UDEA/InteligenciaArtificial-UdeA20251/.venv/lib/python3.12/site-packages/xgboost/core.py:2676: UserWarning: [14:52:03] WARNING: /workspace/src/common/error_msg.cc:27: The tree method `gpu_hist` is deprecated since 2.0.0. To use GPU training, set the `device` parameter to CUDA instead.\n",
      "\n",
      "    E.g. tree_method = \"hist\", device = \"cuda\"\n",
      "\n",
      "  if len(data.shape) != 1 and self.num_features() != data.shape[1]:\n"
     ]
    },
    {
     "name": "stdout",
     "output_type": "stream",
     "text": [
      "[CV] END colsample_bytree=0.95, gamma=0, learning_rate=0.01, max_depth=5, min_child_weight=1, n_estimators=300, reg_alpha=0.01, reg_lambda=1, subsample=0.9; total time=  12.1s\n"
     ]
    },
    {
     "name": "stderr",
     "output_type": "stream",
     "text": [
      "/home/jp/Repositorios/UDEA/InteligenciaArtificial-UdeA20251/.venv/lib/python3.12/site-packages/xgboost/core.py:2676: UserWarning: [14:52:03] WARNING: /workspace/src/common/error_msg.cc:27: The tree method `gpu_hist` is deprecated since 2.0.0. To use GPU training, set the `device` parameter to CUDA instead.\n",
      "\n",
      "    E.g. tree_method = \"hist\", device = \"cuda\"\n",
      "\n",
      "  if len(data.shape) != 1 and self.num_features() != data.shape[1]:\n",
      "/home/jp/Repositorios/UDEA/InteligenciaArtificial-UdeA20251/.venv/lib/python3.12/site-packages/xgboost/training.py:183: UserWarning: [14:52:03] WARNING: /workspace/src/common/error_msg.cc:27: The tree method `gpu_hist` is deprecated since 2.0.0. To use GPU training, set the `device` parameter to CUDA instead.\n",
      "\n",
      "    E.g. tree_method = \"hist\", device = \"cuda\"\n",
      "\n",
      "  bst.update(dtrain, iteration=i, fobj=obj)\n"
     ]
    },
    {
     "name": "stdout",
     "output_type": "stream",
     "text": [
      "[CV] END colsample_bytree=1.0, gamma=0.1, learning_rate=0.01, max_depth=6, min_child_weight=1, n_estimators=200, reg_alpha=0, reg_lambda=1, subsample=1.0; total time=   8.4s\n"
     ]
    },
    {
     "name": "stderr",
     "output_type": "stream",
     "text": [
      "/home/jp/Repositorios/UDEA/InteligenciaArtificial-UdeA20251/.venv/lib/python3.12/site-packages/xgboost/training.py:183: UserWarning: [14:52:03] WARNING: /workspace/src/common/error_msg.cc:27: The tree method `gpu_hist` is deprecated since 2.0.0. To use GPU training, set the `device` parameter to CUDA instead.\n",
      "\n",
      "    E.g. tree_method = \"hist\", device = \"cuda\"\n",
      "\n",
      "  bst.update(dtrain, iteration=i, fobj=obj)\n",
      "/home/jp/Repositorios/UDEA/InteligenciaArtificial-UdeA20251/.venv/lib/python3.12/site-packages/xgboost/core.py:2676: UserWarning: [14:52:12] WARNING: /workspace/src/common/error_msg.cc:27: The tree method `gpu_hist` is deprecated since 2.0.0. To use GPU training, set the `device` parameter to CUDA instead.\n",
      "\n",
      "    E.g. tree_method = \"hist\", device = \"cuda\"\n",
      "\n",
      "  if len(data.shape) != 1 and self.num_features() != data.shape[1]:\n"
     ]
    },
    {
     "name": "stdout",
     "output_type": "stream",
     "text": [
      "[CV] END colsample_bytree=1.0, gamma=0.1, learning_rate=0.01, max_depth=6, min_child_weight=1, n_estimators=200, reg_alpha=0, reg_lambda=1, subsample=1.0; total time=   8.9s\n"
     ]
    },
    {
     "name": "stderr",
     "output_type": "stream",
     "text": [
      "/home/jp/Repositorios/UDEA/InteligenciaArtificial-UdeA20251/.venv/lib/python3.12/site-packages/xgboost/core.py:2676: UserWarning: [14:52:12] WARNING: /workspace/src/common/error_msg.cc:27: The tree method `gpu_hist` is deprecated since 2.0.0. To use GPU training, set the `device` parameter to CUDA instead.\n",
      "\n",
      "    E.g. tree_method = \"hist\", device = \"cuda\"\n",
      "\n",
      "  if len(data.shape) != 1 and self.num_features() != data.shape[1]:\n",
      "/home/jp/Repositorios/UDEA/InteligenciaArtificial-UdeA20251/.venv/lib/python3.12/site-packages/xgboost/training.py:183: UserWarning: [14:52:12] WARNING: /workspace/src/common/error_msg.cc:27: The tree method `gpu_hist` is deprecated since 2.0.0. To use GPU training, set the `device` parameter to CUDA instead.\n",
      "\n",
      "    E.g. tree_method = \"hist\", device = \"cuda\"\n",
      "\n",
      "  bst.update(dtrain, iteration=i, fobj=obj)\n"
     ]
    },
    {
     "name": "stdout",
     "output_type": "stream",
     "text": [
      "[CV] END colsample_bytree=1.0, gamma=0.1, learning_rate=0.01, max_depth=6, min_child_weight=1, n_estimators=200, reg_alpha=0, reg_lambda=1, subsample=1.0; total time=   8.9s\n"
     ]
    },
    {
     "name": "stderr",
     "output_type": "stream",
     "text": [
      "/home/jp/Repositorios/UDEA/InteligenciaArtificial-UdeA20251/.venv/lib/python3.12/site-packages/xgboost/training.py:183: UserWarning: [14:52:12] WARNING: /workspace/src/common/error_msg.cc:27: The tree method `gpu_hist` is deprecated since 2.0.0. To use GPU training, set the `device` parameter to CUDA instead.\n",
      "\n",
      "    E.g. tree_method = \"hist\", device = \"cuda\"\n",
      "\n",
      "  bst.update(dtrain, iteration=i, fobj=obj)\n",
      "/home/jp/Repositorios/UDEA/InteligenciaArtificial-UdeA20251/.venv/lib/python3.12/site-packages/xgboost/core.py:2676: UserWarning: [14:52:21] WARNING: /workspace/src/common/error_msg.cc:27: The tree method `gpu_hist` is deprecated since 2.0.0. To use GPU training, set the `device` parameter to CUDA instead.\n",
      "\n",
      "    E.g. tree_method = \"hist\", device = \"cuda\"\n",
      "\n",
      "  if len(data.shape) != 1 and self.num_features() != data.shape[1]:\n"
     ]
    },
    {
     "name": "stdout",
     "output_type": "stream",
     "text": [
      "[CV] END colsample_bytree=1.0, gamma=0.1, learning_rate=0.01, max_depth=6, min_child_weight=1, n_estimators=200, reg_alpha=0, reg_lambda=1, subsample=1.0; total time=   8.9s\n"
     ]
    },
    {
     "name": "stderr",
     "output_type": "stream",
     "text": [
      "/home/jp/Repositorios/UDEA/InteligenciaArtificial-UdeA20251/.venv/lib/python3.12/site-packages/xgboost/training.py:183: UserWarning: [14:52:21] WARNING: /workspace/src/common/error_msg.cc:27: The tree method `gpu_hist` is deprecated since 2.0.0. To use GPU training, set the `device` parameter to CUDA instead.\n",
      "\n",
      "    E.g. tree_method = \"hist\", device = \"cuda\"\n",
      "\n",
      "  bst.update(dtrain, iteration=i, fobj=obj)\n",
      "/home/jp/Repositorios/UDEA/InteligenciaArtificial-UdeA20251/.venv/lib/python3.12/site-packages/xgboost/core.py:2676: UserWarning: [14:52:21] WARNING: /workspace/src/common/error_msg.cc:27: The tree method `gpu_hist` is deprecated since 2.0.0. To use GPU training, set the `device` parameter to CUDA instead.\n",
      "\n",
      "    E.g. tree_method = \"hist\", device = \"cuda\"\n",
      "\n",
      "  if len(data.shape) != 1 and self.num_features() != data.shape[1]:\n"
     ]
    },
    {
     "name": "stdout",
     "output_type": "stream",
     "text": [
      "[CV] END colsample_bytree=1.0, gamma=0.1, learning_rate=0.01, max_depth=6, min_child_weight=1, n_estimators=200, reg_alpha=0, reg_lambda=1, subsample=1.0; total time=   8.8s\n"
     ]
    },
    {
     "name": "stderr",
     "output_type": "stream",
     "text": [
      "/home/jp/Repositorios/UDEA/InteligenciaArtificial-UdeA20251/.venv/lib/python3.12/site-packages/xgboost/training.py:183: UserWarning: [14:52:21] WARNING: /workspace/src/common/error_msg.cc:27: The tree method `gpu_hist` is deprecated since 2.0.0. To use GPU training, set the `device` parameter to CUDA instead.\n",
      "\n",
      "    E.g. tree_method = \"hist\", device = \"cuda\"\n",
      "\n",
      "  bst.update(dtrain, iteration=i, fobj=obj)\n",
      "/home/jp/Repositorios/UDEA/InteligenciaArtificial-UdeA20251/.venv/lib/python3.12/site-packages/xgboost/core.py:2676: UserWarning: [14:52:26] WARNING: /workspace/src/common/error_msg.cc:27: The tree method `gpu_hist` is deprecated since 2.0.0. To use GPU training, set the `device` parameter to CUDA instead.\n",
      "\n",
      "    E.g. tree_method = \"hist\", device = \"cuda\"\n",
      "\n",
      "  if len(data.shape) != 1 and self.num_features() != data.shape[1]:\n"
     ]
    },
    {
     "name": "stdout",
     "output_type": "stream",
     "text": [
      "[CV] END colsample_bytree=0.8, gamma=0, learning_rate=0.2, max_depth=3, min_child_weight=3, n_estimators=200, reg_alpha=0, reg_lambda=2, subsample=0.8; total time=   5.2s\n"
     ]
    },
    {
     "name": "stderr",
     "output_type": "stream",
     "text": [
      "/home/jp/Repositorios/UDEA/InteligenciaArtificial-UdeA20251/.venv/lib/python3.12/site-packages/xgboost/core.py:2676: UserWarning: [14:52:26] WARNING: /workspace/src/common/error_msg.cc:27: The tree method `gpu_hist` is deprecated since 2.0.0. To use GPU training, set the `device` parameter to CUDA instead.\n",
      "\n",
      "    E.g. tree_method = \"hist\", device = \"cuda\"\n",
      "\n",
      "  if len(data.shape) != 1 and self.num_features() != data.shape[1]:\n",
      "/home/jp/Repositorios/UDEA/InteligenciaArtificial-UdeA20251/.venv/lib/python3.12/site-packages/xgboost/training.py:183: UserWarning: [14:52:26] WARNING: /workspace/src/common/error_msg.cc:27: The tree method `gpu_hist` is deprecated since 2.0.0. To use GPU training, set the `device` parameter to CUDA instead.\n",
      "\n",
      "    E.g. tree_method = \"hist\", device = \"cuda\"\n",
      "\n",
      "  bst.update(dtrain, iteration=i, fobj=obj)\n"
     ]
    },
    {
     "name": "stdout",
     "output_type": "stream",
     "text": [
      "[CV] END colsample_bytree=0.8, gamma=0, learning_rate=0.2, max_depth=3, min_child_weight=3, n_estimators=200, reg_alpha=0, reg_lambda=2, subsample=0.8; total time=   5.2s\n"
     ]
    },
    {
     "name": "stderr",
     "output_type": "stream",
     "text": [
      "/home/jp/Repositorios/UDEA/InteligenciaArtificial-UdeA20251/.venv/lib/python3.12/site-packages/xgboost/training.py:183: UserWarning: [14:52:26] WARNING: /workspace/src/common/error_msg.cc:27: The tree method `gpu_hist` is deprecated since 2.0.0. To use GPU training, set the `device` parameter to CUDA instead.\n",
      "\n",
      "    E.g. tree_method = \"hist\", device = \"cuda\"\n",
      "\n",
      "  bst.update(dtrain, iteration=i, fobj=obj)\n",
      "/home/jp/Repositorios/UDEA/InteligenciaArtificial-UdeA20251/.venv/lib/python3.12/site-packages/xgboost/core.py:2676: UserWarning: [14:52:31] WARNING: /workspace/src/common/error_msg.cc:27: The tree method `gpu_hist` is deprecated since 2.0.0. To use GPU training, set the `device` parameter to CUDA instead.\n",
      "\n",
      "    E.g. tree_method = \"hist\", device = \"cuda\"\n",
      "\n",
      "  if len(data.shape) != 1 and self.num_features() != data.shape[1]:\n"
     ]
    },
    {
     "name": "stdout",
     "output_type": "stream",
     "text": [
      "[CV] END colsample_bytree=0.8, gamma=0, learning_rate=0.2, max_depth=3, min_child_weight=3, n_estimators=200, reg_alpha=0, reg_lambda=2, subsample=0.8; total time=   5.2s\n"
     ]
    },
    {
     "name": "stderr",
     "output_type": "stream",
     "text": [
      "/home/jp/Repositorios/UDEA/InteligenciaArtificial-UdeA20251/.venv/lib/python3.12/site-packages/xgboost/training.py:183: UserWarning: [14:52:31] WARNING: /workspace/src/common/error_msg.cc:27: The tree method `gpu_hist` is deprecated since 2.0.0. To use GPU training, set the `device` parameter to CUDA instead.\n",
      "\n",
      "    E.g. tree_method = \"hist\", device = \"cuda\"\n",
      "\n",
      "  bst.update(dtrain, iteration=i, fobj=obj)\n",
      "/home/jp/Repositorios/UDEA/InteligenciaArtificial-UdeA20251/.venv/lib/python3.12/site-packages/xgboost/core.py:2676: UserWarning: [14:52:31] WARNING: /workspace/src/common/error_msg.cc:27: The tree method `gpu_hist` is deprecated since 2.0.0. To use GPU training, set the `device` parameter to CUDA instead.\n",
      "\n",
      "    E.g. tree_method = \"hist\", device = \"cuda\"\n",
      "\n",
      "  if len(data.shape) != 1 and self.num_features() != data.shape[1]:\n"
     ]
    },
    {
     "name": "stdout",
     "output_type": "stream",
     "text": [
      "[CV] END colsample_bytree=0.8, gamma=0, learning_rate=0.2, max_depth=3, min_child_weight=3, n_estimators=200, reg_alpha=0, reg_lambda=2, subsample=0.8; total time=   5.2s\n"
     ]
    },
    {
     "name": "stderr",
     "output_type": "stream",
     "text": [
      "/home/jp/Repositorios/UDEA/InteligenciaArtificial-UdeA20251/.venv/lib/python3.12/site-packages/xgboost/training.py:183: UserWarning: [14:52:31] WARNING: /workspace/src/common/error_msg.cc:27: The tree method `gpu_hist` is deprecated since 2.0.0. To use GPU training, set the `device` parameter to CUDA instead.\n",
      "\n",
      "    E.g. tree_method = \"hist\", device = \"cuda\"\n",
      "\n",
      "  bst.update(dtrain, iteration=i, fobj=obj)\n",
      "/home/jp/Repositorios/UDEA/InteligenciaArtificial-UdeA20251/.venv/lib/python3.12/site-packages/xgboost/core.py:2676: UserWarning: [14:52:37] WARNING: /workspace/src/common/error_msg.cc:27: The tree method `gpu_hist` is deprecated since 2.0.0. To use GPU training, set the `device` parameter to CUDA instead.\n",
      "\n",
      "    E.g. tree_method = \"hist\", device = \"cuda\"\n",
      "\n",
      "  if len(data.shape) != 1 and self.num_features() != data.shape[1]:\n"
     ]
    },
    {
     "name": "stdout",
     "output_type": "stream",
     "text": [
      "[CV] END colsample_bytree=0.8, gamma=0, learning_rate=0.2, max_depth=3, min_child_weight=3, n_estimators=200, reg_alpha=0, reg_lambda=2, subsample=0.8; total time=   5.7s\n"
     ]
    },
    {
     "name": "stderr",
     "output_type": "stream",
     "text": [
      "/home/jp/Repositorios/UDEA/InteligenciaArtificial-UdeA20251/.venv/lib/python3.12/site-packages/xgboost/training.py:183: UserWarning: [14:52:37] WARNING: /workspace/src/common/error_msg.cc:27: The tree method `gpu_hist` is deprecated since 2.0.0. To use GPU training, set the `device` parameter to CUDA instead.\n",
      "\n",
      "    E.g. tree_method = \"hist\", device = \"cuda\"\n",
      "\n",
      "  bst.update(dtrain, iteration=i, fobj=obj)\n",
      "/home/jp/Repositorios/UDEA/InteligenciaArtificial-UdeA20251/.venv/lib/python3.12/site-packages/xgboost/core.py:2676: UserWarning: [14:52:39] WARNING: /workspace/src/common/error_msg.cc:27: The tree method `gpu_hist` is deprecated since 2.0.0. To use GPU training, set the `device` parameter to CUDA instead.\n",
      "\n",
      "    E.g. tree_method = \"hist\", device = \"cuda\"\n",
      "\n",
      "  if len(data.shape) != 1 and self.num_features() != data.shape[1]:\n"
     ]
    },
    {
     "name": "stdout",
     "output_type": "stream",
     "text": [
      "[CV] END colsample_bytree=1.0, gamma=0.2, learning_rate=0.05, max_depth=6, min_child_weight=5, n_estimators=200, reg_alpha=0.1, reg_lambda=1, subsample=0.9; total time=   8.0s\n"
     ]
    },
    {
     "name": "stderr",
     "output_type": "stream",
     "text": [
      "/home/jp/Repositorios/UDEA/InteligenciaArtificial-UdeA20251/.venv/lib/python3.12/site-packages/xgboost/training.py:183: UserWarning: [14:52:39] WARNING: /workspace/src/common/error_msg.cc:27: The tree method `gpu_hist` is deprecated since 2.0.0. To use GPU training, set the `device` parameter to CUDA instead.\n",
      "\n",
      "    E.g. tree_method = \"hist\", device = \"cuda\"\n",
      "\n",
      "  bst.update(dtrain, iteration=i, fobj=obj)\n",
      "/home/jp/Repositorios/UDEA/InteligenciaArtificial-UdeA20251/.venv/lib/python3.12/site-packages/xgboost/core.py:2676: UserWarning: [14:52:45] WARNING: /workspace/src/common/error_msg.cc:27: The tree method `gpu_hist` is deprecated since 2.0.0. To use GPU training, set the `device` parameter to CUDA instead.\n",
      "\n",
      "    E.g. tree_method = \"hist\", device = \"cuda\"\n",
      "\n",
      "  if len(data.shape) != 1 and self.num_features() != data.shape[1]:\n"
     ]
    },
    {
     "name": "stdout",
     "output_type": "stream",
     "text": [
      "[CV] END colsample_bytree=1.0, gamma=0.2, learning_rate=0.05, max_depth=6, min_child_weight=5, n_estimators=200, reg_alpha=0.1, reg_lambda=1, subsample=0.9; total time=   8.5s\n"
     ]
    },
    {
     "name": "stderr",
     "output_type": "stream",
     "text": [
      "/home/jp/Repositorios/UDEA/InteligenciaArtificial-UdeA20251/.venv/lib/python3.12/site-packages/xgboost/training.py:183: UserWarning: [14:52:45] WARNING: /workspace/src/common/error_msg.cc:27: The tree method `gpu_hist` is deprecated since 2.0.0. To use GPU training, set the `device` parameter to CUDA instead.\n",
      "\n",
      "    E.g. tree_method = \"hist\", device = \"cuda\"\n",
      "\n",
      "  bst.update(dtrain, iteration=i, fobj=obj)\n",
      "/home/jp/Repositorios/UDEA/InteligenciaArtificial-UdeA20251/.venv/lib/python3.12/site-packages/xgboost/core.py:2676: UserWarning: [14:52:48] WARNING: /workspace/src/common/error_msg.cc:27: The tree method `gpu_hist` is deprecated since 2.0.0. To use GPU training, set the `device` parameter to CUDA instead.\n",
      "\n",
      "    E.g. tree_method = \"hist\", device = \"cuda\"\n",
      "\n",
      "  if len(data.shape) != 1 and self.num_features() != data.shape[1]:\n"
     ]
    },
    {
     "name": "stdout",
     "output_type": "stream",
     "text": [
      "[CV] END colsample_bytree=1.0, gamma=0.2, learning_rate=0.05, max_depth=6, min_child_weight=5, n_estimators=200, reg_alpha=0.1, reg_lambda=1, subsample=0.9; total time=   8.5s\n"
     ]
    },
    {
     "name": "stderr",
     "output_type": "stream",
     "text": [
      "/home/jp/Repositorios/UDEA/InteligenciaArtificial-UdeA20251/.venv/lib/python3.12/site-packages/xgboost/training.py:183: UserWarning: [14:52:48] WARNING: /workspace/src/common/error_msg.cc:27: The tree method `gpu_hist` is deprecated since 2.0.0. To use GPU training, set the `device` parameter to CUDA instead.\n",
      "\n",
      "    E.g. tree_method = \"hist\", device = \"cuda\"\n",
      "\n",
      "  bst.update(dtrain, iteration=i, fobj=obj)\n",
      "/home/jp/Repositorios/UDEA/InteligenciaArtificial-UdeA20251/.venv/lib/python3.12/site-packages/xgboost/core.py:2676: UserWarning: [14:52:54] WARNING: /workspace/src/common/error_msg.cc:27: The tree method `gpu_hist` is deprecated since 2.0.0. To use GPU training, set the `device` parameter to CUDA instead.\n",
      "\n",
      "    E.g. tree_method = \"hist\", device = \"cuda\"\n",
      "\n",
      "  if len(data.shape) != 1 and self.num_features() != data.shape[1]:\n"
     ]
    },
    {
     "name": "stdout",
     "output_type": "stream",
     "text": [
      "[CV] END colsample_bytree=1.0, gamma=0.2, learning_rate=0.05, max_depth=6, min_child_weight=5, n_estimators=200, reg_alpha=0.1, reg_lambda=1, subsample=0.9; total time=   8.5s\n"
     ]
    },
    {
     "name": "stderr",
     "output_type": "stream",
     "text": [
      "/home/jp/Repositorios/UDEA/InteligenciaArtificial-UdeA20251/.venv/lib/python3.12/site-packages/xgboost/training.py:183: UserWarning: [14:52:54] WARNING: /workspace/src/common/error_msg.cc:27: The tree method `gpu_hist` is deprecated since 2.0.0. To use GPU training, set the `device` parameter to CUDA instead.\n",
      "\n",
      "    E.g. tree_method = \"hist\", device = \"cuda\"\n",
      "\n",
      "  bst.update(dtrain, iteration=i, fobj=obj)\n",
      "/home/jp/Repositorios/UDEA/InteligenciaArtificial-UdeA20251/.venv/lib/python3.12/site-packages/xgboost/core.py:2676: UserWarning: [14:52:56] WARNING: /workspace/src/common/error_msg.cc:27: The tree method `gpu_hist` is deprecated since 2.0.0. To use GPU training, set the `device` parameter to CUDA instead.\n",
      "\n",
      "    E.g. tree_method = \"hist\", device = \"cuda\"\n",
      "\n",
      "  if len(data.shape) != 1 and self.num_features() != data.shape[1]:\n"
     ]
    },
    {
     "name": "stdout",
     "output_type": "stream",
     "text": [
      "[CV] END colsample_bytree=1.0, gamma=0.2, learning_rate=0.05, max_depth=6, min_child_weight=5, n_estimators=200, reg_alpha=0.1, reg_lambda=1, subsample=0.9; total time=   8.3s\n"
     ]
    },
    {
     "name": "stderr",
     "output_type": "stream",
     "text": [
      "/home/jp/Repositorios/UDEA/InteligenciaArtificial-UdeA20251/.venv/lib/python3.12/site-packages/xgboost/training.py:183: UserWarning: [14:52:56] WARNING: /workspace/src/common/error_msg.cc:27: The tree method `gpu_hist` is deprecated since 2.0.0. To use GPU training, set the `device` parameter to CUDA instead.\n",
      "\n",
      "    E.g. tree_method = \"hist\", device = \"cuda\"\n",
      "\n",
      "  bst.update(dtrain, iteration=i, fobj=obj)\n",
      "/home/jp/Repositorios/UDEA/InteligenciaArtificial-UdeA20251/.venv/lib/python3.12/site-packages/xgboost/core.py:2676: UserWarning: [14:53:05] WARNING: /workspace/src/common/error_msg.cc:27: The tree method `gpu_hist` is deprecated since 2.0.0. To use GPU training, set the `device` parameter to CUDA instead.\n",
      "\n",
      "    E.g. tree_method = \"hist\", device = \"cuda\"\n",
      "\n",
      "  if len(data.shape) != 1 and self.num_features() != data.shape[1]:\n"
     ]
    },
    {
     "name": "stdout",
     "output_type": "stream",
     "text": [
      "[CV] END colsample_bytree=0.9, gamma=0.2, learning_rate=0.05, max_depth=5, min_child_weight=5, n_estimators=300, reg_alpha=0, reg_lambda=1, subsample=0.8; total time=  11.0s\n"
     ]
    },
    {
     "name": "stderr",
     "output_type": "stream",
     "text": [
      "/home/jp/Repositorios/UDEA/InteligenciaArtificial-UdeA20251/.venv/lib/python3.12/site-packages/xgboost/training.py:183: UserWarning: [14:53:05] WARNING: /workspace/src/common/error_msg.cc:27: The tree method `gpu_hist` is deprecated since 2.0.0. To use GPU training, set the `device` parameter to CUDA instead.\n",
      "\n",
      "    E.g. tree_method = \"hist\", device = \"cuda\"\n",
      "\n",
      "  bst.update(dtrain, iteration=i, fobj=obj)\n",
      "/home/jp/Repositorios/UDEA/InteligenciaArtificial-UdeA20251/.venv/lib/python3.12/site-packages/xgboost/core.py:2676: UserWarning: [14:53:07] WARNING: /workspace/src/common/error_msg.cc:27: The tree method `gpu_hist` is deprecated since 2.0.0. To use GPU training, set the `device` parameter to CUDA instead.\n",
      "\n",
      "    E.g. tree_method = \"hist\", device = \"cuda\"\n",
      "\n",
      "  if len(data.shape) != 1 and self.num_features() != data.shape[1]:\n"
     ]
    },
    {
     "name": "stdout",
     "output_type": "stream",
     "text": [
      "[CV] END colsample_bytree=0.9, gamma=0.2, learning_rate=0.05, max_depth=5, min_child_weight=5, n_estimators=300, reg_alpha=0, reg_lambda=1, subsample=0.8; total time=  10.9s\n"
     ]
    },
    {
     "name": "stderr",
     "output_type": "stream",
     "text": [
      "/home/jp/Repositorios/UDEA/InteligenciaArtificial-UdeA20251/.venv/lib/python3.12/site-packages/xgboost/training.py:183: UserWarning: [14:53:07] WARNING: /workspace/src/common/error_msg.cc:27: The tree method `gpu_hist` is deprecated since 2.0.0. To use GPU training, set the `device` parameter to CUDA instead.\n",
      "\n",
      "    E.g. tree_method = \"hist\", device = \"cuda\"\n",
      "\n",
      "  bst.update(dtrain, iteration=i, fobj=obj)\n",
      "/home/jp/Repositorios/UDEA/InteligenciaArtificial-UdeA20251/.venv/lib/python3.12/site-packages/xgboost/core.py:2676: UserWarning: [14:53:16] WARNING: /workspace/src/common/error_msg.cc:27: The tree method `gpu_hist` is deprecated since 2.0.0. To use GPU training, set the `device` parameter to CUDA instead.\n",
      "\n",
      "    E.g. tree_method = \"hist\", device = \"cuda\"\n",
      "\n",
      "  if len(data.shape) != 1 and self.num_features() != data.shape[1]:\n"
     ]
    },
    {
     "name": "stdout",
     "output_type": "stream",
     "text": [
      "[CV] END colsample_bytree=0.9, gamma=0.2, learning_rate=0.05, max_depth=5, min_child_weight=5, n_estimators=300, reg_alpha=0, reg_lambda=1, subsample=0.8; total time=  10.9s\n"
     ]
    },
    {
     "name": "stderr",
     "output_type": "stream",
     "text": [
      "/home/jp/Repositorios/UDEA/InteligenciaArtificial-UdeA20251/.venv/lib/python3.12/site-packages/xgboost/training.py:183: UserWarning: [14:53:16] WARNING: /workspace/src/common/error_msg.cc:27: The tree method `gpu_hist` is deprecated since 2.0.0. To use GPU training, set the `device` parameter to CUDA instead.\n",
      "\n",
      "    E.g. tree_method = \"hist\", device = \"cuda\"\n",
      "\n",
      "  bst.update(dtrain, iteration=i, fobj=obj)\n",
      "/home/jp/Repositorios/UDEA/InteligenciaArtificial-UdeA20251/.venv/lib/python3.12/site-packages/xgboost/core.py:2676: UserWarning: [14:53:18] WARNING: /workspace/src/common/error_msg.cc:27: The tree method `gpu_hist` is deprecated since 2.0.0. To use GPU training, set the `device` parameter to CUDA instead.\n",
      "\n",
      "    E.g. tree_method = \"hist\", device = \"cuda\"\n",
      "\n",
      "  if len(data.shape) != 1 and self.num_features() != data.shape[1]:\n"
     ]
    },
    {
     "name": "stdout",
     "output_type": "stream",
     "text": [
      "[CV] END colsample_bytree=0.9, gamma=0.2, learning_rate=0.05, max_depth=5, min_child_weight=5, n_estimators=300, reg_alpha=0, reg_lambda=1, subsample=0.8; total time=  10.8s\n"
     ]
    },
    {
     "name": "stderr",
     "output_type": "stream",
     "text": [
      "/home/jp/Repositorios/UDEA/InteligenciaArtificial-UdeA20251/.venv/lib/python3.12/site-packages/xgboost/core.py:2676: UserWarning: [14:53:21] WARNING: /workspace/src/common/error_msg.cc:27: The tree method `gpu_hist` is deprecated since 2.0.0. To use GPU training, set the `device` parameter to CUDA instead.\n",
      "\n",
      "    E.g. tree_method = \"hist\", device = \"cuda\"\n",
      "\n",
      "  if len(data.shape) != 1 and self.num_features() != data.shape[1]:\n"
     ]
    },
    {
     "name": "stdout",
     "output_type": "stream",
     "text": [
      "[CV] END colsample_bytree=0.9, gamma=0.2, learning_rate=0.05, max_depth=5, min_child_weight=5, n_estimators=300, reg_alpha=0, reg_lambda=1, subsample=0.8; total time=   5.5s\n",
      "XGBoost completado en 31.48 minutos\n",
      "Mejor score XGBoost: 0.4207\n",
      "Mejores parámetros XGBoost:\n",
      "  subsample: 1.0\n",
      "  reg_lambda: 2\n",
      "  reg_alpha: 0\n",
      "  n_estimators: 800\n",
      "  min_child_weight: 1\n",
      "  max_depth: 6\n",
      "  learning_rate: 0.1\n",
      "  gamma: 0.1\n",
      "  colsample_bytree: 0.9\n"
     ]
    }
   ],
   "source": [
    "# 4. MODELO XGBOOST CON OPTIMIZACIÓN GPU\n",
    "print(f\"\\n\" + \"=\"*50)\n",
    "print(\"MODELO 1: XGBOOST AVANZADO\")\n",
    "print(\"=\"*50)\n",
    "\n",
    "# Parámetros base para XGBoost\n",
    "xgb_params_base = {\n",
    "    'objective': 'multi:softprob',\n",
    "    'num_class': n_classes,\n",
    "    'eval_metric': 'mlogloss',\n",
    "    'random_state': 42,\n",
    "    'n_jobs': n_cores-1,\n",
    "    'tree_method': 'gpu_hist',  # Usar GPU si está disponible\n",
    "    'gpu_id': 0,\n",
    "    'verbosity': 1\n",
    "}\n",
    "\n",
    "# Espacio de hiperparámetros para XGBoost\n",
    "xgb_param_dist = {\n",
    "    'n_estimators': [200, 300, 500, 800],\n",
    "    'max_depth': [3, 4, 5, 6, 7],\n",
    "    'learning_rate': [0.01, 0.05, 0.1, 0.15, 0.2],\n",
    "    'subsample': [0.8, 0.9, 0.95, 1.0],\n",
    "    'colsample_bytree': [0.8, 0.9, 0.95, 1.0],\n",
    "    'min_child_weight': [1, 3, 5],\n",
    "    'gamma': [0, 0.1, 0.2, 0.3],\n",
    "    'reg_alpha': [0, 0.01, 0.1],\n",
    "    'reg_lambda': [1, 1.5, 2]\n",
    "}\n",
    "\n",
    "# Configuración de búsqueda\n",
    "n_iter_xgb = 50  # Número de iteraciones\n",
    "print(f\"Espacio de búsqueda XGBoost: ~{np.prod([len(v) for v in xgb_param_dist.values()]):,} combinaciones\")\n",
    "print(f\"Realizando {n_iter_xgb} iteraciones con {cv_folds} folds = {n_iter_xgb * cv_folds} entrenamientos\")\n",
    "\n",
    "xgb_model = xgb.XGBClassifier(**xgb_params_base)\n",
    "\n",
    "xgb_search = RandomizedSearchCV(\n",
    "    xgb_model,\n",
    "    param_distributions=xgb_param_dist,\n",
    "    n_iter=n_iter_xgb,\n",
    "    cv=cv,\n",
    "    scoring='accuracy',\n",
    "    n_jobs=2,  # Paralelización limitada por GPU\n",
    "    verbose=2,\n",
    "    random_state=42,\n",
    "    return_train_score=False\n",
    ")\n",
    "\n",
    "print(f\"Iniciando entrenamiento XGBoost...\")\n",
    "start_time_xgb = time.time()\n",
    "\n",
    "try:\n",
    "    xgb_search.fit(X, y_encoded)\n",
    "    elapsed_xgb = time.time() - start_time_xgb\n",
    "    \n",
    "    print(f\"XGBoost completado en {elapsed_xgb/60:.2f} minutos\")\n",
    "    print(f\"Mejor score XGBoost: {xgb_search.best_score_:.4f}\")\n",
    "    print(f\"Mejores parámetros XGBoost:\")\n",
    "    for param, value in xgb_search.best_params_.items():\n",
    "        print(f\"  {param}: {value}\")\n",
    "    \n",
    "    best_xgb = xgb_search.best_estimator_\n",
    "    xgb_available = True\n",
    "    xgb_gpu_used = True\n",
    "    \n",
    "except Exception as e:\n",
    "    print(f\"Error con GPU XGBoost, usando CPU: {e}\")\n",
    "    # Fallback a CPU\n",
    "    xgb_params_base.pop('tree_method', None)\n",
    "    xgb_params_base.pop('gpu_id', None)\n",
    "    \n",
    "    xgb_model_cpu = xgb.XGBClassifier(**xgb_params_base)\n",
    "    xgb_search_cpu = RandomizedSearchCV(\n",
    "        xgb_model_cpu,\n",
    "        param_distributions=xgb_param_dist,\n",
    "        n_iter=30,  # Menos iteraciones en CPU\n",
    "        cv=cv,\n",
    "        scoring='accuracy',\n",
    "        n_jobs=n_cores-1,\n",
    "        verbose=1,\n",
    "        random_state=42\n",
    "    )\n",
    "    \n",
    "    xgb_search_cpu.fit(X, y_encoded)\n",
    "    elapsed_xgb = time.time() - start_time_xgb\n",
    "    best_xgb = xgb_search_cpu.best_estimator_\n",
    "    xgb_search = xgb_search_cpu\n",
    "    xgb_available = True\n",
    "    xgb_gpu_used = False\n",
    "    print(f\"XGBoost CPU completado en {elapsed_xgb/60:.2f} minutos\")"
   ]
  },
  {
   "cell_type": "code",
   "execution_count": 10,
   "id": "baaa7587",
   "metadata": {},
   "outputs": [
    {
     "name": "stdout",
     "output_type": "stream",
     "text": [
      "\n",
      "============================================================\n",
      "RESULTADO DEL ENTRENAMIENTO XGBOOST\n",
      "============================================================\n",
      "🎯 MODELO: XGBoost\n",
      "📊 Accuracy: 0.4207 (42.07%)\n",
      "⏱️  Tiempo entrenamiento: 31.48 minutos\n",
      "🔥 GPU utilizada: ✅ SI\n",
      "\n",
      "🔧 Mejores hiperparámetros:\n",
      "  subsample: 1.0\n",
      "  reg_lambda: 2\n",
      "  reg_alpha: 0\n",
      "  n_estimators: 800\n",
      "  min_child_weight: 1\n",
      "  max_depth: 6\n",
      "  learning_rate: 0.1\n",
      "  gamma: 0.1\n",
      "  colsample_bytree: 0.9\n",
      "\n",
      "🎯 SELECCIONADO PARA ANÁLISIS Y SUBMISSION: XGBoost\n",
      "============================================================\n"
     ]
    }
   ],
   "source": [
    "# 6. RESULTADO DEL ENTRENAMIENTO XGBOOST\n",
    "print(f\"\\n\" + \"=\"*60)\n",
    "print(\"RESULTADO DEL ENTRENAMIENTO XGBOOST\")\n",
    "print(\"=\"*60)\n",
    "\n",
    "# Definir variables necesarias para el resto del análisis\n",
    "best_xgb_score = xgb_search.best_score_\n",
    "\n",
    "# Información del modelo XGBoost\n",
    "print(f\"🎯 MODELO: XGBoost\")\n",
    "print(f\"📊 Accuracy: {best_xgb_score:.4f} ({best_xgb_score*100:.2f}%)\")\n",
    "print(f\"⏱️  Tiempo entrenamiento: {elapsed_xgb/60:.2f} minutos\")\n",
    "print(f\"🔥 GPU utilizada: {'✅ SI' if xgb_gpu_used else '❌ NO'}\")\n",
    "\n",
    "print(f\"\\n🔧 Mejores hiperparámetros:\")\n",
    "for param, value in xgb_search.best_params_.items():\n",
    "    print(f\"  {param}: {value}\")\n",
    "\n",
    "print(f\"\\n🎯 SELECCIONADO PARA ANÁLISIS Y SUBMISSION: XGBoost\")\n",
    "print(\"=\"*60)"
   ]
  },
  {
   "cell_type": "code",
   "execution_count": 17,
   "id": "9f98f727",
   "metadata": {},
   "outputs": [
    {
     "name": "stdout",
     "output_type": "stream",
     "text": [
      "\n",
      "==================================================\n",
      "GUARDANDO RESULTADOS - XGBOOST\n",
      "==================================================\n",
      "Verificando tipos de datos para predicción...\n",
      "Columnas con tipo 'object' en X_test:\n",
      "  ['FAMI_TIENEINTERNET']\n",
      "  ✅ Tipos de datos corregidos\n",
      "Realizando predicciones finales...\n",
      "✅ Predicciones completadas exitosamente\n",
      "  📊 Confianza promedio: 0.439\n",
      "  🎯 Predicciones alta confianza (>0.8): 8,781\n",
      "✅ MODELO GUARDADO: Resultados_Modelos/XGBoost_Avanzado/XGBoost_20250613_150640/modelo_xgboost_avanzado.joblib\n",
      "✅ SUBMISSION GUARDADO: Resultados_Modelos/XGBoost_Avanzado/XGBoost_20250613_150640/submission_xgboost_avanzado.csv\n",
      "✅ PROBABILIDADES GUARDADAS: Resultados_Modelos/XGBoost_Avanzado/XGBoost_20250613_150640/submission_xgboost_probabilidades.csv\n",
      "✅ IMPORTANCIA GUARDADA: Resultados_Modelos/XGBoost_Avanzado/XGBoost_20250613_150640/importancia_caracteristicas.csv\n",
      "✅ MÉTRICAS GUARDADAS: Resultados_Modelos/XGBoost_Avanzado/XGBoost_20250613_150640/metricas_xgboost_avanzado.csv\n",
      "\n",
      "🎉 ARCHIVOS GUARDADOS EN: Resultados_Modelos/XGBoost_Avanzado/XGBoost_20250613_150640\n",
      "==================================================\n",
      "✅ PROCESO COMPLETADO - MODELO LISTO PARA USO\n",
      "==================================================\n"
     ]
    }
   ],
   "source": [
    "# 9. GUARDAR RESULTADOS Y MODELO XGBOOST\n",
    "print(f\"\\n\" + \"=\"*50)\n",
    "print(\"GUARDANDO RESULTADOS - XGBOOST\")\n",
    "print(\"=\"*50)\n",
    "\n",
    "# Verificar y corregir tipos de datos de X_test\n",
    "print(\"Verificando tipos de datos para predicción...\")\n",
    "print(\"Columnas con tipo 'object' en X_test:\")\n",
    "object_columns = X_test.select_dtypes(include=['object']).columns\n",
    "if len(object_columns) > 0:\n",
    "    print(f\"  {list(object_columns)}\")\n",
    "    \n",
    "    # Convertir columnas object a category para XGBoost\n",
    "    X_test_corrected = X_test.copy()\n",
    "    for col in object_columns:\n",
    "        if col in X_test_corrected.columns:\n",
    "            X_test_corrected[col] = X_test_corrected[col].astype('category')\n",
    "    print(\"  ✅ Tipos de datos corregidos\")\n",
    "else:\n",
    "    X_test_corrected = X_test\n",
    "    print(\"  ✅ Todos los tipos de datos son correctos\")\n",
    "\n",
    "# Realizar predicciones en test con tipos corregidos\n",
    "print(f\"Realizando predicciones finales...\")\n",
    "try:\n",
    "    y_pred_test = best_xgb.predict(X_test_corrected)\n",
    "    y_pred_proba_test = best_xgb.predict_proba(X_test_corrected)\n",
    "    \n",
    "    # Decodificar predicciones\n",
    "    y_pred_test_decoded = le_target.inverse_transform(y_pred_test)\n",
    "    \n",
    "    # Análisis de confianza\n",
    "    probas_max = np.max(y_pred_proba_test, axis=1)\n",
    "    print(f\"✅ Predicciones completadas exitosamente\")\n",
    "    print(f\"  📊 Confianza promedio: {probas_max.mean():.3f}\")\n",
    "    print(f\"  🎯 Predicciones alta confianza (>0.8): {(probas_max > 0.8).sum():,}\")\n",
    "    \n",
    "except Exception as e:\n",
    "    print(f\"❌ Error en predicciones: {e}\")\n",
    "    # Crear submission básico solo con modelo guardado\n",
    "    print(\"Guardando solo el modelo entrenado...\")\n",
    "\n",
    "# Crear directorio con timestamp\n",
    "timestamp = datetime.now().strftime(\"%Y%m%d_%H%M%S\")\n",
    "output_dir = f\"Resultados_Modelos/XGBoost_Avanzado/XGBoost_{timestamp}\"\n",
    "os.makedirs(output_dir, exist_ok=True)\n",
    "\n",
    "# Guardar modelo XGBoost entrenado (LO MÁS IMPORTANTE)\n",
    "model_path = os.path.join(output_dir, f\"modelo_xgboost_avanzado.joblib\")\n",
    "joblib.dump(best_xgb, model_path)\n",
    "print(f\"✅ MODELO GUARDADO: {model_path}\")\n",
    "\n",
    "# Preparar IDs de test\n",
    "if 'ID' in test.columns:\n",
    "    test_ids = test['ID']\n",
    "else:\n",
    "    test_ids = range(len(X_test))\n",
    "\n",
    "# Si las predicciones fueron exitosas, guardar submission\n",
    "if 'y_pred_test_decoded' in locals():\n",
    "    # Guardar submission principal\n",
    "    submission = pd.DataFrame({\n",
    "        'ID': test_ids,\n",
    "        target_col: y_pred_test_decoded\n",
    "    })\n",
    "    \n",
    "    submission_path = os.path.join(output_dir, f\"submission_xgboost_avanzado.csv\")\n",
    "    submission.to_csv(submission_path, index=False)\n",
    "    print(f\"✅ SUBMISSION GUARDADO: {submission_path}\")\n",
    "    \n",
    "    # Guardar submission con probabilidades\n",
    "    prob_df = pd.DataFrame(y_pred_proba_test, columns=[f'prob_{classe}' for classe in target_classes])\n",
    "    prob_df['ID'] = test_ids\n",
    "    prob_df[target_col] = y_pred_test_decoded\n",
    "    prob_df['confianza'] = probas_max\n",
    "    \n",
    "    prob_path = os.path.join(output_dir, f\"submission_xgboost_probabilidades.csv\")\n",
    "    prob_df.to_csv(prob_path, index=False)\n",
    "    print(f\"✅ PROBABILIDADES GUARDADAS: {prob_path}\")\n",
    "else:\n",
    "    print(\"⚠️  Sin predicciones - solo modelo guardado\")\n",
    "\n",
    "# Guardar importancia de características\n",
    "if hasattr(best_xgb, 'feature_importances_'):\n",
    "    feature_importance = pd.DataFrame({\n",
    "        'feature': X.columns,\n",
    "        'importance': best_xgb.feature_importances_\n",
    "    }).sort_values('importance', ascending=False)\n",
    "    \n",
    "    importance_path = os.path.join(output_dir, \"importancia_caracteristicas.csv\")\n",
    "    feature_importance.to_csv(importance_path, index=False)\n",
    "    print(f\"✅ IMPORTANCIA GUARDADA: {importance_path}\")\n",
    "\n",
    "# Guardar métricas y metadatos\n",
    "metrics = {\n",
    "    'modelo': 'XGBoost_Avanzado',\n",
    "    'accuracy_cv': best_xgb_score,\n",
    "    'tiempo_entrenamiento_min': elapsed_xgb / 60,\n",
    "    'gpu_utilizada': xgb_gpu_used,\n",
    "    'n_muestras_entrenamiento': len(X),\n",
    "    'n_caracteristicas': X.shape[1],\n",
    "    'n_clases': n_classes,\n",
    "    'mejores_parametros': str(xgb_search.best_params_),\n",
    "    'fecha_entrenamiento': timestamp\n",
    "}\n",
    "\n",
    "if 'probas_max' in locals():\n",
    "    metrics.update({\n",
    "        'confianza_promedio': probas_max.mean(),\n",
    "        'confianza_alta_pct': (probas_max > 0.8).mean() * 100,\n",
    "        'accuracy_cv_std': cv_scores.std(),\n",
    "    })\n",
    "\n",
    "metrics_df = pd.DataFrame(list(metrics.items()), columns=['Métrica', 'Valor'])\n",
    "metrics_path = os.path.join(output_dir, f\"metricas_xgboost_avanzado.csv\")\n",
    "metrics_df.to_csv(metrics_path, index=False)\n",
    "print(f\"✅ MÉTRICAS GUARDADAS: {metrics_path}\")\n",
    "\n",
    "print(f\"\\n🎉 ARCHIVOS GUARDADOS EN: {output_dir}\")\n",
    "print(\"=\"*50)\n",
    "print(\"✅ PROCESO COMPLETADO - MODELO LISTO PARA USO\")\n",
    "print(\"=\"*50)"
   ]
  }
 ],
 "metadata": {
  "kernelspec": {
   "display_name": ".venv",
   "language": "python",
   "name": "python3"
  },
  "language_info": {
   "codemirror_mode": {
    "name": "ipython",
    "version": 3
   },
   "file_extension": ".py",
   "mimetype": "text/x-python",
   "name": "python",
   "nbconvert_exporter": "python",
   "pygments_lexer": "ipython3",
   "version": "3.12.3"
  }
 },
 "nbformat": 4,
 "nbformat_minor": 5
}
