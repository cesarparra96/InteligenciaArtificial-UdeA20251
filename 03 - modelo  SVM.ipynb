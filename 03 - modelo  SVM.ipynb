{
 "cells": [
  {
   "cell_type": "code",
   "execution_count": null,
   "id": "8a9aa76d",
   "metadata": {},
   "outputs": [],
   "source": [
    "import pandas as pd\n",
    "from sklearn.ensemble import RandomForestClassifier\n",
    "from sklearn.model_selection import StratifiedKFold\n",
    "from sklearn.metrics import confusion_matrix, classification_report\n",
    "from tqdm import tqdm\n",
    "import matplotlib.pyplot as plt\n",
    "import seaborn as sns\n",
    "import numpy as np\n",
    "import time\n",
    "\n",
    "# 1. Carga los datos preprocesados\n",
    "train = pd.read_csv('Data/train_preprocessed.csv')\n",
    "test = pd.read_csv('Data/test_preprocessed.csv')\n",
    "\n",
    "# 2. Separa variables predictoras y objetivo\n",
    "y = train['RENDIMIENTO_GLOBAL']\n",
    "X = train.drop(['RENDIMIENTO_GLOBAL', 'ID'], axis=1)\n",
    "X_test = test.drop(['ID'], axis=1)\n",
    "\n",
    "# 3. Cross-validation con barra de progreso y medición de tiempo\n",
    "cv = StratifiedKFold(n_splits=5, shuffle=True, random_state=42)\n",
    "scores = []\n",
    "y_true = []\n",
    "y_pred_cv = []\n",
    "\n",
    "print(\"Iniciando validación cruzada...\")\n",
    "start_time = time.time()\n",
    "for train_idx, val_idx in tqdm(cv.split(X, y), total=cv.get_n_splits(), desc=\"Validación cruzada\"):\n",
    "    X_train, X_val = X.iloc[train_idx], X.iloc[val_idx]\n",
    "    y_train, y_val = y.iloc[train_idx], y.iloc[val_idx]\n",
    "    clf = RandomForestClassifier(n_estimators=100, random_state=42)\n",
    "    clf.fit(X_train, y_train)\n",
    "    score = clf.score(X_val, y_val)\n",
    "    scores.append(score)\n",
    "    # Para métricas detalladas:\n",
    "    y_pred_fold = clf.predict(X_val)\n",
    "    y_true.extend(y_val)\n",
    "    y_pred_cv.extend(y_pred_fold)\n",
    "elapsed = time.time() - start_time\n",
    "print(f\"Validación cruzada completada en {elapsed/60:.2f} minutos.\")\n",
    "print(f\"CV Accuracy promedio: {np.mean(scores):.4f}\")\n",
    "\n",
    "# 4. Entrena el modelo final y predice sobre el test con barra de progreso\n",
    "print(\"Entrenando modelo final con todos los datos...\")\n",
    "start_time = time.time()\n",
    "with tqdm(total=1, desc=\"Entrenando modelo final\") as pbar:\n",
    "    clf = RandomForestClassifier(n_estimators=100, random_state=42)\n",
    "    clf.fit(X, y)\n",
    "    pbar.update(1)\n",
    "elapsed_final = time.time() - start_time\n",
    "print(f\"Entrenamiento final completado en {elapsed_final:.2f} segundos.\")\n",
    "\n",
    "y_pred = clf.predict(X_test)\n",
    "\n",
    "# 5. Guarda el resultado para submission\n",
    "submission = pd.DataFrame({'ID': test['ID'], 'RENDIMIENTO_GLOBAL': y_pred})\n",
    "submission.to_csv('submission.csv', index=False)\n",
    "print(\"Archivo 'submission.csv' generado.\")\n",
    "\n",
    "# 6. Resultados finales y explicación\n",
    "\n",
    "# Matriz de confusión\n",
    "cm = confusion_matrix(y_true, y_pred_cv)\n",
    "plt.figure(figsize=(8,6))\n",
    "sns.heatmap(cm, annot=True, fmt='d', cmap='Blues')\n",
    "plt.xlabel('Predicho')\n",
    "plt.ylabel('Real')\n",
    "plt.title('Matriz de confusión (validación cruzada)')\n",
    "plt.show()\n",
    "\n",
    "# Reporte de clasificación\n",
    "print(\"Reporte de clasificación (validación cruzada):\")\n",
    "print(classification_report(y_true, y_pred_cv))\n",
    "\n",
    "# Importancia de variables\n",
    "importances = clf.feature_importances_\n",
    "features = X.columns\n",
    "indices = np.argsort(importances)[::-1]\n",
    "plt.figure(figsize=(10,6))\n",
    "plt.title(\"Importancia de variables (Random Forest)\")\n",
    "plt.bar(range(len(features)), importances[indices])\n",
    "plt.xticks(range(len(features)), features[indices], rotation=90)\n",
    "plt.tight_layout()\n",
    "plt.show()\n",
    "\n",
    "# Explicación de los resultados:\n",
    "print(\"\"\"\n",
    "Explicación de los resultados:\n",
    "- La barra de progreso muestra el avance de la validación cruzada y el entrenamiento final.\n",
    "- 'CV Accuracy promedio' es la precisión media obtenida en los 5 folds de validación cruzada.\n",
    "- La matriz de confusión muestra cómo se distribuyen los aciertos y errores por clase.\n",
    "- El reporte de clasificación incluye precisión, recall y F1-score para cada clase.\n",
    "- El gráfico de importancia de variables te ayuda a identificar qué variables son más relevantes para el modelo.\n",
    "- El archivo 'submission.csv' contiene las predicciones finales para el conjunto de test.\n",
    "\"\"\")"
   ]
  },
  {
   "cell_type": "code",
   "execution_count": 17,
   "id": "66b18901",
   "metadata": {},
   "outputs": [
    {
     "name": "stdout",
     "output_type": "stream",
     "text": [
      "CONFIGURACIÓN OPTIMIZADA PARA VELOCIDAD\n",
      "============================================================\n",
      "Cores disponibles: 16\n",
      "MEMORIA RAM:\n",
      "  Total: 31.1 GB\n",
      "  Usada: 6.5 GB (22.8%)\n",
      "  Disponible: 24.0 GB\n",
      "RAM con suficiente espacio libre\n",
      "Configuración RÁPIDA - Menos iteraciones pero más eficiente\n",
      "============================================================\n",
      "Número de características: 19\n",
      "Número de muestras de entrenamiento: 578824\n",
      "Número de muestras de test: 296786\n",
      "\n",
      "BÚSQUEDA RÁPIDA DE HIPERPARÁMETROS\n",
      "============================================================\n",
      "CONFIGURACIÓN OPTIMIZADA PARA VELOCIDAD\n",
      "CONFIGURACIÓN RÁPIDA:\n",
      "   • Cores utilizados: 12 de 16 disponibles\n",
      "   • Iteraciones de búsqueda: 20 (reducido)\n",
      "   • Validación cruzada: 3-fold (reducido)\n",
      "   • Total de entrenamientos: ~60 modelos SVM\n",
      "   • Tiempo estimado: 4.0 minutos\n",
      "\n",
      "Hora de inicio: 02:27:00\n",
      "Modo RÁPIDO activado - Menos iteraciones, más velocidad\n",
      "============================================================\n",
      "Iniciando entrenamiento optimizado...\n",
      "Entrenando 20 modelos SVM...\n",
      "Número de características: 19\n",
      "Número de muestras de entrenamiento: 578824\n",
      "Número de muestras de test: 296786\n",
      "\n",
      "BÚSQUEDA RÁPIDA DE HIPERPARÁMETROS\n",
      "============================================================\n",
      "CONFIGURACIÓN OPTIMIZADA PARA VELOCIDAD\n",
      "CONFIGURACIÓN RÁPIDA:\n",
      "   • Cores utilizados: 12 de 16 disponibles\n",
      "   • Iteraciones de búsqueda: 20 (reducido)\n",
      "   • Validación cruzada: 3-fold (reducido)\n",
      "   • Total de entrenamientos: ~60 modelos SVM\n",
      "   • Tiempo estimado: 4.0 minutos\n",
      "\n",
      "Hora de inicio: 02:27:00\n",
      "Modo RÁPIDO activado - Menos iteraciones, más velocidad\n",
      "============================================================\n",
      "Iniciando entrenamiento optimizado...\n",
      "Entrenando 20 modelos SVM...\n"
     ]
    },
    {
     "name": "stderr",
     "output_type": "stream",
     "text": [
      "Progreso SVM:   0%|          | 0/20 [00:00<?, ?modelo/s]"
     ]
    },
    {
     "name": "stdout",
     "output_type": "stream",
     "text": [
      "Fitting 3 folds for each of 20 candidates, totalling 60 fits\n"
     ]
    },
    {
     "name": "stderr",
     "output_type": "stream",
     "text": [
      "/home/jp/Repositorios/UDEA/InteligenciaArtificial-UdeA20251/.venv/lib/python3.12/site-packages/sklearn/svm/_base.py:305: ConvergenceWarning: Solver terminated early (max_iter=2000).  Consider pre-processing your data with StandardScaler or MinMaxScaler.\n",
      "  warnings.warn(\n",
      "/home/jp/Repositorios/UDEA/InteligenciaArtificial-UdeA20251/.venv/lib/python3.12/site-packages/sklearn/svm/_base.py:305: ConvergenceWarning: Solver terminated early (max_iter=2000).  Consider pre-processing your data with StandardScaler or MinMaxScaler.\n",
      "  warnings.warn(\n",
      "/home/jp/Repositorios/UDEA/InteligenciaArtificial-UdeA20251/.venv/lib/python3.12/site-packages/sklearn/svm/_base.py:305: ConvergenceWarning: Solver terminated early (max_iter=2000).  Consider pre-processing your data with StandardScaler or MinMaxScaler.\n",
      "  warnings.warn(\n",
      "/home/jp/Repositorios/UDEA/InteligenciaArtificial-UdeA20251/.venv/lib/python3.12/site-packages/sklearn/svm/_base.py:305: ConvergenceWarning: Solver terminated early (max_iter=2000).  Consider pre-processing your data with StandardScaler or MinMaxScaler.\n",
      "  warnings.warn(\n",
      "/home/jp/Repositorios/UDEA/InteligenciaArtificial-UdeA20251/.venv/lib/python3.12/site-packages/sklearn/svm/_base.py:305: ConvergenceWarning: Solver terminated early (max_iter=2000).  Consider pre-processing your data with StandardScaler or MinMaxScaler.\n",
      "  warnings.warn(\n"
     ]
    },
    {
     "name": "stdout",
     "output_type": "stream",
     "text": [
      "[CV] END svc__C=1, svc__class_weight=balanced, svc__gamma=0.1, svc__kernel=rbf; total time=41.3min\n",
      "[CV] END svc__C=1, svc__class_weight=balanced, svc__gamma=0.1, svc__kernel=rbf; total time=45.5min\n",
      "[CV] END svc__C=1, svc__class_weight=balanced, svc__gamma=0.1, svc__kernel=rbf; total time=45.5min\n"
     ]
    },
    {
     "name": "stderr",
     "output_type": "stream",
     "text": [
      "/home/jp/Repositorios/UDEA/InteligenciaArtificial-UdeA20251/.venv/lib/python3.12/site-packages/sklearn/svm/_base.py:305: ConvergenceWarning: Solver terminated early (max_iter=2000).  Consider pre-processing your data with StandardScaler or MinMaxScaler.\n",
      "  warnings.warn(\n"
     ]
    },
    {
     "name": "stdout",
     "output_type": "stream",
     "text": [
      "[CV] END svc__C=1, svc__class_weight=balanced, svc__gamma=0.1, svc__kernel=rbf; total time=45.4min\n"
     ]
    },
    {
     "name": "stderr",
     "output_type": "stream",
     "text": [
      "/home/jp/Repositorios/UDEA/InteligenciaArtificial-UdeA20251/.venv/lib/python3.12/site-packages/sklearn/svm/_base.py:305: ConvergenceWarning: Solver terminated early (max_iter=2000).  Consider pre-processing your data with StandardScaler or MinMaxScaler.\n",
      "  warnings.warn(\n",
      "/home/jp/Repositorios/UDEA/InteligenciaArtificial-UdeA20251/.venv/lib/python3.12/site-packages/sklearn/svm/_base.py:305: ConvergenceWarning: Solver terminated early (max_iter=2000).  Consider pre-processing your data with StandardScaler or MinMaxScaler.\n",
      "  warnings.warn(\n",
      "/home/jp/Repositorios/UDEA/InteligenciaArtificial-UdeA20251/.venv/lib/python3.12/site-packages/sklearn/svm/_base.py:305: ConvergenceWarning: Solver terminated early (max_iter=2000).  Consider pre-processing your data with StandardScaler or MinMaxScaler.\n",
      "  warnings.warn(\n",
      "/home/jp/Repositorios/UDEA/InteligenciaArtificial-UdeA20251/.venv/lib/python3.12/site-packages/sklearn/svm/_base.py:305: ConvergenceWarning: Solver terminated early (max_iter=2000).  Consider pre-processing your data with StandardScaler or MinMaxScaler.\n",
      "  warnings.warn(\n",
      "/home/jp/Repositorios/UDEA/InteligenciaArtificial-UdeA20251/.venv/lib/python3.12/site-packages/sklearn/svm/_base.py:305: ConvergenceWarning: Solver terminated early (max_iter=2000).  Consider pre-processing your data with StandardScaler or MinMaxScaler.\n",
      "  warnings.warn(\n",
      "/home/jp/Repositorios/UDEA/InteligenciaArtificial-UdeA20251/.venv/lib/python3.12/site-packages/sklearn/svm/_base.py:305: ConvergenceWarning: Solver terminated early (max_iter=2000).  Consider pre-processing your data with StandardScaler or MinMaxScaler.\n",
      "  warnings.warn(\n",
      "/home/jp/Repositorios/UDEA/InteligenciaArtificial-UdeA20251/.venv/lib/python3.12/site-packages/sklearn/svm/_base.py:305: ConvergenceWarning: Solver terminated early (max_iter=2000).  Consider pre-processing your data with StandardScaler or MinMaxScaler.\n",
      "  warnings.warn(\n",
      "/home/jp/Repositorios/UDEA/InteligenciaArtificial-UdeA20251/.venv/lib/python3.12/site-packages/sklearn/svm/_base.py:305: ConvergenceWarning: Solver terminated early (max_iter=2000).  Consider pre-processing your data with StandardScaler or MinMaxScaler.\n",
      "  warnings.warn(\n",
      "/home/jp/Repositorios/UDEA/InteligenciaArtificial-UdeA20251/.venv/lib/python3.12/site-packages/sklearn/svm/_base.py:305: ConvergenceWarning: Solver terminated early (max_iter=2000).  Consider pre-processing your data with StandardScaler or MinMaxScaler.\n",
      "  warnings.warn(\n",
      "/home/jp/Repositorios/UDEA/InteligenciaArtificial-UdeA20251/.venv/lib/python3.12/site-packages/sklearn/svm/_base.py:305: ConvergenceWarning: Solver terminated early (max_iter=2000).  Consider pre-processing your data with StandardScaler or MinMaxScaler.\n",
      "  warnings.warn(\n",
      "/home/jp/Repositorios/UDEA/InteligenciaArtificial-UdeA20251/.venv/lib/python3.12/site-packages/sklearn/svm/_base.py:305: ConvergenceWarning: Solver terminated early (max_iter=2000).  Consider pre-processing your data with StandardScaler or MinMaxScaler.\n",
      "  warnings.warn(\n",
      "/home/jp/Repositorios/UDEA/InteligenciaArtificial-UdeA20251/.venv/lib/python3.12/site-packages/sklearn/svm/_base.py:305: ConvergenceWarning: Solver terminated early (max_iter=2000).  Consider pre-processing your data with StandardScaler or MinMaxScaler.\n",
      "  warnings.warn(\n",
      "/home/jp/Repositorios/UDEA/InteligenciaArtificial-UdeA20251/.venv/lib/python3.12/site-packages/sklearn/svm/_base.py:305: ConvergenceWarning: Solver terminated early (max_iter=2000).  Consider pre-processing your data with StandardScaler or MinMaxScaler.\n",
      "  warnings.warn(\n",
      "/home/jp/Repositorios/UDEA/InteligenciaArtificial-UdeA20251/.venv/lib/python3.12/site-packages/sklearn/svm/_base.py:305: ConvergenceWarning: Solver terminated early (max_iter=2000).  Consider pre-processing your data with StandardScaler or MinMaxScaler.\n",
      "  warnings.warn(\n",
      "/home/jp/Repositorios/UDEA/InteligenciaArtificial-UdeA20251/.venv/lib/python3.12/site-packages/sklearn/svm/_base.py:305: ConvergenceWarning: Solver terminated early (max_iter=2000).  Consider pre-processing your data with StandardScaler or MinMaxScaler.\n",
      "  warnings.warn(\n"
     ]
    },
    {
     "name": "stdout",
     "output_type": "stream",
     "text": [
      "[CV] END svc__C=10, svc__class_weight=None, svc__gamma=0.1, svc__kernel=rbf; total time=55.5min\n",
      "[CV] END svc__C=10, svc__class_weight=None, svc__gamma=scale, svc__kernel=rbf; total time=56.2min\n",
      "[CV] END svc__C=10, svc__class_weight=None, svc__gamma=scale, svc__kernel=rbf; total time=56.2min\n",
      "[CV] END svc__C=10, svc__class_weight=None, svc__gamma=0.1, svc__kernel=rbf; total time=56.9min\n",
      "[CV] END svc__C=10, svc__class_weight=None, svc__gamma=0.1, svc__kernel=rbf; total time=56.9min\n",
      "[CV] END svc__C=10, svc__class_weight=None, svc__gamma=scale, svc__kernel=rbf; total time=57.4min\n",
      "[CV] END svc__C=10, svc__class_weight=None, svc__gamma=scale, svc__kernel=rbf; total time=57.4min\n",
      "[CV] END svc__C=100, svc__class_weight=None, svc__gamma=0.01, svc__kernel=rbf; total time=57.3min\n",
      "[CV] END svc__C=100, svc__class_weight=None, svc__gamma=0.01, svc__kernel=rbf; total time=57.3min\n",
      "[CV] END svc__C=10, svc__class_weight=None, svc__gamma=0.1, svc__kernel=rbf; total time=57.0min\n",
      "[CV] END svc__C=10, svc__class_weight=None, svc__gamma=0.1, svc__kernel=rbf; total time=57.0min\n",
      "[CV] END svc__C=10, svc__class_weight=None, svc__gamma=scale, svc__kernel=rbf; total time=64.5min\n",
      "[CV] END svc__C=10, svc__class_weight=None, svc__gamma=scale, svc__kernel=rbf; total time=64.5min\n",
      "[CV] END svc__C=100, svc__class_weight=None, svc__gamma=0.01, svc__kernel=rbf; total time=64.2min\n",
      "[CV] END svc__C=100, svc__class_weight=None, svc__gamma=0.01, svc__kernel=rbf; total time=64.2min\n",
      "[CV] END svc__C=100, svc__class_weight=None, svc__gamma=0.01, svc__kernel=rbf; total time=62.1min\n",
      "[CV] END svc__C=100, svc__class_weight=None, svc__gamma=0.01, svc__kernel=rbf; total time=62.1min\n"
     ]
    },
    {
     "name": "stderr",
     "output_type": "stream",
     "text": [
      "/home/jp/Repositorios/UDEA/InteligenciaArtificial-UdeA20251/.venv/lib/python3.12/site-packages/sklearn/svm/_base.py:305: ConvergenceWarning: Solver terminated early (max_iter=2000).  Consider pre-processing your data with StandardScaler or MinMaxScaler.\n",
      "  warnings.warn(\n",
      "/home/jp/Repositorios/UDEA/InteligenciaArtificial-UdeA20251/.venv/lib/python3.12/site-packages/sklearn/svm/_base.py:305: ConvergenceWarning: Solver terminated early (max_iter=2000).  Consider pre-processing your data with StandardScaler or MinMaxScaler.\n",
      "  warnings.warn(\n",
      "/home/jp/Repositorios/UDEA/InteligenciaArtificial-UdeA20251/.venv/lib/python3.12/site-packages/sklearn/svm/_base.py:305: ConvergenceWarning: Solver terminated early (max_iter=2000).  Consider pre-processing your data with StandardScaler or MinMaxScaler.\n",
      "  warnings.warn(\n"
     ]
    },
    {
     "name": "stdout",
     "output_type": "stream",
     "text": [
      "[CV] END svc__C=0.1, svc__class_weight=balanced, svc__gamma=scale, svc__kernel=rbf; total time=40.9min\n",
      "[CV] END svc__C=0.1, svc__class_weight=balanced, svc__gamma=scale, svc__kernel=rbf; total time=39.2min\n",
      "[CV] END svc__C=0.1, svc__class_weight=balanced, svc__gamma=scale, svc__kernel=rbf; total time=39.2min\n"
     ]
    },
    {
     "name": "stderr",
     "output_type": "stream",
     "text": [
      "/home/jp/Repositorios/UDEA/InteligenciaArtificial-UdeA20251/.venv/lib/python3.12/site-packages/sklearn/svm/_base.py:305: ConvergenceWarning: Solver terminated early (max_iter=2000).  Consider pre-processing your data with StandardScaler or MinMaxScaler.\n",
      "  warnings.warn(\n",
      "/home/jp/Repositorios/UDEA/InteligenciaArtificial-UdeA20251/.venv/lib/python3.12/site-packages/sklearn/svm/_base.py:305: ConvergenceWarning: Solver terminated early (max_iter=2000).  Consider pre-processing your data with StandardScaler or MinMaxScaler.\n",
      "  warnings.warn(\n",
      "/home/jp/Repositorios/UDEA/InteligenciaArtificial-UdeA20251/.venv/lib/python3.12/site-packages/sklearn/svm/_base.py:305: ConvergenceWarning: Solver terminated early (max_iter=2000).  Consider pre-processing your data with StandardScaler or MinMaxScaler.\n",
      "  warnings.warn(\n",
      "/home/jp/Repositorios/UDEA/InteligenciaArtificial-UdeA20251/.venv/lib/python3.12/site-packages/sklearn/svm/_base.py:305: ConvergenceWarning: Solver terminated early (max_iter=2000).  Consider pre-processing your data with StandardScaler or MinMaxScaler.\n",
      "  warnings.warn(\n",
      "/home/jp/Repositorios/UDEA/InteligenciaArtificial-UdeA20251/.venv/lib/python3.12/site-packages/sklearn/svm/_base.py:305: ConvergenceWarning: Solver terminated early (max_iter=2000).  Consider pre-processing your data with StandardScaler or MinMaxScaler.\n",
      "  warnings.warn(\n"
     ]
    },
    {
     "name": "stdout",
     "output_type": "stream",
     "text": [
      "[CV] END svc__C=10, svc__class_weight=balanced, svc__kernel=linear; total time=31.8min\n"
     ]
    },
    {
     "name": "stderr",
     "output_type": "stream",
     "text": [
      "/home/jp/Repositorios/UDEA/InteligenciaArtificial-UdeA20251/.venv/lib/python3.12/site-packages/sklearn/svm/_base.py:305: ConvergenceWarning: Solver terminated early (max_iter=2000).  Consider pre-processing your data with StandardScaler or MinMaxScaler.\n",
      "  warnings.warn(\n"
     ]
    },
    {
     "name": "stdout",
     "output_type": "stream",
     "text": [
      "[CV] END svc__C=10, svc__class_weight=balanced, svc__kernel=linear; total time=33.6min\n"
     ]
    },
    {
     "name": "stderr",
     "output_type": "stream",
     "text": [
      "/home/jp/Repositorios/UDEA/InteligenciaArtificial-UdeA20251/.venv/lib/python3.12/site-packages/sklearn/svm/_base.py:305: ConvergenceWarning: Solver terminated early (max_iter=2000).  Consider pre-processing your data with StandardScaler or MinMaxScaler.\n",
      "  warnings.warn(\n",
      "/home/jp/Repositorios/UDEA/InteligenciaArtificial-UdeA20251/.venv/lib/python3.12/site-packages/sklearn/svm/_base.py:305: ConvergenceWarning: Solver terminated early (max_iter=2000).  Consider pre-processing your data with StandardScaler or MinMaxScaler.\n",
      "  warnings.warn(\n",
      "/home/jp/Repositorios/UDEA/InteligenciaArtificial-UdeA20251/.venv/lib/python3.12/site-packages/sklearn/svm/_base.py:305: ConvergenceWarning: Solver terminated early (max_iter=2000).  Consider pre-processing your data with StandardScaler or MinMaxScaler.\n",
      "  warnings.warn(\n"
     ]
    },
    {
     "name": "stdout",
     "output_type": "stream",
     "text": [
      "[CV] END svc__C=10, svc__class_weight=balanced, svc__kernel=linear; total time=36.0min\n"
     ]
    },
    {
     "name": "stderr",
     "output_type": "stream",
     "text": [
      "/home/jp/Repositorios/UDEA/InteligenciaArtificial-UdeA20251/.venv/lib/python3.12/site-packages/sklearn/svm/_base.py:305: ConvergenceWarning: Solver terminated early (max_iter=2000).  Consider pre-processing your data with StandardScaler or MinMaxScaler.\n",
      "  warnings.warn(\n"
     ]
    },
    {
     "name": "stdout",
     "output_type": "stream",
     "text": [
      "[CV] END svc__C=1, svc__class_weight=balanced, svc__gamma=scale, svc__kernel=rbf; total time=39.0min\n"
     ]
    },
    {
     "name": "stderr",
     "output_type": "stream",
     "text": [
      "/home/jp/Repositorios/UDEA/InteligenciaArtificial-UdeA20251/.venv/lib/python3.12/site-packages/joblib/externals/loky/process_executor.py:782: UserWarning: A worker stopped while some jobs were given to the executor. This can be caused by a too short worker timeout or by a memory leak.\n",
      "  warnings.warn(\n"
     ]
    },
    {
     "name": "stdout",
     "output_type": "stream",
     "text": [
      "[CV] END svc__C=1, svc__class_weight=balanced, svc__gamma=scale, svc__kernel=rbf; total time=39.1min\n",
      "[CV] END svc__C=0.1, svc__class_weight=balanced, svc__gamma=scale, svc__kernel=rbf; total time=54.6min\n",
      "[CV] END svc__C=0.1, svc__class_weight=balanced, svc__gamma=scale, svc__kernel=rbf; total time=54.6min\n",
      "[CV] END svc__C=1, svc__class_weight=balanced, svc__gamma=scale, svc__kernel=rbf; total time=46.3min\n",
      "[CV] END svc__C=1, svc__class_weight=balanced, svc__gamma=scale, svc__kernel=rbf; total time=46.3min\n"
     ]
    },
    {
     "name": "stderr",
     "output_type": "stream",
     "text": [
      "/home/jp/Repositorios/UDEA/InteligenciaArtificial-UdeA20251/.venv/lib/python3.12/site-packages/sklearn/svm/_base.py:305: ConvergenceWarning: Solver terminated early (max_iter=2000).  Consider pre-processing your data with StandardScaler or MinMaxScaler.\n",
      "  warnings.warn(\n",
      "/home/jp/Repositorios/UDEA/InteligenciaArtificial-UdeA20251/.venv/lib/python3.12/site-packages/sklearn/svm/_base.py:305: ConvergenceWarning: Solver terminated early (max_iter=2000).  Consider pre-processing your data with StandardScaler or MinMaxScaler.\n",
      "  warnings.warn(\n",
      "/home/jp/Repositorios/UDEA/InteligenciaArtificial-UdeA20251/.venv/lib/python3.12/site-packages/sklearn/svm/_base.py:305: ConvergenceWarning: Solver terminated early (max_iter=2000).  Consider pre-processing your data with StandardScaler or MinMaxScaler.\n",
      "  warnings.warn(\n",
      "/home/jp/Repositorios/UDEA/InteligenciaArtificial-UdeA20251/.venv/lib/python3.12/site-packages/sklearn/svm/_base.py:305: ConvergenceWarning: Solver terminated early (max_iter=2000).  Consider pre-processing your data with StandardScaler or MinMaxScaler.\n",
      "  warnings.warn(\n",
      "/home/jp/Repositorios/UDEA/InteligenciaArtificial-UdeA20251/.venv/lib/python3.12/site-packages/sklearn/svm/_base.py:305: ConvergenceWarning: Solver terminated early (max_iter=2000).  Consider pre-processing your data with StandardScaler or MinMaxScaler.\n",
      "  warnings.warn(\n"
     ]
    },
    {
     "name": "stdout",
     "output_type": "stream",
     "text": [
      "[CV] END svc__C=100, svc__class_weight=balanced, svc__kernel=linear; total time=31.5min\n",
      "[CV] END svc__C=100, svc__class_weight=balanced, svc__kernel=linear; total time=31.0min\n",
      "[CV] END svc__C=100, svc__class_weight=balanced, svc__kernel=linear; total time=31.0min\n"
     ]
    },
    {
     "name": "stderr",
     "output_type": "stream",
     "text": [
      "/home/jp/Repositorios/UDEA/InteligenciaArtificial-UdeA20251/.venv/lib/python3.12/site-packages/sklearn/svm/_base.py:305: ConvergenceWarning: Solver terminated early (max_iter=2000).  Consider pre-processing your data with StandardScaler or MinMaxScaler.\n",
      "  warnings.warn(\n"
     ]
    },
    {
     "name": "stdout",
     "output_type": "stream",
     "text": [
      "[CV] END svc__C=100, svc__class_weight=None, svc__gamma=0.1, svc__kernel=rbf; total time=54.1min\n",
      "[CV] END svc__C=100, svc__class_weight=balanced, svc__kernel=linear; total time=32.2min\n",
      "[CV] END svc__C=100, svc__class_weight=balanced, svc__kernel=linear; total time=32.2min\n"
     ]
    },
    {
     "name": "stderr",
     "output_type": "stream",
     "text": [
      "/home/jp/Repositorios/UDEA/InteligenciaArtificial-UdeA20251/.venv/lib/python3.12/site-packages/sklearn/svm/_base.py:305: ConvergenceWarning: Solver terminated early (max_iter=2000).  Consider pre-processing your data with StandardScaler or MinMaxScaler.\n",
      "  warnings.warn(\n",
      "/home/jp/Repositorios/UDEA/InteligenciaArtificial-UdeA20251/.venv/lib/python3.12/site-packages/sklearn/svm/_base.py:305: ConvergenceWarning: Solver terminated early (max_iter=2000).  Consider pre-processing your data with StandardScaler or MinMaxScaler.\n",
      "  warnings.warn(\n",
      "/home/jp/Repositorios/UDEA/InteligenciaArtificial-UdeA20251/.venv/lib/python3.12/site-packages/sklearn/svm/_base.py:305: ConvergenceWarning: Solver terminated early (max_iter=2000).  Consider pre-processing your data with StandardScaler or MinMaxScaler.\n",
      "  warnings.warn(\n",
      "/home/jp/Repositorios/UDEA/InteligenciaArtificial-UdeA20251/.venv/lib/python3.12/site-packages/sklearn/svm/_base.py:305: ConvergenceWarning: Solver terminated early (max_iter=2000).  Consider pre-processing your data with StandardScaler or MinMaxScaler.\n",
      "  warnings.warn(\n",
      "/home/jp/Repositorios/UDEA/InteligenciaArtificial-UdeA20251/.venv/lib/python3.12/site-packages/sklearn/svm/_base.py:305: ConvergenceWarning: Solver terminated early (max_iter=2000).  Consider pre-processing your data with StandardScaler or MinMaxScaler.\n",
      "  warnings.warn(\n"
     ]
    },
    {
     "name": "stdout",
     "output_type": "stream",
     "text": [
      "[CV] END svc__C=100, svc__class_weight=None, svc__gamma=0.1, svc__kernel=rbf; total time=66.9min\n",
      "[CV] END svc__C=100, svc__class_weight=None, svc__gamma=0.1, svc__kernel=rbf; total time=68.1min\n",
      "[CV] END svc__C=100, svc__class_weight=None, svc__gamma=0.1, svc__kernel=rbf; total time=68.1min\n"
     ]
    },
    {
     "name": "stderr",
     "output_type": "stream",
     "text": [
      "/home/jp/Repositorios/UDEA/InteligenciaArtificial-UdeA20251/.venv/lib/python3.12/site-packages/sklearn/svm/_base.py:305: ConvergenceWarning: Solver terminated early (max_iter=2000).  Consider pre-processing your data with StandardScaler or MinMaxScaler.\n",
      "  warnings.warn(\n"
     ]
    },
    {
     "name": "stdout",
     "output_type": "stream",
     "text": [
      "[CV] END svc__C=0.1, svc__class_weight=balanced, svc__gamma=0.01, svc__kernel=rbf; total time=42.5min\n"
     ]
    },
    {
     "name": "stderr",
     "output_type": "stream",
     "text": [
      "/home/jp/Repositorios/UDEA/InteligenciaArtificial-UdeA20251/.venv/lib/python3.12/site-packages/sklearn/svm/_base.py:305: ConvergenceWarning: Solver terminated early (max_iter=2000).  Consider pre-processing your data with StandardScaler or MinMaxScaler.\n",
      "  warnings.warn(\n"
     ]
    },
    {
     "name": "stdout",
     "output_type": "stream",
     "text": [
      "[CV] END svc__C=0.1, svc__class_weight=balanced, svc__gamma=0.01, svc__kernel=rbf; total time=43.3min\n",
      "[CV] END svc__C=0.1, svc__class_weight=balanced, svc__gamma=0.01, svc__kernel=rbf; total time=55.2min\n",
      "[CV] END svc__C=0.1, svc__class_weight=balanced, svc__gamma=0.01, svc__kernel=rbf; total time=55.2min\n"
     ]
    },
    {
     "name": "stderr",
     "output_type": "stream",
     "text": [
      "/home/jp/Repositorios/UDEA/InteligenciaArtificial-UdeA20251/.venv/lib/python3.12/site-packages/sklearn/svm/_base.py:305: ConvergenceWarning: Solver terminated early (max_iter=2000).  Consider pre-processing your data with StandardScaler or MinMaxScaler.\n",
      "  warnings.warn(\n",
      "/home/jp/Repositorios/UDEA/InteligenciaArtificial-UdeA20251/.venv/lib/python3.12/site-packages/sklearn/svm/_base.py:305: ConvergenceWarning: Solver terminated early (max_iter=2000).  Consider pre-processing your data with StandardScaler or MinMaxScaler.\n",
      "  warnings.warn(\n",
      "/home/jp/Repositorios/UDEA/InteligenciaArtificial-UdeA20251/.venv/lib/python3.12/site-packages/sklearn/svm/_base.py:305: ConvergenceWarning: Solver terminated early (max_iter=2000).  Consider pre-processing your data with StandardScaler or MinMaxScaler.\n",
      "  warnings.warn(\n",
      "/home/jp/Repositorios/UDEA/InteligenciaArtificial-UdeA20251/.venv/lib/python3.12/site-packages/sklearn/svm/_base.py:305: ConvergenceWarning: Solver terminated early (max_iter=2000).  Consider pre-processing your data with StandardScaler or MinMaxScaler.\n",
      "  warnings.warn(\n",
      "/home/jp/Repositorios/UDEA/InteligenciaArtificial-UdeA20251/.venv/lib/python3.12/site-packages/sklearn/svm/_base.py:305: ConvergenceWarning: Solver terminated early (max_iter=2000).  Consider pre-processing your data with StandardScaler or MinMaxScaler.\n",
      "  warnings.warn(\n",
      "/home/jp/Repositorios/UDEA/InteligenciaArtificial-UdeA20251/.venv/lib/python3.12/site-packages/sklearn/svm/_base.py:305: ConvergenceWarning: Solver terminated early (max_iter=2000).  Consider pre-processing your data with StandardScaler or MinMaxScaler.\n",
      "  warnings.warn(\n",
      "/home/jp/Repositorios/UDEA/InteligenciaArtificial-UdeA20251/.venv/lib/python3.12/site-packages/sklearn/svm/_base.py:305: ConvergenceWarning: Solver terminated early (max_iter=2000).  Consider pre-processing your data with StandardScaler or MinMaxScaler.\n",
      "  warnings.warn(\n",
      "/home/jp/Repositorios/UDEA/InteligenciaArtificial-UdeA20251/.venv/lib/python3.12/site-packages/sklearn/svm/_base.py:305: ConvergenceWarning: Solver terminated early (max_iter=2000).  Consider pre-processing your data with StandardScaler or MinMaxScaler.\n",
      "  warnings.warn(\n",
      "/home/jp/Repositorios/UDEA/InteligenciaArtificial-UdeA20251/.venv/lib/python3.12/site-packages/sklearn/svm/_base.py:305: ConvergenceWarning: Solver terminated early (max_iter=2000).  Consider pre-processing your data with StandardScaler or MinMaxScaler.\n",
      "  warnings.warn(\n"
     ]
    },
    {
     "name": "stdout",
     "output_type": "stream",
     "text": [
      "[CV] END svc__C=100, svc__class_weight=None, svc__gamma=0.001, svc__kernel=rbf; total time=55.7min\n",
      "[CV] END svc__C=100, svc__class_weight=None, svc__gamma=0.001, svc__kernel=rbf; total time=55.9min\n",
      "[CV] END svc__C=100, svc__class_weight=None, svc__gamma=0.001, svc__kernel=rbf; total time=55.9min\n"
     ]
    },
    {
     "name": "stderr",
     "output_type": "stream",
     "text": [
      "/home/jp/Repositorios/UDEA/InteligenciaArtificial-UdeA20251/.venv/lib/python3.12/site-packages/sklearn/svm/_base.py:305: ConvergenceWarning: Solver terminated early (max_iter=2000).  Consider pre-processing your data with StandardScaler or MinMaxScaler.\n",
      "  warnings.warn(\n",
      "/home/jp/Repositorios/UDEA/InteligenciaArtificial-UdeA20251/.venv/lib/python3.12/site-packages/sklearn/svm/_base.py:305: ConvergenceWarning: Solver terminated early (max_iter=2000).  Consider pre-processing your data with StandardScaler or MinMaxScaler.\n",
      "  warnings.warn(\n",
      "/home/jp/Repositorios/UDEA/InteligenciaArtificial-UdeA20251/.venv/lib/python3.12/site-packages/sklearn/svm/_base.py:305: ConvergenceWarning: Solver terminated early (max_iter=2000).  Consider pre-processing your data with StandardScaler or MinMaxScaler.\n",
      "  warnings.warn(\n"
     ]
    },
    {
     "name": "stdout",
     "output_type": "stream",
     "text": [
      "[CV] END svc__C=1, svc__class_weight=balanced, svc__gamma=0.001, svc__kernel=rbf; total time=44.8min\n",
      "[CV] END svc__C=1, svc__class_weight=None, svc__gamma=0.001, svc__kernel=rbf; total time=49.3min\n",
      "[CV] END svc__C=1, svc__class_weight=None, svc__gamma=0.001, svc__kernel=rbf; total time=49.3min\n",
      "[CV] END svc__C=100, svc__class_weight=None, svc__gamma=0.001, svc__kernel=rbf; total time=68.8min\n",
      "[CV] END svc__C=100, svc__class_weight=None, svc__gamma=0.001, svc__kernel=rbf; total time=68.8min\n"
     ]
    },
    {
     "name": "stderr",
     "output_type": "stream",
     "text": [
      "/home/jp/Repositorios/UDEA/InteligenciaArtificial-UdeA20251/.venv/lib/python3.12/site-packages/sklearn/svm/_base.py:305: ConvergenceWarning: Solver terminated early (max_iter=2000).  Consider pre-processing your data with StandardScaler or MinMaxScaler.\n",
      "  warnings.warn(\n"
     ]
    },
    {
     "name": "stdout",
     "output_type": "stream",
     "text": [
      "[CV] END svc__C=1, svc__class_weight=None, svc__gamma=0.001, svc__kernel=rbf; total time=57.6min\n",
      "[CV] END svc__C=1, svc__class_weight=None, svc__gamma=0.001, svc__kernel=rbf; total time=54.3min\n",
      "[CV] END svc__C=1, svc__class_weight=None, svc__gamma=0.001, svc__kernel=rbf; total time=54.3min\n"
     ]
    },
    {
     "name": "stderr",
     "output_type": "stream",
     "text": [
      "/home/jp/Repositorios/UDEA/InteligenciaArtificial-UdeA20251/.venv/lib/python3.12/site-packages/sklearn/svm/_base.py:305: ConvergenceWarning: Solver terminated early (max_iter=2000).  Consider pre-processing your data with StandardScaler or MinMaxScaler.\n",
      "  warnings.warn(\n"
     ]
    },
    {
     "name": "stdout",
     "output_type": "stream",
     "text": [
      "[CV] END svc__C=1, svc__class_weight=balanced, svc__gamma=0.001, svc__kernel=rbf; total time=47.6min\n"
     ]
    },
    {
     "name": "stderr",
     "output_type": "stream",
     "text": [
      "/home/jp/Repositorios/UDEA/InteligenciaArtificial-UdeA20251/.venv/lib/python3.12/site-packages/sklearn/svm/_base.py:305: ConvergenceWarning: Solver terminated early (max_iter=2000).  Consider pre-processing your data with StandardScaler or MinMaxScaler.\n",
      "  warnings.warn(\n"
     ]
    },
    {
     "name": "stdout",
     "output_type": "stream",
     "text": [
      "[CV] END svc__C=1, svc__class_weight=balanced, svc__gamma=0.001, svc__kernel=rbf; total time=56.5min\n",
      "[CV] END svc__C=100, svc__class_weight=balanced, svc__gamma=0.1, svc__kernel=rbf; total time=55.1min\n",
      "[CV] END svc__C=100, svc__class_weight=balanced, svc__gamma=0.1, svc__kernel=rbf; total time=55.1min\n"
     ]
    },
    {
     "name": "stderr",
     "output_type": "stream",
     "text": [
      "/home/jp/Repositorios/UDEA/InteligenciaArtificial-UdeA20251/.venv/lib/python3.12/site-packages/sklearn/svm/_base.py:305: ConvergenceWarning: Solver terminated early (max_iter=2000).  Consider pre-processing your data with StandardScaler or MinMaxScaler.\n",
      "  warnings.warn(\n",
      "/home/jp/Repositorios/UDEA/InteligenciaArtificial-UdeA20251/.venv/lib/python3.12/site-packages/sklearn/svm/_base.py:305: ConvergenceWarning: Solver terminated early (max_iter=2000).  Consider pre-processing your data with StandardScaler or MinMaxScaler.\n",
      "  warnings.warn(\n",
      "/home/jp/Repositorios/UDEA/InteligenciaArtificial-UdeA20251/.venv/lib/python3.12/site-packages/sklearn/svm/_base.py:305: ConvergenceWarning: Solver terminated early (max_iter=2000).  Consider pre-processing your data with StandardScaler or MinMaxScaler.\n",
      "  warnings.warn(\n",
      "/home/jp/Repositorios/UDEA/InteligenciaArtificial-UdeA20251/.venv/lib/python3.12/site-packages/sklearn/svm/_base.py:305: ConvergenceWarning: Solver terminated early (max_iter=2000).  Consider pre-processing your data with StandardScaler or MinMaxScaler.\n",
      "  warnings.warn(\n",
      "/home/jp/Repositorios/UDEA/InteligenciaArtificial-UdeA20251/.venv/lib/python3.12/site-packages/sklearn/svm/_base.py:305: ConvergenceWarning: Solver terminated early (max_iter=2000).  Consider pre-processing your data with StandardScaler or MinMaxScaler.\n",
      "  warnings.warn(\n",
      "/home/jp/Repositorios/UDEA/InteligenciaArtificial-UdeA20251/.venv/lib/python3.12/site-packages/sklearn/svm/_base.py:305: ConvergenceWarning: Solver terminated early (max_iter=2000).  Consider pre-processing your data with StandardScaler or MinMaxScaler.\n",
      "  warnings.warn(\n",
      "/home/jp/Repositorios/UDEA/InteligenciaArtificial-UdeA20251/.venv/lib/python3.12/site-packages/sklearn/svm/_base.py:305: ConvergenceWarning: Solver terminated early (max_iter=2000).  Consider pre-processing your data with StandardScaler or MinMaxScaler.\n",
      "  warnings.warn(\n",
      "/home/jp/Repositorios/UDEA/InteligenciaArtificial-UdeA20251/.venv/lib/python3.12/site-packages/sklearn/svm/_base.py:305: ConvergenceWarning: Solver terminated early (max_iter=2000).  Consider pre-processing your data with StandardScaler or MinMaxScaler.\n",
      "  warnings.warn(\n",
      "/home/jp/Repositorios/UDEA/InteligenciaArtificial-UdeA20251/.venv/lib/python3.12/site-packages/sklearn/svm/_base.py:305: ConvergenceWarning: Solver terminated early (max_iter=2000).  Consider pre-processing your data with StandardScaler or MinMaxScaler.\n",
      "  warnings.warn(\n"
     ]
    },
    {
     "name": "stdout",
     "output_type": "stream",
     "text": [
      "[CV] END svc__C=1, svc__class_weight=None, svc__kernel=linear; total time=38.9min\n",
      "[CV] END svc__C=1, svc__class_weight=None, svc__kernel=linear; total time=40.7min\n",
      "[CV] END svc__C=1, svc__class_weight=None, svc__kernel=linear; total time=40.7min\n",
      "[CV] END svc__C=1, svc__class_weight=None, svc__kernel=linear; total time=33.6min\n",
      "[CV] END svc__C=1, svc__class_weight=None, svc__kernel=linear; total time=33.6min\n",
      "[CV] END svc__C=100, svc__class_weight=balanced, svc__gamma=0.1, svc__kernel=rbf; total time=54.4min\n",
      "[CV] END svc__C=100, svc__class_weight=balanced, svc__gamma=0.1, svc__kernel=rbf; total time=54.4min\n",
      "[CV] END svc__C=100, svc__class_weight=balanced, svc__gamma=0.1, svc__kernel=rbf; total time=57.2min\n",
      "[CV] END svc__C=100, svc__class_weight=balanced, svc__gamma=0.1, svc__kernel=rbf; total time=57.2min\n"
     ]
    },
    {
     "name": "stderr",
     "output_type": "stream",
     "text": [
      "/home/jp/Repositorios/UDEA/InteligenciaArtificial-UdeA20251/.venv/lib/python3.12/site-packages/sklearn/svm/_base.py:305: ConvergenceWarning: Solver terminated early (max_iter=2000).  Consider pre-processing your data with StandardScaler or MinMaxScaler.\n",
      "  warnings.warn(\n",
      "/home/jp/Repositorios/UDEA/InteligenciaArtificial-UdeA20251/.venv/lib/python3.12/site-packages/sklearn/svm/_base.py:305: ConvergenceWarning: Solver terminated early (max_iter=2000).  Consider pre-processing your data with StandardScaler or MinMaxScaler.\n",
      "  warnings.warn(\n",
      "/home/jp/Repositorios/UDEA/InteligenciaArtificial-UdeA20251/.venv/lib/python3.12/site-packages/sklearn/svm/_base.py:305: ConvergenceWarning: Solver terminated early (max_iter=2000).  Consider pre-processing your data with StandardScaler or MinMaxScaler.\n",
      "  warnings.warn(\n",
      "/home/jp/Repositorios/UDEA/InteligenciaArtificial-UdeA20251/.venv/lib/python3.12/site-packages/sklearn/svm/_base.py:305: ConvergenceWarning: Solver terminated early (max_iter=2000).  Consider pre-processing your data with StandardScaler or MinMaxScaler.\n",
      "  warnings.warn(\n",
      "/home/jp/Repositorios/UDEA/InteligenciaArtificial-UdeA20251/.venv/lib/python3.12/site-packages/sklearn/svm/_base.py:305: ConvergenceWarning: Solver terminated early (max_iter=2000).  Consider pre-processing your data with StandardScaler or MinMaxScaler.\n",
      "  warnings.warn(\n",
      "/home/jp/Repositorios/UDEA/InteligenciaArtificial-UdeA20251/.venv/lib/python3.12/site-packages/sklearn/svm/_base.py:305: ConvergenceWarning: Solver terminated early (max_iter=2000).  Consider pre-processing your data with StandardScaler or MinMaxScaler.\n",
      "  warnings.warn(\n",
      "/home/jp/Repositorios/UDEA/InteligenciaArtificial-UdeA20251/.venv/lib/python3.12/site-packages/sklearn/svm/_base.py:305: ConvergenceWarning: Solver terminated early (max_iter=2000).  Consider pre-processing your data with StandardScaler or MinMaxScaler.\n",
      "  warnings.warn(\n",
      "Progreso SVM:   0%|          | 0/20 [4:13:20<?, ?modelo/s]\n",
      "\n"
     ]
    },
    {
     "ename": "KeyboardInterrupt",
     "evalue": "",
     "output_type": "error",
     "traceback": [
      "\u001b[31m---------------------------------------------------------------------------\u001b[39m",
      "\u001b[31mKeyboardInterrupt\u001b[39m                         Traceback (most recent call last)",
      "\u001b[36mCell\u001b[39m\u001b[36m \u001b[39m\u001b[32mIn[17]\u001b[39m\u001b[32m, line 157\u001b[39m\n\u001b[32m    154\u001b[39m             search_cv._run_search = original_run_search\n\u001b[32m    156\u001b[39m \u001b[38;5;28mprint\u001b[39m(\u001b[33m\"\u001b[39m\u001b[33mIniciando entrenamiento optimizado...\u001b[39m\u001b[33m\"\u001b[39m)\n\u001b[32m--> \u001b[39m\u001b[32m157\u001b[39m random_search = \u001b[43mfit_with_progress\u001b[49m\u001b[43m(\u001b[49m\u001b[43mrandom_search\u001b[49m\u001b[43m,\u001b[49m\u001b[43m \u001b[49m\u001b[43mX\u001b[49m\u001b[43m,\u001b[49m\u001b[43m \u001b[49m\u001b[43my\u001b[49m\u001b[43m)\u001b[49m\n\u001b[32m    158\u001b[39m elapsed = time.time() - start_time\n\u001b[32m    160\u001b[39m \u001b[38;5;28mprint\u001b[39m(\u001b[33mf\u001b[39m\u001b[33m\"\u001b[39m\u001b[38;5;130;01m\\n\u001b[39;00m\u001b[33mENTRENAMIENTO COMPLETADO!\u001b[39m\u001b[33m\"\u001b[39m)\n",
      "\u001b[36mCell\u001b[39m\u001b[36m \u001b[39m\u001b[32mIn[17]\u001b[39m\u001b[32m, line 151\u001b[39m, in \u001b[36mfit_with_progress\u001b[39m\u001b[34m(search_cv, X, y)\u001b[39m\n\u001b[32m    148\u001b[39m search_cv._run_search = wrapped_run_search\n\u001b[32m    150\u001b[39m \u001b[38;5;28;01mtry\u001b[39;00m:\n\u001b[32m--> \u001b[39m\u001b[32m151\u001b[39m     \u001b[38;5;28;01mreturn\u001b[39;00m \u001b[43msearch_cv\u001b[49m\u001b[43m.\u001b[49m\u001b[43mfit\u001b[49m\u001b[43m(\u001b[49m\u001b[43mX\u001b[49m\u001b[43m,\u001b[49m\u001b[43m \u001b[49m\u001b[43my\u001b[49m\u001b[43m)\u001b[49m\n\u001b[32m    152\u001b[39m \u001b[38;5;28;01mfinally\u001b[39;00m:\n\u001b[32m    153\u001b[39m     \u001b[38;5;66;03m# Restaurar el método original\u001b[39;00m\n\u001b[32m    154\u001b[39m     search_cv._run_search = original_run_search\n",
      "\u001b[36mFile \u001b[39m\u001b[32m~/Repositorios/UDEA/InteligenciaArtificial-UdeA20251/.venv/lib/python3.12/site-packages/sklearn/base.py:1389\u001b[39m, in \u001b[36m_fit_context.<locals>.decorator.<locals>.wrapper\u001b[39m\u001b[34m(estimator, *args, **kwargs)\u001b[39m\n\u001b[32m   1382\u001b[39m     estimator._validate_params()\n\u001b[32m   1384\u001b[39m \u001b[38;5;28;01mwith\u001b[39;00m config_context(\n\u001b[32m   1385\u001b[39m     skip_parameter_validation=(\n\u001b[32m   1386\u001b[39m         prefer_skip_nested_validation \u001b[38;5;129;01mor\u001b[39;00m global_skip_validation\n\u001b[32m   1387\u001b[39m     )\n\u001b[32m   1388\u001b[39m ):\n\u001b[32m-> \u001b[39m\u001b[32m1389\u001b[39m     \u001b[38;5;28;01mreturn\u001b[39;00m \u001b[43mfit_method\u001b[49m\u001b[43m(\u001b[49m\u001b[43mestimator\u001b[49m\u001b[43m,\u001b[49m\u001b[43m \u001b[49m\u001b[43m*\u001b[49m\u001b[43margs\u001b[49m\u001b[43m,\u001b[49m\u001b[43m \u001b[49m\u001b[43m*\u001b[49m\u001b[43m*\u001b[49m\u001b[43mkwargs\u001b[49m\u001b[43m)\u001b[49m\n",
      "\u001b[36mFile \u001b[39m\u001b[32m~/Repositorios/UDEA/InteligenciaArtificial-UdeA20251/.venv/lib/python3.12/site-packages/sklearn/model_selection/_search.py:1024\u001b[39m, in \u001b[36mBaseSearchCV.fit\u001b[39m\u001b[34m(self, X, y, **params)\u001b[39m\n\u001b[32m   1018\u001b[39m     results = \u001b[38;5;28mself\u001b[39m._format_results(\n\u001b[32m   1019\u001b[39m         all_candidate_params, n_splits, all_out, all_more_results\n\u001b[32m   1020\u001b[39m     )\n\u001b[32m   1022\u001b[39m     \u001b[38;5;28;01mreturn\u001b[39;00m results\n\u001b[32m-> \u001b[39m\u001b[32m1024\u001b[39m \u001b[38;5;28;43mself\u001b[39;49m\u001b[43m.\u001b[49m\u001b[43m_run_search\u001b[49m\u001b[43m(\u001b[49m\u001b[43mevaluate_candidates\u001b[49m\u001b[43m)\u001b[49m\n\u001b[32m   1026\u001b[39m \u001b[38;5;66;03m# multimetric is determined here because in the case of a callable\u001b[39;00m\n\u001b[32m   1027\u001b[39m \u001b[38;5;66;03m# self.scoring the return type is only known after calling\u001b[39;00m\n\u001b[32m   1028\u001b[39m first_test_score = all_out[\u001b[32m0\u001b[39m][\u001b[33m\"\u001b[39m\u001b[33mtest_scores\u001b[39m\u001b[33m\"\u001b[39m]\n",
      "\u001b[36mCell\u001b[39m\u001b[36m \u001b[39m\u001b[32mIn[17]\u001b[39m\u001b[32m, line 146\u001b[39m, in \u001b[36mfit_with_progress.<locals>.wrapped_run_search\u001b[39m\u001b[34m(evaluate_candidates)\u001b[39m\n\u001b[32m    144\u001b[39m     pbar.update(\u001b[38;5;28mlen\u001b[39m(candidate_params))\n\u001b[32m    145\u001b[39m     \u001b[38;5;28;01mreturn\u001b[39;00m results\n\u001b[32m--> \u001b[39m\u001b[32m146\u001b[39m \u001b[38;5;28;01mreturn\u001b[39;00m \u001b[43moriginal_run_search\u001b[49m\u001b[43m(\u001b[49m\u001b[43mwrapped_evaluate\u001b[49m\u001b[43m)\u001b[49m\n",
      "\u001b[36mFile \u001b[39m\u001b[32m~/Repositorios/UDEA/InteligenciaArtificial-UdeA20251/.venv/lib/python3.12/site-packages/sklearn/model_selection/_search.py:1951\u001b[39m, in \u001b[36mRandomizedSearchCV._run_search\u001b[39m\u001b[34m(self, evaluate_candidates)\u001b[39m\n\u001b[32m   1949\u001b[39m \u001b[38;5;28;01mdef\u001b[39;00m\u001b[38;5;250m \u001b[39m\u001b[34m_run_search\u001b[39m(\u001b[38;5;28mself\u001b[39m, evaluate_candidates):\n\u001b[32m   1950\u001b[39m \u001b[38;5;250m    \u001b[39m\u001b[33;03m\"\"\"Search n_iter candidates from param_distributions\"\"\"\u001b[39;00m\n\u001b[32m-> \u001b[39m\u001b[32m1951\u001b[39m     \u001b[43mevaluate_candidates\u001b[49m\u001b[43m(\u001b[49m\n\u001b[32m   1952\u001b[39m \u001b[43m        \u001b[49m\u001b[43mParameterSampler\u001b[49m\u001b[43m(\u001b[49m\n\u001b[32m   1953\u001b[39m \u001b[43m            \u001b[49m\u001b[38;5;28;43mself\u001b[39;49m\u001b[43m.\u001b[49m\u001b[43mparam_distributions\u001b[49m\u001b[43m,\u001b[49m\u001b[43m \u001b[49m\u001b[38;5;28;43mself\u001b[39;49m\u001b[43m.\u001b[49m\u001b[43mn_iter\u001b[49m\u001b[43m,\u001b[49m\u001b[43m \u001b[49m\u001b[43mrandom_state\u001b[49m\u001b[43m=\u001b[49m\u001b[38;5;28;43mself\u001b[39;49m\u001b[43m.\u001b[49m\u001b[43mrandom_state\u001b[49m\n\u001b[32m   1954\u001b[39m \u001b[43m        \u001b[49m\u001b[43m)\u001b[49m\n\u001b[32m   1955\u001b[39m \u001b[43m    \u001b[49m\u001b[43m)\u001b[49m\n",
      "\u001b[36mCell\u001b[39m\u001b[36m \u001b[39m\u001b[32mIn[17]\u001b[39m\u001b[32m, line 143\u001b[39m, in \u001b[36mfit_with_progress.<locals>.wrapped_run_search.<locals>.wrapped_evaluate\u001b[39m\u001b[34m(candidate_params)\u001b[39m\n\u001b[32m    142\u001b[39m \u001b[38;5;28;01mdef\u001b[39;00m\u001b[38;5;250m \u001b[39m\u001b[34mwrapped_evaluate\u001b[39m(candidate_params):\n\u001b[32m--> \u001b[39m\u001b[32m143\u001b[39m     results = \u001b[43mevaluate_candidates\u001b[49m\u001b[43m(\u001b[49m\u001b[43mcandidate_params\u001b[49m\u001b[43m)\u001b[49m\n\u001b[32m    144\u001b[39m     pbar.update(\u001b[38;5;28mlen\u001b[39m(candidate_params))\n\u001b[32m    145\u001b[39m     \u001b[38;5;28;01mreturn\u001b[39;00m results\n",
      "\u001b[36mFile \u001b[39m\u001b[32m~/Repositorios/UDEA/InteligenciaArtificial-UdeA20251/.venv/lib/python3.12/site-packages/sklearn/model_selection/_search.py:970\u001b[39m, in \u001b[36mBaseSearchCV.fit.<locals>.evaluate_candidates\u001b[39m\u001b[34m(candidate_params, cv, more_results)\u001b[39m\n\u001b[32m    962\u001b[39m \u001b[38;5;28;01mif\u001b[39;00m \u001b[38;5;28mself\u001b[39m.verbose > \u001b[32m0\u001b[39m:\n\u001b[32m    963\u001b[39m     \u001b[38;5;28mprint\u001b[39m(\n\u001b[32m    964\u001b[39m         \u001b[33m\"\u001b[39m\u001b[33mFitting \u001b[39m\u001b[38;5;132;01m{0}\u001b[39;00m\u001b[33m folds for each of \u001b[39m\u001b[38;5;132;01m{1}\u001b[39;00m\u001b[33m candidates,\u001b[39m\u001b[33m\"\u001b[39m\n\u001b[32m    965\u001b[39m         \u001b[33m\"\u001b[39m\u001b[33m totalling \u001b[39m\u001b[38;5;132;01m{2}\u001b[39;00m\u001b[33m fits\u001b[39m\u001b[33m\"\u001b[39m.format(\n\u001b[32m    966\u001b[39m             n_splits, n_candidates, n_candidates * n_splits\n\u001b[32m    967\u001b[39m         )\n\u001b[32m    968\u001b[39m     )\n\u001b[32m--> \u001b[39m\u001b[32m970\u001b[39m out = \u001b[43mparallel\u001b[49m\u001b[43m(\u001b[49m\n\u001b[32m    971\u001b[39m \u001b[43m    \u001b[49m\u001b[43mdelayed\u001b[49m\u001b[43m(\u001b[49m\u001b[43m_fit_and_score\u001b[49m\u001b[43m)\u001b[49m\u001b[43m(\u001b[49m\n\u001b[32m    972\u001b[39m \u001b[43m        \u001b[49m\u001b[43mclone\u001b[49m\u001b[43m(\u001b[49m\u001b[43mbase_estimator\u001b[49m\u001b[43m)\u001b[49m\u001b[43m,\u001b[49m\n\u001b[32m    973\u001b[39m \u001b[43m        \u001b[49m\u001b[43mX\u001b[49m\u001b[43m,\u001b[49m\n\u001b[32m    974\u001b[39m \u001b[43m        \u001b[49m\u001b[43my\u001b[49m\u001b[43m,\u001b[49m\n\u001b[32m    975\u001b[39m \u001b[43m        \u001b[49m\u001b[43mtrain\u001b[49m\u001b[43m=\u001b[49m\u001b[43mtrain\u001b[49m\u001b[43m,\u001b[49m\n\u001b[32m    976\u001b[39m \u001b[43m        \u001b[49m\u001b[43mtest\u001b[49m\u001b[43m=\u001b[49m\u001b[43mtest\u001b[49m\u001b[43m,\u001b[49m\n\u001b[32m    977\u001b[39m \u001b[43m        \u001b[49m\u001b[43mparameters\u001b[49m\u001b[43m=\u001b[49m\u001b[43mparameters\u001b[49m\u001b[43m,\u001b[49m\n\u001b[32m    978\u001b[39m \u001b[43m        \u001b[49m\u001b[43msplit_progress\u001b[49m\u001b[43m=\u001b[49m\u001b[43m(\u001b[49m\u001b[43msplit_idx\u001b[49m\u001b[43m,\u001b[49m\u001b[43m \u001b[49m\u001b[43mn_splits\u001b[49m\u001b[43m)\u001b[49m\u001b[43m,\u001b[49m\n\u001b[32m    979\u001b[39m \u001b[43m        \u001b[49m\u001b[43mcandidate_progress\u001b[49m\u001b[43m=\u001b[49m\u001b[43m(\u001b[49m\u001b[43mcand_idx\u001b[49m\u001b[43m,\u001b[49m\u001b[43m \u001b[49m\u001b[43mn_candidates\u001b[49m\u001b[43m)\u001b[49m\u001b[43m,\u001b[49m\n\u001b[32m    980\u001b[39m \u001b[43m        \u001b[49m\u001b[43m*\u001b[49m\u001b[43m*\u001b[49m\u001b[43mfit_and_score_kwargs\u001b[49m\u001b[43m,\u001b[49m\n\u001b[32m    981\u001b[39m \u001b[43m    \u001b[49m\u001b[43m)\u001b[49m\n\u001b[32m    982\u001b[39m \u001b[43m    \u001b[49m\u001b[38;5;28;43;01mfor\u001b[39;49;00m\u001b[43m \u001b[49m\u001b[43m(\u001b[49m\u001b[43mcand_idx\u001b[49m\u001b[43m,\u001b[49m\u001b[43m \u001b[49m\u001b[43mparameters\u001b[49m\u001b[43m)\u001b[49m\u001b[43m,\u001b[49m\u001b[43m \u001b[49m\u001b[43m(\u001b[49m\u001b[43msplit_idx\u001b[49m\u001b[43m,\u001b[49m\u001b[43m \u001b[49m\u001b[43m(\u001b[49m\u001b[43mtrain\u001b[49m\u001b[43m,\u001b[49m\u001b[43m \u001b[49m\u001b[43mtest\u001b[49m\u001b[43m)\u001b[49m\u001b[43m)\u001b[49m\u001b[43m \u001b[49m\u001b[38;5;129;43;01min\u001b[39;49;00m\u001b[43m \u001b[49m\u001b[43mproduct\u001b[49m\u001b[43m(\u001b[49m\n\u001b[32m    983\u001b[39m \u001b[43m        \u001b[49m\u001b[38;5;28;43menumerate\u001b[39;49m\u001b[43m(\u001b[49m\u001b[43mcandidate_params\u001b[49m\u001b[43m)\u001b[49m\u001b[43m,\u001b[49m\n\u001b[32m    984\u001b[39m \u001b[43m        \u001b[49m\u001b[38;5;28;43menumerate\u001b[39;49m\u001b[43m(\u001b[49m\u001b[43mcv\u001b[49m\u001b[43m.\u001b[49m\u001b[43msplit\u001b[49m\u001b[43m(\u001b[49m\u001b[43mX\u001b[49m\u001b[43m,\u001b[49m\u001b[43m \u001b[49m\u001b[43my\u001b[49m\u001b[43m,\u001b[49m\u001b[43m \u001b[49m\u001b[43m*\u001b[49m\u001b[43m*\u001b[49m\u001b[43mrouted_params\u001b[49m\u001b[43m.\u001b[49m\u001b[43msplitter\u001b[49m\u001b[43m.\u001b[49m\u001b[43msplit\u001b[49m\u001b[43m)\u001b[49m\u001b[43m)\u001b[49m\u001b[43m,\u001b[49m\n\u001b[32m    985\u001b[39m \u001b[43m    \u001b[49m\u001b[43m)\u001b[49m\n\u001b[32m    986\u001b[39m \u001b[43m\u001b[49m\u001b[43m)\u001b[49m\n\u001b[32m    988\u001b[39m \u001b[38;5;28;01mif\u001b[39;00m \u001b[38;5;28mlen\u001b[39m(out) < \u001b[32m1\u001b[39m:\n\u001b[32m    989\u001b[39m     \u001b[38;5;28;01mraise\u001b[39;00m \u001b[38;5;167;01mValueError\u001b[39;00m(\n\u001b[32m    990\u001b[39m         \u001b[33m\"\u001b[39m\u001b[33mNo fits were performed. \u001b[39m\u001b[33m\"\u001b[39m\n\u001b[32m    991\u001b[39m         \u001b[33m\"\u001b[39m\u001b[33mWas the CV iterator empty? \u001b[39m\u001b[33m\"\u001b[39m\n\u001b[32m    992\u001b[39m         \u001b[33m\"\u001b[39m\u001b[33mWere there no candidates?\u001b[39m\u001b[33m\"\u001b[39m\n\u001b[32m    993\u001b[39m     )\n",
      "\u001b[36mFile \u001b[39m\u001b[32m~/Repositorios/UDEA/InteligenciaArtificial-UdeA20251/.venv/lib/python3.12/site-packages/sklearn/utils/parallel.py:77\u001b[39m, in \u001b[36mParallel.__call__\u001b[39m\u001b[34m(self, iterable)\u001b[39m\n\u001b[32m     72\u001b[39m config = get_config()\n\u001b[32m     73\u001b[39m iterable_with_config = (\n\u001b[32m     74\u001b[39m     (_with_config(delayed_func, config), args, kwargs)\n\u001b[32m     75\u001b[39m     \u001b[38;5;28;01mfor\u001b[39;00m delayed_func, args, kwargs \u001b[38;5;129;01min\u001b[39;00m iterable\n\u001b[32m     76\u001b[39m )\n\u001b[32m---> \u001b[39m\u001b[32m77\u001b[39m \u001b[38;5;28;01mreturn\u001b[39;00m \u001b[38;5;28;43msuper\u001b[39;49m\u001b[43m(\u001b[49m\u001b[43m)\u001b[49m\u001b[43m.\u001b[49m\u001b[34;43m__call__\u001b[39;49m\u001b[43m(\u001b[49m\u001b[43miterable_with_config\u001b[49m\u001b[43m)\u001b[49m\n",
      "\u001b[36mFile \u001b[39m\u001b[32m~/Repositorios/UDEA/InteligenciaArtificial-UdeA20251/.venv/lib/python3.12/site-packages/joblib/parallel.py:2072\u001b[39m, in \u001b[36mParallel.__call__\u001b[39m\u001b[34m(self, iterable)\u001b[39m\n\u001b[32m   2066\u001b[39m \u001b[38;5;66;03m# The first item from the output is blank, but it makes the interpreter\u001b[39;00m\n\u001b[32m   2067\u001b[39m \u001b[38;5;66;03m# progress until it enters the Try/Except block of the generator and\u001b[39;00m\n\u001b[32m   2068\u001b[39m \u001b[38;5;66;03m# reaches the first `yield` statement. This starts the asynchronous\u001b[39;00m\n\u001b[32m   2069\u001b[39m \u001b[38;5;66;03m# dispatch of the tasks to the workers.\u001b[39;00m\n\u001b[32m   2070\u001b[39m \u001b[38;5;28mnext\u001b[39m(output)\n\u001b[32m-> \u001b[39m\u001b[32m2072\u001b[39m \u001b[38;5;28;01mreturn\u001b[39;00m output \u001b[38;5;28;01mif\u001b[39;00m \u001b[38;5;28mself\u001b[39m.return_generator \u001b[38;5;28;01melse\u001b[39;00m \u001b[38;5;28;43mlist\u001b[39;49m\u001b[43m(\u001b[49m\u001b[43moutput\u001b[49m\u001b[43m)\u001b[49m\n",
      "\u001b[36mFile \u001b[39m\u001b[32m~/Repositorios/UDEA/InteligenciaArtificial-UdeA20251/.venv/lib/python3.12/site-packages/joblib/parallel.py:1682\u001b[39m, in \u001b[36mParallel._get_outputs\u001b[39m\u001b[34m(self, iterator, pre_dispatch)\u001b[39m\n\u001b[32m   1679\u001b[39m     \u001b[38;5;28;01myield\u001b[39;00m\n\u001b[32m   1681\u001b[39m     \u001b[38;5;28;01mwith\u001b[39;00m \u001b[38;5;28mself\u001b[39m._backend.retrieval_context():\n\u001b[32m-> \u001b[39m\u001b[32m1682\u001b[39m         \u001b[38;5;28;01myield from\u001b[39;00m \u001b[38;5;28mself\u001b[39m._retrieve()\n\u001b[32m   1684\u001b[39m \u001b[38;5;28;01mexcept\u001b[39;00m \u001b[38;5;167;01mGeneratorExit\u001b[39;00m:\n\u001b[32m   1685\u001b[39m     \u001b[38;5;66;03m# The generator has been garbage collected before being fully\u001b[39;00m\n\u001b[32m   1686\u001b[39m     \u001b[38;5;66;03m# consumed. This aborts the remaining tasks if possible and warn\u001b[39;00m\n\u001b[32m   1687\u001b[39m     \u001b[38;5;66;03m# the user if necessary.\u001b[39;00m\n\u001b[32m   1688\u001b[39m     \u001b[38;5;28mself\u001b[39m._exception = \u001b[38;5;28;01mTrue\u001b[39;00m\n",
      "\u001b[36mFile \u001b[39m\u001b[32m~/Repositorios/UDEA/InteligenciaArtificial-UdeA20251/.venv/lib/python3.12/site-packages/joblib/parallel.py:1800\u001b[39m, in \u001b[36mParallel._retrieve\u001b[39m\u001b[34m(self)\u001b[39m\n\u001b[32m   1789\u001b[39m \u001b[38;5;28;01mif\u001b[39;00m \u001b[38;5;28mself\u001b[39m.return_ordered:\n\u001b[32m   1790\u001b[39m     \u001b[38;5;66;03m# Case ordered: wait for completion (or error) of the next job\u001b[39;00m\n\u001b[32m   1791\u001b[39m     \u001b[38;5;66;03m# that have been dispatched and not retrieved yet. If no job\u001b[39;00m\n\u001b[32m   (...)\u001b[39m\u001b[32m   1795\u001b[39m     \u001b[38;5;66;03m# control only have to be done on the amount of time the next\u001b[39;00m\n\u001b[32m   1796\u001b[39m     \u001b[38;5;66;03m# dispatched job is pending.\u001b[39;00m\n\u001b[32m   1797\u001b[39m     \u001b[38;5;28;01mif\u001b[39;00m (nb_jobs == \u001b[32m0\u001b[39m) \u001b[38;5;129;01mor\u001b[39;00m (\n\u001b[32m   1798\u001b[39m         \u001b[38;5;28mself\u001b[39m._jobs[\u001b[32m0\u001b[39m].get_status(timeout=\u001b[38;5;28mself\u001b[39m.timeout) == TASK_PENDING\n\u001b[32m   1799\u001b[39m     ):\n\u001b[32m-> \u001b[39m\u001b[32m1800\u001b[39m         \u001b[43mtime\u001b[49m\u001b[43m.\u001b[49m\u001b[43msleep\u001b[49m\u001b[43m(\u001b[49m\u001b[32;43m0.01\u001b[39;49m\u001b[43m)\u001b[49m\n\u001b[32m   1801\u001b[39m         \u001b[38;5;28;01mcontinue\u001b[39;00m\n\u001b[32m   1803\u001b[39m \u001b[38;5;28;01melif\u001b[39;00m nb_jobs == \u001b[32m0\u001b[39m:\n\u001b[32m   1804\u001b[39m     \u001b[38;5;66;03m# Case unordered: jobs are added to the list of jobs to\u001b[39;00m\n\u001b[32m   1805\u001b[39m     \u001b[38;5;66;03m# retrieve `self._jobs` only once completed or in error, which\u001b[39;00m\n\u001b[32m   (...)\u001b[39m\u001b[32m   1811\u001b[39m     \u001b[38;5;66;03m# timeouts before any other dispatched job has completed and\u001b[39;00m\n\u001b[32m   1812\u001b[39m     \u001b[38;5;66;03m# been added to `self._jobs` to be retrieved.\u001b[39;00m\n",
      "\u001b[31mKeyboardInterrupt\u001b[39m: "
     ]
    }
   ],
   "source": [
    "import pandas as pd\n",
    "from sklearn.svm import SVC\n",
    "from sklearn.model_selection import StratifiedKFold, RandomizedSearchCV, cross_val_predict\n",
    "from sklearn.metrics import confusion_matrix, classification_report, accuracy_score\n",
    "from sklearn.preprocessing import StandardScaler, LabelEncoder\n",
    "from sklearn.pipeline import Pipeline\n",
    "import matplotlib.pyplot as plt\n",
    "import seaborn as sns\n",
    "import numpy as np\n",
    "import time\n",
    "import multiprocessing as mp\n",
    "import psutil  # Para monitorear RAM\n",
    "import joblib\n",
    "from tqdm import tqdm\n",
    "\n",
    "def monitor_memory():\n",
    "    \"\"\"Monitorea el uso de memoria RAM\"\"\"\n",
    "    memory = psutil.virtual_memory()\n",
    "    used_gb = memory.used / (1024**3)\n",
    "    total_gb = memory.total / (1024**3)\n",
    "    available_gb = memory.available / (1024**3)\n",
    "    \n",
    "    print(f\"MEMORIA RAM:\")\n",
    "    print(f\"  Total: {total_gb:.1f} GB\")\n",
    "    print(f\"  Usada: {used_gb:.1f} GB ({memory.percent:.1f}%)\")\n",
    "    print(f\"  Disponible: {available_gb:.1f} GB\")\n",
    "    \n",
    "    if memory.percent > 85:\n",
    "        print(\"ADVERTENCIA: Uso de RAM alto (>85%)\")\n",
    "    elif memory.percent > 75:\n",
    "        print(\"RAM en nivel óptimo para entrenamiento\")\n",
    "    else:\n",
    "        print(\"RAM con suficiente espacio libre\")\n",
    "    \n",
    "    return memory.percent\n",
    "\n",
    "# Configuración optimizada para velocidad\n",
    "print(\"CONFIGURACIÓN OPTIMIZADA PARA VELOCIDAD\")\n",
    "print(\"=\"*60)\n",
    "print(f\"Cores disponibles: {mp.cpu_count()}\")\n",
    "monitor_memory()\n",
    "print(\"Configuración RÁPIDA - Menos iteraciones pero más eficiente\")\n",
    "print(\"=\"*60)\n",
    "\n",
    "# 1. Carga los datos preprocesados\n",
    "train = pd.read_csv('Data/train_preprocessed.csv')\n",
    "test = pd.read_csv('Data/test_preprocessed.csv')\n",
    "\n",
    "# 2. Separa variables predictoras y objetivo\n",
    "y = train['RENDIMIENTO_GLOBAL']\n",
    "X = train.drop(['RENDIMIENTO_GLOBAL', 'ID'], axis=1)\n",
    "X_test = test.drop(['ID'], axis=1)\n",
    "\n",
    "print(f\"Número de características: {X.shape[1]}\")\n",
    "print(f\"Número de muestras de entrenamiento: {X.shape[0]}\")\n",
    "print(f\"Número de muestras de test: {X_test.shape[0]}\")\n",
    "\n",
    "# 3. Pipeline con escalado y SVM optimizado para VELOCIDAD\n",
    "pipe = Pipeline([\n",
    "    ('scaler', StandardScaler()),\n",
    "    ('svc', SVC(\n",
    "        probability=True, \n",
    "        random_state=42, \n",
    "        max_iter=2000,    # Reducido para velocidad\n",
    "        cache_size=200,   # Reducido para evitar saturación\n",
    "        shrinking=True,   # Optimización interna\n",
    "        tol=1e-3         # Tolerancia más relajada para velocidad\n",
    "    ))\n",
    "])\n",
    "\n",
    "# 4. Búsqueda de hiperparámetros OPTIMIZADA PARA VELOCIDAD\n",
    "# Reducimos drásticamente el espacio de búsqueda\n",
    "param_distributions = [\n",
    "    # Solo RBF kernel - el más efectivo generalmente\n",
    "    {\n",
    "        'svc__C': [0.1, 1, 10, 100],  # Valores más focalizados\n",
    "        'svc__kernel': ['rbf'],\n",
    "        'svc__gamma': ['scale', 0.001, 0.01, 0.1],  # Menos valores\n",
    "        'svc__class_weight': [None, 'balanced']\n",
    "    },\n",
    "    # Linear kernel para comparación rápida\n",
    "    {\n",
    "        'svc__C': [0.1, 1, 10, 100],\n",
    "        'svc__kernel': ['linear'],\n",
    "        'svc__class_weight': [None, 'balanced']\n",
    "    }\n",
    "]\n",
    "\n",
    "# 5. Validación cruzada con menos pliegues para velocidad\n",
    "cv = StratifiedKFold(n_splits=3, shuffle=True, random_state=42)  # Reducido a 3 pliegues\n",
    "\n",
    "cores_disponibles = mp.cpu_count()\n",
    "cores_optimos = max(1, int(cores_disponibles * 0.8))  # Usamos más cores\n",
    "\n",
    "print(\"\\nBÚSQUEDA RÁPIDA DE HIPERPARÁMETROS\")\n",
    "print(\"=\"*60)\n",
    "print(\"CONFIGURACIÓN OPTIMIZADA PARA VELOCIDAD\")\n",
    "\n",
    "# Estimación de tiempo optimizada\n",
    "n_combinations = 32  # Estimación de combinaciones\n",
    "total_fits = n_combinations * 3  # 3-fold CV\n",
    "tiempo_estimado = total_fits * 0.5 / cores_optimos  # Estimación más agresiva\n",
    "\n",
    "print(f\"CONFIGURACIÓN RÁPIDA:\")\n",
    "print(f\"   • Cores utilizados: {cores_optimos} de {cores_disponibles} disponibles\")\n",
    "print(f\"   • Iteraciones de búsqueda: 20 (reducido)\")\n",
    "print(f\"   • Validación cruzada: 3-fold (reducido)\")\n",
    "print(f\"   • Total de entrenamientos: ~60 modelos SVM\")\n",
    "print(f\"   • Tiempo estimado: {tiempo_estimado:.1f} minutos\")\n",
    "\n",
    "print(f\"\\nHora de inicio: {time.strftime('%H:%M:%S')}\")\n",
    "print(\"Modo RÁPIDO activado - Menos iteraciones, más velocidad\")\n",
    "print(\"=\"*60)\n",
    "\n",
    "start_time = time.time()\n",
    "\n",
    "# Configuración ultra-optimizada para velocidad\n",
    "random_search = RandomizedSearchCV(\n",
    "    pipe, \n",
    "    param_distributions=param_distributions, \n",
    "    n_iter=20,   # REDUCIDO DRÁSTICAMENTE para velocidad\n",
    "    cv=cv,      # 3-fold en lugar de 5-fold\n",
    "    scoring='accuracy', \n",
    "    n_jobs=cores_optimos,\n",
    "    verbose=2,\n",
    "    random_state=42,\n",
    "    return_train_score=True,\n",
    "    pre_dispatch='2*n_jobs'  # Más agresivo\n",
    ")\n",
    "\n",
    "# Wrapper con barra de progreso usando tqdm\n",
    "def fit_with_progress(search_cv, X, y):\n",
    "    \"\"\"Entrena el modelo con barra de progreso\"\"\"\n",
    "    n_iter = search_cv.n_iter\n",
    "    \n",
    "    print(f\"Entrenando {n_iter} modelos SVM...\")\n",
    "    with tqdm(total=n_iter, desc='Progreso SVM', unit='modelo') as pbar:\n",
    "        # Interceptar el método _run_search temporalmente\n",
    "        original_run_search = search_cv._run_search\n",
    "        \n",
    "        def wrapped_run_search(evaluate_candidates):\n",
    "            def wrapped_evaluate(candidate_params):\n",
    "                results = evaluate_candidates(candidate_params)\n",
    "                pbar.update(len(candidate_params))\n",
    "                return results\n",
    "            return original_run_search(wrapped_evaluate)\n",
    "        \n",
    "        search_cv._run_search = wrapped_run_search\n",
    "        \n",
    "        try:\n",
    "            return search_cv.fit(X, y)\n",
    "        finally:\n",
    "            # Restaurar el método original\n",
    "            search_cv._run_search = original_run_search\n",
    "\n",
    "print(\"Iniciando entrenamiento optimizado...\")\n",
    "random_search = fit_with_progress(random_search, X, y)\n",
    "elapsed = time.time() - start_time\n",
    "\n",
    "print(f\"\\nENTRENAMIENTO COMPLETADO!\")\n",
    "print(f\"Hora de finalización: {time.strftime('%H:%M:%S')}\")\n",
    "print(f\"Tiempo real: {elapsed/60:.2f} minutos\")\n",
    "print(f\"Aceleración: {(80*5)/(20*3):.1f}x más rápido que configuración original\")\n",
    "\n",
    "print(f\"\\nMONITOREO POST-ENTRENAMIENTO:\")\n",
    "final_memory = monitor_memory()\n",
    "\n",
    "print(f\"\\n{'='*60}\")\n",
    "print(\"RESULTADOS DE LA BÚSQUEDA OPTIMIZADA\")\n",
    "print(f\"{'='*60}\")\n",
    "print(f\"Mejores parámetros: {random_search.best_params_}\")\n",
    "print(f\"Mejor score de validación cruzada: {random_search.best_score_:.4f}\")\n",
    "print(f\"Modelos evaluados: {len(random_search.cv_results_['mean_test_score'])}\")\n",
    "print(f\"Uso final de RAM: {final_memory:.1f}%\")\n",
    "\n",
    "# 6. Análisis del modelo seleccionado\n",
    "best_model = random_search.best_estimator_\n",
    "print(f\"\\nModelo seleccionado:\")\n",
    "print(f\"- Kernel: {random_search.best_params_['svc__kernel']}\")\n",
    "print(f\"- C: {random_search.best_params_['svc__C']}\")\n",
    "if 'svc__gamma' in random_search.best_params_:\n",
    "    print(f\"- Gamma: {random_search.best_params_['svc__gamma']}\")\n",
    "print(f\"- Class weight: {random_search.best_params_['svc__class_weight']}\")\n",
    "\n",
    "# 7. Predicciones en el conjunto de test\n",
    "print(\"\\nGenerando predicciones para el conjunto de test...\")\n",
    "y_pred_test = best_model.predict(X_test)\n",
    "y_pred_proba = best_model.predict_proba(X_test)\n",
    "\n",
    "# 8. Validación cruzada detallada\n",
    "print(\"\\nCalculando métricas de validación cruzada...\")\n",
    "y_pred_cv = cross_val_predict(best_model, X, y, cv=cv)\n",
    "accuracy_cv = accuracy_score(y, y_pred_cv)\n",
    "\n",
    "print(f\"Accuracy en validación cruzada: {accuracy_cv:.4f}\")\n",
    "\n",
    "# 9. Visualizaciones\n",
    "fig, axes = plt.subplots(1, 2, figsize=(15, 6))\n",
    "\n",
    "# Matriz de confusión\n",
    "cm = confusion_matrix(y, y_pred_cv)\n",
    "sns.heatmap(cm, annot=True, fmt='d', cmap='Blues', ax=axes[0],\n",
    "            xticklabels=sorted(y.unique()), yticklabels=sorted(y.unique()))\n",
    "axes[0].set_xlabel('Predicho')\n",
    "axes[0].set_ylabel('Real')\n",
    "axes[0].set_title(f'Matriz de Confusión\\n(Accuracy: {accuracy_cv:.4f})')\n",
    "\n",
    "# Distribución de predicciones en test\n",
    "pred_counts = pd.Series(y_pred_test).value_counts().sort_index()\n",
    "axes[1].bar(pred_counts.index, pred_counts.values, alpha=0.7)\n",
    "axes[1].set_xlabel('Rendimiento Global')\n",
    "axes[1].set_ylabel('Número de predicciones')\n",
    "axes[1].set_title('Distribución de predicciones en Test')\n",
    "axes[1].tick_params(axis='x', rotation=45)\n",
    "\n",
    "plt.tight_layout()\n",
    "plt.show()\n",
    "\n",
    "# 10. Reporte detallado\n",
    "print(f\"\\n{'='*50}\")\n",
    "print(\"REPORTE DE CLASIFICACIÓN\")\n",
    "print(f\"{'='*50}\")\n",
    "print(classification_report(y, y_pred_cv))\n",
    "\n",
    "# 11. Guardar resultados\n",
    "submission = pd.DataFrame({\n",
    "    'ID': test['ID'], \n",
    "    'RENDIMIENTO_GLOBAL': y_pred_test\n",
    "})\n",
    "submission.to_csv('Resultados_Modelos/SVM/submission_svm_rapido.csv', index=False)\n",
    "\n",
    "# Guardar también las probabilidades\n",
    "prob_df = pd.DataFrame(y_pred_proba, columns=best_model.classes_)\n",
    "prob_df['ID'] = test['ID']\n",
    "prob_df['RENDIMIENTO_GLOBAL'] = y_pred_test\n",
    "prob_df.to_csv('Resultados_Modelos/SVM/submission_svm_rapido_probabilidades.csv', index=False)\n",
    "\n",
    "# Guardar el modelo entrenado\n",
    "joblib.dump(best_model, 'Resultados_Modelos/SVM/modelo_svm_entrenado.joblib')\n",
    "\n",
    "print(f\"\\nArchivos generados:\")\n",
    "print(f\"- Resultados_Modelos/SVM/submission_svm_rapido.csv (predicciones)\")\n",
    "print(f\"- Resultados_Modelos/SVM/submission_svm_rapido_probabilidades.csv (con probabilidades)\")\n",
    "print(f\"- Resultados_Modelos/SVM/modelo_svm_entrenado.joblib (modelo entrenado)\")\n",
    "\n",
    "# 12. Estadísticas adicionales\n",
    "print(f\"\\n{'='*50}\")\n",
    "print(\"ESTADÍSTICAS ADICIONALES\")\n",
    "print(f\"{'='*50}\")\n",
    "print(f\"Número de vectores de soporte: {best_model.named_steps['svc'].n_support_}\")\n",
    "print(f\"Distribución original:\")\n",
    "for clase in sorted(y.unique()):\n",
    "    count = (y == clase).sum()\n",
    "    pct = count / len(y) * 100\n",
    "    print(f\"  {clase}: {count} ({pct:.1f}%)\")\n",
    "\n",
    "print(f\"\\nDistribución predicha en test:\")\n",
    "for clase in sorted(pred_counts.index):\n",
    "    count = pred_counts[clase]\n",
    "    pct = count / len(y_pred_test) * 100\n",
    "    print(f\"  {clase}: {count} ({pct:.1f}%)\")"
   ]
  }
 ],
 "metadata": {
  "kernelspec": {
   "display_name": ".venv",
   "language": "python",
   "name": "python3"
  },
  "language_info": {
   "codemirror_mode": {
    "name": "ipython",
    "version": 3
   },
   "file_extension": ".py",
   "mimetype": "text/x-python",
   "name": "python",
   "nbconvert_exporter": "python",
   "pygments_lexer": "ipython3",
   "version": "3.12.3"
  }
 },
 "nbformat": 4,
 "nbformat_minor": 5
}
